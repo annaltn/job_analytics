{
 "cells": [
  {
   "cell_type": "code",
   "execution_count": 2,
   "metadata": {
    "collapsed": false
   },
   "outputs": [],
   "source": [
    "import numpy as np\n",
    "import pandas as pd\n",
    "\n",
    "from my_util import *"
   ]
  },
  {
   "cell_type": "code",
   "execution_count": 11,
   "metadata": {
    "collapsed": false
   },
   "outputs": [],
   "source": [
    "def quantile(a, qs = [0, 25, 50, 75, 100], dec=1):\n",
    "    values = np.percentile(a, q=qs)\n",
    "    df = pd.DataFrame({'min': values[0], '25%': values[1], '50% (median)': values[2], '75%': values[3], 'max': values[4]}, \n",
    "                      index=[0])\n",
    "    return df[['min', '25%', '50% (median)', '75%', 'max']]\n",
    "\n",
    "def mkPartition(p=80):\n",
    "    np.random.seed(123)\n",
    "    \n",
    "    train_size = n_instances*p/100\n",
    "    idx = range(n_instances)\n",
    "    np.random.shuffle(idx)\n",
    "    train_idx, test_idx = idx[: train_size], idx[train_size:]\n",
    "    return train_idx, test_idx\n",
    "# end\n",
    "\n",
    "# each topic is a word distribution\n",
    "def print_top_words(model, feature_names, n_top_words):\n",
    "    \n",
    "    for topic_idx, topic in enumerate(model.components_):\n",
    "        norm_topic = np.divide(topic, sum(topic))\n",
    "        \n",
    "        print(\"Topic #%d:\" % topic_idx)\n",
    "        print(\" \".join([(feature_names[i] + '(%0.3f' %norm_topic[i] + ')')\n",
    "                        for i in topic.argsort()[:-n_top_words - 1:-1]]))\n",
    "        \n",
    "    print()"
   ]
  },
  {
   "cell_type": "markdown",
   "metadata": {},
   "source": [
    "+ function to print out top words for topic models"
   ]
  },
  {
   "cell_type": "code",
   "execution_count": null,
   "metadata": {
    "collapsed": true
   },
   "outputs": [],
   "source": [
    "# each topic is a word distribution\n",
    "def print_top_words(model, feature_names, n_top_words):\n",
    "    \n",
    "    for topic_idx, topic in enumerate(model.components_):\n",
    "        norm_topic = np.divide(topic, sum(topic))\n",
    "        \n",
    "        print(\"Topic #%d:\" % topic_idx)\n",
    "        print(\" \".join([(feature_names[i] + '(%0.3f' %norm_topic[i] + ')')\n",
    "                        for i in topic.argsort()[:-n_top_words - 1:-1]]))\n",
    "        \n",
    "    print()"
   ]
  },
  {
   "cell_type": "code",
   "execution_count": 9,
   "metadata": {
    "collapsed": false
   },
   "outputs": [
    {
     "data": {
      "text/html": [
       "<div>\n",
       "<table border=\"1\" class=\"dataframe\">\n",
       "  <thead>\n",
       "    <tr style=\"text-align: right;\">\n",
       "      <th></th>\n",
       "      <th>min</th>\n",
       "      <th>25%</th>\n",
       "      <th>50% (median)</th>\n",
       "      <th>75%</th>\n",
       "      <th>max</th>\n",
       "    </tr>\n",
       "  </thead>\n",
       "  <tbody>\n",
       "    <tr>\n",
       "      <th>0</th>\n",
       "      <td>0.0</td>\n",
       "      <td>2.5</td>\n",
       "      <td>5.0</td>\n",
       "      <td>7.5</td>\n",
       "      <td>10.0</td>\n",
       "    </tr>\n",
       "  </tbody>\n",
       "</table>\n",
       "</div>"
      ],
      "text/plain": [
       "   min  25%  50% (median)  75%   max\n",
       "0  0.0  2.5           5.0  7.5  10.0"
      ]
     },
     "execution_count": 9,
     "metadata": {},
     "output_type": "execute_result"
    }
   ],
   "source": [
    "a = range(11)\n",
    "quantile(a)"
   ]
  }
 ],
 "metadata": {
  "anaconda-cloud": {},
  "kernelspec": {
   "display_name": "Python [conda root]",
   "language": "python",
   "name": "conda-root-py"
  },
  "language_info": {
   "codemirror_mode": {
    "name": "ipython",
    "version": 2
   },
   "file_extension": ".py",
   "mimetype": "text/x-python",
   "name": "python",
   "nbconvert_exporter": "python",
   "pygments_lexer": "ipython2",
   "version": "2.7.12"
  }
 },
 "nbformat": 4,
 "nbformat_minor": 1
}
