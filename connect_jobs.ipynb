{
 "cells": [
  {
   "cell_type": "markdown",
   "metadata": {},
   "source": [
    "# Connecting Job Titles by Topic Similarity"
   ]
  },
  {
   "cell_type": "markdown",
   "metadata": {},
   "source": [
    "Given a parsed job title with known position, domain and function, we find top-$k$ titles most similar to the title."
   ]
  },
  {
   "cell_type": "markdown",
   "metadata": {},
   "source": [
    "## Preps"
   ]
  },
  {
   "cell_type": "code",
   "execution_count": 1,
   "metadata": {
    "collapsed": true
   },
   "outputs": [],
   "source": [
    "import gc\n",
    "import ja_helpers as ja_helpers; from ja_helpers import *"
   ]
  },
  {
   "cell_type": "code",
   "execution_count": 2,
   "metadata": {
    "collapsed": true
   },
   "outputs": [],
   "source": [
    "gc.enable()"
   ]
  },
  {
   "cell_type": "code",
   "execution_count": 3,
   "metadata": {
    "collapsed": true
   },
   "outputs": [],
   "source": [
    "HOME_DIR = 'd:/larc_projects/job_analytics/'\n",
    "DATA_DIR = HOME_DIR + 'data/clean/'; RES_DIR = HOME_DIR + 'results/'"
   ]
  },
  {
   "cell_type": "code",
   "execution_count": 4,
   "metadata": {
    "collapsed": true
   },
   "outputs": [],
   "source": [
    "domain_dir = RES_DIR + 'job_prof/by_domain/' + 'new/'\n",
    "func_dir = RES_DIR + 'job_prof/by_func/' + 'new/'"
   ]
  },
  {
   "cell_type": "markdown",
   "metadata": {},
   "source": [
    "+ Load parsed titles with at least 2 posts: mk sure to turn off default NAs s.t empty strings will not be regarded as NAs."
   ]
  },
  {
   "cell_type": "code",
   "execution_count": 8,
   "metadata": {
    "collapsed": true
   },
   "outputs": [],
   "source": [
    "title_df = pd.read_csv(DATA_DIR + 'new_titles_2posts_up.csv', keep_default_na=False)"
   ]
  },
  {
   "cell_type": "code",
   "execution_count": 9,
   "metadata": {
    "collapsed": false
   },
   "outputs": [
    {
     "data": {
      "text/html": [
       "<div>\n",
       "<table border=\"1\" class=\"dataframe\">\n",
       "  <thead>\n",
       "    <tr style=\"text-align: right;\">\n",
       "      <th></th>\n",
       "      <th>title</th>\n",
       "      <th>n_post</th>\n",
       "      <th>domain</th>\n",
       "      <th>position</th>\n",
       "      <th>pri_func</th>\n",
       "      <th>sec_func</th>\n",
       "      <th>non_std_title</th>\n",
       "    </tr>\n",
       "  </thead>\n",
       "  <tbody>\n",
       "    <tr>\n",
       "      <th>0</th>\n",
       "      <td>Academic Assistant</td>\n",
       "      <td>13</td>\n",
       "      <td>academic</td>\n",
       "      <td></td>\n",
       "      <td>assistant</td>\n",
       "      <td></td>\n",
       "      <td>Academic Assistant</td>\n",
       "    </tr>\n",
       "    <tr>\n",
       "      <th>1</th>\n",
       "      <td>Academic Consultant</td>\n",
       "      <td>13</td>\n",
       "      <td>academic</td>\n",
       "      <td></td>\n",
       "      <td>consultant</td>\n",
       "      <td></td>\n",
       "      <td>Academic Consultant</td>\n",
       "    </tr>\n",
       "    <tr>\n",
       "      <th>2</th>\n",
       "      <td>Academic Coordinator</td>\n",
       "      <td>12</td>\n",
       "      <td>academic</td>\n",
       "      <td></td>\n",
       "      <td>coordinator</td>\n",
       "      <td></td>\n",
       "      <td>Academic Coordinator</td>\n",
       "    </tr>\n",
       "    <tr>\n",
       "      <th>3</th>\n",
       "      <td>Academic Director</td>\n",
       "      <td>6</td>\n",
       "      <td>academic</td>\n",
       "      <td></td>\n",
       "      <td>director</td>\n",
       "      <td></td>\n",
       "      <td>Academic Director</td>\n",
       "    </tr>\n",
       "    <tr>\n",
       "      <th>4</th>\n",
       "      <td>Academic Instructor</td>\n",
       "      <td>13</td>\n",
       "      <td>academic</td>\n",
       "      <td></td>\n",
       "      <td>instructor</td>\n",
       "      <td></td>\n",
       "      <td>Academic Instructor</td>\n",
       "    </tr>\n",
       "  </tbody>\n",
       "</table>\n",
       "</div>"
      ],
      "text/plain": [
       "                  title  n_post    domain position     pri_func sec_func  \\\n",
       "0    Academic Assistant      13  academic             assistant            \n",
       "1   Academic Consultant      13  academic            consultant            \n",
       "2  Academic Coordinator      12  academic           coordinator            \n",
       "3     Academic Director       6  academic              director            \n",
       "4   Academic Instructor      13  academic            instructor            \n",
       "\n",
       "          non_std_title  \n",
       "0    Academic Assistant  \n",
       "1   Academic Consultant  \n",
       "2  Academic Coordinator  \n",
       "3     Academic Director  \n",
       "4   Academic Instructor  "
      ]
     },
     "execution_count": 9,
     "metadata": {},
     "output_type": "execute_result"
    }
   ],
   "source": [
    "title_df.head()"
   ]
  },
  {
   "cell_type": "code",
   "execution_count": 10,
   "metadata": {
    "collapsed": true
   },
   "outputs": [],
   "source": [
    "stdForm = dict(zip(title_df.non_std_title, title_df.title))"
   ]
  },
  {
   "cell_type": "code",
   "execution_count": 11,
   "metadata": {
    "collapsed": false
   },
   "outputs": [],
   "source": [
    "positions = dict(zip(title_df.title, title_df.position))\n",
    "domains = dict(zip(title_df.title, title_df.domain))\n",
    "functions = dict(zip(title_df.title, title_df.pri_func))"
   ]
  },
  {
   "cell_type": "code",
   "execution_count": 12,
   "metadata": {
    "collapsed": false
   },
   "outputs": [
    {
     "name": "stdout",
     "output_type": "stream",
     "text": [
      "# std titles: 2839\n"
     ]
    }
   ],
   "source": [
    "print('# std titles: %d' % title_df.title.nunique())\n",
    "# print"
   ]
  },
  {
   "cell_type": "markdown",
   "metadata": {},
   "source": [
    "## Run"
   ]
  },
  {
   "cell_type": "code",
   "execution_count": 24,
   "metadata": {
    "collapsed": true
   },
   "outputs": [],
   "source": [
    "# reload(my_util); from my_util import *\n",
    "reload(ja_helpers); from ja_helpers import *"
   ]
  },
  {
   "cell_type": "code",
   "execution_count": 10,
   "metadata": {
    "collapsed": false
   },
   "outputs": [],
   "source": [
    "avail_domains = listFiles(domain_dir + 'sims/')\n",
    "avail_funcs = listFiles(func_dir + 'sims/')\n",
    "\n",
    "empty_sim = pd.DataFrame({'t1': [], 't2': [], 'topic_sim': []})"
   ]
  },
  {
   "cell_type": "code",
   "execution_count": 36,
   "metadata": {
    "collapsed": true
   },
   "outputs": [],
   "source": [
    "def getDomainSims(job_title):\n",
    "    if job_title not in domains.keys():\n",
    "        dom_sims = empty_sim\n",
    "    else:\n",
    "        dom = clean(domains[job_title])\n",
    "        dom_file = domain_dir + 'sims/{}.csv'.format(dom)\n",
    "        dom_sims = pd.read_csv(dom_file) if (dom in avail_domains) else empty_sim        \n",
    "    return dom_sims\n",
    "\n",
    "def getFuncSims(job_title):\n",
    "    if job_title not in functions.keys():\n",
    "        func_sims = empty_sim\n",
    "    else:\n",
    "        pri_func = clean(functions[job_title])\n",
    "        func_file = func_dir + 'sims/{}.csv'.format(pri_func); \n",
    "        func_sims = pd.read_csv(func_file) if (pri_func in avail_funcs) else empty_sim\n",
    "    return func_sims\n",
    "\n",
    "## Main function \n",
    "def queryTopkSim(job_title, k=2):\n",
    "    '''\n",
    "    @return: k job titles with highest topic similarity to given job title\n",
    "    '''\n",
    "    \n",
    "    job_title = camelCase(job_title)\n",
    "##  Load sim scores of relevant titles (by domain or function)\n",
    "    dom_sims = getDomainSims(job_title)\n",
    "    func_sims = getFuncSims(job_title)\n",
    "    \n",
    "    # the query to retrieve all relevant obs \n",
    "    q = 't1 == \"{}\" or t2 == \"{}\"'.format(job_title, job_title)\n",
    "    rel_sims = dom_sims.query(q).append(func_sims.query(q))\n",
    "    \n",
    "    if not rel_sims.empty: \n",
    "        return buildTopkFrom(rel_sims, k, job_title)\n",
    "    else:\n",
    "        return empty_sim\n",
    "#         return ''\n",
    "\n",
    "def fanOut(titles, fan_width):\n",
    "    frames = [queryTopkSim(t, k=fan_width) for t in titles]\n",
    "    return pd.concat(frames)\n",
    "\n",
    "def relevantTitles(job_title='Software Developer'):\n",
    "    \n",
    "    job_title = camelCase(job_title)\n",
    "    dom = domains[job_title] if job_title in domains.keys() else None\n",
    "    func = functions[job_title] if job_title in functions.keys() else None\n",
    "    if (not dom) and (not func):\n",
    "        rel_titles = []\n",
    "    if dom and (not func):\n",
    "        rel_titles = titlesIn(dom, title_df)\n",
    "    if func and (not dom):\n",
    "        rel_titles = titlesWithFunc(func, title_df)\n",
    "    if dom and func:\n",
    "        rel_titles = np.concatenate([titlesIn(dom, title_df), titlesWithFunc(func, title_df)])\n",
    "    \n",
    "    return np.unique(rel_titles)"
   ]
  },
  {
   "cell_type": "code",
   "execution_count": 37,
   "metadata": {
    "collapsed": false
   },
   "outputs": [
    {
     "data": {
      "text/plain": [
       "array(['Application Developer', 'Assistant Software Engineer',\n",
       "       'Business Systems Developer', 'Concept Design Developer',\n",
       "       'Curriculum Developer', 'Database Developer', 'Game Developer',\n",
       "       'Hypertext Preprocessor Developer', 'Java Developer',\n",
       "       'Multimedia Developer', 'Project Developer',\n",
       "       'Senior Application Developer', 'Senior Database Developer',\n",
       "       'Senior Game Developer', 'Senior Hypertext Preprocessor Developer',\n",
       "       'Senior Java Developer', 'Senior Software Analyst',\n",
       "       'Senior Software Architect', 'Senior Software Consultant',\n",
       "       'Senior Software Developer', 'Senior Software Engineer',\n",
       "       'Senior Software Manager', 'Senior Software Specialist',\n",
       "       'Senior Solutions Developer', 'Senior Systems Developer',\n",
       "       'Senior Technical Developer', 'Senior Web Application Developer',\n",
       "       'Senior Web Developer', 'Software Analyst',\n",
       "       'Software And Applications Developer', 'Software Architect',\n",
       "       'Software Consultant', 'Software Developer', 'Software Engineer',\n",
       "       'Software Manager', 'Software Programmer', 'Software Specialist',\n",
       "       'Solutions Developer', 'Staff Software Engineer',\n",
       "       'Systems Developer', 'Technical Developer',\n",
       "       'Web Application Developer', 'Web Developer', 'Website Developer'], dtype=object)"
      ]
     },
     "execution_count": 37,
     "metadata": {},
     "output_type": "execute_result"
    }
   ],
   "source": [
    "relevantTitles('software developer')"
   ]
  },
  {
   "cell_type": "code",
   "execution_count": 29,
   "metadata": {
    "collapsed": true
   },
   "outputs": [
    {
     "data": {
      "text/html": [
       "<div>\n",
       "<table border=\"1\" class=\"dataframe\">\n",
       "  <thead>\n",
       "    <tr style=\"text-align: right;\">\n",
       "      <th></th>\n",
       "      <th>t1</th>\n",
       "      <th>t2</th>\n",
       "      <th>topic_sim</th>\n",
       "      <th>title_n_sim</th>\n",
       "    </tr>\n",
       "  </thead>\n",
       "  <tbody>\n",
       "    <tr>\n",
       "      <th>0</th>\n",
       "      <td>Senior Hypertext Preprocessor Developer</td>\n",
       "      <td>Hypertext Preprocessor Developer</td>\n",
       "      <td>0.901</td>\n",
       "      <td>Hypertext Preprocessor Developer(0.901)</td>\n",
       "    </tr>\n",
       "    <tr>\n",
       "      <th>1</th>\n",
       "      <td>Senior Hypertext Preprocessor Developer</td>\n",
       "      <td>Multimedia Developer</td>\n",
       "      <td>0.893</td>\n",
       "      <td>Multimedia Developer(0.893)</td>\n",
       "    </tr>\n",
       "    <tr>\n",
       "      <th>2</th>\n",
       "      <td>Senior Hypertext Preprocessor Developer</td>\n",
       "      <td>Software And Applications Developer</td>\n",
       "      <td>0.886</td>\n",
       "      <td>Software And Applications Developer(0.886)</td>\n",
       "    </tr>\n",
       "    <tr>\n",
       "      <th>3</th>\n",
       "      <td>Concept Design Developer</td>\n",
       "      <td>Hypertext Preprocessor Developer</td>\n",
       "      <td>0.884</td>\n",
       "      <td>Hypertext Preprocessor Developer(0.884)</td>\n",
       "    </tr>\n",
       "    <tr>\n",
       "      <th>7</th>\n",
       "      <td>Concept Design Developer</td>\n",
       "      <td>Senior Hypertext Preprocessor Developer</td>\n",
       "      <td>0.876</td>\n",
       "      <td>Senior Hypertext Preprocessor Developer(0.876)</td>\n",
       "    </tr>\n",
       "    <tr>\n",
       "      <th>10</th>\n",
       "      <td>Concept Design Developer</td>\n",
       "      <td>Software And Applications Developer</td>\n",
       "      <td>0.873</td>\n",
       "      <td>Software And Applications Developer(0.873)</td>\n",
       "    </tr>\n",
       "    <tr>\n",
       "      <th>0</th>\n",
       "      <td>Hypertext Preprocessor Developer</td>\n",
       "      <td>Senior Hypertext Preprocessor Developer</td>\n",
       "      <td>0.901</td>\n",
       "      <td>Senior Hypertext Preprocessor Developer(0.901)</td>\n",
       "    </tr>\n",
       "    <tr>\n",
       "      <th>3</th>\n",
       "      <td>Hypertext Preprocessor Developer</td>\n",
       "      <td>Concept Design Developer</td>\n",
       "      <td>0.884</td>\n",
       "      <td>Concept Design Developer(0.884)</td>\n",
       "    </tr>\n",
       "    <tr>\n",
       "      <th>4</th>\n",
       "      <td>Hypertext Preprocessor Developer</td>\n",
       "      <td>Multimedia Developer</td>\n",
       "      <td>0.879</td>\n",
       "      <td>Multimedia Developer(0.879)</td>\n",
       "    </tr>\n",
       "    <tr>\n",
       "      <th>2</th>\n",
       "      <td>Software And Applications Developer</td>\n",
       "      <td>Senior Hypertext Preprocessor Developer</td>\n",
       "      <td>0.886</td>\n",
       "      <td>Senior Hypertext Preprocessor Developer(0.886)</td>\n",
       "    </tr>\n",
       "    <tr>\n",
       "      <th>6</th>\n",
       "      <td>Software And Applications Developer</td>\n",
       "      <td>Hypertext Preprocessor Developer</td>\n",
       "      <td>0.877</td>\n",
       "      <td>Hypertext Preprocessor Developer(0.877)</td>\n",
       "    </tr>\n",
       "    <tr>\n",
       "      <th>10</th>\n",
       "      <td>Software And Applications Developer</td>\n",
       "      <td>Concept Design Developer</td>\n",
       "      <td>0.873</td>\n",
       "      <td>Concept Design Developer(0.873)</td>\n",
       "    </tr>\n",
       "    <tr>\n",
       "      <th>316</th>\n",
       "      <td>Assistant Software Engineer</td>\n",
       "      <td>Information Visualisation Engineer</td>\n",
       "      <td>0.906</td>\n",
       "      <td>Information Visualisation Engineer(0.906)</td>\n",
       "    </tr>\n",
       "    <tr>\n",
       "      <th>687</th>\n",
       "      <td>Assistant Software Engineer</td>\n",
       "      <td>Solutions Quality Engineer</td>\n",
       "      <td>0.899</td>\n",
       "      <td>Solutions Quality Engineer(0.899)</td>\n",
       "    </tr>\n",
       "    <tr>\n",
       "      <th>974</th>\n",
       "      <td>Assistant Software Engineer</td>\n",
       "      <td>Solar Engineer</td>\n",
       "      <td>0.895</td>\n",
       "      <td>Solar Engineer(0.895)</td>\n",
       "    </tr>\n",
       "  </tbody>\n",
       "</table>\n",
       "</div>"
      ],
      "text/plain": [
       "                                          t1  \\\n",
       "0    Senior Hypertext Preprocessor Developer   \n",
       "1    Senior Hypertext Preprocessor Developer   \n",
       "2    Senior Hypertext Preprocessor Developer   \n",
       "3                   Concept Design Developer   \n",
       "7                   Concept Design Developer   \n",
       "10                  Concept Design Developer   \n",
       "0           Hypertext Preprocessor Developer   \n",
       "3           Hypertext Preprocessor Developer   \n",
       "4           Hypertext Preprocessor Developer   \n",
       "2        Software And Applications Developer   \n",
       "6        Software And Applications Developer   \n",
       "10       Software And Applications Developer   \n",
       "316              Assistant Software Engineer   \n",
       "687              Assistant Software Engineer   \n",
       "974              Assistant Software Engineer   \n",
       "\n",
       "                                          t2  topic_sim  \\\n",
       "0           Hypertext Preprocessor Developer      0.901   \n",
       "1                       Multimedia Developer      0.893   \n",
       "2        Software And Applications Developer      0.886   \n",
       "3           Hypertext Preprocessor Developer      0.884   \n",
       "7    Senior Hypertext Preprocessor Developer      0.876   \n",
       "10       Software And Applications Developer      0.873   \n",
       "0    Senior Hypertext Preprocessor Developer      0.901   \n",
       "3                   Concept Design Developer      0.884   \n",
       "4                       Multimedia Developer      0.879   \n",
       "2    Senior Hypertext Preprocessor Developer      0.886   \n",
       "6           Hypertext Preprocessor Developer      0.877   \n",
       "10                  Concept Design Developer      0.873   \n",
       "316       Information Visualisation Engineer      0.906   \n",
       "687               Solutions Quality Engineer      0.899   \n",
       "974                           Solar Engineer      0.895   \n",
       "\n",
       "                                        title_n_sim  \n",
       "0           Hypertext Preprocessor Developer(0.901)  \n",
       "1                       Multimedia Developer(0.893)  \n",
       "2        Software And Applications Developer(0.886)  \n",
       "3           Hypertext Preprocessor Developer(0.884)  \n",
       "7    Senior Hypertext Preprocessor Developer(0.876)  \n",
       "10       Software And Applications Developer(0.873)  \n",
       "0    Senior Hypertext Preprocessor Developer(0.901)  \n",
       "3                   Concept Design Developer(0.884)  \n",
       "4                       Multimedia Developer(0.879)  \n",
       "2    Senior Hypertext Preprocessor Developer(0.886)  \n",
       "6           Hypertext Preprocessor Developer(0.877)  \n",
       "10                  Concept Design Developer(0.873)  \n",
       "316       Information Visualisation Engineer(0.906)  \n",
       "687               Solutions Quality Engineer(0.899)  \n",
       "974                           Solar Engineer(0.895)  "
      ]
     },
     "execution_count": 29,
     "metadata": {},
     "output_type": "execute_result"
    }
   ],
   "source": [
    "swr_dev_sims = queryTopkSim('software developer', k=5)\n",
    "swr_dev_titles = swr_dev_sims.t2\n",
    "fanOut(swr_dev_titles, fan_width=3)"
   ]
  },
  {
   "cell_type": "code",
   "execution_count": 21,
   "metadata": {
    "collapsed": true
   },
   "outputs": [
    {
     "data": {
      "text/html": [
       "<div>\n",
       "<table border=\"1\" class=\"dataframe\">\n",
       "  <thead>\n",
       "    <tr style=\"text-align: right;\">\n",
       "      <th></th>\n",
       "      <th>t1</th>\n",
       "      <th>t2</th>\n",
       "      <th>topic_sim</th>\n",
       "      <th>title_n_sim</th>\n",
       "    </tr>\n",
       "  </thead>\n",
       "  <tbody>\n",
       "    <tr>\n",
       "      <th>0</th>\n",
       "      <td>Software Programmer</td>\n",
       "      <td>Assistant Software Engineer</td>\n",
       "      <td>0.869</td>\n",
       "      <td>Assistant Software Engineer(0.869)</td>\n",
       "    </tr>\n",
       "    <tr>\n",
       "      <th>3</th>\n",
       "      <td>Software Programmer</td>\n",
       "      <td>Systems Programmer</td>\n",
       "      <td>0.879</td>\n",
       "      <td>Systems Programmer(0.879)</td>\n",
       "    </tr>\n",
       "    <tr>\n",
       "      <th>22</th>\n",
       "      <td>Software Programmer</td>\n",
       "      <td>Analyst Programmer</td>\n",
       "      <td>0.866</td>\n",
       "      <td>Analyst Programmer(0.866)</td>\n",
       "    </tr>\n",
       "    <tr>\n",
       "      <th>19</th>\n",
       "      <td>Software Programmer</td>\n",
       "      <td>Lead  Programmer</td>\n",
       "      <td>0.866</td>\n",
       "      <td>Lead  Programmer(0.866)</td>\n",
       "    </tr>\n",
       "    <tr>\n",
       "      <th>28</th>\n",
       "      <td>Software Programmer</td>\n",
       "      <td>Technical Programmer</td>\n",
       "      <td>0.860</td>\n",
       "      <td>Technical Programmer(0.86)</td>\n",
       "    </tr>\n",
       "  </tbody>\n",
       "</table>\n",
       "</div>"
      ],
      "text/plain": [
       "                     t1                           t2  topic_sim  \\\n",
       "0   Software Programmer  Assistant Software Engineer      0.869   \n",
       "3   Software Programmer           Systems Programmer      0.879   \n",
       "22  Software Programmer           Analyst Programmer      0.866   \n",
       "19  Software Programmer             Lead  Programmer      0.866   \n",
       "28  Software Programmer         Technical Programmer      0.860   \n",
       "\n",
       "                           title_n_sim  \n",
       "0   Assistant Software Engineer(0.869)  \n",
       "3            Systems Programmer(0.879)  \n",
       "22           Analyst Programmer(0.866)  \n",
       "19             Lead  Programmer(0.866)  \n",
       "28          Technical Programmer(0.86)  "
      ]
     },
     "execution_count": 21,
     "metadata": {},
     "output_type": "execute_result"
    }
   ],
   "source": [
    "queryTopkSim('software programmer', k=5)"
   ]
  },
  {
   "cell_type": "markdown",
   "metadata": {},
   "source": [
    "#### Engineer Jobs"
   ]
  },
  {
   "cell_type": "code",
   "execution_count": 25,
   "metadata": {
    "collapsed": true
   },
   "outputs": [
    {
     "data": {
      "text/html": [
       "<div>\n",
       "<table border=\"1\" class=\"dataframe\">\n",
       "  <thead>\n",
       "    <tr style=\"text-align: right;\">\n",
       "      <th></th>\n",
       "      <th>t1</th>\n",
       "      <th>t2</th>\n",
       "      <th>topic_sim</th>\n",
       "      <th>title_n_sim</th>\n",
       "    </tr>\n",
       "  </thead>\n",
       "  <tbody>\n",
       "    <tr>\n",
       "      <th>3456</th>\n",
       "      <td>Software Engineer</td>\n",
       "      <td>Information Visualisation Engineer</td>\n",
       "      <td>0.880</td>\n",
       "      <td>Information Visualisation Engineer(0.88)</td>\n",
       "    </tr>\n",
       "    <tr>\n",
       "      <th>6816</th>\n",
       "      <td>Software Engineer</td>\n",
       "      <td>Solutions Quality Engineer</td>\n",
       "      <td>0.869</td>\n",
       "      <td>Solutions Quality Engineer(0.869)</td>\n",
       "    </tr>\n",
       "    <tr>\n",
       "      <th>11335</th>\n",
       "      <td>Software Engineer</td>\n",
       "      <td>Software Design Engineer</td>\n",
       "      <td>0.859</td>\n",
       "      <td>Software Design Engineer(0.859)</td>\n",
       "    </tr>\n",
       "    <tr>\n",
       "      <th>4</th>\n",
       "      <td>Software Engineer</td>\n",
       "      <td>Assistant Software Engineer</td>\n",
       "      <td>0.858</td>\n",
       "      <td>Assistant Software Engineer(0.858)</td>\n",
       "    </tr>\n",
       "    <tr>\n",
       "      <th>12734</th>\n",
       "      <td>Software Engineer</td>\n",
       "      <td>Assistant Software Engineer</td>\n",
       "      <td>0.857</td>\n",
       "      <td>Assistant Software Engineer(0.857)</td>\n",
       "    </tr>\n",
       "    <tr>\n",
       "      <th>13243</th>\n",
       "      <td>Software Engineer</td>\n",
       "      <td>Solar Engineer</td>\n",
       "      <td>0.856</td>\n",
       "      <td>Solar Engineer(0.856)</td>\n",
       "    </tr>\n",
       "    <tr>\n",
       "      <th>15014</th>\n",
       "      <td>Software Engineer</td>\n",
       "      <td>Senior Embedded Software Engineer</td>\n",
       "      <td>0.853</td>\n",
       "      <td>Senior Embedded Software Engineer(0.853)</td>\n",
       "    </tr>\n",
       "    <tr>\n",
       "      <th>16017</th>\n",
       "      <td>Software Engineer</td>\n",
       "      <td>Senior Mobile Engineer</td>\n",
       "      <td>0.851</td>\n",
       "      <td>Senior Mobile Engineer(0.851)</td>\n",
       "    </tr>\n",
       "    <tr>\n",
       "      <th>15990</th>\n",
       "      <td>Software Engineer</td>\n",
       "      <td>Environmental Affairs Engineer</td>\n",
       "      <td>0.851</td>\n",
       "      <td>Environmental Affairs Engineer(0.851)</td>\n",
       "    </tr>\n",
       "    <tr>\n",
       "      <th>17001</th>\n",
       "      <td>Software Engineer</td>\n",
       "      <td>Embedded Software Engineer</td>\n",
       "      <td>0.850</td>\n",
       "      <td>Embedded Software Engineer(0.85)</td>\n",
       "    </tr>\n",
       "  </tbody>\n",
       "</table>\n",
       "</div>"
      ],
      "text/plain": [
       "                      t1                                  t2  topic_sim  \\\n",
       "3456   Software Engineer  Information Visualisation Engineer      0.880   \n",
       "6816   Software Engineer          Solutions Quality Engineer      0.869   \n",
       "11335  Software Engineer            Software Design Engineer      0.859   \n",
       "4      Software Engineer         Assistant Software Engineer      0.858   \n",
       "12734  Software Engineer         Assistant Software Engineer      0.857   \n",
       "13243  Software Engineer                      Solar Engineer      0.856   \n",
       "15014  Software Engineer   Senior Embedded Software Engineer      0.853   \n",
       "16017  Software Engineer              Senior Mobile Engineer      0.851   \n",
       "15990  Software Engineer      Environmental Affairs Engineer      0.851   \n",
       "17001  Software Engineer          Embedded Software Engineer      0.850   \n",
       "\n",
       "                                    title_n_sim  \n",
       "3456   Information Visualisation Engineer(0.88)  \n",
       "6816          Solutions Quality Engineer(0.869)  \n",
       "11335           Software Design Engineer(0.859)  \n",
       "4            Assistant Software Engineer(0.858)  \n",
       "12734        Assistant Software Engineer(0.857)  \n",
       "13243                     Solar Engineer(0.856)  \n",
       "15014  Senior Embedded Software Engineer(0.853)  \n",
       "16017             Senior Mobile Engineer(0.851)  \n",
       "15990     Environmental Affairs Engineer(0.851)  \n",
       "17001          Embedded Software Engineer(0.85)  "
      ]
     },
     "execution_count": 25,
     "metadata": {},
     "output_type": "execute_result"
    }
   ],
   "source": [
    "queryTopkSim('software engineer', k=10)"
   ]
  },
  {
   "cell_type": "code",
   "execution_count": 26,
   "metadata": {
    "collapsed": true
   },
   "outputs": [
    {
     "data": {
      "text/html": [
       "<div>\n",
       "<table border=\"1\" class=\"dataframe\">\n",
       "  <thead>\n",
       "    <tr style=\"text-align: right;\">\n",
       "      <th></th>\n",
       "      <th>t1</th>\n",
       "      <th>t2</th>\n",
       "      <th>topic_sim</th>\n",
       "      <th>title_n_sim</th>\n",
       "    </tr>\n",
       "  </thead>\n",
       "  <tbody>\n",
       "    <tr>\n",
       "      <th>2181</th>\n",
       "      <td>Mechanical Engineer</td>\n",
       "      <td>Power Plant Service Engineer</td>\n",
       "      <td>0.886</td>\n",
       "      <td>Power Plant Service Engineer(0.886)</td>\n",
       "    </tr>\n",
       "    <tr>\n",
       "      <th>3607</th>\n",
       "      <td>Mechanical Engineer</td>\n",
       "      <td>Senior Tunnel Engineer</td>\n",
       "      <td>0.879</td>\n",
       "      <td>Senior Tunnel Engineer(0.879)</td>\n",
       "    </tr>\n",
       "    <tr>\n",
       "      <th>3605</th>\n",
       "      <td>Mechanical Engineer</td>\n",
       "      <td>Rail Track Engineer</td>\n",
       "      <td>0.879</td>\n",
       "      <td>Rail Track Engineer(0.879)</td>\n",
       "    </tr>\n",
       "    <tr>\n",
       "      <th>3734</th>\n",
       "      <td>Mechanical Engineer</td>\n",
       "      <td>Dredging Engineer</td>\n",
       "      <td>0.878</td>\n",
       "      <td>Dredging Engineer(0.878)</td>\n",
       "    </tr>\n",
       "    <tr>\n",
       "      <th>4260</th>\n",
       "      <td>Mechanical Engineer</td>\n",
       "      <td>Assistant Site Engineer</td>\n",
       "      <td>0.877</td>\n",
       "      <td>Assistant Site Engineer(0.877)</td>\n",
       "    </tr>\n",
       "    <tr>\n",
       "      <th>4557</th>\n",
       "      <td>Mechanical Engineer</td>\n",
       "      <td>Senior Building Engineer</td>\n",
       "      <td>0.876</td>\n",
       "      <td>Senior Building Engineer(0.876)</td>\n",
       "    </tr>\n",
       "    <tr>\n",
       "      <th>4857</th>\n",
       "      <td>Mechanical Engineer</td>\n",
       "      <td>Architectural Engineer</td>\n",
       "      <td>0.875</td>\n",
       "      <td>Architectural Engineer(0.875)</td>\n",
       "    </tr>\n",
       "    <tr>\n",
       "      <th>4831</th>\n",
       "      <td>Mechanical Engineer</td>\n",
       "      <td>Senior Site Engineer</td>\n",
       "      <td>0.875</td>\n",
       "      <td>Senior Site Engineer(0.875)</td>\n",
       "    </tr>\n",
       "    <tr>\n",
       "      <th>4774</th>\n",
       "      <td>Mechanical Engineer</td>\n",
       "      <td>Cost Schedule Engineer</td>\n",
       "      <td>0.875</td>\n",
       "      <td>Cost Schedule Engineer(0.875)</td>\n",
       "    </tr>\n",
       "    <tr>\n",
       "      <th>4607</th>\n",
       "      <td>Mechanical Engineer</td>\n",
       "      <td>Layout Engineer</td>\n",
       "      <td>0.875</td>\n",
       "      <td>Layout Engineer(0.875)</td>\n",
       "    </tr>\n",
       "  </tbody>\n",
       "</table>\n",
       "</div>"
      ],
      "text/plain": [
       "                       t1                            t2  topic_sim  \\\n",
       "2181  Mechanical Engineer  Power Plant Service Engineer      0.886   \n",
       "3607  Mechanical Engineer        Senior Tunnel Engineer      0.879   \n",
       "3605  Mechanical Engineer           Rail Track Engineer      0.879   \n",
       "3734  Mechanical Engineer             Dredging Engineer      0.878   \n",
       "4260  Mechanical Engineer       Assistant Site Engineer      0.877   \n",
       "4557  Mechanical Engineer      Senior Building Engineer      0.876   \n",
       "4857  Mechanical Engineer        Architectural Engineer      0.875   \n",
       "4831  Mechanical Engineer          Senior Site Engineer      0.875   \n",
       "4774  Mechanical Engineer        Cost Schedule Engineer      0.875   \n",
       "4607  Mechanical Engineer               Layout Engineer      0.875   \n",
       "\n",
       "                              title_n_sim  \n",
       "2181  Power Plant Service Engineer(0.886)  \n",
       "3607        Senior Tunnel Engineer(0.879)  \n",
       "3605           Rail Track Engineer(0.879)  \n",
       "3734             Dredging Engineer(0.878)  \n",
       "4260       Assistant Site Engineer(0.877)  \n",
       "4557      Senior Building Engineer(0.876)  \n",
       "4857        Architectural Engineer(0.875)  \n",
       "4831          Senior Site Engineer(0.875)  \n",
       "4774        Cost Schedule Engineer(0.875)  \n",
       "4607               Layout Engineer(0.875)  "
      ]
     },
     "execution_count": 26,
     "metadata": {},
     "output_type": "execute_result"
    }
   ],
   "source": [
    "queryTopkSim('mechanical engineer', k=10)"
   ]
  },
  {
   "cell_type": "code",
   "execution_count": 27,
   "metadata": {
    "collapsed": true
   },
   "outputs": [
    {
     "data": {
      "text/html": [
       "<div>\n",
       "<table border=\"1\" class=\"dataframe\">\n",
       "  <thead>\n",
       "    <tr style=\"text-align: right;\">\n",
       "      <th></th>\n",
       "      <th>t1</th>\n",
       "      <th>t2</th>\n",
       "      <th>topic_sim</th>\n",
       "      <th>title_n_sim</th>\n",
       "    </tr>\n",
       "  </thead>\n",
       "  <tbody>\n",
       "    <tr>\n",
       "      <th>1749</th>\n",
       "      <td>Electrical Engineer</td>\n",
       "      <td>Dredging Engineer</td>\n",
       "      <td>0.888</td>\n",
       "      <td>Dredging Engineer(0.888)</td>\n",
       "    </tr>\n",
       "    <tr>\n",
       "      <th>1973</th>\n",
       "      <td>Electrical Engineer</td>\n",
       "      <td>Assistant Site Engineer</td>\n",
       "      <td>0.887</td>\n",
       "      <td>Assistant Site Engineer(0.887)</td>\n",
       "    </tr>\n",
       "    <tr>\n",
       "      <th>2598</th>\n",
       "      <td>Electrical Engineer</td>\n",
       "      <td>Architectural Engineer</td>\n",
       "      <td>0.884</td>\n",
       "      <td>Architectural Engineer(0.884)</td>\n",
       "    </tr>\n",
       "    <tr>\n",
       "      <th>2607</th>\n",
       "      <td>Electrical Engineer</td>\n",
       "      <td>Construction Engineer</td>\n",
       "      <td>0.884</td>\n",
       "      <td>Construction Engineer(0.884)</td>\n",
       "    </tr>\n",
       "    <tr>\n",
       "      <th>2735</th>\n",
       "      <td>Electrical Engineer</td>\n",
       "      <td>Senior Tunnel Engineer</td>\n",
       "      <td>0.883</td>\n",
       "      <td>Senior Tunnel Engineer(0.883)</td>\n",
       "    </tr>\n",
       "    <tr>\n",
       "      <th>2879</th>\n",
       "      <td>Electrical Engineer</td>\n",
       "      <td>Rail Track Engineer</td>\n",
       "      <td>0.882</td>\n",
       "      <td>Rail Track Engineer(0.882)</td>\n",
       "    </tr>\n",
       "    <tr>\n",
       "      <th>2902</th>\n",
       "      <td>Electrical Engineer</td>\n",
       "      <td>Senior Site Engineer</td>\n",
       "      <td>0.882</td>\n",
       "      <td>Senior Site Engineer(0.882)</td>\n",
       "    </tr>\n",
       "    <tr>\n",
       "      <th>2920</th>\n",
       "      <td>Electrical Engineer</td>\n",
       "      <td>Power Plant Service Engineer</td>\n",
       "      <td>0.882</td>\n",
       "      <td>Power Plant Service Engineer(0.882)</td>\n",
       "    </tr>\n",
       "    <tr>\n",
       "      <th>3239</th>\n",
       "      <td>Electrical Engineer</td>\n",
       "      <td>Geotechnical Engineer</td>\n",
       "      <td>0.881</td>\n",
       "      <td>Geotechnical Engineer(0.881)</td>\n",
       "    </tr>\n",
       "    <tr>\n",
       "      <th>3253</th>\n",
       "      <td>Electrical Engineer</td>\n",
       "      <td>Cost Schedule Engineer</td>\n",
       "      <td>0.880</td>\n",
       "      <td>Cost Schedule Engineer(0.88)</td>\n",
       "    </tr>\n",
       "  </tbody>\n",
       "</table>\n",
       "</div>"
      ],
      "text/plain": [
       "                       t1                            t2  topic_sim  \\\n",
       "1749  Electrical Engineer             Dredging Engineer      0.888   \n",
       "1973  Electrical Engineer       Assistant Site Engineer      0.887   \n",
       "2598  Electrical Engineer        Architectural Engineer      0.884   \n",
       "2607  Electrical Engineer         Construction Engineer      0.884   \n",
       "2735  Electrical Engineer        Senior Tunnel Engineer      0.883   \n",
       "2879  Electrical Engineer           Rail Track Engineer      0.882   \n",
       "2902  Electrical Engineer          Senior Site Engineer      0.882   \n",
       "2920  Electrical Engineer  Power Plant Service Engineer      0.882   \n",
       "3239  Electrical Engineer         Geotechnical Engineer      0.881   \n",
       "3253  Electrical Engineer        Cost Schedule Engineer      0.880   \n",
       "\n",
       "                              title_n_sim  \n",
       "1749             Dredging Engineer(0.888)  \n",
       "1973       Assistant Site Engineer(0.887)  \n",
       "2598        Architectural Engineer(0.884)  \n",
       "2607         Construction Engineer(0.884)  \n",
       "2735        Senior Tunnel Engineer(0.883)  \n",
       "2879           Rail Track Engineer(0.882)  \n",
       "2902          Senior Site Engineer(0.882)  \n",
       "2920  Power Plant Service Engineer(0.882)  \n",
       "3239         Geotechnical Engineer(0.881)  \n",
       "3253         Cost Schedule Engineer(0.88)  "
      ]
     },
     "execution_count": 27,
     "metadata": {},
     "output_type": "execute_result"
    }
   ],
   "source": [
    "# queryTopkSim('electrical engineer', k=10)"
   ]
  },
  {
   "cell_type": "markdown",
   "metadata": {},
   "source": [
    "#### Executive Jobs"
   ]
  },
  {
   "cell_type": "code",
   "execution_count": 13,
   "metadata": {
    "collapsed": true
   },
   "outputs": [
    {
     "data": {
      "text/html": [
       "<div>\n",
       "<table border=\"1\" class=\"dataframe\">\n",
       "  <thead>\n",
       "    <tr style=\"text-align: right;\">\n",
       "      <th></th>\n",
       "      <th>t1</th>\n",
       "      <th>t2</th>\n",
       "      <th>topic_sim</th>\n",
       "    </tr>\n",
       "  </thead>\n",
       "  <tbody>\n",
       "    <tr>\n",
       "      <th>0</th>\n",
       "      <td>Financial Accounting Executive</td>\n",
       "      <td>Senior Accounting Executive</td>\n",
       "      <td>0.933</td>\n",
       "    </tr>\n",
       "    <tr>\n",
       "      <th>1</th>\n",
       "      <td>Financial Accounting Executive</td>\n",
       "      <td>Tax Executive</td>\n",
       "      <td>0.927</td>\n",
       "    </tr>\n",
       "    <tr>\n",
       "      <th>2</th>\n",
       "      <td>Restaurant Executive</td>\n",
       "      <td>Catering Executive</td>\n",
       "      <td>0.926</td>\n",
       "    </tr>\n",
       "    <tr>\n",
       "      <th>3</th>\n",
       "      <td>Restaurant Executive</td>\n",
       "      <td>Food &amp; Beverage Executive</td>\n",
       "      <td>0.911</td>\n",
       "    </tr>\n",
       "    <tr>\n",
       "      <th>4</th>\n",
       "      <td>Financial Accounting Executive</td>\n",
       "      <td>Accounts Executive</td>\n",
       "      <td>0.911</td>\n",
       "    </tr>\n",
       "  </tbody>\n",
       "</table>\n",
       "</div>"
      ],
      "text/plain": [
       "                               t1                           t2  topic_sim\n",
       "0  Financial Accounting Executive  Senior Accounting Executive      0.933\n",
       "1  Financial Accounting Executive                Tax Executive      0.927\n",
       "2            Restaurant Executive           Catering Executive      0.926\n",
       "3            Restaurant Executive    Food & Beverage Executive      0.911\n",
       "4  Financial Accounting Executive           Accounts Executive      0.911"
      ]
     },
     "execution_count": 13,
     "metadata": {},
     "output_type": "execute_result"
    }
   ],
   "source": [
    "exe_sims = pd.read_csv(func_dir + 'sims/executive.csv')\n",
    "exe_sims.head()"
   ]
  },
  {
   "cell_type": "code",
   "execution_count": 34,
   "metadata": {
    "collapsed": true
   },
   "outputs": [
    {
     "data": {
      "text/html": [
       "<div>\n",
       "<table border=\"1\" class=\"dataframe\">\n",
       "  <thead>\n",
       "    <tr style=\"text-align: right;\">\n",
       "      <th></th>\n",
       "      <th>title</th>\n",
       "      <th>top5</th>\n",
       "    </tr>\n",
       "  </thead>\n",
       "  <tbody>\n",
       "    <tr>\n",
       "      <th>0</th>\n",
       "      <td>Accounts Executive</td>\n",
       "      <td>Financial Accounting Executive(0.911), Tax Exe...</td>\n",
       "    </tr>\n",
       "    <tr>\n",
       "      <th>1</th>\n",
       "      <td>Sales Executive</td>\n",
       "      <td>Senior Product Development Executive(0.888), C...</td>\n",
       "    </tr>\n",
       "    <tr>\n",
       "      <th>2</th>\n",
       "      <td>Marketing Executive</td>\n",
       "      <td>Promotions Executive(0.866), Senior Distributi...</td>\n",
       "    </tr>\n",
       "    <tr>\n",
       "      <th>3</th>\n",
       "      <td>Executive</td>\n",
       "      <td>Corporate Planning Executive(0.858), Governmen...</td>\n",
       "    </tr>\n",
       "    <tr>\n",
       "      <th>4</th>\n",
       "      <td>Human Resource Executive</td>\n",
       "      <td>Senior Human Resource Executive(0.874), Payrol...</td>\n",
       "    </tr>\n",
       "  </tbody>\n",
       "</table>\n",
       "</div>"
      ],
      "text/plain": [
       "                      title                                               top5\n",
       "0        Accounts Executive  Financial Accounting Executive(0.911), Tax Exe...\n",
       "1           Sales Executive  Senior Product Development Executive(0.888), C...\n",
       "2       Marketing Executive  Promotions Executive(0.866), Senior Distributi...\n",
       "3                 Executive  Corporate Planning Executive(0.858), Governmen...\n",
       "4  Human Resource Executive  Senior Human Resource Executive(0.874), Payrol..."
      ]
     },
     "execution_count": 34,
     "metadata": {},
     "output_type": "execute_result"
    }
   ],
   "source": [
    "topkByFunction(k=5, job_title='Financial Accounting Executive', func_sims=exe_sims)\n",
    "\n",
    "exe_titles = titlesWithFunc('executive', title_df)\n",
    "exe_top5 = pd.DataFrame({'title': exe_titles})\n",
    "\n",
    "exe_top5['top5'] = exe_top5['title'].apply(topkByFunction, k=5, func_sims=exe_sims)\n",
    "exe_top5.to_csv(func_dir + 'topk/executive.csv', index=False)"
   ]
  },
  {
   "cell_type": "code",
   "execution_count": 44,
   "metadata": {
    "collapsed": true
   },
   "outputs": [
    {
     "data": {
      "text/html": [
       "<div>\n",
       "<table border=\"1\" class=\"dataframe\">\n",
       "  <thead>\n",
       "    <tr style=\"text-align: right;\">\n",
       "      <th></th>\n",
       "      <th>t1</th>\n",
       "      <th>t2</th>\n",
       "      <th>topic_sim</th>\n",
       "      <th>title_n_sim</th>\n",
       "    </tr>\n",
       "  </thead>\n",
       "  <tbody>\n",
       "    <tr>\n",
       "      <th>77</th>\n",
       "      <td>Sales Executive</td>\n",
       "      <td>Senior Product Development Executive</td>\n",
       "      <td>0.888</td>\n",
       "      <td>Senior Product Development Executive(0.888)</td>\n",
       "    </tr>\n",
       "    <tr>\n",
       "      <th>185</th>\n",
       "      <td>Sales Executive</td>\n",
       "      <td>Key Account Executive</td>\n",
       "      <td>0.881</td>\n",
       "      <td>Key Account Executive(0.881)</td>\n",
       "    </tr>\n",
       "    <tr>\n",
       "      <th>192</th>\n",
       "      <td>Sales Executive</td>\n",
       "      <td>Corporate Planning Executive</td>\n",
       "      <td>0.881</td>\n",
       "      <td>Corporate Planning Executive(0.881)</td>\n",
       "    </tr>\n",
       "    <tr>\n",
       "      <th>221</th>\n",
       "      <td>Sales Executive</td>\n",
       "      <td>Sales Representative (Medical and Pharmaceutic...</td>\n",
       "      <td>0.881</td>\n",
       "      <td>Sales Representative (Medical and Pharmaceutic...</td>\n",
       "    </tr>\n",
       "    <tr>\n",
       "      <th>113</th>\n",
       "      <td>Sales Executive</td>\n",
       "      <td>Sales Clerk</td>\n",
       "      <td>0.880</td>\n",
       "      <td>Sales Clerk(0.88)</td>\n",
       "    </tr>\n",
       "  </tbody>\n",
       "</table>\n",
       "</div>"
      ],
      "text/plain": [
       "                  t1                                                 t2  \\\n",
       "77   Sales Executive               Senior Product Development Executive   \n",
       "185  Sales Executive                              Key Account Executive   \n",
       "192  Sales Executive                       Corporate Planning Executive   \n",
       "221  Sales Executive  Sales Representative (Medical and Pharmaceutic...   \n",
       "113  Sales Executive                                        Sales Clerk   \n",
       "\n",
       "     topic_sim                                        title_n_sim  \n",
       "77       0.888        Senior Product Development Executive(0.888)  \n",
       "185      0.881                       Key Account Executive(0.881)  \n",
       "192      0.881                Corporate Planning Executive(0.881)  \n",
       "221      0.881  Sales Representative (Medical and Pharmaceutic...  \n",
       "113      0.880                                  Sales Clerk(0.88)  "
      ]
     },
     "execution_count": 44,
     "metadata": {},
     "output_type": "execute_result"
    }
   ],
   "source": [
    "queryTopkSim('Accounts Executive', k=10)\n",
    "queryTopkSim('Marketing Executive', k=10)\n",
    "queryTopkSim('Sales Executive', k=10)\n",
    "sales_exe_top10 = queryTopkSim('Sales Executive', k=10)"
   ]
  },
  {
   "cell_type": "code",
   "execution_count": 61,
   "metadata": {
    "collapsed": true
   },
   "outputs": [
    {
     "data": {
      "text/plain": [
       "8                    Senior Account Management Executive\n",
       "11                              Senior Product Executive\n",
       "14                  Senior Product Development Executive\n",
       "32                                Export Sales Executive\n",
       "23                                  Government Executive\n",
       "27                                   Ticketing Executive\n",
       "11                                       Logistics Clerk\n",
       "108                                     Sales Supervisor\n",
       "0                                      Sales Coordinator\n",
       "109                                          Sales Clerk\n",
       "38                                 Assistant  Supervisor\n",
       "55                                     Branch Supervisor\n",
       "219    Sales Representative (Medical and Pharmaceutic...\n",
       "256                                     Sales Supervisor\n",
       "43                                     Sales Coordinator\n",
       "2                               Assistant Sales Engineer\n",
       "0                                      Ticketing Officer\n",
       "27                          Corporate Planning Executive\n",
       "Name: t2, dtype: object"
      ]
     },
     "execution_count": 61,
     "metadata": {},
     "output_type": "execute_result"
    }
   ],
   "source": [
    "fan = fanOut(sales_exe_top10.t2, fan_width=2)\n",
    "cand_titles = fan.t2\n",
    "cand_titles"
   ]
  },
  {
   "cell_type": "code",
   "execution_count": null,
   "metadata": {
    "collapsed": true
   },
   "outputs": [],
   "source": []
  },
  {
   "cell_type": "code",
   "execution_count": null,
   "metadata": {
    "collapsed": true
   },
   "outputs": [],
   "source": []
  },
  {
   "cell_type": "code",
   "execution_count": null,
   "metadata": {
    "collapsed": true
   },
   "outputs": [],
   "source": [
    "# TESTS\n",
    "\n",
    "# swr_sims = pasteCols('t2', 'topic_sim', swr_sims, 'title_n_sim')\n",
    "# swr_sims.head()\n",
    "# swapCols('t1', 't2', swr_sims.head())"
   ]
  }
 ],
 "metadata": {
  "kernelspec": {
   "display_name": "Python 2",
   "language": "python",
   "name": "python2"
  },
  "language_info": {
   "codemirror_mode": {
    "name": "ipython",
    "version": 2
   },
   "file_extension": ".py",
   "mimetype": "text/x-python",
   "name": "python",
   "nbconvert_exporter": "python",
   "pygments_lexer": "ipython2",
   "version": "2.7.13"
  }
 },
 "nbformat": 4,
 "nbformat_minor": 1
}
