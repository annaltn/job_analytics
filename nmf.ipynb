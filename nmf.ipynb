{
 "cells": [
  {
   "cell_type": "markdown",
   "metadata": {},
   "source": [
    "# Skill Clustering by Matrix Factorization\n",
    "\n",
    "Steps of skill clustering:\n",
    "+ Obtain a representation of skills in a space of latent factors: this can be done by Matrix Factorization (MF) approach\n",
    "+ Measure distance between skills in the latent space\n",
    "+ Cluster skills based on their distance in the space\n",
    "\n",
    "We can try MF on count matrix or tfidf matrix. However, on building these matrices, we need to take of __\"duplication\" problem__."
   ]
  },
  {
   "cell_type": "code",
   "execution_count": 1,
   "metadata": {
    "collapsed": true
   },
   "outputs": [],
   "source": [
    "import my_util as my_util\n",
    "import cluster_skill_helpers as cluster_skill_helpers\n",
    "from cluster_skill_helpers import *\n",
    "\n",
    "import random as rd"
   ]
  },
  {
   "cell_type": "code",
   "execution_count": 2,
   "metadata": {
    "collapsed": true
   },
   "outputs": [],
   "source": [
    "HOME_DIR = 'd:/larc_projects/job_analytics/'\n",
    "SKILL_DAT = HOME_DIR + 'data/clean/skill_cluster/' \n",
    "SKILL_RES = HOME_DIR + 'results/' + 'skill_cluster/new/'"
   ]
  },
  {
   "cell_type": "markdown",
   "metadata": {},
   "source": [
    "First, we try it on count matrix as the matrix is already avail."
   ]
  },
  {
   "cell_type": "markdown",
   "metadata": {},
   "source": [
    "### NMF on count matrix"
   ]
  },
  {
   "cell_type": "code",
   "execution_count": 3,
   "metadata": {
    "collapsed": true
   },
   "outputs": [],
   "source": [
    "# Load count matrix\n",
    "skill_df = pd.read_csv(SKILL_DAT + 'skill_index.csv')\n",
    "skills = skill_df['skill']\n",
    "\n",
    "doc_skill = mmread(SKILL_DAT + 'doc_skill.mtx')"
   ]
  },
  {
   "cell_type": "markdown",
   "metadata": {},
   "source": [
    "There are various choices to initialize NMF including random and by SVD. We try random NMF, denoted as rnmf."
   ]
  },
  {
   "cell_type": "code",
   "execution_count": 4,
   "metadata": {
    "collapsed": true
   },
   "outputs": [],
   "source": [
    "ks = range(10, 60, 10)"
   ]
  },
  {
   "cell_type": "code",
   "execution_count": 5,
   "metadata": {
    "collapsed": false
   },
   "outputs": [
    {
     "name": "stdout",
     "output_type": "stream",
     "text": [
      "Fitting NMF using random initialization...\n",
      "No. of factors, Error, Running time\n",
      "10, 1824.0, 7.9s\n",
      "20, 1772.3, 11.7s\n",
      "30, 1731.9, 43.3s\n",
      "40, 1696.9, 106.4s\n",
      "50, 1665.0, 160.1s\n"
     ]
    }
   ],
   "source": [
    "rnmf = {k: NMF(n_components=k, random_state=0) for k in ks}\n",
    "print( \"Fitting NMF using random initialization...\" )\n",
    "print('No. of factors, Error, Running time')\n",
    "rnmf_error = []\n",
    "\n",
    "for k in ks:\n",
    "    t0 = time()\n",
    "    rnmf[k].fit(doc_skill)\n",
    "    elapsed = time() - t0\n",
    "    err = rnmf[k].reconstruction_err_\n",
    "    print('%d, %0.1f, %0.1fs' %(k, err, elapsed))\n",
    "    rnmf_error.append(err)\n",
    "# end"
   ]
  },
  {
   "cell_type": "code",
   "execution_count": 6,
   "metadata": {
    "collapsed": false
   },
   "outputs": [
    {
     "name": "stdout",
     "output_type": "stream",
     "text": [
      "saved 10factor-skill matrix\n",
      "saved 20factor-skill matrix\n",
      "saved 30factor-skill matrix\n",
      "saved 40factor-skill matrix\n",
      "saved 50factor-skill matrix\n"
     ]
    }
   ],
   "source": [
    "# Save learned factor-skill matrices\n",
    "nmf_dir = SKILL_RES + 'nmf/'\n",
    "for k in ks:\n",
    "    fname = '{}factor_skill.csv'.format(k)\n",
    "    pd.DataFrame(rnmf[k].components_).to_csv(nmf_dir + fname, index=False)\n",
    "    print('saved {}factor-skill matrix'.format(k))"
   ]
  },
  {
   "cell_type": "markdown",
   "metadata": {},
   "source": [
    "### NMF on TF-IDF matrix"
   ]
  }
 ],
 "metadata": {
  "kernelspec": {
   "display_name": "Python 2",
   "language": "python",
   "name": "python2"
  },
  "language_info": {
   "codemirror_mode": {
    "name": "ipython",
    "version": 2
   },
   "file_extension": ".py",
   "mimetype": "text/x-python",
   "name": "python",
   "nbconvert_exporter": "python",
   "pygments_lexer": "ipython2",
   "version": "2.7.13"
  }
 },
 "nbformat": 4,
 "nbformat_minor": 1
}
