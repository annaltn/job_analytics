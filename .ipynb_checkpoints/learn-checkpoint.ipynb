{
 "cells": [
  {
   "cell_type": "markdown",
   "metadata": {},
   "source": [
    "## Magic commands"
   ]
  },
  {
   "cell_type": "code",
   "execution_count": null,
   "metadata": {
    "collapsed": true
   },
   "outputs": [],
   "source": [
    "%bookmark ja d:/larc_projects/job_analytics/\n",
    "%bookmark ja_src c:/Users/mdluu.2011/Documents/job_analytics_src/\n",
    "%cd ja_src\n",
    "\n",
    "# Launch a QT console\n",
    "%qtconsole\n",
    "\n",
    "# List all vars\n",
    "%who\n",
    "\n",
    "# Invoke debugger\n",
    "%pdb\n",
    "\n",
    "# Run a script\n",
    "%run # options: -d (with debugger), -p (profiler)"
   ]
  }
 ],
 "metadata": {
  "kernelspec": {
   "display_name": "Python [conda root]",
   "language": "python",
   "name": "conda-root-py"
  },
  "language_info": {
   "codemirror_mode": {
    "name": "ipython",
    "version": 2
   },
   "file_extension": ".py",
   "mimetype": "text/x-python",
   "name": "python",
   "nbconvert_exporter": "python",
   "pygments_lexer": "ipython2",
   "version": "2.7.12"
  }
 },
 "nbformat": 4,
 "nbformat_minor": 1
}
