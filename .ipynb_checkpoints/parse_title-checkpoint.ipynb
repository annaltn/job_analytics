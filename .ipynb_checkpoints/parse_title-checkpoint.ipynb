{
 "cells": [
  {
   "cell_type": "code",
   "execution_count": 1,
   "metadata": {
    "collapsed": true
   },
   "outputs": [],
   "source": [
    "global invalid_titles; invalid_titles = []\n",
    "global two_titles; two_titles = []"
   ]
  },
  {
   "cell_type": "code",
   "execution_count": 2,
   "metadata": {
    "collapsed": true
   },
   "outputs": [],
   "source": [
    "import parse_funs as parse_funs\n",
    "from parse_funs import *\n",
    "\n",
    "from time import time"
   ]
  },
  {
   "cell_type": "code",
   "execution_count": 3,
   "metadata": {
    "collapsed": true
   },
   "outputs": [],
   "source": [
    "# needed dirs\n",
    "HOME_DIR = 'd:/larc_projects/job_analytics/'\n",
    "DATA_DIR = HOME_DIR + 'data/clean/'"
   ]
  },
  {
   "cell_type": "code",
   "execution_count": 19,
   "metadata": {
    "collapsed": true
   },
   "outputs": [],
   "source": [
    "# %cd ja_src\n",
    "reload(parse_funs)\n",
    "from parse_funs import *"
   ]
  },
  {
   "cell_type": "code",
   "execution_count": 20,
   "metadata": {
    "collapsed": false
   },
   "outputs": [
    {
     "name": "stdout",
     "output_type": "stream",
     "text": [
      "parsing Data analyst and scientist gives > 1 title in output\n"
     ]
    },
    {
     "data": {
      "text/html": [
       "<div>\n",
       "<table border=\"1\" class=\"dataframe\">\n",
       "  <thead>\n",
       "    <tr style=\"text-align: right;\">\n",
       "      <th></th>\n",
       "      <th>domain</th>\n",
       "      <th>position</th>\n",
       "      <th>pri_func</th>\n",
       "      <th>sec_func</th>\n",
       "      <th>title</th>\n",
       "    </tr>\n",
       "  </thead>\n",
       "  <tbody>\n",
       "    <tr>\n",
       "      <th>1</th>\n",
       "      <td>data</td>\n",
       "      <td></td>\n",
       "      <td>analyst and scientist</td>\n",
       "      <td></td>\n",
       "      <td>Data analyst and scientist</td>\n",
       "    </tr>\n",
       "  </tbody>\n",
       "</table>\n",
       "</div>"
      ],
      "text/plain": [
       "  domain position               pri_func sec_func                       title\n",
       "1   data           analyst and scientist           Data analyst and scientist"
      ]
     },
     "execution_count": 20,
     "metadata": {},
     "output_type": "execute_result"
    }
   ],
   "source": [
    "parse('Data analyst and scientist')\n",
    "parse('Security Analyst, Information Technology')\n",
    "# parse('Infrastructure Technical Specialist')"
   ]
  },
  {
   "cell_type": "markdown",
   "metadata": {},
   "source": [
    "+ Data loading:"
   ]
  },
  {
   "cell_type": "code",
   "execution_count": null,
   "metadata": {
    "collapsed": false
   },
   "outputs": [],
   "source": [
    "parse_df = pd.read_csv(DATA_DIR + 'parsed_titles.csv')\n",
    "parse_df = parse_df.drop_duplicates('title')\n",
    "print('# titles in previous parsing: %d' % len(parse_df.title) )"
   ]
  },
  {
   "cell_type": "code",
   "execution_count": null,
   "metadata": {
    "collapsed": false
   },
   "outputs": [],
   "source": [
    "# titles_2 = title_stats.query('n_post >= 2')\n",
    "# print('# titles having at least 2 posts: %d' %titles_2.shape[0])\n",
    "\n",
    "# # Merge to get parsing results of titles with at least 2 posts\n",
    "# title_df = pd.merge(titles_2, parse_df)\n",
    "# n_title = title_df.shape[0]\n",
    "# print('# titles with at least 2 posts and already parsed last time: %d' %n_title)"
   ]
  },
  {
   "cell_type": "markdown",
   "metadata": {},
   "source": [
    "Now need to re-parse titles with:\n",
    "+ NA pri-func\n",
    "+ NA domain"
   ]
  },
  {
   "cell_type": "code",
   "execution_count": 103,
   "metadata": {
    "collapsed": true
   },
   "outputs": [],
   "source": [
    "df = pd.read_csv(DATA_DIR + 'doc_index_filter.csv')"
   ]
  },
  {
   "cell_type": "code",
   "execution_count": 104,
   "metadata": {
    "collapsed": false
   },
   "outputs": [
    {
     "name": "stdout",
     "output_type": "stream",
     "text": [
      "# unique titles: 4536\n"
     ]
    }
   ],
   "source": [
    "titles = list(df['title'].unique())\n",
    "n_title = len(titles)\n",
    "print('# unique titles: %d' % n_title)"
   ]
  },
  {
   "cell_type": "code",
   "execution_count": null,
   "metadata": {
    "collapsed": true
   },
   "outputs": [],
   "source": [
    "title_stats = pd.read_csv(DATA_DIR + 'stats_job_titles.csv')"
   ]
  },
  {
   "cell_type": "markdown",
   "metadata": {},
   "source": [
    "## Parsing job titles"
   ]
  },
  {
   "cell_type": "code",
   "execution_count": 13,
   "metadata": {
    "collapsed": true
   },
   "outputs": [
    {
     "name": "stdout",
     "output_type": "stream",
     "text": [
      "parsing Helmsman / Steersman gives > 1 title in output\n"
     ]
    },
    {
     "data": {
      "text/html": [
       "<div>\n",
       "<table border=\"1\" class=\"dataframe\">\n",
       "  <thead>\n",
       "    <tr style=\"text-align: right;\">\n",
       "      <th></th>\n",
       "      <th>domain</th>\n",
       "      <th>position</th>\n",
       "      <th>pri_func</th>\n",
       "      <th>sec_func</th>\n",
       "      <th>title</th>\n",
       "    </tr>\n",
       "  </thead>\n",
       "  <tbody>\n",
       "    <tr>\n",
       "      <th>1</th>\n",
       "      <td>None</td>\n",
       "      <td>None</td>\n",
       "      <td>helmsman</td>\n",
       "      <td>None</td>\n",
       "      <td>Helmsman / Steersman</td>\n",
       "    </tr>\n",
       "    <tr>\n",
       "      <th>1</th>\n",
       "      <td>None</td>\n",
       "      <td>None</td>\n",
       "      <td>steersman</td>\n",
       "      <td>None</td>\n",
       "      <td>Helmsman / Steersman</td>\n",
       "    </tr>\n",
       "  </tbody>\n",
       "</table>\n",
       "</div>"
      ],
      "text/plain": [
       "  domain position   pri_func sec_func                 title\n",
       "1   None     None   helmsman     None  Helmsman / Steersman\n",
       "1   None     None  steersman     None  Helmsman / Steersman"
      ]
     },
     "execution_count": 13,
     "metadata": {},
     "output_type": "execute_result"
    }
   ],
   "source": [
    "parse('Helmsman / Steersman')"
   ]
  },
  {
   "cell_type": "code",
   "execution_count": 21,
   "metadata": {
    "collapsed": true
   },
   "outputs": [],
   "source": [
    "# Parsing funcs\n",
    "def parseBatch(b, start=None, end=None):\n",
    "    '''\n",
    "    @return: DF containing results of parsing 100 titles in batch b\n",
    "    '''\n",
    "    print('Parsing batch {}...'.format(b))\n",
    "    if (not start) and (not end): start = 100*b; end = start + 100\n",
    "    batch_titles = titles[start:end]\n",
    "    frames = [parse(t) for t in batch_titles]\n",
    "    res = pd.concat(frames)\n",
    "    res.reset_index(inplace=True); del res['index']\n",
    "    time.sleep(3)\n",
    "    \n",
    "#     defensive save result of the batch\n",
    "    fname = DATA_DIR + 'tmp/b{}.csv'.format(b)\n",
    "    res.to_csv(fname, index=False)\n",
    "    print('\\t saved result to tmp file')\n",
    "    return res"
   ]
  },
  {
   "cell_type": "markdown",
   "metadata": {},
   "source": [
    "We need to divide the parsing process into several medium-size batches as this is a good practice when we are using a web service or access web/remote server. The division also allows us to easily locate a bug when it occurs. This actually happens as shown below."
   ]
  },
  {
   "cell_type": "code",
   "execution_count": 42,
   "metadata": {
    "collapsed": true
   },
   "outputs": [],
   "source": [
    "n_batch = n_title/100; remainder = n_title % 100"
   ]
  },
  {
   "cell_type": "code",
   "execution_count": 43,
   "metadata": {
    "collapsed": true
   },
   "outputs": [],
   "source": [
    "rem_titles = titles[-remainder:]\n",
    "last_frame = pd.concat([parse(t) for t in rem_titles])"
   ]
  },
  {
   "cell_type": "code",
   "execution_count": 45,
   "metadata": {
    "collapsed": false,
    "scrolled": true
   },
   "outputs": [],
   "source": [
    "# frames = [parseBatch(b) for b in range(n_batch)]\n",
    "folder = DATA_DIR + 'tmp/parse/new/'\n",
    "files = os.listdir(folder)\n",
    "frames = [pd.read_csv(folder + f) for f in files]"
   ]
  },
  {
   "cell_type": "code",
   "execution_count": 27,
   "metadata": {
    "collapsed": true
   },
   "outputs": [],
   "source": [
    "frames.append(last_frame)"
   ]
  },
  {
   "cell_type": "code",
   "execution_count": 62,
   "metadata": {
    "collapsed": true
   },
   "outputs": [
    {
     "name": "stdout",
     "output_type": "stream",
     "text": [
      "(4536, 5)\n",
      "# dups in parsing result: 56\n"
     ]
    },
    {
     "data": {
      "text/html": [
       "<div>\n",
       "<table border=\"1\" class=\"dataframe\">\n",
       "  <thead>\n",
       "    <tr style=\"text-align: right;\">\n",
       "      <th></th>\n",
       "      <th>domain</th>\n",
       "      <th>position</th>\n",
       "      <th>pri_func</th>\n",
       "      <th>sec_func</th>\n",
       "      <th>title</th>\n",
       "    </tr>\n",
       "  </thead>\n",
       "  <tbody>\n",
       "    <tr>\n",
       "      <th>77</th>\n",
       "      <td>NaN</td>\n",
       "      <td>NaN</td>\n",
       "      <td>NaN</td>\n",
       "      <td>NaN</td>\n",
       "      <td>Senior Executive</td>\n",
       "    </tr>\n",
       "    <tr>\n",
       "      <th>41</th>\n",
       "      <td>NaN</td>\n",
       "      <td>NaN</td>\n",
       "      <td>NaN</td>\n",
       "      <td>NaN</td>\n",
       "      <td>Commercials, Producer of</td>\n",
       "    </tr>\n",
       "    <tr>\n",
       "      <th>93</th>\n",
       "      <td>NaN</td>\n",
       "      <td>NaN</td>\n",
       "      <td>NaN</td>\n",
       "      <td>NaN</td>\n",
       "      <td>Helpdesk Engineer</td>\n",
       "    </tr>\n",
       "    <tr>\n",
       "      <th>24</th>\n",
       "      <td>NaN</td>\n",
       "      <td>NaN</td>\n",
       "      <td>NaN</td>\n",
       "      <td>NaN</td>\n",
       "      <td>Information Technology Helpdesk Coordinator</td>\n",
       "    </tr>\n",
       "    <tr>\n",
       "      <th>36</th>\n",
       "      <td>NaN</td>\n",
       "      <td>NaN</td>\n",
       "      <td>NaN</td>\n",
       "      <td>NaN</td>\n",
       "      <td>Spa Therapist Supervisor</td>\n",
       "    </tr>\n",
       "    <tr>\n",
       "      <th>76</th>\n",
       "      <td>NaN</td>\n",
       "      <td>NaN</td>\n",
       "      <td>NaN</td>\n",
       "      <td>NaN</td>\n",
       "      <td>Spa Therapist Supervisor</td>\n",
       "    </tr>\n",
       "    <tr>\n",
       "      <th>90</th>\n",
       "      <td>NaN</td>\n",
       "      <td>NaN</td>\n",
       "      <td>NaN</td>\n",
       "      <td>NaN</td>\n",
       "      <td>Spa Therapist Supervisor</td>\n",
       "    </tr>\n",
       "    <tr>\n",
       "      <th>9</th>\n",
       "      <td>NaN</td>\n",
       "      <td>NaN</td>\n",
       "      <td>NaN</td>\n",
       "      <td>NaN</td>\n",
       "      <td>Beautician Supervisor</td>\n",
       "    </tr>\n",
       "    <tr>\n",
       "      <th>66</th>\n",
       "      <td>NaN</td>\n",
       "      <td>NaN</td>\n",
       "      <td>NaN</td>\n",
       "      <td>NaN</td>\n",
       "      <td>Beautician Supervisor</td>\n",
       "    </tr>\n",
       "    <tr>\n",
       "      <th>66</th>\n",
       "      <td>NaN</td>\n",
       "      <td>NaN</td>\n",
       "      <td>NaN</td>\n",
       "      <td>NaN</td>\n",
       "      <td>Technical Helpdesk Specialist</td>\n",
       "    </tr>\n",
       "    <tr>\n",
       "      <th>58</th>\n",
       "      <td>NaN</td>\n",
       "      <td>NaN</td>\n",
       "      <td>NaN</td>\n",
       "      <td>NaN</td>\n",
       "      <td>Prime Mover Driver</td>\n",
       "    </tr>\n",
       "    <tr>\n",
       "      <th>80</th>\n",
       "      <td>NaN</td>\n",
       "      <td>NaN</td>\n",
       "      <td>NaN</td>\n",
       "      <td>NaN</td>\n",
       "      <td>Deputy Head</td>\n",
       "    </tr>\n",
       "    <tr>\n",
       "      <th>58</th>\n",
       "      <td>NaN</td>\n",
       "      <td>NaN</td>\n",
       "      <td>NaN</td>\n",
       "      <td>NaN</td>\n",
       "      <td>Senior Data Architect Manager</td>\n",
       "    </tr>\n",
       "    <tr>\n",
       "      <th>46</th>\n",
       "      <td>NaN</td>\n",
       "      <td>NaN</td>\n",
       "      <td>NaN</td>\n",
       "      <td>NaN</td>\n",
       "      <td>Assistant Head, Legal</td>\n",
       "    </tr>\n",
       "    <tr>\n",
       "      <th>59</th>\n",
       "      <td>NaN</td>\n",
       "      <td>NaN</td>\n",
       "      <td>NaN</td>\n",
       "      <td>NaN</td>\n",
       "      <td>Assistant Head, Legal</td>\n",
       "    </tr>\n",
       "    <tr>\n",
       "      <th>55</th>\n",
       "      <td>NaN</td>\n",
       "      <td>NaN</td>\n",
       "      <td>NaN</td>\n",
       "      <td>NaN</td>\n",
       "      <td>Analyst Programmer</td>\n",
       "    </tr>\n",
       "    <tr>\n",
       "      <th>88</th>\n",
       "      <td>NaN</td>\n",
       "      <td>NaN</td>\n",
       "      <td>NaN</td>\n",
       "      <td>NaN</td>\n",
       "      <td>Analyst Programmer</td>\n",
       "    </tr>\n",
       "    <tr>\n",
       "      <th>36</th>\n",
       "      <td>NaN</td>\n",
       "      <td>NaN</td>\n",
       "      <td>NaN</td>\n",
       "      <td>NaN</td>\n",
       "      <td>Professional Development Manager</td>\n",
       "    </tr>\n",
       "    <tr>\n",
       "      <th>68</th>\n",
       "      <td>NaN</td>\n",
       "      <td>NaN</td>\n",
       "      <td>NaN</td>\n",
       "      <td>NaN</td>\n",
       "      <td>Professional Development Manager</td>\n",
       "    </tr>\n",
       "    <tr>\n",
       "      <th>76</th>\n",
       "      <td>NaN</td>\n",
       "      <td>NaN</td>\n",
       "      <td>NaN</td>\n",
       "      <td>NaN</td>\n",
       "      <td>Professional Development Manager</td>\n",
       "    </tr>\n",
       "    <tr>\n",
       "      <th>86</th>\n",
       "      <td>NaN</td>\n",
       "      <td>NaN</td>\n",
       "      <td>NaN</td>\n",
       "      <td>NaN</td>\n",
       "      <td>Customer Liaison Officer</td>\n",
       "    </tr>\n",
       "    <tr>\n",
       "      <th>40</th>\n",
       "      <td>NaN</td>\n",
       "      <td>NaN</td>\n",
       "      <td>NaN</td>\n",
       "      <td>NaN</td>\n",
       "      <td>Semi-Conductor Engineer</td>\n",
       "    </tr>\n",
       "    <tr>\n",
       "      <th>36</th>\n",
       "      <td>NaN</td>\n",
       "      <td>NaN</td>\n",
       "      <td>NaN</td>\n",
       "      <td>NaN</td>\n",
       "      <td>Liaison Officer</td>\n",
       "    </tr>\n",
       "    <tr>\n",
       "      <th>60</th>\n",
       "      <td>NaN</td>\n",
       "      <td>NaN</td>\n",
       "      <td>NaN</td>\n",
       "      <td>NaN</td>\n",
       "      <td>Liaison Officer</td>\n",
       "    </tr>\n",
       "    <tr>\n",
       "      <th>93</th>\n",
       "      <td>NaN</td>\n",
       "      <td>NaN</td>\n",
       "      <td>NaN</td>\n",
       "      <td>NaN</td>\n",
       "      <td>Liaison Officer</td>\n",
       "    </tr>\n",
       "    <tr>\n",
       "      <th>98</th>\n",
       "      <td>NaN</td>\n",
       "      <td>NaN</td>\n",
       "      <td>NaN</td>\n",
       "      <td>NaN</td>\n",
       "      <td>Liaison Officer</td>\n",
       "    </tr>\n",
       "    <tr>\n",
       "      <th>90</th>\n",
       "      <td>NaN</td>\n",
       "      <td>NaN</td>\n",
       "      <td>NaN</td>\n",
       "      <td>NaN</td>\n",
       "      <td>Investor Relations Manager</td>\n",
       "    </tr>\n",
       "    <tr>\n",
       "      <th>47</th>\n",
       "      <td>NaN</td>\n",
       "      <td>NaN</td>\n",
       "      <td>NaN</td>\n",
       "      <td>NaN</td>\n",
       "      <td>Perfumer Assistant</td>\n",
       "    </tr>\n",
       "    <tr>\n",
       "      <th>58</th>\n",
       "      <td>NaN</td>\n",
       "      <td>NaN</td>\n",
       "      <td>NaN</td>\n",
       "      <td>NaN</td>\n",
       "      <td>Perfumer Assistant</td>\n",
       "    </tr>\n",
       "    <tr>\n",
       "      <th>86</th>\n",
       "      <td>NaN</td>\n",
       "      <td>NaN</td>\n",
       "      <td>NaN</td>\n",
       "      <td>NaN</td>\n",
       "      <td>Perfumer Assistant</td>\n",
       "    </tr>\n",
       "    <tr>\n",
       "      <th>40</th>\n",
       "      <td>NaN</td>\n",
       "      <td>NaN</td>\n",
       "      <td>NaN</td>\n",
       "      <td>NaN</td>\n",
       "      <td>Senior Pharmaceutical Dispenser</td>\n",
       "    </tr>\n",
       "    <tr>\n",
       "      <th>97</th>\n",
       "      <td>NaN</td>\n",
       "      <td>NaN</td>\n",
       "      <td>NaN</td>\n",
       "      <td>NaN</td>\n",
       "      <td>Senior Pharmaceutical Dispenser</td>\n",
       "    </tr>\n",
       "    <tr>\n",
       "      <th>76</th>\n",
       "      <td>NaN</td>\n",
       "      <td>NaN</td>\n",
       "      <td>NaN</td>\n",
       "      <td>NaN</td>\n",
       "      <td>Senior Server Support Analyst</td>\n",
       "    </tr>\n",
       "    <tr>\n",
       "      <th>78</th>\n",
       "      <td>NaN</td>\n",
       "      <td>NaN</td>\n",
       "      <td>NaN</td>\n",
       "      <td>NaN</td>\n",
       "      <td>Senior Server Support Analyst</td>\n",
       "    </tr>\n",
       "    <tr>\n",
       "      <th>27</th>\n",
       "      <td>NaN</td>\n",
       "      <td>NaN</td>\n",
       "      <td>NaN</td>\n",
       "      <td>NaN</td>\n",
       "      <td>Specialist Associate</td>\n",
       "    </tr>\n",
       "    <tr>\n",
       "      <th>37</th>\n",
       "      <td>NaN</td>\n",
       "      <td>NaN</td>\n",
       "      <td>NaN</td>\n",
       "      <td>NaN</td>\n",
       "      <td>Specialist Associate</td>\n",
       "    </tr>\n",
       "    <tr>\n",
       "      <th>50</th>\n",
       "      <td>NaN</td>\n",
       "      <td>NaN</td>\n",
       "      <td>NaN</td>\n",
       "      <td>NaN</td>\n",
       "      <td>Specialist Associate</td>\n",
       "    </tr>\n",
       "    <tr>\n",
       "      <th>35</th>\n",
       "      <td>NaN</td>\n",
       "      <td>NaN</td>\n",
       "      <td>NaN</td>\n",
       "      <td>NaN</td>\n",
       "      <td>Nursing Aid</td>\n",
       "    </tr>\n",
       "    <tr>\n",
       "      <th>62</th>\n",
       "      <td>NaN</td>\n",
       "      <td>NaN</td>\n",
       "      <td>NaN</td>\n",
       "      <td>NaN</td>\n",
       "      <td>Nursing Aid</td>\n",
       "    </tr>\n",
       "    <tr>\n",
       "      <th>66</th>\n",
       "      <td>NaN</td>\n",
       "      <td>NaN</td>\n",
       "      <td>NaN</td>\n",
       "      <td>NaN</td>\n",
       "      <td>Nursing Aid</td>\n",
       "    </tr>\n",
       "    <tr>\n",
       "      <th>67</th>\n",
       "      <td>NaN</td>\n",
       "      <td>NaN</td>\n",
       "      <td>NaN</td>\n",
       "      <td>NaN</td>\n",
       "      <td>Nursing Aid</td>\n",
       "    </tr>\n",
       "    <tr>\n",
       "      <th>92</th>\n",
       "      <td>NaN</td>\n",
       "      <td>NaN</td>\n",
       "      <td>NaN</td>\n",
       "      <td>NaN</td>\n",
       "      <td>Nursing Aid</td>\n",
       "    </tr>\n",
       "    <tr>\n",
       "      <th>25</th>\n",
       "      <td>NaN</td>\n",
       "      <td>NaN</td>\n",
       "      <td>NaN</td>\n",
       "      <td>NaN</td>\n",
       "      <td>Superintendent Engineer</td>\n",
       "    </tr>\n",
       "    <tr>\n",
       "      <th>90</th>\n",
       "      <td>NaN</td>\n",
       "      <td>NaN</td>\n",
       "      <td>NaN</td>\n",
       "      <td>NaN</td>\n",
       "      <td>Superintendent Engineer</td>\n",
       "    </tr>\n",
       "    <tr>\n",
       "      <th>23</th>\n",
       "      <td>NaN</td>\n",
       "      <td>NaN</td>\n",
       "      <td>NaN</td>\n",
       "      <td>NaN</td>\n",
       "      <td>Production Operator Leader</td>\n",
       "    </tr>\n",
       "    <tr>\n",
       "      <th>89</th>\n",
       "      <td>NaN</td>\n",
       "      <td>NaN</td>\n",
       "      <td>NaN</td>\n",
       "      <td>NaN</td>\n",
       "      <td>Production Operator Leader</td>\n",
       "    </tr>\n",
       "    <tr>\n",
       "      <th>79</th>\n",
       "      <td>NaN</td>\n",
       "      <td>NaN</td>\n",
       "      <td>NaN</td>\n",
       "      <td>NaN</td>\n",
       "      <td>Senior Helpdesk Engineer</td>\n",
       "    </tr>\n",
       "    <tr>\n",
       "      <th>78</th>\n",
       "      <td>NaN</td>\n",
       "      <td>NaN</td>\n",
       "      <td>NaN</td>\n",
       "      <td>NaN</td>\n",
       "      <td>Senior Analyzer Technician</td>\n",
       "    </tr>\n",
       "    <tr>\n",
       "      <th>88</th>\n",
       "      <td>NaN</td>\n",
       "      <td>NaN</td>\n",
       "      <td>NaN</td>\n",
       "      <td>NaN</td>\n",
       "      <td>Senior Analyzer Technician</td>\n",
       "    </tr>\n",
       "    <tr>\n",
       "      <th>91</th>\n",
       "      <td>NaN</td>\n",
       "      <td>NaN</td>\n",
       "      <td>NaN</td>\n",
       "      <td>NaN</td>\n",
       "      <td>Senior Analyzer Technician</td>\n",
       "    </tr>\n",
       "    <tr>\n",
       "      <th>45</th>\n",
       "      <td>NaN</td>\n",
       "      <td>NaN</td>\n",
       "      <td>NaN</td>\n",
       "      <td>NaN</td>\n",
       "      <td>Adjunct Professor</td>\n",
       "    </tr>\n",
       "    <tr>\n",
       "      <th>58</th>\n",
       "      <td>NaN</td>\n",
       "      <td>NaN</td>\n",
       "      <td>NaN</td>\n",
       "      <td>NaN</td>\n",
       "      <td>Adjunct Professor</td>\n",
       "    </tr>\n",
       "    <tr>\n",
       "      <th>52</th>\n",
       "      <td>NaN</td>\n",
       "      <td>NaN</td>\n",
       "      <td>NaN</td>\n",
       "      <td>NaN</td>\n",
       "      <td>Dredger Crewman</td>\n",
       "    </tr>\n",
       "    <tr>\n",
       "      <th>98</th>\n",
       "      <td>NaN</td>\n",
       "      <td>NaN</td>\n",
       "      <td>NaN</td>\n",
       "      <td>NaN</td>\n",
       "      <td>Crew Manning Executive</td>\n",
       "    </tr>\n",
       "    <tr>\n",
       "      <th>53</th>\n",
       "      <td>NaN</td>\n",
       "      <td>NaN</td>\n",
       "      <td>NaN</td>\n",
       "      <td>NaN</td>\n",
       "      <td>Therapist Assistant</td>\n",
       "    </tr>\n",
       "    <tr>\n",
       "      <th>56</th>\n",
       "      <td>NaN</td>\n",
       "      <td>NaN</td>\n",
       "      <td>NaN</td>\n",
       "      <td>NaN</td>\n",
       "      <td>Therapist Assistant</td>\n",
       "    </tr>\n",
       "  </tbody>\n",
       "</table>\n",
       "</div>"
      ],
      "text/plain": [
       "   domain position pri_func sec_func  \\\n",
       "77    NaN      NaN      NaN      NaN   \n",
       "41    NaN      NaN      NaN      NaN   \n",
       "93    NaN      NaN      NaN      NaN   \n",
       "24    NaN      NaN      NaN      NaN   \n",
       "36    NaN      NaN      NaN      NaN   \n",
       "76    NaN      NaN      NaN      NaN   \n",
       "90    NaN      NaN      NaN      NaN   \n",
       "9     NaN      NaN      NaN      NaN   \n",
       "66    NaN      NaN      NaN      NaN   \n",
       "66    NaN      NaN      NaN      NaN   \n",
       "58    NaN      NaN      NaN      NaN   \n",
       "80    NaN      NaN      NaN      NaN   \n",
       "58    NaN      NaN      NaN      NaN   \n",
       "46    NaN      NaN      NaN      NaN   \n",
       "59    NaN      NaN      NaN      NaN   \n",
       "55    NaN      NaN      NaN      NaN   \n",
       "88    NaN      NaN      NaN      NaN   \n",
       "36    NaN      NaN      NaN      NaN   \n",
       "68    NaN      NaN      NaN      NaN   \n",
       "76    NaN      NaN      NaN      NaN   \n",
       "86    NaN      NaN      NaN      NaN   \n",
       "40    NaN      NaN      NaN      NaN   \n",
       "36    NaN      NaN      NaN      NaN   \n",
       "60    NaN      NaN      NaN      NaN   \n",
       "93    NaN      NaN      NaN      NaN   \n",
       "98    NaN      NaN      NaN      NaN   \n",
       "90    NaN      NaN      NaN      NaN   \n",
       "47    NaN      NaN      NaN      NaN   \n",
       "58    NaN      NaN      NaN      NaN   \n",
       "86    NaN      NaN      NaN      NaN   \n",
       "40    NaN      NaN      NaN      NaN   \n",
       "97    NaN      NaN      NaN      NaN   \n",
       "76    NaN      NaN      NaN      NaN   \n",
       "78    NaN      NaN      NaN      NaN   \n",
       "27    NaN      NaN      NaN      NaN   \n",
       "37    NaN      NaN      NaN      NaN   \n",
       "50    NaN      NaN      NaN      NaN   \n",
       "35    NaN      NaN      NaN      NaN   \n",
       "62    NaN      NaN      NaN      NaN   \n",
       "66    NaN      NaN      NaN      NaN   \n",
       "67    NaN      NaN      NaN      NaN   \n",
       "92    NaN      NaN      NaN      NaN   \n",
       "25    NaN      NaN      NaN      NaN   \n",
       "90    NaN      NaN      NaN      NaN   \n",
       "23    NaN      NaN      NaN      NaN   \n",
       "89    NaN      NaN      NaN      NaN   \n",
       "79    NaN      NaN      NaN      NaN   \n",
       "78    NaN      NaN      NaN      NaN   \n",
       "88    NaN      NaN      NaN      NaN   \n",
       "91    NaN      NaN      NaN      NaN   \n",
       "45    NaN      NaN      NaN      NaN   \n",
       "58    NaN      NaN      NaN      NaN   \n",
       "52    NaN      NaN      NaN      NaN   \n",
       "98    NaN      NaN      NaN      NaN   \n",
       "53    NaN      NaN      NaN      NaN   \n",
       "56    NaN      NaN      NaN      NaN   \n",
       "\n",
       "                                          title  \n",
       "77                             Senior Executive  \n",
       "41                     Commercials, Producer of  \n",
       "93                            Helpdesk Engineer  \n",
       "24  Information Technology Helpdesk Coordinator  \n",
       "36                     Spa Therapist Supervisor  \n",
       "76                     Spa Therapist Supervisor  \n",
       "90                     Spa Therapist Supervisor  \n",
       "9                         Beautician Supervisor  \n",
       "66                        Beautician Supervisor  \n",
       "66                Technical Helpdesk Specialist  \n",
       "58                           Prime Mover Driver  \n",
       "80                                  Deputy Head  \n",
       "58                Senior Data Architect Manager  \n",
       "46                        Assistant Head, Legal  \n",
       "59                        Assistant Head, Legal  \n",
       "55                           Analyst Programmer  \n",
       "88                           Analyst Programmer  \n",
       "36             Professional Development Manager  \n",
       "68             Professional Development Manager  \n",
       "76             Professional Development Manager  \n",
       "86                     Customer Liaison Officer  \n",
       "40                      Semi-Conductor Engineer  \n",
       "36                              Liaison Officer  \n",
       "60                              Liaison Officer  \n",
       "93                              Liaison Officer  \n",
       "98                              Liaison Officer  \n",
       "90                   Investor Relations Manager  \n",
       "47                           Perfumer Assistant  \n",
       "58                           Perfumer Assistant  \n",
       "86                           Perfumer Assistant  \n",
       "40              Senior Pharmaceutical Dispenser  \n",
       "97              Senior Pharmaceutical Dispenser  \n",
       "76                Senior Server Support Analyst  \n",
       "78                Senior Server Support Analyst  \n",
       "27                         Specialist Associate  \n",
       "37                         Specialist Associate  \n",
       "50                         Specialist Associate  \n",
       "35                                  Nursing Aid  \n",
       "62                                  Nursing Aid  \n",
       "66                                  Nursing Aid  \n",
       "67                                  Nursing Aid  \n",
       "92                                  Nursing Aid  \n",
       "25                      Superintendent Engineer  \n",
       "90                      Superintendent Engineer  \n",
       "23                   Production Operator Leader  \n",
       "89                   Production Operator Leader  \n",
       "79                     Senior Helpdesk Engineer  \n",
       "78                   Senior Analyzer Technician  \n",
       "88                   Senior Analyzer Technician  \n",
       "91                   Senior Analyzer Technician  \n",
       "45                            Adjunct Professor  \n",
       "58                            Adjunct Professor  \n",
       "52                              Dredger Crewman  \n",
       "98                       Crew Manning Executive  \n",
       "53                          Therapist Assistant  \n",
       "56                          Therapist Assistant  "
      ]
     },
     "execution_count": 62,
     "metadata": {},
     "output_type": "execute_result"
    }
   ],
   "source": [
    "res = pd.concat(frames)\n",
    "print res.shape\n",
    "\n",
    "print('# dups in parsing result: %d' %sum(res.duplicated('title')))\n",
    "res[res.duplicated('title')]"
   ]
  },
  {
   "cell_type": "markdown",
   "metadata": {},
   "source": [
    "+ Save invalid titles:"
   ]
  },
  {
   "cell_type": "code",
   "execution_count": 65,
   "metadata": {
    "collapsed": false
   },
   "outputs": [
    {
     "name": "stdout",
     "output_type": "stream",
     "text": [
      "# invalid titles: 30\n"
     ]
    }
   ],
   "source": [
    "# parse('Senior Executive')\n",
    "# parse('Helpdesk Engineer')\n",
    "# parse('Spa Therapist Supervisor')\n",
    "\n",
    "invalid_titles = res.title[res.duplicated('title')].unique()\n",
    "print('# invalid titles: %d' %len(invalid_titles))\n",
    "pd.DataFrame({'title': invalid_titles}).to_csv(DATA_DIR + 'invalid_titles.csv', index=False)"
   ]
  },
  {
   "cell_type": "markdown",
   "metadata": {},
   "source": [
    "+ Rm dups due to invalid titles and replace NAs by empty strings (to avoid NAs destroying standard titles later):"
   ]
  },
  {
   "cell_type": "code",
   "execution_count": 79,
   "metadata": {
    "collapsed": true
   },
   "outputs": [
    {
     "name": "stdout",
     "output_type": "stream",
     "text": [
      "(4480, 6)\n"
     ]
    },
    {
     "name": "stderr",
     "output_type": "stream",
     "text": [
      "D:\\conda\\lib\\site-packages\\pandas\\core\\generic.py:3295: SettingWithCopyWarning: \n",
      "A value is trying to be set on a copy of a slice from a DataFrame\n",
      "\n",
      "See the caveats in the documentation: http://pandas.pydata.org/pandas-docs/stable/indexing.html#indexing-view-versus-copy\n",
      "  self._update_inplace(new_data)\n"
     ]
    }
   ],
   "source": [
    "res = res.drop_duplicates('title')\n",
    "print res.shape\n",
    "\n",
    "res.domain.fillna('', inplace=True); res.position.fillna('', inplace=True)\n",
    "res.pri_func.fillna('', inplace=True); res.sec_func.fillna('', inplace=True)"
   ]
  },
  {
   "cell_type": "code",
   "execution_count": 136,
   "metadata": {
    "collapsed": false
   },
   "outputs": [
    {
     "data": {
      "text/html": [
       "<div>\n",
       "<table border=\"1\" class=\"dataframe\">\n",
       "  <thead>\n",
       "    <tr style=\"text-align: right;\">\n",
       "      <th></th>\n",
       "      <th>domain</th>\n",
       "      <th>position</th>\n",
       "      <th>pri_func</th>\n",
       "      <th>sec_func</th>\n",
       "      <th>non_std_title</th>\n",
       "      <th>title</th>\n",
       "    </tr>\n",
       "  </thead>\n",
       "  <tbody>\n",
       "    <tr>\n",
       "      <th>0</th>\n",
       "      <td>site</td>\n",
       "      <td></td>\n",
       "      <td>engineer</td>\n",
       "      <td></td>\n",
       "      <td>Site Engineer</td>\n",
       "      <td>Site  Engineer</td>\n",
       "    </tr>\n",
       "    <tr>\n",
       "      <th>1</th>\n",
       "      <td>administration</td>\n",
       "      <td></td>\n",
       "      <td>clerk</td>\n",
       "      <td></td>\n",
       "      <td>Administration Clerk</td>\n",
       "      <td>Administration  Clerk</td>\n",
       "    </tr>\n",
       "    <tr>\n",
       "      <th>2</th>\n",
       "      <td>interior</td>\n",
       "      <td>senior</td>\n",
       "      <td>designer</td>\n",
       "      <td></td>\n",
       "      <td>Senior Interior Designer</td>\n",
       "      <td>Senior Interior  Designer</td>\n",
       "    </tr>\n",
       "    <tr>\n",
       "      <th>3</th>\n",
       "      <td>interior</td>\n",
       "      <td></td>\n",
       "      <td>designer</td>\n",
       "      <td></td>\n",
       "      <td>Interior Designer</td>\n",
       "      <td>Interior  Designer</td>\n",
       "    </tr>\n",
       "    <tr>\n",
       "      <th>4</th>\n",
       "      <td>production</td>\n",
       "      <td></td>\n",
       "      <td>coordinator</td>\n",
       "      <td></td>\n",
       "      <td>Production Coordinator</td>\n",
       "      <td>Production  Coordinator</td>\n",
       "    </tr>\n",
       "  </tbody>\n",
       "</table>\n",
       "</div>"
      ],
      "text/plain": [
       "           domain position     pri_func sec_func             non_std_title  \\\n",
       "0            site              engineer                      Site Engineer   \n",
       "1  administration                 clerk               Administration Clerk   \n",
       "2        interior   senior     designer           Senior Interior Designer   \n",
       "3        interior              designer                  Interior Designer   \n",
       "4      production           coordinator             Production Coordinator   \n",
       "\n",
       "                       title  \n",
       "0             Site  Engineer  \n",
       "1      Administration  Clerk  \n",
       "2  Senior Interior  Designer  \n",
       "3         Interior  Designer  \n",
       "4    Production  Coordinator  "
      ]
     },
     "execution_count": 136,
     "metadata": {},
     "output_type": "execute_result"
    }
   ],
   "source": [
    "res.head()"
   ]
  },
  {
   "cell_type": "code",
   "execution_count": 82,
   "metadata": {
    "collapsed": true
   },
   "outputs": [],
   "source": [
    "res.to_csv(DATA_DIR + 'parsed_titles.csv', index=False)"
   ]
  },
  {
   "cell_type": "markdown",
   "metadata": {},
   "source": [
    "### Standardize Job Titles\n",
    "\n",
    "The standard form for all titles is: __position + domain + (secondary function) + primary function__."
   ]
  },
  {
   "cell_type": "code",
   "execution_count": 144,
   "metadata": {
    "collapsed": true
   },
   "outputs": [],
   "source": [
    "def camelCase(s):\n",
    "    return s.title()\n",
    "\n",
    "def joinValidParts(row):\n",
    "    '''\n",
    "    @brief: Only join valid parts with data, parts which are empty str are removed\n",
    "    '''\n",
    "    parts = [row.position, row.domain, row.sec_func, row.pri_func]\n",
    "    valid_parts = [p for p in parts if p != '']\n",
    "#     print('# valid parts: %d' %len(valid_parts))\n",
    "    return ' '.join(valid_parts)"
   ]
  },
  {
   "cell_type": "code",
   "execution_count": null,
   "metadata": {
    "collapsed": false
   },
   "outputs": [],
   "source": [
    "# This naive join will cause confusing results\n",
    "res['std_title'] = res.position + ' ' + res.domain + ' ' + res.sec_func + ' ' + res.pri_func"
   ]
  },
  {
   "cell_type": "markdown",
   "metadata": {},
   "source": [
    "The following helps to detect the confusing problem: __non_std_title seems identical with title__."
   ]
  },
  {
   "cell_type": "code",
   "execution_count": 133,
   "metadata": {
    "collapsed": false
   },
   "outputs": [
    {
     "data": {
      "text/plain": [
       "'<b></b> Site <b></b> Engineer'"
      ]
     },
     "execution_count": 133,
     "metadata": {},
     "output_type": "execute_result"
    }
   ],
   "source": [
    "row = res.query('non_std_title != std_title').iloc[0]\n",
    "my_util.tagChanges(row.non_std_title, row.title)"
   ]
  },
  {
   "cell_type": "markdown",
   "metadata": {},
   "source": [
    "It shows that the problem is due to NA parts, e.g. sec-func, which add spaces (almost invisible to naked eyes) to the std-ized version. Thus we need a better join which combines only valid parts. That made me create joinValidParts()."
   ]
  },
  {
   "cell_type": "code",
   "execution_count": 139,
   "metadata": {
    "collapsed": false
   },
   "outputs": [
    {
     "name": "stdout",
     "output_type": "stream",
     "text": [
      "# valid parts: 2\n",
      "site engineer\n"
     ]
    },
    {
     "data": {
      "text/plain": [
       "' site  engineer'"
      ]
     },
     "execution_count": 139,
     "metadata": {},
     "output_type": "execute_result"
    }
   ],
   "source": [
    "row = res.query('non_std_title == \"Site Engineer\"').iloc[0]\n",
    "print joinValidParts(row)\n",
    "\n",
    "' '.join([row.position, row.domain, row.sec_func, row.pri_func])"
   ]
  },
  {
   "cell_type": "code",
   "execution_count": 145,
   "metadata": {
    "collapsed": false
   },
   "outputs": [
    {
     "name": "stderr",
     "output_type": "stream",
     "text": [
      "D:\\conda\\lib\\site-packages\\ipykernel\\__main__.py:1: SettingWithCopyWarning: \n",
      "A value is trying to be set on a copy of a slice from a DataFrame.\n",
      "Try using .loc[row_indexer,col_indexer] = value instead\n",
      "\n",
      "See the caveats in the documentation: http://pandas.pydata.org/pandas-docs/stable/indexing.html#indexing-view-versus-copy\n",
      "  if __name__ == '__main__':\n"
     ]
    }
   ],
   "source": [
    "res['std_title'] = res.apply(joinValidParts, axis=1)\n",
    "res.std_title = res.std_title.apply(camelCase)"
   ]
  },
  {
   "cell_type": "code",
   "execution_count": 147,
   "metadata": {
    "collapsed": false,
    "scrolled": true
   },
   "outputs": [
    {
     "data": {
      "text/html": [
       "<div>\n",
       "<table border=\"1\" class=\"dataframe\">\n",
       "  <thead>\n",
       "    <tr style=\"text-align: right;\">\n",
       "      <th></th>\n",
       "      <th>domain</th>\n",
       "      <th>position</th>\n",
       "      <th>pri_func</th>\n",
       "      <th>sec_func</th>\n",
       "      <th>non_std_title</th>\n",
       "      <th>std_title</th>\n",
       "    </tr>\n",
       "  </thead>\n",
       "  <tbody>\n",
       "    <tr>\n",
       "      <th>0</th>\n",
       "      <td>site</td>\n",
       "      <td></td>\n",
       "      <td>engineer</td>\n",
       "      <td></td>\n",
       "      <td>Site Engineer</td>\n",
       "      <td>Site Engineer</td>\n",
       "    </tr>\n",
       "    <tr>\n",
       "      <th>1</th>\n",
       "      <td>administration</td>\n",
       "      <td></td>\n",
       "      <td>clerk</td>\n",
       "      <td></td>\n",
       "      <td>Administration Clerk</td>\n",
       "      <td>Administration Clerk</td>\n",
       "    </tr>\n",
       "    <tr>\n",
       "      <th>2</th>\n",
       "      <td>interior</td>\n",
       "      <td>senior</td>\n",
       "      <td>designer</td>\n",
       "      <td></td>\n",
       "      <td>Senior Interior Designer</td>\n",
       "      <td>Senior Interior Designer</td>\n",
       "    </tr>\n",
       "    <tr>\n",
       "      <th>3</th>\n",
       "      <td>interior</td>\n",
       "      <td></td>\n",
       "      <td>designer</td>\n",
       "      <td></td>\n",
       "      <td>Interior Designer</td>\n",
       "      <td>Interior Designer</td>\n",
       "    </tr>\n",
       "    <tr>\n",
       "      <th>4</th>\n",
       "      <td>production</td>\n",
       "      <td></td>\n",
       "      <td>coordinator</td>\n",
       "      <td></td>\n",
       "      <td>Production Coordinator</td>\n",
       "      <td>Production Coordinator</td>\n",
       "    </tr>\n",
       "  </tbody>\n",
       "</table>\n",
       "</div>"
      ],
      "text/plain": [
       "           domain position     pri_func sec_func             non_std_title  \\\n",
       "0            site              engineer                      Site Engineer   \n",
       "1  administration                 clerk               Administration Clerk   \n",
       "2        interior   senior     designer           Senior Interior Designer   \n",
       "3        interior              designer                  Interior Designer   \n",
       "4      production           coordinator             Production Coordinator   \n",
       "\n",
       "                  std_title  \n",
       "0             Site Engineer  \n",
       "1      Administration Clerk  \n",
       "2  Senior Interior Designer  \n",
       "3         Interior Designer  \n",
       "4    Production Coordinator  "
      ]
     },
     "execution_count": 147,
     "metadata": {},
     "output_type": "execute_result"
    }
   ],
   "source": [
    "res.head()"
   ]
  },
  {
   "cell_type": "markdown",
   "metadata": {},
   "source": [
    "#### From now on, title means standard title."
   ]
  },
  {
   "cell_type": "code",
   "execution_count": 148,
   "metadata": {
    "collapsed": true
   },
   "outputs": [],
   "source": [
    "res.rename(columns={'std_title': 'title'}, inplace=True)\n",
    "res.to_csv(DATA_DIR + 'parsed_titles.csv', index=False)"
   ]
  },
  {
   "cell_type": "code",
   "execution_count": 162,
   "metadata": {
    "collapsed": false
   },
   "outputs": [
    {
     "name": "stdout",
     "output_type": "stream",
     "text": [
      "# non-std titles which can be standardized: 4480\n",
      "# unique standard titles: 4268\n"
     ]
    }
   ],
   "source": [
    "stdForm = dict(zip(res.non_std_title, res.title))\n",
    "\n",
    "print('# non-std titles which can be standardized: %d' %len(stdForm.keys()))\n",
    "\n",
    "uniq_std_titles = np.unique((stdForm.values()))\n",
    "print('# unique standard titles: %d' % len(uniq_std_titles))"
   ]
  },
  {
   "cell_type": "markdown",
   "metadata": {},
   "source": [
    "### Standardizing Job Titles of Posts"
   ]
  },
  {
   "cell_type": "code",
   "execution_count": 166,
   "metadata": {
    "collapsed": true
   },
   "outputs": [],
   "source": [
    "def toStd(t):\n",
    "    if t not in stdForm.keys():\n",
    "        return t\n",
    "    else:\n",
    "        if stdForm[t] == '': # for titles which could not be parsed\n",
    "            return t\n",
    "        else: \n",
    "            return stdForm[t]\n",
    "            \n",
    "    #     return stdForm[t] if t in stdForm.keys() else t"
   ]
  },
  {
   "cell_type": "code",
   "execution_count": 153,
   "metadata": {
    "collapsed": false
   },
   "outputs": [
    {
     "data": {
      "text/plain": [
       "Index([u'index', u'doc', u'job_id', u'non_std_title', u'n_skill',\n",
       "       u'occur_skills', u'employer_id', u'employer_name', u'industry',\n",
       "       u'title'],\n",
       "      dtype='object')"
      ]
     },
     "execution_count": 153,
     "metadata": {},
     "output_type": "execute_result"
    }
   ],
   "source": [
    "df = pd.read_csv(DATA_DIR + 'doc_index_filter.csv')\n",
    "df.columns"
   ]
  },
  {
   "cell_type": "code",
   "execution_count": 165,
   "metadata": {
    "collapsed": true
   },
   "outputs": [
    {
     "data": {
      "text/plain": [
       "['Draughtsman, Mechanical',\n",
       " 'Health, Safety & Environment Site Clerk',\n",
       " 'Senior SAP Consultant',\n",
       " 'Senior SAP Specialist',\n",
       " 'Building and Construction Project Manager']"
      ]
     },
     "execution_count": 165,
     "metadata": {},
     "output_type": "execute_result"
    }
   ],
   "source": [
    "uniq_non_std_titles = df['non_std_title'].unique()\n",
    "# sum([t not in stdForm.keys() for t in uniq_non_std_titles])\n",
    "tmp = [t for t in uniq_non_std_titles if t not in stdForm.keys()]\n",
    "tmp[:5]"
   ]
  },
  {
   "cell_type": "code",
   "execution_count": 167,
   "metadata": {
    "collapsed": false
   },
   "outputs": [],
   "source": [
    "del df['title']"
   ]
  },
  {
   "cell_type": "code",
   "execution_count": 156,
   "metadata": {
    "collapsed": false
   },
   "outputs": [
    {
     "name": "stdout",
     "output_type": "stream",
     "text": [
      "# unique non-std titles in data: 4717\n"
     ]
    }
   ],
   "source": [
    "print(\"# unique non-std titles in data: %d\" % df.non_std_title.nunique())"
   ]
  },
  {
   "cell_type": "code",
   "execution_count": 168,
   "metadata": {
    "collapsed": false
   },
   "outputs": [],
   "source": [
    "df['title'] = map(toStd, df['non_std_title'])"
   ]
  },
  {
   "cell_type": "markdown",
   "metadata": {},
   "source": [
    "+ Sanity check if the std-ation works:"
   ]
  },
  {
   "cell_type": "code",
   "execution_count": 169,
   "metadata": {
    "collapsed": true
   },
   "outputs": [
    {
     "data": {
      "text/html": [
       "<div>\n",
       "<table border=\"1\" class=\"dataframe\">\n",
       "  <thead>\n",
       "    <tr style=\"text-align: right;\">\n",
       "      <th></th>\n",
       "      <th>non_std_title</th>\n",
       "      <th>title</th>\n",
       "    </tr>\n",
       "  </thead>\n",
       "  <tbody>\n",
       "    <tr>\n",
       "      <th>193</th>\n",
       "      <td>Caseworker, Social Welfare</td>\n",
       "      <td>Social Welfare Caseworker</td>\n",
       "    </tr>\n",
       "    <tr>\n",
       "      <th>222</th>\n",
       "      <td>Network Engineer/Manager</td>\n",
       "      <td>Network Engineer And Manager</td>\n",
       "    </tr>\n",
       "    <tr>\n",
       "      <th>252</th>\n",
       "      <td>Liquefied Petroleum Gas (LPG) Team Leader</td>\n",
       "      <td>Liquefied Petroleum Gas Team Leader</td>\n",
       "    </tr>\n",
       "    <tr>\n",
       "      <th>412</th>\n",
       "      <td>Horticulturist / Arborist</td>\n",
       "      <td>Horticulturist And Arborist</td>\n",
       "    </tr>\n",
       "    <tr>\n",
       "      <th>436</th>\n",
       "      <td>Senior Electrical Engineer (Power Distribution...</td>\n",
       "      <td>Senior Electrical Engineer</td>\n",
       "    </tr>\n",
       "  </tbody>\n",
       "</table>\n",
       "</div>"
      ],
      "text/plain": [
       "                                         non_std_title  \\\n",
       "193                         Caseworker, Social Welfare   \n",
       "222                           Network Engineer/Manager   \n",
       "252          Liquefied Petroleum Gas (LPG) Team Leader   \n",
       "412                          Horticulturist / Arborist   \n",
       "436  Senior Electrical Engineer (Power Distribution...   \n",
       "\n",
       "                                   title  \n",
       "193            Social Welfare Caseworker  \n",
       "222         Network Engineer And Manager  \n",
       "252  Liquefied Petroleum Gas Team Leader  \n",
       "412          Horticulturist And Arborist  \n",
       "436           Senior Electrical Engineer  "
      ]
     },
     "execution_count": 169,
     "metadata": {},
     "output_type": "execute_result"
    }
   ],
   "source": [
    "df.query('non_std_title != title')[['non_std_title', 'title']].head()\n",
    "any(df.title == '')"
   ]
  },
  {
   "cell_type": "code",
   "execution_count": 171,
   "metadata": {
    "collapsed": true
   },
   "outputs": [],
   "source": [
    "df.to_csv(DATA_DIR + 'doc_index_filter.csv')"
   ]
  },
  {
   "cell_type": "markdown",
   "metadata": {
    "collapsed": true
   },
   "source": [
    "+ Re-query job titles with at least 2 posts:"
   ]
  },
  {
   "cell_type": "code",
   "execution_count": 173,
   "metadata": {
    "collapsed": false
   },
   "outputs": [
    {
     "data": {
      "text/html": [
       "<div>\n",
       "<table border=\"1\" class=\"dataframe\">\n",
       "  <thead>\n",
       "    <tr style=\"text-align: right;\">\n",
       "      <th></th>\n",
       "      <th>title</th>\n",
       "      <th>n_post</th>\n",
       "    </tr>\n",
       "  </thead>\n",
       "  <tbody>\n",
       "    <tr>\n",
       "      <th>0</th>\n",
       "      <td>Academic Assistant</td>\n",
       "      <td>13</td>\n",
       "    </tr>\n",
       "    <tr>\n",
       "      <th>1</th>\n",
       "      <td>Academic Consultant</td>\n",
       "      <td>13</td>\n",
       "    </tr>\n",
       "    <tr>\n",
       "      <th>2</th>\n",
       "      <td>Academic Coordinator</td>\n",
       "      <td>12</td>\n",
       "    </tr>\n",
       "    <tr>\n",
       "      <th>3</th>\n",
       "      <td>Academic Director</td>\n",
       "      <td>6</td>\n",
       "    </tr>\n",
       "    <tr>\n",
       "      <th>4</th>\n",
       "      <td>Academic Instructor</td>\n",
       "      <td>13</td>\n",
       "    </tr>\n",
       "  </tbody>\n",
       "</table>\n",
       "</div>"
      ],
      "text/plain": [
       "                  title  n_post\n",
       "0    Academic Assistant      13\n",
       "1   Academic Consultant      13\n",
       "2  Academic Coordinator      12\n",
       "3     Academic Director       6\n",
       "4   Academic Instructor      13"
      ]
     },
     "execution_count": 173,
     "metadata": {},
     "output_type": "execute_result"
    }
   ],
   "source": [
    "by_title_agg = df.groupby('title').agg({'job_id': 'nunique'})\n",
    "by_title_agg.rename(columns={'job_id': 'n_post'}, inplace=True)\n",
    "by_title_agg.reset_index(inplace=True)\n",
    "by_title_agg.head()"
   ]
  },
  {
   "cell_type": "code",
   "execution_count": 175,
   "metadata": {
    "collapsed": false
   },
   "outputs": [
    {
     "name": "stdout",
     "output_type": "stream",
     "text": [
      "# titles with >= 2 posts: 3412\n"
     ]
    }
   ],
   "source": [
    "titles2_ = pd.DataFrame(by_title_agg.query('n_post >= 2')['title'])\n",
    "print('# titles with >= 2 posts: %d' %titles2_.shape[0])"
   ]
  },
  {
   "cell_type": "code",
   "execution_count": 176,
   "metadata": {
    "collapsed": false
   },
   "outputs": [
    {
     "data": {
      "text/plain": [
       "Index([u'domain', u'position', u'pri_func', u'sec_func', u'non_std_title',\n",
       "       u'title'],\n",
       "      dtype='object')"
      ]
     },
     "execution_count": 176,
     "metadata": {},
     "output_type": "execute_result"
    }
   ],
   "source": [
    "res.columns"
   ]
  },
  {
   "cell_type": "code",
   "execution_count": 177,
   "metadata": {
    "collapsed": false
   },
   "outputs": [
    {
     "name": "stdout",
     "output_type": "stream",
     "text": [
      "2983\n"
     ]
    }
   ],
   "source": [
    "title_df = pd.merge(titles2_, res)\n",
    "print(title_df.shape[0])"
   ]
  },
  {
   "cell_type": "code",
   "execution_count": 178,
   "metadata": {
    "collapsed": true
   },
   "outputs": [],
   "source": [
    "title_df.to_csv(DATA_DIR + 'new_titles_2posts_up.csv', index=False)"
   ]
  },
  {
   "cell_type": "markdown",
   "metadata": {},
   "source": [
    "### Domains in Job Titles"
   ]
  },
  {
   "cell_type": "code",
   "execution_count": 66,
   "metadata": {
    "collapsed": false
   },
   "outputs": [
    {
     "name": "stdout",
     "output_type": "stream",
     "text": [
      "# domains: 1602\n"
     ]
    }
   ],
   "source": [
    "by_domain = res.groupby('domain')\n",
    "print('# domains: {}'.format(by_domain.ngroups))\n",
    "\n",
    "by_domain_agg = by_domain.agg({'title': len})\n",
    "by_domain_agg = by_domain_agg.add_prefix('n_').reset_index()\n",
    "by_domain_agg.sort_values('n_title', ascending=False, inplace=True)"
   ]
  },
  {
   "cell_type": "code",
   "execution_count": 67,
   "metadata": {
    "collapsed": true
   },
   "outputs": [
    {
     "data": {
      "text/html": [
       "<div>\n",
       "<table border=\"1\" class=\"dataframe\">\n",
       "  <thead>\n",
       "    <tr style=\"text-align: right;\">\n",
       "      <th></th>\n",
       "      <th>n_title</th>\n",
       "    </tr>\n",
       "  </thead>\n",
       "  <tbody>\n",
       "    <tr>\n",
       "      <th>count</th>\n",
       "      <td>1602.0</td>\n",
       "    </tr>\n",
       "    <tr>\n",
       "      <th>mean</th>\n",
       "      <td>2.6</td>\n",
       "    </tr>\n",
       "    <tr>\n",
       "      <th>std</th>\n",
       "      <td>3.6</td>\n",
       "    </tr>\n",
       "    <tr>\n",
       "      <th>min</th>\n",
       "      <td>1.0</td>\n",
       "    </tr>\n",
       "    <tr>\n",
       "      <th>25%</th>\n",
       "      <td>1.0</td>\n",
       "    </tr>\n",
       "    <tr>\n",
       "      <th>50%</th>\n",
       "      <td>1.0</td>\n",
       "    </tr>\n",
       "    <tr>\n",
       "      <th>75%</th>\n",
       "      <td>2.0</td>\n",
       "    </tr>\n",
       "    <tr>\n",
       "      <th>max</th>\n",
       "      <td>44.0</td>\n",
       "    </tr>\n",
       "  </tbody>\n",
       "</table>\n",
       "</div>"
      ],
      "text/plain": [
       "       n_title\n",
       "count   1602.0\n",
       "mean       2.6\n",
       "std        3.6\n",
       "min        1.0\n",
       "25%        1.0\n",
       "50%        1.0\n",
       "75%        2.0\n",
       "max       44.0"
      ]
     },
     "execution_count": 67,
     "metadata": {},
     "output_type": "execute_result"
    }
   ],
   "source": [
    "by_domain_agg.describe().round(1)"
   ]
  },
  {
   "cell_type": "markdown",
   "metadata": {},
   "source": [
    "Though the total no. of domains is large, we actually only interested in domains with at least $2$ job titles. The reason is the domains with only $1$ title give us no pairwise similarity score."
   ]
  },
  {
   "cell_type": "code",
   "execution_count": 69,
   "metadata": {
    "collapsed": false
   },
   "outputs": [
    {
     "name": "stdout",
     "output_type": "stream",
     "text": [
      "# domains with at least 2 job titles: 709\n"
     ]
    }
   ],
   "source": [
    "domains_2 = by_domain_agg.query('n_title >= 2')\n",
    "print('# domains with at least 2 job titles: %d' %len(domains_2))"
   ]
  },
  {
   "cell_type": "code",
   "execution_count": 68,
   "metadata": {
    "collapsed": false
   },
   "outputs": [],
   "source": [
    "by_domain_agg.to_csv(DATA_DIR + 'stats_domains.csv', index=False)"
   ]
  },
  {
   "cell_type": "markdown",
   "metadata": {},
   "source": [
    "### Primary Functions in Job Titles"
   ]
  },
  {
   "cell_type": "code",
   "execution_count": 71,
   "metadata": {
    "collapsed": false
   },
   "outputs": [
    {
     "name": "stdout",
     "output_type": "stream",
     "text": [
      "# primary functions: 362\n"
     ]
    }
   ],
   "source": [
    "by_pri_func = res.groupby('pri_func')\n",
    "print('# primary functions: {}'.format(by_pri_func.ngroups))\n",
    "\n",
    "by_pri_func_agg = by_pri_func.agg({'title': len})\n",
    "by_pri_func_agg = by_pri_func_agg.add_prefix('n_').reset_index()\n",
    "by_pri_func_agg.sort_values('n_title', ascending=False, inplace=True)\n",
    "\n",
    "by_pri_func_agg.to_csv(DATA_DIR + 'stats_pri_funcs.csv', index=False)"
   ]
  },
  {
   "cell_type": "code",
   "execution_count": 72,
   "metadata": {
    "collapsed": true
   },
   "outputs": [
    {
     "data": {
      "text/html": [
       "<div>\n",
       "<table border=\"1\" class=\"dataframe\">\n",
       "  <thead>\n",
       "    <tr style=\"text-align: right;\">\n",
       "      <th></th>\n",
       "      <th>n_title</th>\n",
       "    </tr>\n",
       "  </thead>\n",
       "  <tbody>\n",
       "    <tr>\n",
       "      <th>count</th>\n",
       "      <td>362.0</td>\n",
       "    </tr>\n",
       "    <tr>\n",
       "      <th>mean</th>\n",
       "      <td>12.3</td>\n",
       "    </tr>\n",
       "    <tr>\n",
       "      <th>std</th>\n",
       "      <td>55.4</td>\n",
       "    </tr>\n",
       "    <tr>\n",
       "      <th>min</th>\n",
       "      <td>1.0</td>\n",
       "    </tr>\n",
       "    <tr>\n",
       "      <th>25%</th>\n",
       "      <td>1.0</td>\n",
       "    </tr>\n",
       "    <tr>\n",
       "      <th>50%</th>\n",
       "      <td>1.0</td>\n",
       "    </tr>\n",
       "    <tr>\n",
       "      <th>75%</th>\n",
       "      <td>5.0</td>\n",
       "    </tr>\n",
       "    <tr>\n",
       "      <th>max</th>\n",
       "      <td>786.0</td>\n",
       "    </tr>\n",
       "  </tbody>\n",
       "</table>\n",
       "</div>"
      ],
      "text/plain": [
       "       n_title\n",
       "count    362.0\n",
       "mean      12.3\n",
       "std       55.4\n",
       "min        1.0\n",
       "25%        1.0\n",
       "50%        1.0\n",
       "75%        5.0\n",
       "max      786.0"
      ]
     },
     "execution_count": 72,
     "metadata": {},
     "output_type": "execute_result"
    }
   ],
   "source": [
    "by_pri_func_agg.describe().round(1)"
   ]
  },
  {
   "cell_type": "markdown",
   "metadata": {},
   "source": [
    "#### Old way of mapping non-std titles to std titles"
   ]
  },
  {
   "cell_type": "code",
   "execution_count": null,
   "metadata": {
    "collapsed": true
   },
   "outputs": [],
   "source": [
    "title_mapper = pd.read_csv(DATA_DIR + 'title_mapper.csv')"
   ]
  },
  {
   "cell_type": "code",
   "execution_count": null,
   "metadata": {
    "collapsed": true
   },
   "outputs": [],
   "source": [
    "title_mapper.rename(columns={'match': 'non_std_title'}, inplace=True)\n",
    "title_mapper.to_csv(DATA_DIR + 'title_mapper.csv', index=False)"
   ]
  },
  {
   "cell_type": "code",
   "execution_count": null,
   "metadata": {
    "collapsed": false
   },
   "outputs": [],
   "source": [
    "title_mapper.head(1)"
   ]
  },
  {
   "cell_type": "code",
   "execution_count": null,
   "metadata": {
    "collapsed": true
   },
   "outputs": [],
   "source": [
    "non_std_titles = title_mapper.non_std_title\n",
    "stdForm = {t: toStd(t) for t in non_std_titles}"
   ]
  },
  {
   "cell_type": "code",
   "execution_count": null,
   "metadata": {
    "collapsed": true
   },
   "outputs": [],
   "source": [
    "SKILL_DAT = HOME_DIR + 'data/clean/skill_cluster/' \n",
    "post_df = pd.read_csv(SKILL_DAT + 'filter_doc_index.csv')"
   ]
  },
  {
   "cell_type": "code",
   "execution_count": null,
   "metadata": {
    "collapsed": true
   },
   "outputs": [],
   "source": [
    "post_df.title = post_df.title.apply(lambda t: stdForm[t] if t in non_std_titles else t)"
   ]
  },
  {
   "cell_type": "code",
   "execution_count": null,
   "metadata": {
    "collapsed": false
   },
   "outputs": [],
   "source": [
    "post_df.to_csv(SKILL_DAT + 'filter_doc_index.csv', index=False)"
   ]
  },
  {
   "cell_type": "markdown",
   "metadata": {},
   "source": [
    "#### Test parser web service (src by Koon Han)"
   ]
  },
  {
   "cell_type": "code",
   "execution_count": null,
   "metadata": {
    "collapsed": false
   },
   "outputs": [],
   "source": [
    "# r0 = requests.post(parse_url, auth=(user, pwd), \n",
    "#                   json={\"job_title\":\"accountant\", \"verbose\": False})\n",
    "\n",
    "# print r0.status_code\n",
    "# print r0.json()['output']\n",
    "\n",
    "r1 = requests.post(parse_url, auth=(user, pwd), \n",
    "                  json={\"job_title\":\"software developer\", \"verbose\": False})\n",
    "\n",
    "print r1.status_code\n",
    "print r1.json()['output']\n",
    "\n",
    "\n",
    "# r2 = requests.post(parse_url, auth=(user, pwd), \n",
    "#                   json={\"job_title\":\"pre-school teacher\", \"verbose\": False})\n",
    "\n",
    "# print r2.status_code\n",
    "# print r2.json()['output']\n",
    "\n",
    "# r3 = requests.post(parse_url, auth=(user, pwd), \n",
    "#                   json={\"job_title\":\"Assistant Civil and Structural Engineer\", \n",
    "#                         \"verbose\": False})"
   ]
  },
  {
   "cell_type": "code",
   "execution_count": 7,
   "metadata": {
    "collapsed": false
   },
   "outputs": [
    {
     "name": "stdout",
     "output_type": "stream",
     "text": [
      "[{u'title_1': {u'domains': [u'data'], u'position': [], u'sec_func': [], u'pri_func': [u'analyst']}}, {u'title_2': {u'domains': [], u'position': [], u'sec_func': [], u'pri_func': [u'scientist']}}]\n"
     ]
    }
   ],
   "source": [
    "r1 = requests.post(parse_url, auth=(user, pwd), \n",
    "                  json={\"job_title\": \"Security Analyst, Information Technology\",\n",
    "                        \"verbose\": False})\n",
    "print r1.json()['output']\n",
    "\n",
    "r2 = requests.post(parse_url, auth=(user, pwd), \n",
    "                  json={\"job_title\": \"Data analyst and scientist\",\n",
    "                        \"verbose\": False})\n",
    "print r2.json()['output']"
   ]
  },
  {
   "cell_type": "markdown",
   "metadata": {},
   "source": [
    "## Matching Job Titles\n",
    "\n",
    "Two job titles may differ only in the order of the words describing them e.g. Software Engineer and Engineer, Software. Such cases should be merged together. Results of parsing allow us to do this."
   ]
  },
  {
   "cell_type": "code",
   "execution_count": null,
   "metadata": {
    "collapsed": true
   },
   "outputs": [],
   "source": [
    "# Funcs for matching job titles\n",
    "def canMatch(row, focus_row):\n",
    "    match1 = (row.domain == focus_row.domain) and (row.pri_func == focus_row.pri_func)\n",
    "    if match1:\n",
    "        if not all(x == 'nan' for x in [row.sec_func, focus_row.sec_func]):\n",
    "            return False\n",
    "        if not all(x == 'nan' for x in [row.position, focus_row.position]):\n",
    "            return False\n",
    "        return True\n",
    "    else:\n",
    "        return False\n",
    "\n",
    "def findMatches(job_title, title_df):\n",
    "    print(job_title)\n",
    "    row = title_df[title_df.title == job_title].iloc[0]\n",
    "    same_domain_rows = title_df[(title_df.domain == row.domain) & \n",
    "                                (title_df.title != job_title)]\n",
    "    \n",
    "    if not same_domain_rows.empty: # exist other titles in same domain\n",
    "        cp = same_domain_rows.copy()\n",
    "        cp['match'] = cp.apply(canMatch, axis=1, focus_row=row)\n",
    "        res = cp[cp.match]\n",
    "        res['focus_title'] = job_title\n",
    "        return res\n",
    "    pass"
   ]
  },
  {
   "cell_type": "code",
   "execution_count": null,
   "metadata": {
    "collapsed": false
   },
   "outputs": [],
   "source": [
    "row = title_df[title_df.title == 'Software Engineer'].iloc[0]\n",
    "same_domain_rows = title_df[title_df.domain == row.domain]"
   ]
  },
  {
   "cell_type": "code",
   "execution_count": null,
   "metadata": {
    "collapsed": true
   },
   "outputs": [],
   "source": [
    "same_domain_rows.query('pri_func == \"engineer\"')"
   ]
  },
  {
   "cell_type": "code",
   "execution_count": null,
   "metadata": {
    "collapsed": false
   },
   "outputs": [],
   "source": [
    "# cannot compare two NaNs\n",
    "np.nan == np.nan"
   ]
  },
  {
   "cell_type": "markdown",
   "metadata": {},
   "source": [
    "__NaN's cause problem__ as they are float, change them to string!!!"
   ]
  },
  {
   "cell_type": "code",
   "execution_count": null,
   "metadata": {
    "collapsed": true
   },
   "outputs": [],
   "source": [
    "title_df.domain = title_df.domain.apply(lambda x: str(x))\n",
    "title_df.position = title_df.position.apply(lambda x: str(x))\n",
    "title_df.sec_func = title_df.sec_func.apply(lambda x: str(x))\n",
    "title_df.to_csv(DATA_DIR + 'titles_2posts_up.csv', index=False)"
   ]
  },
  {
   "cell_type": "code",
   "execution_count": null,
   "metadata": {
    "collapsed": false
   },
   "outputs": [],
   "source": [
    "print('# job titles with primary functions: %d' %sum(title_df.pri_func != 'nan'))\n",
    "print('# job titles with domain: %d' %sum(title_df.domain != 'nan'))\n",
    "print('# job titles with NA domain: %d' %sum(title_df.domain == 'nan'))"
   ]
  },
  {
   "cell_type": "code",
   "execution_count": null,
   "metadata": {
    "collapsed": false
   },
   "outputs": [],
   "source": [
    "findMatches('Software Engineer', title_df)"
   ]
  },
  {
   "cell_type": "code",
   "execution_count": null,
   "metadata": {
    "collapsed": true
   },
   "outputs": [],
   "source": [
    "match_frames = [findMatches(t, title_df) for t in title_df.title]\n",
    "match_res = pd.concat(match_frames)\n",
    "\n",
    "match_res.reset_index(inplace=True); del match_res['index']\n",
    "match_res.rename(columns={'title': 'match'}, inplace=True)\n",
    "match_res.to_csv(DATA_DIR + 'match_titles.csv', index=False)"
   ]
  },
  {
   "cell_type": "markdown",
   "metadata": {},
   "source": [
    "#### Old run"
   ]
  },
  {
   "cell_type": "markdown",
   "metadata": {},
   "source": [
    "+ A bug occurs at 6th batch:"
   ]
  },
  {
   "cell_type": "code",
   "execution_count": null,
   "metadata": {
    "collapsed": false
   },
   "outputs": [],
   "source": [
    "frames0_5 = [parseBatch(b) for b in range(6)]\n",
    "frames0_5 = [pd.read_csv(DATA_DIR + 'tmp/b{}.csv'.format(b)) for b in range(6)]\n",
    "res1 = pd.concat(frames0_5)"
   ]
  },
  {
   "cell_type": "markdown",
   "metadata": {},
   "source": [
    "+ Then another at 25th batch:"
   ]
  },
  {
   "cell_type": "code",
   "execution_count": null,
   "metadata": {
    "collapsed": false,
    "scrolled": true
   },
   "outputs": [],
   "source": [
    "frames7_24 = [parseBatch(b) for b in range(7, 25)]\n",
    "frames7_24 = [pd.read_csv(DATA_DIR + 'tmp/b{}.csv'.format(b)) for b in \n",
    "              range(7, 25)]\n",
    "res2 = pd.concat(frames7_24)"
   ]
  },
  {
   "cell_type": "markdown",
   "metadata": {},
   "source": [
    "+ No more bug :)"
   ]
  },
  {
   "cell_type": "code",
   "execution_count": null,
   "metadata": {
    "collapsed": false,
    "scrolled": true
   },
   "outputs": [],
   "source": [
    "frames26_ = [parseBatch(b) for b in range(26, n_batch)]\n",
    "res3 = pd.concat(frames26_)"
   ]
  },
  {
   "cell_type": "code",
   "execution_count": null,
   "metadata": {
    "collapsed": true
   },
   "outputs": [],
   "source": [
    "rem_titles = titles[-remainder:]\n",
    "last_frame = pd.concat([parse(t) for t in rem_titles])"
   ]
  },
  {
   "cell_type": "markdown",
   "metadata": {},
   "source": [
    "+ Batches with errors: 6, 25. I located the bug by simply print out the index of the job title where it happened. That's why we need the count var."
   ]
  },
  {
   "cell_type": "code",
   "execution_count": null,
   "metadata": {
    "collapsed": false,
    "scrolled": true
   },
   "outputs": [],
   "source": [
    "f6_1 = parseBatch(6, start=600, end=643)\n",
    "f6_2 = parseBatch(6, start=644, end=700)\n",
    "f6 = pd.concat([f6_1, f6_2])\n",
    "f6.to_csv(DATA_DIR + 'tmp/b6.csv', index=False)"
   ]
  },
  {
   "cell_type": "code",
   "execution_count": null,
   "metadata": {
    "collapsed": false,
    "scrolled": true
   },
   "outputs": [],
   "source": [
    "count=0\n",
    "f25_1 = parseBatch(25, start=2500, end=2519)\n",
    "f25_2 = parseBatch(25, start=2521, end=2600)\n",
    "f25 = pd.concat([f25_1, f25_2])\n",
    "f25.to_csv(DATA_DIR + 'tmp/b25.csv', index=False)"
   ]
  },
  {
   "cell_type": "markdown",
   "metadata": {},
   "source": [
    "+ Titles with errors: 'Category Manager',"
   ]
  },
  {
   "cell_type": "code",
   "execution_count": null,
   "metadata": {
    "collapsed": false
   },
   "outputs": [],
   "source": [
    "# parse('Category Manager')"
   ]
  },
  {
   "cell_type": "markdown",
   "metadata": {},
   "source": [
    "+ Collect all results:"
   ]
  },
  {
   "cell_type": "code",
   "execution_count": null,
   "metadata": {
    "collapsed": true
   },
   "outputs": [],
   "source": [
    "res = pd.concat([res1, res2, res3, last_frame, f6, f25])"
   ]
  },
  {
   "cell_type": "code",
   "execution_count": null,
   "metadata": {
    "collapsed": true
   },
   "outputs": [],
   "source": [
    "frames = [pd.read_csv(DATA_DIR + 'tmp/b{}.csv'.format(b)) for b in range(n_batch)]\n",
    "res = pd.concat(frames)"
   ]
  },
  {
   "cell_type": "code",
   "execution_count": null,
   "metadata": {
    "collapsed": false
   },
   "outputs": [],
   "source": [
    "print('# titles parsed: {}'.format(res.shape[0]))"
   ]
  },
  {
   "cell_type": "code",
   "execution_count": null,
   "metadata": {
    "collapsed": true
   },
   "outputs": [],
   "source": [
    "res = res.reset_index(); del res['index']"
   ]
  },
  {
   "cell_type": "code",
   "execution_count": null,
   "metadata": {
    "collapsed": true
   },
   "outputs": [],
   "source": [
    "res.to_csv(DATA_DIR + 'parsed_titles.csv', index=False)"
   ]
  },
  {
   "cell_type": "code",
   "execution_count": null,
   "metadata": {
    "collapsed": true
   },
   "outputs": [],
   "source": [
    "# Titles with at least 2 posts, already parsed but still having some problem\n",
    "title_df = pd.read_csv(DATA_DIR + 'titles_2posts_up.csv')"
   ]
  },
  {
   "cell_type": "markdown",
   "metadata": {},
   "source": [
    "#### Job Titles with NA domain"
   ]
  },
  {
   "cell_type": "markdown",
   "metadata": {},
   "source": [
    "+ Re-parse titles with NA domain:"
   ]
  },
  {
   "cell_type": "code",
   "execution_count": null,
   "metadata": {
    "collapsed": false
   },
   "outputs": [],
   "source": [
    "na_domain_titles = np.unique(title_df[title_df.domain.isnull()]['title'])\n",
    "print('# job titles with NA domain: %d' %len(na_domain_titles))\n",
    "\n",
    "na_domain_titles[:10]\n",
    "\n",
    "dom_frames = [parse(t) for t in na_domain_titles]\n",
    "dom_res = pd.concat(dom_frames)\n",
    "dom_res = dom_res.reset_index()\n",
    "\n",
    "dom_res = pd.merge(dom_res, title_stats.query('n_post >= 2'))\n",
    "\n",
    "dom_res = dom_res.drop_duplicates('title')\n",
    "\n",
    "title_df = title_df.append(dom_res)\n",
    "\n",
    "title_df = title_df.reset_index(); del title_df['index']\n",
    "\n",
    "title_df = title_df.drop_duplicates('title')\n",
    "len(title_df.title) == title_df.title.nunique()\n",
    "\n",
    "title_df = pd.read_csv(DATA_DIR + 'titles_2posts_up.csv')\n",
    "\n",
    "print('# job titles with NA domain: %d' %sum(title_df.domain.isnull()))\n",
    "\n",
    "na_domain_titles = title_df[title_df.domain.isnull()]['title']\n",
    "na_domain_titles"
   ]
  },
  {
   "cell_type": "markdown",
   "metadata": {},
   "source": [
    "#### Job Titles with NA Primary Function"
   ]
  },
  {
   "cell_type": "code",
   "execution_count": null,
   "metadata": {
    "collapsed": true
   },
   "outputs": [],
   "source": [
    "# na_func_titles = title_df[title_df.pri_func.isnull()]['title']\n",
    "na_func_titles = pd.read_csv(DATA_DIR + 'invalid_titles.csv')['title']\n",
    "print('# titles with NA pri-func: %d' % len(na_func_titles))\n",
    "na_func_titles.head()"
   ]
  },
  {
   "cell_type": "markdown",
   "metadata": {},
   "source": [
    "+ Rm those problematic titles:"
   ]
  },
  {
   "cell_type": "code",
   "execution_count": null,
   "metadata": {
    "collapsed": true
   },
   "outputs": [],
   "source": [
    "title_df = title_df[title_df.pri_func.notnull()]"
   ]
  },
  {
   "cell_type": "markdown",
   "metadata": {},
   "source": [
    "+ Re-parse them:"
   ]
  },
  {
   "cell_type": "code",
   "execution_count": null,
   "metadata": {
    "collapsed": true
   },
   "outputs": [],
   "source": [
    "func_frames = [parse(t) for t in list(na_func_titles)]\n",
    "func_res = pd.concat(func_frames)"
   ]
  },
  {
   "cell_type": "code",
   "execution_count": null,
   "metadata": {
    "collapsed": true
   },
   "outputs": [],
   "source": [
    "sum(func_res.pri_func.isnull())\n",
    "func_res"
   ]
  },
  {
   "cell_type": "code",
   "execution_count": null,
   "metadata": {
    "collapsed": false
   },
   "outputs": [],
   "source": [
    "na_func_titles = title_df[title_df.pri_func.isnull()]['title']\n",
    "print('After re-parsing, # titles with NA pri-func: %d' %len(na_func_titles))"
   ]
  },
  {
   "cell_type": "code",
   "execution_count": null,
   "metadata": {
    "collapsed": true
   },
   "outputs": [],
   "source": [
    "# title_df = title_df.append(func_res)"
   ]
  },
  {
   "cell_type": "markdown",
   "metadata": {},
   "source": [
    "Appending directly the parsed results into title_df cause loss of stats for the newly parsed titles as the df of parsed results do not contain stats. Thus, we first need to merge the parsed results with title_stats to get the stats, then append."
   ]
  },
  {
   "cell_type": "code",
   "execution_count": null,
   "metadata": {
    "collapsed": true
   },
   "outputs": [],
   "source": [
    "# Hack to resolve the bug\n",
    "tmp = title_df[title_df.n_post.isnull()]\n",
    "tmp"
   ]
  },
  {
   "cell_type": "code",
   "execution_count": null,
   "metadata": {
    "collapsed": false
   },
   "outputs": [],
   "source": [
    "del tmp['n_employer']; del tmp['n_post'] ; \n",
    "del tmp['avg_n_skill']"
   ]
  },
  {
   "cell_type": "code",
   "execution_count": null,
   "metadata": {
    "collapsed": true
   },
   "outputs": [],
   "source": [
    "tmp = pd.merge(tmp, title_stats)\n",
    "tmp.head()"
   ]
  },
  {
   "cell_type": "code",
   "execution_count": null,
   "metadata": {
    "collapsed": false
   },
   "outputs": [],
   "source": [
    "title_df = title_df[title_df.n_post.notnull()].append(tmp)\n",
    "print sum(title_df.n_post.isnull())"
   ]
  },
  {
   "cell_type": "code",
   "execution_count": null,
   "metadata": {
    "collapsed": false
   },
   "outputs": [],
   "source": [
    "invalid_titles = np.unique(invalid_titles)\n",
    "print('# invalid titles: %d' %len(invalid_titles))\n",
    "\n",
    "# pd.DataFrame(invalid_titles).to_csv(DATA_DIR + 'invalid_titles.csv', index=False)"
   ]
  },
  {
   "cell_type": "markdown",
   "metadata": {},
   "source": [
    "Reasons:\n",
    "+ invalid titles: may be not in the vocabulary of the parser"
   ]
  },
  {
   "cell_type": "code",
   "execution_count": null,
   "metadata": {
    "collapsed": false
   },
   "outputs": [],
   "source": [
    "print('After re-parsing,')\n",
    "print('\\t # job titles with NA domain: %d' %sum(title_df.domain.isnull()))\n",
    "print('\\t # job titles with NA pri-func: %d' %sum(title_df.pri_func.isnull()))\n",
    "print('\\t # titles: %d' %len(title_df.title))"
   ]
  },
  {
   "cell_type": "markdown",
   "metadata": {},
   "source": [
    "#### Old version"
   ]
  },
  {
   "cell_type": "code",
   "execution_count": 3,
   "metadata": {
    "collapsed": false
   },
   "outputs": [
    {
     "name": "stdout",
     "output_type": "stream",
     "text": [
      "# records loaded: 3289\n"
     ]
    }
   ],
   "source": [
    "title_df = pd.read_csv(DATA_DIR + 'titles_2posts_up.csv')\n",
    "print('# records loaded: %d' %title_df.shape[0])"
   ]
  },
  {
   "cell_type": "code",
   "execution_count": null,
   "metadata": {
    "collapsed": true
   },
   "outputs": [],
   "source": [
    "title_df.position.fillna('', inplace=True)\n",
    "title_df.domain.fillna('', inplace=True)\n",
    "\n",
    "title_df.position = title_df.position.apply(lambda x:'' if x == 'None' else x)\n",
    "title_df.sec_func = title_df.sec_func.apply(lambda x:'' if x == 'None' else x)\n",
    "title_df.domain = title_df.domain.apply(lambda x:'' if x == 'None' else x)\n",
    "\n",
    "\n",
    "title_df['std_title'] = title_df.position + ' ' + title_df.domain + ' ' + title_df.pri_func\n",
    "# Camel case std titles\n",
    "title_df.std_title = title_df.std_title.apply(lambda x: x.title().strip())\n",
    "title_df.to_csv(DATA_DIR + 'titles_2posts_up.csv', index=False)"
   ]
  },
  {
   "cell_type": "code",
   "execution_count": 5,
   "metadata": {
    "collapsed": false
   },
   "outputs": [
    {
     "name": "stdout",
     "output_type": "stream",
     "text": [
      "# std job titles: 3134\n"
     ]
    }
   ],
   "source": [
    "print('# std job titles: %d' % title_df.std_title.nunique())"
   ]
  },
  {
   "cell_type": "code",
   "execution_count": 6,
   "metadata": {
    "collapsed": true
   },
   "outputs": [
    {
     "data": {
      "text/html": [
       "<div>\n",
       "<table border=\"1\" class=\"dataframe\">\n",
       "  <thead>\n",
       "    <tr style=\"text-align: right;\">\n",
       "      <th></th>\n",
       "      <th>avg_n_skill</th>\n",
       "      <th>domain</th>\n",
       "      <th>n_employer</th>\n",
       "      <th>n_post</th>\n",
       "      <th>position</th>\n",
       "      <th>pri_func</th>\n",
       "      <th>sec_func</th>\n",
       "      <th>title</th>\n",
       "      <th>std_title</th>\n",
       "    </tr>\n",
       "  </thead>\n",
       "  <tbody>\n",
       "    <tr>\n",
       "      <th>0</th>\n",
       "      <td>10.9</td>\n",
       "      <td>administrative</td>\n",
       "      <td>615.0</td>\n",
       "      <td>993.0</td>\n",
       "      <td>NaN</td>\n",
       "      <td>assistant</td>\n",
       "      <td>NaN</td>\n",
       "      <td>Administrative Assistant</td>\n",
       "      <td>Administrative Assistant</td>\n",
       "    </tr>\n",
       "  </tbody>\n",
       "</table>\n",
       "</div>"
      ],
      "text/plain": [
       "   avg_n_skill          domain  n_employer  n_post position   pri_func  \\\n",
       "0         10.9  administrative       615.0   993.0      NaN  assistant   \n",
       "\n",
       "   sec_func                     title                 std_title  \n",
       "0       NaN  Administrative Assistant  Administrative Assistant  "
      ]
     },
     "execution_count": 6,
     "metadata": {},
     "output_type": "execute_result"
    }
   ],
   "source": [
    "title_df.head(1)"
   ]
  }
 ],
 "metadata": {
  "anaconda-cloud": {},
  "kernelspec": {
   "display_name": "Python 2",
   "language": "python",
   "name": "python2"
  },
  "language_info": {
   "codemirror_mode": {
    "name": "ipython",
    "version": 2
   },
   "file_extension": ".py",
   "mimetype": "text/x-python",
   "name": "python",
   "nbconvert_exporter": "python",
   "pygments_lexer": "ipython2",
   "version": "2.7.13"
  }
 },
 "nbformat": 4,
 "nbformat_minor": 1
}
