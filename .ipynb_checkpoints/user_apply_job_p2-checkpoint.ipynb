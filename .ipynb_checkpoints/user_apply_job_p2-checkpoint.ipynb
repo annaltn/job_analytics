{
 "cells": [
  {
   "cell_type": "code",
   "execution_count": 23,
   "metadata": {
    "collapsed": true
   },
   "outputs": [],
   "source": [
    "import job_rec_helpers\n",
    "\n",
    "from time import time\n",
    "from my_util import *\n",
    "from job_rec_helpers import *"
   ]
  },
  {
   "cell_type": "code",
   "execution_count": 44,
   "metadata": {
    "collapsed": false
   },
   "outputs": [],
   "source": [
    "reload(job_rec_helpers)\n",
    "from job_rec_helpers import *"
   ]
  },
  {
   "cell_type": "code",
   "execution_count": 2,
   "metadata": {
    "collapsed": true
   },
   "outputs": [],
   "source": [
    "# Global vars\n",
    "DATA_DIR = 'D:/larc_projects/job_analytics/data/clean/'\n",
    "RES_DIR = 'd:/larc_projects/job_analytics/results/'\n",
    "AGG_DIR = RES_DIR + 'agg/'\n",
    "FIG_DIR = RES_DIR + 'figs/'"
   ]
  },
  {
   "cell_type": "code",
   "execution_count": null,
   "metadata": {
    "collapsed": false
   },
   "outputs": [],
   "source": [
    "apps = pd.read_csv(DATA_DIR + 'full_apps.csv')"
   ]
  },
  {
   "cell_type": "code",
   "execution_count": 10,
   "metadata": {
    "collapsed": true
   },
   "outputs": [
    {
     "name": "stdout",
     "output_type": "stream",
     "text": [
      "(1506897, 12)\n"
     ]
    },
    {
     "data": {
      "text/html": [
       "<div>\n",
       "<table border=\"1\" class=\"dataframe\">\n",
       "  <thead>\n",
       "    <tr style=\"text-align: right;\">\n",
       "      <th></th>\n",
       "      <th>uid</th>\n",
       "      <th>job_id</th>\n",
       "      <th>job_title</th>\n",
       "      <th>apply_date</th>\n",
       "      <th>reg_no_uen_ep</th>\n",
       "      <th>employer_creation_date</th>\n",
       "      <th>organisation_name_ep</th>\n",
       "      <th>ssic_code_ep</th>\n",
       "      <th>ssic_description_ep</th>\n",
       "      <th>ssic_group_ep</th>\n",
       "      <th>third_party_entity_ep</th>\n",
       "      <th>job_title_is_number</th>\n",
       "    </tr>\n",
       "  </thead>\n",
       "  <tbody>\n",
       "    <tr>\n",
       "      <th>0</th>\n",
       "      <td>7</td>\n",
       "      <td>JOB-2015-0223128</td>\n",
       "      <td>housekeeping supervisor</td>\n",
       "      <td>2015-07-01</td>\n",
       "      <td>52865867X</td>\n",
       "      <td>Jul 8, 2014</td>\n",
       "      <td>THE FULLERTON HOTEL</td>\n",
       "      <td>55101</td>\n",
       "      <td>Hotels with restaurant</td>\n",
       "      <td>Accommodation and Food Service Activities</td>\n",
       "      <td>Y</td>\n",
       "      <td>False</td>\n",
       "    </tr>\n",
       "    <tr>\n",
       "      <th>1</th>\n",
       "      <td>21073</td>\n",
       "      <td>JOB-2015-0223128</td>\n",
       "      <td>housekeeping supervisor</td>\n",
       "      <td>2015-05-07</td>\n",
       "      <td>52865867X</td>\n",
       "      <td>Jul 8, 2014</td>\n",
       "      <td>THE FULLERTON HOTEL</td>\n",
       "      <td>55101</td>\n",
       "      <td>Hotels with restaurant</td>\n",
       "      <td>Accommodation and Food Service Activities</td>\n",
       "      <td>Y</td>\n",
       "      <td>False</td>\n",
       "    </tr>\n",
       "    <tr>\n",
       "      <th>2</th>\n",
       "      <td>46634</td>\n",
       "      <td>JOB-2015-0223128</td>\n",
       "      <td>housekeeping supervisor</td>\n",
       "      <td>2015-05-01</td>\n",
       "      <td>52865867X</td>\n",
       "      <td>Jul 8, 2014</td>\n",
       "      <td>THE FULLERTON HOTEL</td>\n",
       "      <td>55101</td>\n",
       "      <td>Hotels with restaurant</td>\n",
       "      <td>Accommodation and Food Service Activities</td>\n",
       "      <td>Y</td>\n",
       "      <td>False</td>\n",
       "    </tr>\n",
       "    <tr>\n",
       "      <th>3</th>\n",
       "      <td>100427</td>\n",
       "      <td>JOB-2015-0223128</td>\n",
       "      <td>housekeeping supervisor</td>\n",
       "      <td>2015-07-24</td>\n",
       "      <td>52865867X</td>\n",
       "      <td>Jul 8, 2014</td>\n",
       "      <td>THE FULLERTON HOTEL</td>\n",
       "      <td>55101</td>\n",
       "      <td>Hotels with restaurant</td>\n",
       "      <td>Accommodation and Food Service Activities</td>\n",
       "      <td>Y</td>\n",
       "      <td>False</td>\n",
       "    </tr>\n",
       "    <tr>\n",
       "      <th>4</th>\n",
       "      <td>39</td>\n",
       "      <td>JOB-2014-0134411</td>\n",
       "      <td>account assistant</td>\n",
       "      <td>2015-06-16</td>\n",
       "      <td>200203771R</td>\n",
       "      <td>Jul 5, 2014</td>\n",
       "      <td>THE SHICHIDA METHOD (S) PTE. LTD.</td>\n",
       "      <td>82999</td>\n",
       "      <td>Other business support services activities nec...</td>\n",
       "      <td>Administrative and Support Service Activities</td>\n",
       "      <td>N</td>\n",
       "      <td>False</td>\n",
       "    </tr>\n",
       "  </tbody>\n",
       "</table>\n",
       "</div>"
      ],
      "text/plain": [
       "      uid            job_id                job_title  apply_date  \\\n",
       "0       7  JOB-2015-0223128  housekeeping supervisor  2015-07-01   \n",
       "1   21073  JOB-2015-0223128  housekeeping supervisor  2015-05-07   \n",
       "2   46634  JOB-2015-0223128  housekeeping supervisor  2015-05-01   \n",
       "3  100427  JOB-2015-0223128  housekeeping supervisor  2015-07-24   \n",
       "4      39  JOB-2014-0134411        account assistant  2015-06-16   \n",
       "\n",
       "  reg_no_uen_ep employer_creation_date               organisation_name_ep  \\\n",
       "0     52865867X            Jul 8, 2014                THE FULLERTON HOTEL   \n",
       "1     52865867X            Jul 8, 2014                THE FULLERTON HOTEL   \n",
       "2     52865867X            Jul 8, 2014                THE FULLERTON HOTEL   \n",
       "3     52865867X            Jul 8, 2014                THE FULLERTON HOTEL   \n",
       "4    200203771R            Jul 5, 2014  THE SHICHIDA METHOD (S) PTE. LTD.   \n",
       "\n",
       "   ssic_code_ep                                ssic_description_ep  \\\n",
       "0         55101                             Hotels with restaurant   \n",
       "1         55101                             Hotels with restaurant   \n",
       "2         55101                             Hotels with restaurant   \n",
       "3         55101                             Hotels with restaurant   \n",
       "4         82999  Other business support services activities nec...   \n",
       "\n",
       "                                   ssic_group_ep third_party_entity_ep  \\\n",
       "0      Accommodation and Food Service Activities                     Y   \n",
       "1      Accommodation and Food Service Activities                     Y   \n",
       "2      Accommodation and Food Service Activities                     Y   \n",
       "3      Accommodation and Food Service Activities                     Y   \n",
       "4  Administrative and Support Service Activities                     N   \n",
       "\n",
       "  job_title_is_number  \n",
       "0               False  \n",
       "1               False  \n",
       "2               False  \n",
       "3               False  \n",
       "4               False  "
      ]
     },
     "execution_count": 10,
     "metadata": {},
     "output_type": "execute_result"
    }
   ],
   "source": [
    "print apps.shape\n",
    "apps.head()"
   ]
  },
  {
   "cell_type": "code",
   "execution_count": 11,
   "metadata": {
    "collapsed": false
   },
   "outputs": [
    {
     "name": "stdout",
     "output_type": "stream",
     "text": [
      "(1506897, 12)\n"
     ]
    }
   ],
   "source": [
    "apps = apps.query('job_title_is_number == False')\n",
    "print apps.shape"
   ]
  },
  {
   "cell_type": "markdown",
   "metadata": {},
   "source": [
    "## Applicant-apply-Job matrix"
   ]
  },
  {
   "cell_type": "markdown",
   "metadata": {},
   "source": [
    "+ Jobs are considered at job title level.\n",
    "+ Each entry $ e_{u,j} $ of the matrix is either the number of times (frequency) applicant $u$ applies job title $j$.\n",
    "\n",
    "Here we are using the total number of times instead of frequency."
   ]
  },
  {
   "cell_type": "code",
   "execution_count": 32,
   "metadata": {
    "collapsed": true
   },
   "outputs": [],
   "source": [
    "index_of_users = mkUserIndex(df=apps, user_col='uid')\n",
    "index_of_items = mkItemIndex(df=apps, item_col='job_title')"
   ]
  },
  {
   "cell_type": "code",
   "execution_count": 16,
   "metadata": {
    "collapsed": false
   },
   "outputs": [
    {
     "name": "stdout",
     "output_type": "stream",
     "text": [
      "# users: 68144\n",
      "# job titles: 5794\n"
     ]
    }
   ],
   "source": [
    "print('# users: %d' %len(user_ids))\n",
    "print('# job titles: %d' %len(item_ids))"
   ]
  },
  {
   "cell_type": "code",
   "execution_count": 18,
   "metadata": {
    "collapsed": true
   },
   "outputs": [],
   "source": [
    "from scipy.io import *\n",
    "user_apply_job = mmread(DATA_DIR + 'user_apply_job.mtx')"
   ]
  },
  {
   "cell_type": "code",
   "execution_count": 19,
   "metadata": {
    "collapsed": false
   },
   "outputs": [
    {
     "name": "stdout",
     "output_type": "stream",
     "text": [
      "Dims of user-apply-job matrix: (68144, 5829)\n",
      "# non-zero entries: 775480\n",
      "Max entry: 582\n"
     ]
    }
   ],
   "source": [
    "printInfo(user_apply_job)"
   ]
  },
  {
   "cell_type": "markdown",
   "metadata": {},
   "source": [
    "## Applicant-apply-(Job, Employer) matrix"
   ]
  },
  {
   "cell_type": "code",
   "execution_count": 20,
   "metadata": {
    "collapsed": false
   },
   "outputs": [
    {
     "data": {
      "text/plain": [
       "(1352961, 5)"
      ]
     },
     "execution_count": 20,
     "metadata": {},
     "output_type": "execute_result"
    }
   ],
   "source": [
    "apps_by_job_emp = pd.read_csv(AGG_DIR + 'apps_by_job_emp.csv')\n",
    "apps_by_job_emp.shape"
   ]
  },
  {
   "cell_type": "code",
   "execution_count": 28,
   "metadata": {
    "collapsed": true
   },
   "outputs": [
    {
     "data": {
      "text/html": [
       "<div>\n",
       "<table border=\"1\" class=\"dataframe\">\n",
       "  <thead>\n",
       "    <tr style=\"text-align: right;\">\n",
       "      <th></th>\n",
       "      <th>uid</th>\n",
       "      <th>job_title</th>\n",
       "      <th>reg_no_uen_ep</th>\n",
       "      <th>organisation_name_ep</th>\n",
       "      <th>n_apply</th>\n",
       "      <th>job_emp</th>\n",
       "    </tr>\n",
       "  </thead>\n",
       "  <tbody>\n",
       "    <tr>\n",
       "      <th>0</th>\n",
       "      <td>103204</td>\n",
       "      <td>Analyst</td>\n",
       "      <td>196800306E</td>\n",
       "      <td>DBS BANK LTD.</td>\n",
       "      <td>132</td>\n",
       "      <td>Analyst at DBS BANK LTD.</td>\n",
       "    </tr>\n",
       "    <tr>\n",
       "      <th>1</th>\n",
       "      <td>103204</td>\n",
       "      <td>Information Technology Specialist</td>\n",
       "      <td>196800306E</td>\n",
       "      <td>DBS BANK LTD.</td>\n",
       "      <td>90</td>\n",
       "      <td>Information Technology Specialist at DBS BANK ...</td>\n",
       "    </tr>\n",
       "    <tr>\n",
       "      <th>2</th>\n",
       "      <td>112664</td>\n",
       "      <td>Research Assistant</td>\n",
       "      <td>200604346E</td>\n",
       "      <td>NATIONAL UNIVERSITY OF SINGAPORE</td>\n",
       "      <td>90</td>\n",
       "      <td>Research Assistant at NATIONAL UNIVERSITY OF S...</td>\n",
       "    </tr>\n",
       "    <tr>\n",
       "      <th>3</th>\n",
       "      <td>108289</td>\n",
       "      <td>Call Centre Agent</td>\n",
       "      <td>199907051E</td>\n",
       "      <td>CREDIT MANAGEMENT CONSULTANCY (ASIA) PTE LTD</td>\n",
       "      <td>72</td>\n",
       "      <td>Call Centre Agent at CREDIT MANAGEMENT CONSULT...</td>\n",
       "    </tr>\n",
       "    <tr>\n",
       "      <th>4</th>\n",
       "      <td>76182</td>\n",
       "      <td>Information Technology Specialist</td>\n",
       "      <td>196800306E</td>\n",
       "      <td>DBS BANK LTD.</td>\n",
       "      <td>64</td>\n",
       "      <td>Information Technology Specialist at DBS BANK ...</td>\n",
       "    </tr>\n",
       "  </tbody>\n",
       "</table>\n",
       "</div>"
      ],
      "text/plain": [
       "      uid                          job_title reg_no_uen_ep  \\\n",
       "0  103204                            Analyst    196800306E   \n",
       "1  103204  Information Technology Specialist    196800306E   \n",
       "2  112664                 Research Assistant    200604346E   \n",
       "3  108289                  Call Centre Agent    199907051E   \n",
       "4   76182  Information Technology Specialist    196800306E   \n",
       "\n",
       "                           organisation_name_ep  n_apply  \\\n",
       "0                                 DBS BANK LTD.      132   \n",
       "1                                 DBS BANK LTD.       90   \n",
       "2              NATIONAL UNIVERSITY OF SINGAPORE       90   \n",
       "3  CREDIT MANAGEMENT CONSULTANCY (ASIA) PTE LTD       72   \n",
       "4                                 DBS BANK LTD.       64   \n",
       "\n",
       "                                             job_emp  \n",
       "0                           Analyst at DBS BANK LTD.  \n",
       "1  Information Technology Specialist at DBS BANK ...  \n",
       "2  Research Assistant at NATIONAL UNIVERSITY OF S...  \n",
       "3  Call Centre Agent at CREDIT MANAGEMENT CONSULT...  \n",
       "4  Information Technology Specialist at DBS BANK ...  "
      ]
     },
     "execution_count": 28,
     "metadata": {},
     "output_type": "execute_result"
    }
   ],
   "source": [
    "apps_by_job_emp['job_emp'] = apps_by_job_emp['job_title'] + ' at ' + apps_by_job_emp['organisation_name_ep']\n",
    "apps_by_job_emp.head()"
   ]
  },
  {
   "cell_type": "code",
   "execution_count": 33,
   "metadata": {
    "collapsed": true
   },
   "outputs": [],
   "source": [
    "index_of_items = mkItemIndex(df=apps_by_job_emp, item_col='job_emp')"
   ]
  },
  {
   "cell_type": "code",
   "execution_count": 45,
   "metadata": {
    "collapsed": false
   },
   "outputs": [
    {
     "name": "stdout",
     "output_type": "stream",
     "text": [
      "# users in index: 68144\n",
      "# items in index: 89071\n",
      "Mapping user ids to internal user indices...\n",
      "Mapping item ids to internal item indices...\n",
      "User-Item matrix built\n"
     ]
    }
   ],
   "source": [
    "user_apply_job_emp = buildUserItemMat(df=apps_by_job_emp, \n",
    "                                      index_of_users=index_of_users, index_of_items=index_of_items, \n",
    "                                      user_col='uid', item_col='job_emp', rating_col='n_apply')"
   ]
  },
  {
   "cell_type": "code",
   "execution_count": null,
   "metadata": {
    "collapsed": true
   },
   "outputs": [],
   "source": []
  }
 ],
 "metadata": {
  "kernelspec": {
   "display_name": "Python [conda root]",
   "language": "python",
   "name": "conda-root-py"
  },
  "language_info": {
   "codemirror_mode": {
    "name": "ipython",
    "version": 2
   },
   "file_extension": ".py",
   "mimetype": "text/x-python",
   "name": "python",
   "nbconvert_exporter": "python",
   "pygments_lexer": "ipython2",
   "version": "2.7.12"
  }
 },
 "nbformat": 4,
 "nbformat_minor": 1
}
