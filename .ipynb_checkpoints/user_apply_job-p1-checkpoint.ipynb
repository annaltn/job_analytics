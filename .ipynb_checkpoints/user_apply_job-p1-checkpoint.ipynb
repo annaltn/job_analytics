{
 "cells": [
  {
   "cell_type": "code",
   "execution_count": 16,
   "metadata": {
    "collapsed": true
   },
   "outputs": [],
   "source": [
    "from time import time\n",
    "from my_util import *\n",
    "from job_rec_helpers import *\n",
    "\n",
    "import scipy.sparse as sp"
   ]
  },
  {
   "cell_type": "code",
   "execution_count": 2,
   "metadata": {
    "collapsed": true
   },
   "outputs": [],
   "source": [
    "def canon(strings):\n",
    "    return map(str.strip, map(str.lower, strings))"
   ]
  },
  {
   "cell_type": "code",
   "execution_count": 3,
   "metadata": {
    "collapsed": true
   },
   "outputs": [],
   "source": [
    "# Global vars\n",
    "DATA_DIR = 'D:/larc_projects/job_analytics/data/clean/'\n",
    "RES_DIR = 'd:/larc_projects/job_analytics/results/'\n",
    "AGG_DIR = RES_DIR + 'agg/'\n",
    "FIG_DIR = RES_DIR + 'figs/'"
   ]
  },
  {
   "cell_type": "code",
   "execution_count": 4,
   "metadata": {
    "collapsed": true
   },
   "outputs": [],
   "source": [
    "apps = pd.read_csv(DATA_DIR + 'full_apps.csv')"
   ]
  },
  {
   "cell_type": "code",
   "execution_count": 6,
   "metadata": {
    "collapsed": true
   },
   "outputs": [
    {
     "data": {
      "text/html": [
       "<div>\n",
       "<table border=\"1\" class=\"dataframe\">\n",
       "  <thead>\n",
       "    <tr style=\"text-align: right;\">\n",
       "      <th></th>\n",
       "      <th>uid</th>\n",
       "      <th>job_id</th>\n",
       "      <th>job_title</th>\n",
       "      <th>apply_date</th>\n",
       "      <th>reg_no_uen_ep</th>\n",
       "      <th>employer_creation_date</th>\n",
       "      <th>organisation_name_ep</th>\n",
       "      <th>ssic_code_ep</th>\n",
       "      <th>ssic_description_ep</th>\n",
       "      <th>ssic_group_ep</th>\n",
       "      <th>third_party_entity_ep</th>\n",
       "      <th>job_title_is_number</th>\n",
       "    </tr>\n",
       "  </thead>\n",
       "  <tbody>\n",
       "    <tr>\n",
       "      <th>0</th>\n",
       "      <td>7</td>\n",
       "      <td>JOB-2015-0223128</td>\n",
       "      <td>housekeeping supervisor</td>\n",
       "      <td>2015-07-01</td>\n",
       "      <td>52865867X</td>\n",
       "      <td>Jul 8, 2014</td>\n",
       "      <td>THE FULLERTON HOTEL</td>\n",
       "      <td>55101</td>\n",
       "      <td>Hotels with restaurant</td>\n",
       "      <td>Accommodation and Food Service Activities</td>\n",
       "      <td>Y</td>\n",
       "      <td>False</td>\n",
       "    </tr>\n",
       "    <tr>\n",
       "      <th>1</th>\n",
       "      <td>21073</td>\n",
       "      <td>JOB-2015-0223128</td>\n",
       "      <td>housekeeping supervisor</td>\n",
       "      <td>2015-05-07</td>\n",
       "      <td>52865867X</td>\n",
       "      <td>Jul 8, 2014</td>\n",
       "      <td>THE FULLERTON HOTEL</td>\n",
       "      <td>55101</td>\n",
       "      <td>Hotels with restaurant</td>\n",
       "      <td>Accommodation and Food Service Activities</td>\n",
       "      <td>Y</td>\n",
       "      <td>False</td>\n",
       "    </tr>\n",
       "    <tr>\n",
       "      <th>2</th>\n",
       "      <td>46634</td>\n",
       "      <td>JOB-2015-0223128</td>\n",
       "      <td>housekeeping supervisor</td>\n",
       "      <td>2015-05-01</td>\n",
       "      <td>52865867X</td>\n",
       "      <td>Jul 8, 2014</td>\n",
       "      <td>THE FULLERTON HOTEL</td>\n",
       "      <td>55101</td>\n",
       "      <td>Hotels with restaurant</td>\n",
       "      <td>Accommodation and Food Service Activities</td>\n",
       "      <td>Y</td>\n",
       "      <td>False</td>\n",
       "    </tr>\n",
       "    <tr>\n",
       "      <th>3</th>\n",
       "      <td>100427</td>\n",
       "      <td>JOB-2015-0223128</td>\n",
       "      <td>housekeeping supervisor</td>\n",
       "      <td>2015-07-24</td>\n",
       "      <td>52865867X</td>\n",
       "      <td>Jul 8, 2014</td>\n",
       "      <td>THE FULLERTON HOTEL</td>\n",
       "      <td>55101</td>\n",
       "      <td>Hotels with restaurant</td>\n",
       "      <td>Accommodation and Food Service Activities</td>\n",
       "      <td>Y</td>\n",
       "      <td>False</td>\n",
       "    </tr>\n",
       "    <tr>\n",
       "      <th>4</th>\n",
       "      <td>39</td>\n",
       "      <td>JOB-2014-0134411</td>\n",
       "      <td>account assistant</td>\n",
       "      <td>2015-06-16</td>\n",
       "      <td>200203771R</td>\n",
       "      <td>Jul 5, 2014</td>\n",
       "      <td>THE SHICHIDA METHOD (S) PTE. LTD.</td>\n",
       "      <td>82999</td>\n",
       "      <td>Other business support services activities nec...</td>\n",
       "      <td>Administrative and Support Service Activities</td>\n",
       "      <td>N</td>\n",
       "      <td>False</td>\n",
       "    </tr>\n",
       "  </tbody>\n",
       "</table>\n",
       "</div>"
      ],
      "text/plain": [
       "      uid            job_id                job_title  apply_date  \\\n",
       "0       7  JOB-2015-0223128  housekeeping supervisor  2015-07-01   \n",
       "1   21073  JOB-2015-0223128  housekeeping supervisor  2015-05-07   \n",
       "2   46634  JOB-2015-0223128  housekeeping supervisor  2015-05-01   \n",
       "3  100427  JOB-2015-0223128  housekeeping supervisor  2015-07-24   \n",
       "4      39  JOB-2014-0134411        account assistant  2015-06-16   \n",
       "\n",
       "  reg_no_uen_ep employer_creation_date               organisation_name_ep  \\\n",
       "0     52865867X            Jul 8, 2014                THE FULLERTON HOTEL   \n",
       "1     52865867X            Jul 8, 2014                THE FULLERTON HOTEL   \n",
       "2     52865867X            Jul 8, 2014                THE FULLERTON HOTEL   \n",
       "3     52865867X            Jul 8, 2014                THE FULLERTON HOTEL   \n",
       "4    200203771R            Jul 5, 2014  THE SHICHIDA METHOD (S) PTE. LTD.   \n",
       "\n",
       "   ssic_code_ep                                ssic_description_ep  \\\n",
       "0         55101                             Hotels with restaurant   \n",
       "1         55101                             Hotels with restaurant   \n",
       "2         55101                             Hotels with restaurant   \n",
       "3         55101                             Hotels with restaurant   \n",
       "4         82999  Other business support services activities nec...   \n",
       "\n",
       "                                   ssic_group_ep third_party_entity_ep  \\\n",
       "0      Accommodation and Food Service Activities                     Y   \n",
       "1      Accommodation and Food Service Activities                     Y   \n",
       "2      Accommodation and Food Service Activities                     Y   \n",
       "3      Accommodation and Food Service Activities                     Y   \n",
       "4  Administrative and Support Service Activities                     N   \n",
       "\n",
       "  job_title_is_number  \n",
       "0               False  \n",
       "1               False  \n",
       "2               False  \n",
       "3               False  \n",
       "4               False  "
      ]
     },
     "execution_count": 6,
     "metadata": {},
     "output_type": "execute_result"
    }
   ],
   "source": [
    "# apps['job_title'] = canon(apps['job_title'])\n",
    "apps.head()"
   ]
  },
  {
   "cell_type": "code",
   "execution_count": null,
   "metadata": {
    "collapsed": true
   },
   "outputs": [],
   "source": [
    "apps['job_title_is_number'] = map(is_number, apps['job_title'])"
   ]
  },
  {
   "cell_type": "code",
   "execution_count": null,
   "metadata": {
    "collapsed": false
   },
   "outputs": [],
   "source": [
    "print ('bf filter: %d' %apps.shape[0])\n",
    "tmp = apps.query('job_title_is_number == False')\n",
    "print('after filter: %d' %tmp.shape[0])"
   ]
  },
  {
   "cell_type": "markdown",
   "metadata": {},
   "source": [
    "## Basic statistics"
   ]
  },
  {
   "cell_type": "code",
   "execution_count": null,
   "metadata": {
    "collapsed": false
   },
   "outputs": [],
   "source": [
    "n_application, n_applicant, n_job, n_job_title = apps.shape[0], apps['uid'].nunique(), apps['job_id'].nunique(), apps['job_title'].nunique()\n",
    "n_company = apps['reg_no_uen_ep'].nunique()\n",
    "\n",
    "stats = pd.DataFrame({'n_application': n_application, 'n_applicant': n_applicant, \n",
    "                      'n_job': n_job, 'n_job_title': n_job_title,\n",
    "                     'n_company': n_company}, index=[0])\n",
    "stats"
   ]
  },
  {
   "cell_type": "code",
   "execution_count": null,
   "metadata": {
    "collapsed": true
   },
   "outputs": [],
   "source": [
    "stats.to_csv(DATA_DIR + 'stats/stats.csv', index=False)"
   ]
  },
  {
   "cell_type": "markdown",
   "metadata": {},
   "source": [
    "## Applicant-apply-Job matrix\n",
    "\n",
    "### A. Number of times an applicant applies a specific job title (position)."
   ]
  },
  {
   "cell_type": "code",
   "execution_count": 7,
   "metadata": {
    "collapsed": false
   },
   "outputs": [
    {
     "name": "stdout",
     "output_type": "stream",
     "text": [
      "(775693, 7)\n"
     ]
    }
   ],
   "source": [
    "agg_apps = pd.read_csv(AGG_DIR + 'timed_apps.csv')\n",
    "print agg_apps.shape"
   ]
  },
  {
   "cell_type": "code",
   "execution_count": 8,
   "metadata": {
    "collapsed": false
   },
   "outputs": [],
   "source": [
    "agg_apps.sort_values('n_apply', ascending=False, inplace=True)"
   ]
  },
  {
   "cell_type": "code",
   "execution_count": 9,
   "metadata": {
    "collapsed": true
   },
   "outputs": [
    {
     "data": {
      "text/html": [
       "<div>\n",
       "<table border=\"1\" class=\"dataframe\">\n",
       "  <thead>\n",
       "    <tr style=\"text-align: right;\">\n",
       "      <th></th>\n",
       "      <th>uid</th>\n",
       "      <th>job_title</th>\n",
       "      <th>n_apply</th>\n",
       "      <th>first_apply_date</th>\n",
       "      <th>last_apply_date</th>\n",
       "      <th>n_active_day</th>\n",
       "      <th>total_duration_in_day</th>\n",
       "    </tr>\n",
       "  </thead>\n",
       "  <tbody>\n",
       "    <tr>\n",
       "      <th>134055</th>\n",
       "      <td>33833</td>\n",
       "      <td>Accounts Executive</td>\n",
       "      <td>582</td>\n",
       "      <td>2015-01-05</td>\n",
       "      <td>2015-09-30</td>\n",
       "      <td>133</td>\n",
       "      <td>268</td>\n",
       "    </tr>\n",
       "    <tr>\n",
       "      <th>134072</th>\n",
       "      <td>33833</td>\n",
       "      <td>Accountant</td>\n",
       "      <td>534</td>\n",
       "      <td>2015-01-03</td>\n",
       "      <td>2015-09-30</td>\n",
       "      <td>133</td>\n",
       "      <td>270</td>\n",
       "    </tr>\n",
       "    <tr>\n",
       "      <th>570708</th>\n",
       "      <td>108289</td>\n",
       "      <td>Accounts Assistant</td>\n",
       "      <td>502</td>\n",
       "      <td>2015-01-21</td>\n",
       "      <td>2015-06-29</td>\n",
       "      <td>103</td>\n",
       "      <td>159</td>\n",
       "    </tr>\n",
       "    <tr>\n",
       "      <th>570703</th>\n",
       "      <td>108289</td>\n",
       "      <td>Accounts Executive</td>\n",
       "      <td>430</td>\n",
       "      <td>2015-01-21</td>\n",
       "      <td>2015-06-29</td>\n",
       "      <td>99</td>\n",
       "      <td>159</td>\n",
       "    </tr>\n",
       "    <tr>\n",
       "      <th>116932</th>\n",
       "      <td>30771</td>\n",
       "      <td>Project Manager</td>\n",
       "      <td>408</td>\n",
       "      <td>2015-04-20</td>\n",
       "      <td>2015-09-20</td>\n",
       "      <td>41</td>\n",
       "      <td>153</td>\n",
       "    </tr>\n",
       "    <tr>\n",
       "      <th>538682</th>\n",
       "      <td>103204</td>\n",
       "      <td>Analyst</td>\n",
       "      <td>398</td>\n",
       "      <td>2015-01-15</td>\n",
       "      <td>2015-07-16</td>\n",
       "      <td>84</td>\n",
       "      <td>182</td>\n",
       "    </tr>\n",
       "    <tr>\n",
       "      <th>356522</th>\n",
       "      <td>71838</td>\n",
       "      <td>Business Analyst</td>\n",
       "      <td>387</td>\n",
       "      <td>2015-01-05</td>\n",
       "      <td>2015-09-21</td>\n",
       "      <td>86</td>\n",
       "      <td>259</td>\n",
       "    </tr>\n",
       "    <tr>\n",
       "      <th>538795</th>\n",
       "      <td>103204</td>\n",
       "      <td>Human Resource Executive</td>\n",
       "      <td>374</td>\n",
       "      <td>2015-01-02</td>\n",
       "      <td>2015-07-18</td>\n",
       "      <td>139</td>\n",
       "      <td>197</td>\n",
       "    </tr>\n",
       "    <tr>\n",
       "      <th>514460</th>\n",
       "      <td>99370</td>\n",
       "      <td>Human Resource Executive</td>\n",
       "      <td>336</td>\n",
       "      <td>2015-01-12</td>\n",
       "      <td>2015-09-10</td>\n",
       "      <td>85</td>\n",
       "      <td>241</td>\n",
       "    </tr>\n",
       "    <tr>\n",
       "      <th>553234</th>\n",
       "      <td>105636</td>\n",
       "      <td>Accountant</td>\n",
       "      <td>333</td>\n",
       "      <td>2015-01-14</td>\n",
       "      <td>2015-09-04</td>\n",
       "      <td>81</td>\n",
       "      <td>233</td>\n",
       "    </tr>\n",
       "  </tbody>\n",
       "</table>\n",
       "</div>"
      ],
      "text/plain": [
       "           uid                 job_title  n_apply first_apply_date  \\\n",
       "134055   33833        Accounts Executive      582       2015-01-05   \n",
       "134072   33833                Accountant      534       2015-01-03   \n",
       "570708  108289        Accounts Assistant      502       2015-01-21   \n",
       "570703  108289        Accounts Executive      430       2015-01-21   \n",
       "116932   30771           Project Manager      408       2015-04-20   \n",
       "538682  103204                   Analyst      398       2015-01-15   \n",
       "356522   71838          Business Analyst      387       2015-01-05   \n",
       "538795  103204  Human Resource Executive      374       2015-01-02   \n",
       "514460   99370  Human Resource Executive      336       2015-01-12   \n",
       "553234  105636                Accountant      333       2015-01-14   \n",
       "\n",
       "       last_apply_date  n_active_day  total_duration_in_day  \n",
       "134055      2015-09-30           133                    268  \n",
       "134072      2015-09-30           133                    270  \n",
       "570708      2015-06-29           103                    159  \n",
       "570703      2015-06-29            99                    159  \n",
       "116932      2015-09-20            41                    153  \n",
       "538682      2015-07-16            84                    182  \n",
       "356522      2015-09-21            86                    259  \n",
       "538795      2015-07-18           139                    197  \n",
       "514460      2015-09-10            85                    241  \n",
       "553234      2015-09-04            81                    233  "
      ]
     },
     "execution_count": 9,
     "metadata": {},
     "output_type": "execute_result"
    }
   ],
   "source": [
    "# top 10 extreme cases\n",
    "agg_apps.head(10)"
   ]
  },
  {
   "cell_type": "markdown",
   "metadata": {},
   "source": [
    "As the number of active days changes with users, we need to calculate the avg. apply frequency by dividing n_apply by n_active_day."
   ]
  },
  {
   "cell_type": "code",
   "execution_count": 10,
   "metadata": {
    "collapsed": true
   },
   "outputs": [],
   "source": [
    "agg_apps['apply_freq'] = agg_apps['n_apply']/agg_apps['n_active_day']"
   ]
  },
  {
   "cell_type": "code",
   "execution_count": 14,
   "metadata": {
    "collapsed": false
   },
   "outputs": [
    {
     "data": {
      "text/html": [
       "<div>\n",
       "<table border=\"1\" class=\"dataframe\">\n",
       "  <thead>\n",
       "    <tr style=\"text-align: right;\">\n",
       "      <th></th>\n",
       "      <th>uid</th>\n",
       "      <th>job_title</th>\n",
       "      <th>n_apply</th>\n",
       "      <th>first_apply_date</th>\n",
       "      <th>last_apply_date</th>\n",
       "      <th>n_active_day</th>\n",
       "      <th>total_duration_in_day</th>\n",
       "      <th>apply_freq</th>\n",
       "    </tr>\n",
       "  </thead>\n",
       "  <tbody>\n",
       "    <tr>\n",
       "      <th>740410</th>\n",
       "      <td>136703</td>\n",
       "      <td>Accountant</td>\n",
       "      <td>109</td>\n",
       "      <td>2015-06-22</td>\n",
       "      <td>2015-06-24</td>\n",
       "      <td>2</td>\n",
       "      <td>2</td>\n",
       "      <td>54.50</td>\n",
       "    </tr>\n",
       "    <tr>\n",
       "      <th>740360</th>\n",
       "      <td>136703</td>\n",
       "      <td>Project Engineer</td>\n",
       "      <td>54</td>\n",
       "      <td>2015-06-25</td>\n",
       "      <td>2015-06-25</td>\n",
       "      <td>1</td>\n",
       "      <td>0</td>\n",
       "      <td>54.00</td>\n",
       "    </tr>\n",
       "    <tr>\n",
       "      <th>668807</th>\n",
       "      <td>124950</td>\n",
       "      <td>Recruitment Consultant</td>\n",
       "      <td>52</td>\n",
       "      <td>2015-09-28</td>\n",
       "      <td>2015-09-28</td>\n",
       "      <td>1</td>\n",
       "      <td>0</td>\n",
       "      <td>52.00</td>\n",
       "    </tr>\n",
       "    <tr>\n",
       "      <th>740406</th>\n",
       "      <td>136703</td>\n",
       "      <td>Accounts Executive</td>\n",
       "      <td>151</td>\n",
       "      <td>2015-06-15</td>\n",
       "      <td>2015-06-24</td>\n",
       "      <td>3</td>\n",
       "      <td>9</td>\n",
       "      <td>50.33</td>\n",
       "    </tr>\n",
       "    <tr>\n",
       "      <th>740398</th>\n",
       "      <td>136703</td>\n",
       "      <td>Accounts Assistant</td>\n",
       "      <td>145</td>\n",
       "      <td>2015-06-15</td>\n",
       "      <td>2015-06-24</td>\n",
       "      <td>3</td>\n",
       "      <td>9</td>\n",
       "      <td>48.33</td>\n",
       "    </tr>\n",
       "  </tbody>\n",
       "</table>\n",
       "</div>"
      ],
      "text/plain": [
       "           uid               job_title  n_apply first_apply_date  \\\n",
       "740410  136703              Accountant      109       2015-06-22   \n",
       "740360  136703        Project Engineer       54       2015-06-25   \n",
       "668807  124950  Recruitment Consultant       52       2015-09-28   \n",
       "740406  136703      Accounts Executive      151       2015-06-15   \n",
       "740398  136703      Accounts Assistant      145       2015-06-15   \n",
       "\n",
       "       last_apply_date  n_active_day  total_duration_in_day  apply_freq  \n",
       "740410      2015-06-24             2                      2       54.50  \n",
       "740360      2015-06-25             1                      0       54.00  \n",
       "668807      2015-09-28             1                      0       52.00  \n",
       "740406      2015-06-24             3                      9       50.33  \n",
       "740398      2015-06-24             3                      9       48.33  "
      ]
     },
     "execution_count": 14,
     "metadata": {},
     "output_type": "execute_result"
    }
   ],
   "source": [
    "agg_apps['apply_freq'] = np.round(agg_apps['apply_freq'], 2)\n",
    "agg_apps.sort_values(by='apply_freq', ascending=False, inplace=True)\n",
    "agg_apps.head()"
   ]
  },
  {
   "cell_type": "code",
   "execution_count": 13,
   "metadata": {
    "collapsed": false
   },
   "outputs": [
    {
     "data": {
      "text/html": [
       "<div>\n",
       "<table border=\"1\" class=\"dataframe\">\n",
       "  <thead>\n",
       "    <tr style=\"text-align: right;\">\n",
       "      <th></th>\n",
       "      <th>min</th>\n",
       "      <th>25%</th>\n",
       "      <th>50% (median)</th>\n",
       "      <th>75%</th>\n",
       "      <th>max</th>\n",
       "    </tr>\n",
       "  </thead>\n",
       "  <tbody>\n",
       "    <tr>\n",
       "      <th>0</th>\n",
       "      <td>1.0</td>\n",
       "      <td>1.0</td>\n",
       "      <td>1.0</td>\n",
       "      <td>1.0</td>\n",
       "      <td>54.5</td>\n",
       "    </tr>\n",
       "  </tbody>\n",
       "</table>\n",
       "</div>"
      ],
      "text/plain": [
       "   min  25%  50% (median)  75%   max\n",
       "0  1.0  1.0           1.0  1.0  54.5"
      ]
     },
     "execution_count": 13,
     "metadata": {},
     "output_type": "execute_result"
    }
   ],
   "source": [
    "quantile(agg_apps['apply_freq'])"
   ]
  },
  {
   "cell_type": "code",
   "execution_count": 15,
   "metadata": {
    "collapsed": true
   },
   "outputs": [],
   "source": [
    "agg_apps.to_csv(AGG_DIR + 'timed_apps.csv', index=False)"
   ]
  },
  {
   "cell_type": "markdown",
   "metadata": {},
   "source": [
    "### E. Build applicant-apply-job matrix\n",
    "\n",
    "+ Jobs are considered at job title level.\n",
    "+ Each entry $ e_{u,j} $ of the matrix is either the number of times (frequency) applicant $u$ applies job title $j$.\n",
    "\n",
    "This is similar to building the user-item matrix."
   ]
  },
  {
   "cell_type": "markdown",
   "metadata": {},
   "source": [
    "To build the matrix, there are two ways.\n",
    "+ define a function to convert df agg_apps to matrix form\n",
    "+ use available countvectorizer() in module sklearn.feature_extraction.text, where we consider __application history__ of each user as a document and each __job title__ he applied as a word in the document.\n",
    "\n",
    "The cons of 2nd way is that to cover all job titles, which have different lengths (# words), countvectorizer() need to repeatedly split each document into n-grams, which is time consuming.\n",
    "\n",
    "We thus use the 1st way."
   ]
  },
  {
   "cell_type": "markdown",
   "metadata": {},
   "source": [
    "#### Map user ids and item ids into internal user and item indices\n",
    "The indices will be used to build user-item matrix later."
   ]
  },
  {
   "cell_type": "code",
   "execution_count": 17,
   "metadata": {
    "collapsed": true
   },
   "outputs": [],
   "source": [
    "user_ids = np.unique(agg_apps['uid'])\n",
    "index_of_users = { user_ids[i]:i for i in range(len(user_ids)) }\n",
    "\n",
    "item_ids = np.unique(agg_apps['job_title'])\n",
    "index_of_items = { item_ids[i]:i for i in range(len(item_ids))}"
   ]
  },
  {
   "cell_type": "code",
   "execution_count": 27,
   "metadata": {
    "collapsed": false
   },
   "outputs": [],
   "source": [
    "n_user = len(index_of_users.keys())\n",
    "n_item = len(index_of_items.keys())"
   ]
  },
  {
   "cell_type": "code",
   "execution_count": 34,
   "metadata": {
    "collapsed": true
   },
   "outputs": [],
   "source": [
    "# Given index_of_users and index_of_items,\n",
    "## build user-item matrix from a df with columns (user_col, item_col, rating_col) containing triples (uid, item_id, rating)\n",
    "\n",
    "def buildUserItemMat(df, user_col = 'uid', item_col = 'item_id', rating_col = 'rating'):\n",
    "    print('Mapping user ids to internal user indices...')\n",
    "    row_ind = list(df.apply(lambda r: index_of_users[r[user_col]], axis=1))\n",
    "    print('Mapping item ids to internal item indices...')\n",
    "    col_ind = list(df.apply(lambda r: index_of_items[r[item_col]], axis=1))\n",
    "    ratings = list(df[rating_col])\n",
    "    \n",
    "    n_user, n_item = len(index_of_users.keys()), len(index_of_items.keys())\n",
    "    user_item_mat = sp.csr_matrix((ratings, (row_ind, col_ind)), shape=(n_user, n_item))\n",
    "    print('User-Item matrix built')\n",
    "    return user_item_mat"
   ]
  },
  {
   "cell_type": "code",
   "execution_count": 33,
   "metadata": {
    "collapsed": false
   },
   "outputs": [
    {
     "name": "stdout",
     "output_type": "stream",
     "text": [
      "Mapping user ids to internal user indices...\n",
      "Mapping item ids to internal item indices...\n",
      "All done\n"
     ]
    }
   ],
   "source": [
    "user_apply_job = buildUserItemMat(df=agg_apps, user_col='uid', item_col='job_title', rating_col='n_apply')"
   ]
  },
  {
   "cell_type": "code",
   "execution_count": 48,
   "metadata": {
    "collapsed": true
   },
   "outputs": [],
   "source": [
    "from scipy.io import *\n",
    "\n",
    "mmwrite(DATA_DIR + 'user_apply_job.mtx', user_apply_job)"
   ]
  },
  {
   "cell_type": "code",
   "execution_count": 42,
   "metadata": {
    "collapsed": false
   },
   "outputs": [],
   "source": [
    "df = pd.DataFrame({'uid': index_of_users.keys(), 'u_index': index_of_users.values()})\n",
    "df.sort_values('u_index', inplace=True)\n",
    "df.to_csv(DATA_DIR + 'user_dict.csv', index=False)"
   ]
  },
  {
   "cell_type": "code",
   "execution_count": 47,
   "metadata": {
    "collapsed": false
   },
   "outputs": [],
   "source": [
    "# index_of_items.keys()[:3]\n",
    "df = pd.DataFrame({'job_title': index_of_items.keys(), 'item_index': index_of_items.values()})\n",
    "df.sort_values('item_index', inplace=True)\n",
    "df.to_csv(DATA_DIR + 'item_dict.csv', index=False)"
   ]
  },
  {
   "cell_type": "code",
   "execution_count": null,
   "metadata": {
    "collapsed": true
   },
   "outputs": [],
   "source": []
  },
  {
   "cell_type": "code",
   "execution_count": null,
   "metadata": {
    "collapsed": true
   },
   "outputs": [],
   "source": [
    "by_job_title = agg_apps[['job_title', 'n_apply']].groupby('job_title').sum()\n",
    "by_job_title = by_job_title.add_prefix('total_').reset_index()"
   ]
  },
  {
   "cell_type": "code",
   "execution_count": null,
   "metadata": {
    "collapsed": true
   },
   "outputs": [],
   "source": [
    "# top-10 popular job titles\n",
    "by_job_title.sort_values('total_n_apply', ascending=False, inplace=True)\n",
    "by_job_title.head(10)"
   ]
  },
  {
   "cell_type": "code",
   "execution_count": null,
   "metadata": {
    "collapsed": false,
    "scrolled": true
   },
   "outputs": [],
   "source": [
    "by_user = agg_apps[['uid', 'n_apply']].groupby('uid').sum()\n",
    "by_user = by_user.add_prefix('total_').reset_index()"
   ]
  },
  {
   "cell_type": "code",
   "execution_count": null,
   "metadata": {
    "collapsed": false
   },
   "outputs": [],
   "source": [
    "# top-10 hard working job hunters\n",
    "by_user.sort_values('total_n_apply', ascending=False, inplace=True)\n",
    "by_user.head(10)"
   ]
  },
  {
   "cell_type": "code",
   "execution_count": null,
   "metadata": {
    "collapsed": true
   },
   "outputs": [],
   "source": [
    "by_job_title.head(10).to_csv(RES_DIR + 'top10_job_titles.csv', index=False)"
   ]
  },
  {
   "cell_type": "code",
   "execution_count": null,
   "metadata": {
    "collapsed": true
   },
   "outputs": [],
   "source": [
    "by_user.head(10).to_csv(RES_DIR + 'top10_job_hunters.csv', index=False)"
   ]
  },
  {
   "cell_type": "markdown",
   "metadata": {},
   "source": [
    "Quartiles of the number of times an applicant applies for a specific job:"
   ]
  },
  {
   "cell_type": "code",
   "execution_count": null,
   "metadata": {
    "collapsed": false
   },
   "outputs": [],
   "source": [
    "quantile(agg_apps['n_apply'])"
   ]
  },
  {
   "cell_type": "markdown",
   "metadata": {},
   "source": [
    "As expected, for most of the cases (50%), an applicant applies just __once__ for a specific job. \n",
    "However, we can also see at least 1 extreme case where an applicant applies 582 times for just a job title. Thus, let's look more closely at the distribution of $N_{apply}$."
   ]
  },
  {
   "cell_type": "code",
   "execution_count": null,
   "metadata": {
    "collapsed": true
   },
   "outputs": [],
   "source": [
    "plt.hist(agg_apps['n_apply'], bins=np.unique(agg_apps['n_apply']), log=True)\n",
    "\n",
    "plt.xlabel(r'$N_{apply}$')\n",
    "plt.ylabel('# applicant-job pairs (log scale)')\n",
    "# plt.savefig(DATA_DIR + 'apply_freq.pdf')\n",
    "\n",
    "plt.show()\n",
    "plt.close()"
   ]
  },
  {
   "cell_type": "markdown",
   "metadata": {},
   "source": [
    "From the histogram, we can see that there are cases when a user applies for a job titles __at least 100 times__. Let's look closer at those extreme cases.\n",
    "\n",
    "#### Extreme cases"
   ]
  },
  {
   "cell_type": "markdown",
   "metadata": {},
   "source": [
    "To get a more complete picture on these extreme cases, let's look at:\n",
    "\n",
    "+ __No. of active days__: already aggregated \n",
    "+ __companies__: "
   ]
  },
  {
   "cell_type": "code",
   "execution_count": null,
   "metadata": {
    "collapsed": true
   },
   "outputs": [],
   "source": [
    "extremes = pd.read_csv(RES_DIR + 'extremes.csv')\n",
    "print('No. of extreme cases: {}'.format(extremes.shape[0]))\n",
    "extremes.head(3)"
   ]
  },
  {
   "cell_type": "code",
   "execution_count": null,
   "metadata": {
    "collapsed": false
   },
   "outputs": [],
   "source": [
    "quantile(extremes['n_active_day'])"
   ]
  },
  {
   "cell_type": "markdown",
   "metadata": {},
   "source": [
    "### B. Number of __different__ job titles an applicant applies"
   ]
  },
  {
   "cell_type": "code",
   "execution_count": null,
   "metadata": {
    "collapsed": true
   },
   "outputs": [],
   "source": [
    "apps_by_job_title = pd.read_csv(AGG_DIR + 'apps_by_job_title.csv')"
   ]
  },
  {
   "cell_type": "code",
   "execution_count": null,
   "metadata": {
    "collapsed": true
   },
   "outputs": [],
   "source": [
    "fig = plt.figure(figsize=(10,6))\n",
    "plt.subplot(1,2,1)\n",
    "loglog(apps_by_job_title['n_job_title'], xl='# Job titles applied', yl='# applicants')\n",
    "plt.subplots_adjust(wspace=.5)\n",
    "\n",
    "plt.subplot(1,2,2)\n",
    "loglog(apps_by_job_title['n_job'], xl='# Jobs applied', yl='# applicants')\n",
    "\n",
    "# plt.savefig(FIG_DIR + 'figs/applied_jobs.pdf')\n",
    "plt.show()\n",
    "plt.close()"
   ]
  },
  {
   "cell_type": "markdown",
   "metadata": {},
   "source": [
    "### C. Number of company an applicant applies"
   ]
  },
  {
   "cell_type": "code",
   "execution_count": null,
   "metadata": {
    "collapsed": false
   },
   "outputs": [],
   "source": [
    "apps_by_comp = pd.read_csv(AGG_DIR + 'apps_by_comp.csv')\n",
    "apps_by_comp.shape"
   ]
  },
  {
   "cell_type": "code",
   "execution_count": null,
   "metadata": {
    "collapsed": true
   },
   "outputs": [],
   "source": [
    "loglog(apps_by_comp['n_apply'], xl='# applications', yl='# user-apply-company cases')\n",
    "\n",
    "# plt.savefig(FIG_DIR + 'user_comp.pdf')\n",
    "plt.show()\n",
    "plt.close()"
   ]
  },
  {
   "cell_type": "markdown",
   "metadata": {},
   "source": [
    "### D. Number of (job title, company) an applicant applies"
   ]
  },
  {
   "cell_type": "code",
   "execution_count": null,
   "metadata": {
    "collapsed": false
   },
   "outputs": [],
   "source": [
    "apps_by_job_comp = pd.read_csv(AGG_DIR + 'apps_by_job_comp.csv')\n",
    "apps_by_job_comp.shape"
   ]
  },
  {
   "cell_type": "code",
   "execution_count": null,
   "metadata": {
    "collapsed": true
   },
   "outputs": [],
   "source": [
    "loglog(apps_by_job_comp['n_apply'], xl='# applications', yl='# user-apply-job-at-company cases')\n",
    "# plt.savefig(FIG_DIR + 'user_job_comp.pdf')\n",
    "plt.show()\n",
    "plt.close()"
   ]
  },
  {
   "cell_type": "code",
   "execution_count": null,
   "metadata": {
    "collapsed": false
   },
   "outputs": [],
   "source": [
    "job_comp = apps[['job_title', 'organisation_name_ep']].drop_duplicates()\n",
    "print('No. of job-company pairs: {}'.format(job_comp.shape[0]))"
   ]
  },
  {
   "cell_type": "code",
   "execution_count": null,
   "metadata": {
    "collapsed": true
   },
   "outputs": [],
   "source": [
    "def getRecords(uids, df):\n",
    "    return df[ df['uid'].isin(uids)]    "
   ]
  },
  {
   "cell_type": "code",
   "execution_count": null,
   "metadata": {
    "collapsed": false
   },
   "outputs": [],
   "source": [
    "print('No. of applicants: {}'.format(n_applicant))\n",
    "print('No. of job titles: {}'.format(n_job_title))"
   ]
  },
  {
   "cell_type": "markdown",
   "metadata": {},
   "source": [
    "Thus the dimensions of applicant-apply-job matrix should be 68144 $\\times$ 5794."
   ]
  },
  {
   "cell_type": "code",
   "execution_count": null,
   "metadata": {
    "collapsed": true
   },
   "outputs": [],
   "source": [
    "apps_by_job_title = pd.read_csv(AGG_DIR + 'apps_by_job_title.csv')\n",
    "# sanity check\n",
    "print(apps_by_job_title.shape[0] == n_applicant)\n",
    "apps_by_job_title.head()"
   ]
  },
  {
   "cell_type": "code",
   "execution_count": null,
   "metadata": {
    "collapsed": false
   },
   "outputs": [],
   "source": [
    "import sklearn.feature_extraction.text as text_manip\n",
    "import scipy.sparse as sp"
   ]
  },
  {
   "cell_type": "code",
   "execution_count": null,
   "metadata": {
    "collapsed": false
   },
   "outputs": [],
   "source": [
    "docs = apps_by_job_title['job_titles']\n",
    "job_titles = apps['job_title'].unique()\n",
    "max_len = max(map(n_word, job_titles))\n",
    "print('max no. of words in a job title: {}'.format(max_len))\n",
    "\n",
    "job_title_len = map(n_word, job_titles)"
   ]
  },
  {
   "cell_type": "code",
   "execution_count": null,
   "metadata": {
    "collapsed": false
   },
   "outputs": [],
   "source": [
    "quantile(job_title_len)"
   ]
  },
  {
   "cell_type": "code",
   "execution_count": null,
   "metadata": {
    "collapsed": true
   },
   "outputs": [],
   "source": [
    "plt.hist(job_title_len, bins=np.unique(job_title_len))\n",
    "plt.xlabel('# words in job title')\n",
    "plt.ylabel('# job titles')\n",
    "\n",
    "plt.show()"
   ]
  },
  {
   "cell_type": "code",
   "execution_count": null,
   "metadata": {
    "collapsed": false
   },
   "outputs": [],
   "source": [
    "count_vec = text_manip.CountVectorizer(vocabulary=job_titles, ngram_range=(1,6))"
   ]
  },
  {
   "cell_type": "code",
   "execution_count": null,
   "metadata": {
    "collapsed": false
   },
   "outputs": [],
   "source": [
    "t0 = time()\n",
    "print('Building applicant-apply-job matrix...')\n",
    "user_apply_job = count_vec.fit_transform(docs)\n",
    "print('Done after {}s'.format(time()-t0))"
   ]
  },
  {
   "cell_type": "code",
   "execution_count": null,
   "metadata": {
    "collapsed": false
   },
   "outputs": [],
   "source": [
    "# sparsity of applicant-apply-job\n",
    "float(user_apply_job.nnz)/(n_applicant * n_job_title)"
   ]
  },
  {
   "cell_type": "code",
   "execution_count": null,
   "metadata": {
    "collapsed": false
   },
   "outputs": [],
   "source": [
    "nrow, ncol = user_apply_job.shape[0], user_apply_job.shape[1]\n",
    "print('Dimension of applicant-apply-job matrix: {} x {}'.format(nrow, ncol))"
   ]
  },
  {
   "cell_type": "code",
   "execution_count": null,
   "metadata": {
    "collapsed": false
   },
   "outputs": [],
   "source": [
    "feats = count_vec.get_feature_names()\n",
    "# sum([1 for j in first_user_job_titles if j in feats])"
   ]
  },
  {
   "cell_type": "code",
   "execution_count": null,
   "metadata": {
    "collapsed": false
   },
   "outputs": [],
   "source": [
    "from scipy.io import *\n",
    "\n",
    "mmwrite(DATA_DIR + 'user_apply_job.mtx', user_apply_job)"
   ]
  },
  {
   "cell_type": "code",
   "execution_count": null,
   "metadata": {
    "collapsed": false
   },
   "outputs": [],
   "source": [
    "# first_user_job_titles = docs[0].split(',')\n",
    "\n",
    "# n_job_in_vocab = sum([1 for j in first_user_job_titles if j in vocab])\n",
    "# print('Total # jobs: %d' %len(first_user_job_titles))\n",
    "# print('# jobs in vocab: %d' %n_job_in_vocab)\n",
    "# all(j in vocab for j in first_user_job_titles)"
   ]
  },
  {
   "cell_type": "markdown",
   "metadata": {},
   "source": [
    "### F. Build applicant-apply-(job, employer) matrix"
   ]
  },
  {
   "cell_type": "code",
   "execution_count": null,
   "metadata": {
    "collapsed": false
   },
   "outputs": [],
   "source": [
    "quantile(apps_by_job_comp['n_apply'])"
   ]
  },
  {
   "cell_type": "code",
   "execution_count": null,
   "metadata": {
    "collapsed": true
   },
   "outputs": [],
   "source": [
    "apps_by_job_comp.rename(columns={'organisation_name_ep': 'employer_name', 'reg_no_uen_ep': 'employer_id'}, inplace=True)\n",
    "apps_by_job_comp.query('n_apply >= 50')"
   ]
  },
  {
   "cell_type": "code",
   "execution_count": null,
   "metadata": {
    "collapsed": false,
    "scrolled": false
   },
   "outputs": [],
   "source": [
    "apps.query('uid == 103204').query('job_title == \"analyst\"').query('reg_no_uen_ep==\"196800306E\"').to_csv(RES_DIR + 'tmp.csv')"
   ]
  },
  {
   "cell_type": "code",
   "execution_count": null,
   "metadata": {
    "collapsed": true
   },
   "outputs": [],
   "source": [
    "apps_by_job_comp['job_employer'] = apps_by_job_comp['job_title'] + ' at ' + apps_by_job_comp['employer_name']\n",
    "apps_by_job_comp.head()"
   ]
  },
  {
   "cell_type": "code",
   "execution_count": null,
   "metadata": {
    "collapsed": false
   },
   "outputs": [],
   "source": [
    "uniq_job_employers = np.unique(apps_by_job_comp['job_employer'])\n",
    "len(uniq_job_employers)"
   ]
  },
  {
   "cell_type": "code",
   "execution_count": null,
   "metadata": {
    "collapsed": false
   },
   "outputs": [],
   "source": [
    "users = np.unique(apps['uid'])\n",
    "len(users)"
   ]
  },
  {
   "cell_type": "code",
   "execution_count": null,
   "metadata": {
    "collapsed": false
   },
   "outputs": [],
   "source": [
    "job_employer_idx = { uniq_job_employers[i]:i for i in range(len(uniq_job_employers))}\n",
    "index_of_users = { users[i]:i for i in range(len(users)) }"
   ]
  },
  {
   "cell_type": "code",
   "execution_count": null,
   "metadata": {
    "collapsed": true
   },
   "outputs": [],
   "source": [
    "apps_by_job_comp.apply(putTriple, axis=1)"
   ]
  }
 ],
 "metadata": {
  "anaconda-cloud": {},
  "kernelspec": {
   "display_name": "Python [conda root]",
   "language": "python",
   "name": "conda-root-py"
  },
  "language_info": {
   "codemirror_mode": {
    "name": "ipython",
    "version": 2
   },
   "file_extension": ".py",
   "mimetype": "text/x-python",
   "name": "python",
   "nbconvert_exporter": "python",
   "pygments_lexer": "ipython2",
   "version": "2.7.12"
  }
 },
 "nbformat": 4,
 "nbformat_minor": 1
}
