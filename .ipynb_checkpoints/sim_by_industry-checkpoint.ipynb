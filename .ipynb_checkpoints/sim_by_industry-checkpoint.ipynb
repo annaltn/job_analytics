{
 "cells": [
  {
   "cell_type": "markdown",
   "metadata": {},
   "source": [
    "## Similarity of Job Titles in one Industry\n",
    "\n",
    "We investigate topic similarity of job titles in a given industry.\n",
    "\n",
    "__Challenges__: \n",
    "+ a job title can appear in several industries in different job posts and the content of the posts can vary a lot. How to define/limit to __posts of a job title in a given industry__?"
   ]
  },
  {
   "cell_type": "code",
   "execution_count": 1,
   "metadata": {
    "collapsed": true
   },
   "outputs": [],
   "source": [
    "import ja_helpers as ja_helpers"
   ]
  },
  {
   "cell_type": "code",
   "execution_count": 3,
   "metadata": {
    "collapsed": true
   },
   "outputs": [],
   "source": [
    "def calTitleSims(row):\n",
    "    '''\n",
    "    @param:  row contains full name and short name of an industry\n",
    "    @return: pairwise sims bw titles with at least 2 posts in the industry\n",
    "    '''\n",
    "    \n",
    "    def titleSims(industry='Education', short_name='edu'):\n",
    "        posts = df[df.industry == industry]\n",
    "        stats = getTitleStats(posts)\n",
    "        stats.to_csv(directory + 'title_stats.csv', index=False)\n",
    "    #     only analyze titles with at least 2 posts in the industry \n",
    "        titles = list(stats.query('n_post >= 2')['title'])\n",
    "        sims = simsOfTitles(titles, industry)\n",
    "        return sims.sort_values('topic_sim', ascending=False)\n",
    "    \n",
    "    industry = row['industry']; short_name = row['short_name']\n",
    "    print('\\nIndustry %s:' %industry)\n",
    "    directory = JOB_PROF + '{}/'.format(short_name)\n",
    "    if not os.path.exists(directory): os.makedirs(directory)\n",
    "    title_sims = titleSims(industry, short_name)\n",
    "    \n",
    "    title_sims.to_csv(directory + 'sims.csv', index=False)\n",
    "    print('Saved pairwise sims of job titles in {}'.format(industry))\n",
    "    \n",
    "def industryWiseSim(industries):\n",
    "    n_industry = industries.shape[0]\n",
    "    for i in range(n_industry):\n",
    "        calTitleSims(industries.iloc[i])\n",
    "        time.sleep(3)"
   ]
  },
  {
   "cell_type": "code",
   "execution_count": null,
   "metadata": {
    "collapsed": true
   },
   "outputs": [],
   "source": [
    "by_industry = df.groupby('industry')\n",
    "\n",
    "agg_df = by_industry.agg({'job_id': len, 'title': 'nunique', 'employer_id': 'nunique'})\n",
    "agg_df.reset_index(inplace=True)\n",
    "agg_df = agg_df.rename(columns={'employer_id': 'n_employer', 'job_id': 'n_post',\n",
    "                               'title': 'n_title'})"
   ]
  },
  {
   "cell_type": "code",
   "execution_count": null,
   "metadata": {
    "collapsed": true
   },
   "outputs": [],
   "source": [
    "agg_df.sort_values('n_title', ascending=False, inplace=True)\n",
    "agg_df.to_csv(DATA_DIR + 'stats/industry_stat.csv', index=False)"
   ]
  },
  {
   "cell_type": "markdown",
   "metadata": {},
   "source": [
    "### Industries in 1st quarter"
   ]
  },
  {
   "cell_type": "code",
   "execution_count": null,
   "metadata": {
    "collapsed": true
   },
   "outputs": [],
   "source": [
    "q1 = agg_df.n_title.quantile(.25)\n",
    "q1_industries = agg_df[agg_df.n_title <= q1]"
   ]
  },
  {
   "cell_type": "code",
   "execution_count": null,
   "metadata": {
    "collapsed": true
   },
   "outputs": [],
   "source": [
    "industryWiseSim(q1_industries)"
   ]
  },
  {
   "cell_type": "markdown",
   "metadata": {},
   "source": [
    "#### Agriculture and Fishing"
   ]
  },
  {
   "cell_type": "markdown",
   "metadata": {},
   "source": [
    "Some titles do not belong to Agriculture and Fishing, e.g., Signal Processing Engineer, Account Clerk, Accounts Analyst. Assigning the industry of the employer to the post (and its title) seems to have problem!!!"
   ]
  },
  {
   "cell_type": "markdown",
   "metadata": {},
   "source": [
    "#### Mining and Quarrying"
   ]
  },
  {
   "cell_type": "markdown",
   "metadata": {},
   "source": [
    "#### Electricity, Gas and Air-Conditioning Supply"
   ]
  },
  {
   "cell_type": "code",
   "execution_count": null,
   "metadata": {
    "collapsed": true
   },
   "outputs": [],
   "source": [
    "electric_sims = pd.read_csv(JOB_PROF + 'electric/sims.csv')\n",
    "electric_sims.describe()\n",
    "\n",
    "fig, ax = plt.subplots()\n",
    "vizTopicSim(electric_sims)\n",
    "fig.subplots_adjust(bottom=0.2)\n",
    "plt.savefig(electric_dir + 'sim_dist.pdf')\n",
    "plt.show(); plt.close()"
   ]
  },
  {
   "cell_type": "markdown",
   "metadata": {},
   "source": [
    "## Industries in 2nd Quarter"
   ]
  },
  {
   "cell_type": "code",
   "execution_count": null,
   "metadata": {
    "collapsed": true
   },
   "outputs": [],
   "source": [
    "q2 = agg_df.n_title.quantile(.50)\n",
    "q2_industries = agg_df.query('{} < n_title and n_title <= {}'.format(q1, q2))"
   ]
  },
  {
   "cell_type": "code",
   "execution_count": null,
   "metadata": {
    "collapsed": true
   },
   "outputs": [],
   "source": [
    "q2_industries.reset_index(inplace=True)\n",
    "del q2_industries['index']\n",
    "\n",
    "industryWiseSim(q2_industries)"
   ]
  },
  {
   "cell_type": "markdown",
   "metadata": {},
   "source": [
    "## Industries in 3rd Quarter"
   ]
  },
  {
   "cell_type": "code",
   "execution_count": null,
   "metadata": {
    "collapsed": true
   },
   "outputs": [],
   "source": [
    "q3 = agg_df.n_title.quantile(.75)\n",
    "agg_df.query('{} < n_title and n_title <= {}'.format(q2, q3))"
   ]
  },
  {
   "cell_type": "code",
   "execution_count": null,
   "metadata": {
    "collapsed": true
   },
   "outputs": [],
   "source": [
    "edu_sims = titleSims(industry='Education', short_name='edu')\n",
    "edu_sims.to_csv(JOB_PROF + 'edu/sims.csv', index=False)"
   ]
  },
  {
   "cell_type": "markdown",
   "metadata": {},
   "source": [
    "## Industries in 4th Quarter"
   ]
  },
  {
   "cell_type": "code",
   "execution_count": null,
   "metadata": {
    "collapsed": true
   },
   "outputs": [],
   "source": []
  }
 ],
 "metadata": {
  "kernelspec": {
   "display_name": "Python 2",
   "language": "python",
   "name": "python2"
  },
  "language_info": {
   "codemirror_mode": {
    "name": "ipython",
    "version": 2
   },
   "file_extension": ".py",
   "mimetype": "text/x-python",
   "name": "python",
   "nbconvert_exporter": "python",
   "pygments_lexer": "ipython2",
   "version": "2.7.13"
  }
 },
 "nbformat": 4,
 "nbformat_minor": 1
}
