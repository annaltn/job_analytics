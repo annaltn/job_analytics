{
 "cells": [
  {
   "cell_type": "code",
   "execution_count": null,
   "metadata": {
    "collapsed": true
   },
   "outputs": [],
   "source": [
    "import numpy as np\n",
    "import pandas as pd\n",
    "import matplotlib.pyplot as plt\n",
    "\n",
    "from time import time\n",
    "\n",
    "from my_util import *\n",
    "from job_rec_helpers import *"
   ]
  },
  {
   "cell_type": "markdown",
   "metadata": {},
   "source": [
    "+ HELPERS:"
   ]
  },
  {
   "cell_type": "code",
   "execution_count": 337,
   "metadata": {
    "collapsed": true
   },
   "outputs": [],
   "source": [
    "# Global vars\n",
    "DATA_DIR = 'D:/larc_projects/job_analytics/data/clean/'\n",
    "RES_DIR = 'd:/larc_projects/job_analytics/results/'\n",
    "AGG_DIR = RES_DIR + 'agg/'\n",
    "FIG_DIR = RES_DIR + 'figs/'"
   ]
  },
  {
   "cell_type": "code",
   "execution_count": null,
   "metadata": {
    "collapsed": false
   },
   "outputs": [],
   "source": [
    "apps = pd.read_csv(DATA_DIR + 'apps_with_time.csv')\n",
    "apps.shape"
   ]
  },
  {
   "cell_type": "code",
   "execution_count": 183,
   "metadata": {
    "collapsed": false
   },
   "outputs": [],
   "source": [
    "# Rm noise (numbers) in job_title column\n",
    "apps['is_number'] = map(is_number, apps['job_title'])\n",
    "apps = apps.query('is_number == False')"
   ]
  },
  {
   "cell_type": "code",
   "execution_count": 198,
   "metadata": {
    "collapsed": true
   },
   "outputs": [
    {
     "data": {
      "text/html": [
       "<div>\n",
       "<table border=\"1\" class=\"dataframe\">\n",
       "  <thead>\n",
       "    <tr style=\"text-align: right;\">\n",
       "      <th></th>\n",
       "      <th>uid</th>\n",
       "      <th>job_id</th>\n",
       "      <th>job_title</th>\n",
       "      <th>apply_date</th>\n",
       "      <th>is_number</th>\n",
       "    </tr>\n",
       "  </thead>\n",
       "  <tbody>\n",
       "    <tr>\n",
       "      <th>0</th>\n",
       "      <td>7</td>\n",
       "      <td>JOB-2015-0223128</td>\n",
       "      <td>Housekeeping Supervisor</td>\n",
       "      <td>2015-07-01</td>\n",
       "      <td>False</td>\n",
       "    </tr>\n",
       "    <tr>\n",
       "      <th>1</th>\n",
       "      <td>39</td>\n",
       "      <td>JOB-2014-0134411</td>\n",
       "      <td>Account Assistant</td>\n",
       "      <td>2015-06-16</td>\n",
       "      <td>False</td>\n",
       "    </tr>\n",
       "    <tr>\n",
       "      <th>2</th>\n",
       "      <td>39</td>\n",
       "      <td>JOB-2015-0179225</td>\n",
       "      <td>Audit Assistant</td>\n",
       "      <td>2015-06-16</td>\n",
       "      <td>False</td>\n",
       "    </tr>\n",
       "  </tbody>\n",
       "</table>\n",
       "</div>"
      ],
      "text/plain": [
       "   uid            job_id                job_title  apply_date is_number\n",
       "0    7  JOB-2015-0223128  Housekeeping Supervisor  2015-07-01     False\n",
       "1   39  JOB-2014-0134411        Account Assistant  2015-06-16     False\n",
       "2   39  JOB-2015-0179225          Audit Assistant  2015-06-16     False"
      ]
     },
     "execution_count": 198,
     "metadata": {},
     "output_type": "execute_result"
    }
   ],
   "source": [
    "# del apps['user.id']; del apps['user.index']; del apps['item.index']; del apps['freq']\n",
    "apps.rename(columns={'job.id': 'job_id', 'job.title': 'job_title', 'apply.date': 'apply_date'}, \n",
    "            inplace=True)\n",
    "\n",
    "apps.to_csv(DATA_DIR + 'apps_with_time.csv', index=False)\n",
    "apps.head(3)"
   ]
  },
  {
   "cell_type": "markdown",
   "metadata": {},
   "source": [
    "## Basic statistics"
   ]
  },
  {
   "cell_type": "code",
   "execution_count": 267,
   "metadata": {
    "collapsed": false
   },
   "outputs": [],
   "source": [
    "n_applicant = apps['uid'].nunique(); n_application = apps.shape[0]\n",
    "n_job = len(np.unique(apps['job_id'])); n_job_title = len(np.unique(apps['job_title']))\n",
    "n_company = posts['company_registration_number_uen_ep'].nunique()"
   ]
  },
  {
   "cell_type": "code",
   "execution_count": 268,
   "metadata": {
    "collapsed": false
   },
   "outputs": [
    {
     "data": {
      "text/html": [
       "<div>\n",
       "<table border=\"1\" class=\"dataframe\">\n",
       "  <thead>\n",
       "    <tr style=\"text-align: right;\">\n",
       "      <th></th>\n",
       "      <th>n_applicant</th>\n",
       "      <th>n_application</th>\n",
       "      <th>n_company</th>\n",
       "      <th>n_job</th>\n",
       "      <th>n_job_title</th>\n",
       "    </tr>\n",
       "  </thead>\n",
       "  <tbody>\n",
       "    <tr>\n",
       "      <th>0</th>\n",
       "      <td>68350</td>\n",
       "      <td>1531701</td>\n",
       "      <td>15203</td>\n",
       "      <td>177307</td>\n",
       "      <td>5829</td>\n",
       "    </tr>\n",
       "  </tbody>\n",
       "</table>\n",
       "</div>"
      ],
      "text/plain": [
       "   n_applicant  n_application  n_company   n_job  n_job_title\n",
       "0        68350        1531701      15203  177307         5829"
      ]
     },
     "execution_count": 268,
     "metadata": {},
     "output_type": "execute_result"
    }
   ],
   "source": [
    "stats = pd.DataFrame({'n_application': n_application, 'n_applicant': n_applicant, \n",
    "                      'n_job': n_job, 'n_job_title': n_job_title, 'n_company': n_company}, index=[0])\n",
    "stats"
   ]
  },
  {
   "cell_type": "code",
   "execution_count": 269,
   "metadata": {
    "collapsed": true
   },
   "outputs": [],
   "source": [
    "stats.to_csv(DATA_DIR + 'stats/stats.csv', index=False)"
   ]
  },
  {
   "cell_type": "markdown",
   "metadata": {},
   "source": [
    "## Applicant-apply-Job matrix\n",
    "\n",
    "### A. Number of times an applicant applies a specific job title (position)."
   ]
  },
  {
   "cell_type": "code",
   "execution_count": 199,
   "metadata": {
    "collapsed": true
   },
   "outputs": [
    {
     "data": {
      "text/html": [
       "<div>\n",
       "<table border=\"1\" class=\"dataframe\">\n",
       "  <thead>\n",
       "    <tr style=\"text-align: right;\">\n",
       "      <th></th>\n",
       "      <th>uid</th>\n",
       "      <th>job_title</th>\n",
       "      <th>n_job_id</th>\n",
       "      <th>n_apply_date</th>\n",
       "      <th>n_apply</th>\n",
       "    </tr>\n",
       "  </thead>\n",
       "  <tbody>\n",
       "    <tr>\n",
       "      <th>0</th>\n",
       "      <td>7</td>\n",
       "      <td>Housekeeping Supervisor</td>\n",
       "      <td>1</td>\n",
       "      <td>1</td>\n",
       "      <td>1</td>\n",
       "    </tr>\n",
       "    <tr>\n",
       "      <th>1</th>\n",
       "      <td>39</td>\n",
       "      <td>Account Assistant</td>\n",
       "      <td>3</td>\n",
       "      <td>2</td>\n",
       "      <td>3</td>\n",
       "    </tr>\n",
       "    <tr>\n",
       "      <th>2</th>\n",
       "      <td>39</td>\n",
       "      <td>Accounts Assistant</td>\n",
       "      <td>6</td>\n",
       "      <td>3</td>\n",
       "      <td>6</td>\n",
       "    </tr>\n",
       "  </tbody>\n",
       "</table>\n",
       "</div>"
      ],
      "text/plain": [
       "   uid                job_title  n_job_id  n_apply_date  n_apply\n",
       "0    7  Housekeeping Supervisor         1             1        1\n",
       "1   39        Account Assistant         3             2        3\n",
       "2   39       Accounts Assistant         6             3        6"
      ]
     },
     "execution_count": 199,
     "metadata": {},
     "output_type": "execute_result"
    }
   ],
   "source": [
    "agg_apps = apps.groupby(by=['uid', 'job_title']).agg({'job_id': 'nunique', 'apply_date': 'nunique'})\n",
    "\n",
    "# convert to DF\n",
    "agg_apps = agg_apps.add_prefix('n_').reset_index()\n",
    "agg_apps['n_apply'] = agg_apps['n_job_id']\n",
    "agg_apps.head(3)"
   ]
  },
  {
   "cell_type": "markdown",
   "metadata": {},
   "source": [
    "Let's look at the quartiles of the number of times an applicant applies for a specific job."
   ]
  },
  {
   "cell_type": "code",
   "execution_count": 103,
   "metadata": {
    "collapsed": true
   },
   "outputs": [
    {
     "data": {
      "text/html": [
       "<div>\n",
       "<table border=\"1\" class=\"dataframe\">\n",
       "  <thead>\n",
       "    <tr style=\"text-align: right;\">\n",
       "      <th></th>\n",
       "      <th>min</th>\n",
       "      <th>25%</th>\n",
       "      <th>50% (median)</th>\n",
       "      <th>75%</th>\n",
       "      <th>max</th>\n",
       "    </tr>\n",
       "  </thead>\n",
       "  <tbody>\n",
       "    <tr>\n",
       "      <th>0</th>\n",
       "      <td>1.0</td>\n",
       "      <td>1.0</td>\n",
       "      <td>1.0</td>\n",
       "      <td>2.0</td>\n",
       "      <td>582.0</td>\n",
       "    </tr>\n",
       "  </tbody>\n",
       "</table>\n",
       "</div>"
      ],
      "text/plain": [
       "   min  25%  50% (median)  75%    max\n",
       "0  1.0  1.0           1.0  2.0  582.0"
      ]
     },
     "execution_count": 103,
     "metadata": {},
     "output_type": "execute_result"
    }
   ],
   "source": [
    "quantile(df['n_apply'])"
   ]
  },
  {
   "cell_type": "markdown",
   "metadata": {},
   "source": [
    "As expected, for most of the cases (50%), an applicant applies just __once__ for a specific job. \n",
    "However, we can also see at least 1 extreme case where an applicant applies 582 times for just a job title. Thus, let's look more closely at the distribution of $N_{apply}$."
   ]
  },
  {
   "cell_type": "code",
   "execution_count": null,
   "metadata": {
    "collapsed": false
   },
   "outputs": [],
   "source": [
    "plt.hist(df['n_apply'], bins=np.unique(df['n_apply']), log=True)\n",
    "\n",
    "plt.xlabel(r'$N_{apply}$')\n",
    "plt.ylabel('# applicant-job pairs (log scale)')\n",
    "plt.savefig(DATA_DIR + 'apply_freq.pdf')\n",
    "\n",
    "plt.show()\n",
    "plt.close()"
   ]
  },
  {
   "cell_type": "markdown",
   "metadata": {},
   "source": [
    "From the histogram, we can see that there are cases when a user applies for a job titles __at least 100 times__. Let's look closer at those extreme cases.\n",
    "\n",
    "#### Extreme cases (a user applies the same job title at least 100 times)"
   ]
  },
  {
   "cell_type": "code",
   "execution_count": 218,
   "metadata": {
    "collapsed": true
   },
   "outputs": [
    {
     "name": "stderr",
     "output_type": "stream",
     "text": [
      "C:\\Users\\mdluu.2011\\AppData\\Local\\Continuum\\Anaconda2\\lib\\site-packages\\ipykernel\\__main__.py:2: SettingWithCopyWarning: \n",
      "A value is trying to be set on a copy of a slice from a DataFrame\n",
      "\n",
      "See the caveats in the documentation: http://pandas.pydata.org/pandas-docs/stable/indexing.html#indexing-view-versus-copy\n",
      "  from ipykernel import kernelapp as app\n"
     ]
    },
    {
     "data": {
      "text/html": [
       "<div>\n",
       "<table border=\"1\" class=\"dataframe\">\n",
       "  <thead>\n",
       "    <tr style=\"text-align: right;\">\n",
       "      <th></th>\n",
       "      <th>uid</th>\n",
       "      <th>job_title</th>\n",
       "      <th>n_job_id</th>\n",
       "      <th>n_apply_date</th>\n",
       "      <th>n_apply</th>\n",
       "    </tr>\n",
       "  </thead>\n",
       "  <tbody>\n",
       "    <tr>\n",
       "      <th>133988</th>\n",
       "      <td>33833</td>\n",
       "      <td>Accounts Executive</td>\n",
       "      <td>582</td>\n",
       "      <td>133</td>\n",
       "      <td>582</td>\n",
       "    </tr>\n",
       "    <tr>\n",
       "      <th>133960</th>\n",
       "      <td>33833</td>\n",
       "      <td>Accountant</td>\n",
       "      <td>534</td>\n",
       "      <td>133</td>\n",
       "      <td>534</td>\n",
       "    </tr>\n",
       "    <tr>\n",
       "      <th>570379</th>\n",
       "      <td>108289</td>\n",
       "      <td>Accounts Assistant</td>\n",
       "      <td>502</td>\n",
       "      <td>103</td>\n",
       "      <td>502</td>\n",
       "    </tr>\n",
       "    <tr>\n",
       "      <th>570385</th>\n",
       "      <td>108289</td>\n",
       "      <td>Accounts Executive</td>\n",
       "      <td>430</td>\n",
       "      <td>99</td>\n",
       "      <td>430</td>\n",
       "    </tr>\n",
       "    <tr>\n",
       "      <th>117092</th>\n",
       "      <td>30771</td>\n",
       "      <td>Project Manager</td>\n",
       "      <td>408</td>\n",
       "      <td>41</td>\n",
       "      <td>408</td>\n",
       "    </tr>\n",
       "  </tbody>\n",
       "</table>\n",
       "</div>"
      ],
      "text/plain": [
       "           uid           job_title  n_job_id  n_apply_date  n_apply\n",
       "133988   33833  Accounts Executive       582           133      582\n",
       "133960   33833          Accountant       534           133      534\n",
       "570379  108289  Accounts Assistant       502           103      502\n",
       "570385  108289  Accounts Executive       430            99      430\n",
       "117092   30771     Project Manager       408            41      408"
      ]
     },
     "execution_count": 218,
     "metadata": {},
     "output_type": "execute_result"
    }
   ],
   "source": [
    "extremes = agg_apps.query('n_apply >= 100')\n",
    "extremes.sort_values(by='n_apply', ascending=False, inplace=True)\n",
    "extremes.head()"
   ]
  },
  {
   "cell_type": "code",
   "execution_count": 105,
   "metadata": {
    "collapsed": false
   },
   "outputs": [
    {
     "name": "stdout",
     "output_type": "stream",
     "text": [
      "No. of extreme cases: 220\n"
     ]
    }
   ],
   "source": [
    "print('No. of extreme cases: {}'.format(extremes.shape[0]))"
   ]
  },
  {
   "cell_type": "markdown",
   "metadata": {},
   "source": [
    "To get a more complete picture on these extreme cases, let's put in __apply dates__ and __companies__ of those jobs.\n",
    "\n",
    "+ Get dates and compute duration of extreme applications:"
   ]
  },
  {
   "cell_type": "code",
   "execution_count": 84,
   "metadata": {
    "collapsed": true
   },
   "outputs": [
    {
     "data": {
      "text/html": [
       "<div>\n",
       "<table border=\"1\" class=\"dataframe\">\n",
       "  <thead>\n",
       "    <tr style=\"text-align: right;\">\n",
       "      <th></th>\n",
       "      <th>uid</th>\n",
       "      <th>job_id</th>\n",
       "      <th>job_title</th>\n",
       "      <th>apply_date</th>\n",
       "    </tr>\n",
       "  </thead>\n",
       "  <tbody>\n",
       "    <tr>\n",
       "      <th>4788</th>\n",
       "      <td>1513</td>\n",
       "      <td>JOB-2014-0097548</td>\n",
       "      <td>Quantity Surveyor</td>\n",
       "      <td>2015-04-15</td>\n",
       "    </tr>\n",
       "  </tbody>\n",
       "</table>\n",
       "</div>"
      ],
      "text/plain": [
       "       uid            job_id          job_title  apply_date\n",
       "4788  1513  JOB-2014-0097548  Quantity Surveyor  2015-04-15"
      ]
     },
     "execution_count": 84,
     "metadata": {},
     "output_type": "execute_result"
    }
   ],
   "source": [
    "# ext_users = np.unique(extremes['uid'])\n",
    "df = apps[apps['uid'].isin(extremes['uid'])]\n",
    "df = df[df['job_title'].isin(extremes['job_title'])]\n",
    "ext_apps = df\n",
    "\n",
    "ext_apps.head(1)"
   ]
  },
  {
   "cell_type": "code",
   "execution_count": 225,
   "metadata": {
    "collapsed": false
   },
   "outputs": [
    {
     "name": "stdout",
     "output_type": "stream",
     "text": [
      "Finished grouping by user-job cases. Totally we have 1877 cases.\n",
      "Calculating duration of application for each case...\n",
      "Done after: 0.40700006485s\n"
     ]
    }
   ],
   "source": [
    "res = calDuration(ext_apps)\n",
    "\n",
    "res = pd.merge(res, extremes, left_index=True, right_on=['uid', 'job_title'])\n",
    "res.sort_values(by='uid', inplace=True)\n",
    "res = res[['uid', 'job_title', 'n_apply', 'first_apply_date', 'last_apply_date', 'n_active_day', 'total_duration_in_day']]"
   ]
  },
  {
   "cell_type": "code",
   "execution_count": 226,
   "metadata": {
    "collapsed": true
   },
   "outputs": [
    {
     "data": {
      "text/html": [
       "<div>\n",
       "<table border=\"1\" class=\"dataframe\">\n",
       "  <thead>\n",
       "    <tr style=\"text-align: right;\">\n",
       "      <th></th>\n",
       "      <th>uid</th>\n",
       "      <th>job_title</th>\n",
       "      <th>n_apply</th>\n",
       "      <th>first_apply_date</th>\n",
       "      <th>last_apply_date</th>\n",
       "      <th>n_active_day</th>\n",
       "      <th>total_duration_in_day</th>\n",
       "    </tr>\n",
       "  </thead>\n",
       "  <tbody>\n",
       "    <tr>\n",
       "      <th>133988</th>\n",
       "      <td>33833</td>\n",
       "      <td>Accounts Executive</td>\n",
       "      <td>582</td>\n",
       "      <td>2015-01-05</td>\n",
       "      <td>2015-09-30</td>\n",
       "      <td>133</td>\n",
       "      <td>268</td>\n",
       "    </tr>\n",
       "    <tr>\n",
       "      <th>133960</th>\n",
       "      <td>33833</td>\n",
       "      <td>Accountant</td>\n",
       "      <td>534</td>\n",
       "      <td>2015-01-03</td>\n",
       "      <td>2015-09-30</td>\n",
       "      <td>133</td>\n",
       "      <td>270</td>\n",
       "    </tr>\n",
       "    <tr>\n",
       "      <th>570379</th>\n",
       "      <td>108289</td>\n",
       "      <td>Accounts Assistant</td>\n",
       "      <td>502</td>\n",
       "      <td>2015-01-21</td>\n",
       "      <td>2015-06-29</td>\n",
       "      <td>103</td>\n",
       "      <td>159</td>\n",
       "    </tr>\n",
       "    <tr>\n",
       "      <th>570385</th>\n",
       "      <td>108289</td>\n",
       "      <td>Accounts Executive</td>\n",
       "      <td>430</td>\n",
       "      <td>2015-01-21</td>\n",
       "      <td>2015-06-29</td>\n",
       "      <td>99</td>\n",
       "      <td>159</td>\n",
       "    </tr>\n",
       "    <tr>\n",
       "      <th>117092</th>\n",
       "      <td>30771</td>\n",
       "      <td>Project Manager</td>\n",
       "      <td>408</td>\n",
       "      <td>2015-04-20</td>\n",
       "      <td>2015-09-20</td>\n",
       "      <td>41</td>\n",
       "      <td>153</td>\n",
       "    </tr>\n",
       "  </tbody>\n",
       "</table>\n",
       "</div>"
      ],
      "text/plain": [
       "           uid           job_title  n_apply first_apply_date last_apply_date  \\\n",
       "133988   33833  Accounts Executive      582       2015-01-05      2015-09-30   \n",
       "133960   33833          Accountant      534       2015-01-03      2015-09-30   \n",
       "570379  108289  Accounts Assistant      502       2015-01-21      2015-06-29   \n",
       "570385  108289  Accounts Executive      430       2015-01-21      2015-06-29   \n",
       "117092   30771     Project Manager      408       2015-04-20      2015-09-20   \n",
       "\n",
       "        n_active_day  total_duration_in_day  \n",
       "133988           133                    268  \n",
       "133960           133                    270  \n",
       "570379           103                    159  \n",
       "570385            99                    159  \n",
       "117092            41                    153  "
      ]
     },
     "execution_count": 226,
     "metadata": {},
     "output_type": "execute_result"
    }
   ],
   "source": [
    "res.sort_values('n_apply', ascending=False, inplace=True)\n",
    "res.head()"
   ]
  },
  {
   "cell_type": "code",
   "execution_count": 228,
   "metadata": {
    "collapsed": true
   },
   "outputs": [
    {
     "data": {
      "text/html": [
       "<div>\n",
       "<table border=\"1\" class=\"dataframe\">\n",
       "  <thead>\n",
       "    <tr style=\"text-align: right;\">\n",
       "      <th></th>\n",
       "      <th>uid</th>\n",
       "      <th>job_title</th>\n",
       "      <th>n_apply</th>\n",
       "      <th>first_apply_date</th>\n",
       "      <th>last_apply_date</th>\n",
       "      <th>n_active_day</th>\n",
       "      <th>total_duration_in_day</th>\n",
       "    </tr>\n",
       "  </thead>\n",
       "  <tbody>\n",
       "    <tr>\n",
       "      <th>553082</th>\n",
       "      <td>105624</td>\n",
       "      <td>Network Engineer/Manager</td>\n",
       "      <td>102</td>\n",
       "      <td>2015-04-08</td>\n",
       "      <td>2015-06-23</td>\n",
       "      <td>17</td>\n",
       "      <td>76</td>\n",
       "    </tr>\n",
       "    <tr>\n",
       "      <th>47954</th>\n",
       "      <td>17000</td>\n",
       "      <td>Safety Coordinator</td>\n",
       "      <td>101</td>\n",
       "      <td>2015-01-01</td>\n",
       "      <td>2015-09-30</td>\n",
       "      <td>44</td>\n",
       "      <td>272</td>\n",
       "    </tr>\n",
       "    <tr>\n",
       "      <th>646235</th>\n",
       "      <td>121057</td>\n",
       "      <td>Human Resource Executive</td>\n",
       "      <td>101</td>\n",
       "      <td>2015-01-08</td>\n",
       "      <td>2015-06-25</td>\n",
       "      <td>30</td>\n",
       "      <td>168</td>\n",
       "    </tr>\n",
       "    <tr>\n",
       "      <th>134052</th>\n",
       "      <td>33833</td>\n",
       "      <td>Finance Executive</td>\n",
       "      <td>100</td>\n",
       "      <td>2015-01-14</td>\n",
       "      <td>2015-09-30</td>\n",
       "      <td>60</td>\n",
       "      <td>259</td>\n",
       "    </tr>\n",
       "    <tr>\n",
       "      <th>433860</th>\n",
       "      <td>85126</td>\n",
       "      <td>Marketing Executive</td>\n",
       "      <td>100</td>\n",
       "      <td>2015-01-21</td>\n",
       "      <td>2015-05-12</td>\n",
       "      <td>44</td>\n",
       "      <td>111</td>\n",
       "    </tr>\n",
       "  </tbody>\n",
       "</table>\n",
       "</div>"
      ],
      "text/plain": [
       "           uid                 job_title  n_apply first_apply_date  \\\n",
       "553082  105624  Network Engineer/Manager      102       2015-04-08   \n",
       "47954    17000        Safety Coordinator      101       2015-01-01   \n",
       "646235  121057  Human Resource Executive      101       2015-01-08   \n",
       "134052   33833         Finance Executive      100       2015-01-14   \n",
       "433860   85126       Marketing Executive      100       2015-01-21   \n",
       "\n",
       "       last_apply_date  n_active_day  total_duration_in_day  \n",
       "553082      2015-06-23            17                     76  \n",
       "47954       2015-09-30            44                    272  \n",
       "646235      2015-06-25            30                    168  \n",
       "134052      2015-09-30            60                    259  \n",
       "433860      2015-05-12            44                    111  "
      ]
     },
     "execution_count": 228,
     "metadata": {},
     "output_type": "execute_result"
    }
   ],
   "source": [
    "res.tail()"
   ]
  },
  {
   "cell_type": "code",
   "execution_count": 239,
   "metadata": {
    "collapsed": true
   },
   "outputs": [
    {
     "data": {
      "text/html": [
       "<div>\n",
       "<table border=\"1\" class=\"dataframe\">\n",
       "  <thead>\n",
       "    <tr style=\"text-align: right;\">\n",
       "      <th></th>\n",
       "      <th>job_title</th>\n",
       "      <th>n_apply</th>\n",
       "    </tr>\n",
       "  </thead>\n",
       "  <tbody>\n",
       "    <tr>\n",
       "      <th>38</th>\n",
       "      <td>Accounts Executive</td>\n",
       "      <td>582</td>\n",
       "    </tr>\n",
       "    <tr>\n",
       "      <th>10</th>\n",
       "      <td>Accountant</td>\n",
       "      <td>534</td>\n",
       "    </tr>\n",
       "    <tr>\n",
       "      <th>5</th>\n",
       "      <td>Account Executive</td>\n",
       "      <td>282</td>\n",
       "    </tr>\n",
       "    <tr>\n",
       "      <th>103</th>\n",
       "      <td>Finance Manager</td>\n",
       "      <td>213</td>\n",
       "    </tr>\n",
       "    <tr>\n",
       "      <th>32</th>\n",
       "      <td>Accounts Assistant</td>\n",
       "      <td>103</td>\n",
       "    </tr>\n",
       "    <tr>\n",
       "      <th>102</th>\n",
       "      <td>Finance Executive</td>\n",
       "      <td>100</td>\n",
       "    </tr>\n",
       "    <tr>\n",
       "      <th>49</th>\n",
       "      <td>Administrative Accounts Executive</td>\n",
       "      <td>77</td>\n",
       "    </tr>\n",
       "    <tr>\n",
       "      <th>40</th>\n",
       "      <td>Accounts Officer</td>\n",
       "      <td>68</td>\n",
       "    </tr>\n",
       "    <tr>\n",
       "      <th>30</th>\n",
       "      <td>Accounts Administrator</td>\n",
       "      <td>55</td>\n",
       "    </tr>\n",
       "    <tr>\n",
       "      <th>21</th>\n",
       "      <td>Accounting Executive</td>\n",
       "      <td>47</td>\n",
       "    </tr>\n",
       "    <tr>\n",
       "      <th>1</th>\n",
       "      <td>Account Assistant</td>\n",
       "      <td>47</td>\n",
       "    </tr>\n",
       "    <tr>\n",
       "      <th>63</th>\n",
       "      <td>Assistant Finance Manager</td>\n",
       "      <td>46</td>\n",
       "    </tr>\n",
       "    <tr>\n",
       "      <th>146</th>\n",
       "      <td>Senior Accountant (General)</td>\n",
       "      <td>44</td>\n",
       "    </tr>\n",
       "    <tr>\n",
       "      <th>23</th>\n",
       "      <td>Accounting Manager (Finance Department)</td>\n",
       "      <td>36</td>\n",
       "    </tr>\n",
       "    <tr>\n",
       "      <th>39</th>\n",
       "      <td>Accounts Manager</td>\n",
       "      <td>35</td>\n",
       "    </tr>\n",
       "    <tr>\n",
       "      <th>22</th>\n",
       "      <td>Accounting Manager</td>\n",
       "      <td>34</td>\n",
       "    </tr>\n",
       "    <tr>\n",
       "      <th>18</th>\n",
       "      <td>Accounting Associate Professional (eg Assistan...</td>\n",
       "      <td>25</td>\n",
       "    </tr>\n",
       "    <tr>\n",
       "      <th>33</th>\n",
       "      <td>Accounts Associate</td>\n",
       "      <td>20</td>\n",
       "    </tr>\n",
       "    <tr>\n",
       "      <th>61</th>\n",
       "      <td>Assistant Accountant</td>\n",
       "      <td>19</td>\n",
       "    </tr>\n",
       "    <tr>\n",
       "      <th>145</th>\n",
       "      <td>Senior Account Executive</td>\n",
       "      <td>19</td>\n",
       "    </tr>\n",
       "    <tr>\n",
       "      <th>104</th>\n",
       "      <td>Finance Officer</td>\n",
       "      <td>18</td>\n",
       "    </tr>\n",
       "    <tr>\n",
       "      <th>24</th>\n",
       "      <td>Accounting Officer</td>\n",
       "      <td>17</td>\n",
       "    </tr>\n",
       "    <tr>\n",
       "      <th>168</th>\n",
       "      <td>Senior Finance Manager</td>\n",
       "      <td>17</td>\n",
       "    </tr>\n",
       "    <tr>\n",
       "      <th>167</th>\n",
       "      <td>Senior Finance Executive</td>\n",
       "      <td>16</td>\n",
       "    </tr>\n",
       "    <tr>\n",
       "      <th>107</th>\n",
       "      <td>Financial Accountant</td>\n",
       "      <td>16</td>\n",
       "    </tr>\n",
       "    <tr>\n",
       "      <th>74</th>\n",
       "      <td>Category Finance Manager</td>\n",
       "      <td>16</td>\n",
       "    </tr>\n",
       "    <tr>\n",
       "      <th>14</th>\n",
       "      <td>Accountant, Company</td>\n",
       "      <td>15</td>\n",
       "    </tr>\n",
       "    <tr>\n",
       "      <th>110</th>\n",
       "      <td>Financial Controller</td>\n",
       "      <td>15</td>\n",
       "    </tr>\n",
       "    <tr>\n",
       "      <th>29</th>\n",
       "      <td>Accounts Administrative Manager</td>\n",
       "      <td>13</td>\n",
       "    </tr>\n",
       "    <tr>\n",
       "      <th>17</th>\n",
       "      <td>Accounting Assistant</td>\n",
       "      <td>11</td>\n",
       "    </tr>\n",
       "    <tr>\n",
       "      <th>...</th>\n",
       "      <td>...</td>\n",
       "      <td>...</td>\n",
       "    </tr>\n",
       "    <tr>\n",
       "      <th>19</th>\n",
       "      <td>Accounting Clerk</td>\n",
       "      <td>1</td>\n",
       "    </tr>\n",
       "    <tr>\n",
       "      <th>16</th>\n",
       "      <td>Accounting Analyst</td>\n",
       "      <td>1</td>\n",
       "    </tr>\n",
       "    <tr>\n",
       "      <th>9</th>\n",
       "      <td>Account Support Executive</td>\n",
       "      <td>1</td>\n",
       "    </tr>\n",
       "    <tr>\n",
       "      <th>7</th>\n",
       "      <td>Account Management Executive</td>\n",
       "      <td>1</td>\n",
       "    </tr>\n",
       "    <tr>\n",
       "      <th>4</th>\n",
       "      <td>Account Development Manager</td>\n",
       "      <td>1</td>\n",
       "    </tr>\n",
       "    <tr>\n",
       "      <th>3</th>\n",
       "      <td>Account Development Executive</td>\n",
       "      <td>1</td>\n",
       "    </tr>\n",
       "    <tr>\n",
       "      <th>80</th>\n",
       "      <td>Company Secretary (Executive)</td>\n",
       "      <td>1</td>\n",
       "    </tr>\n",
       "    <tr>\n",
       "      <th>84</th>\n",
       "      <td>Corporate Secretarial Executive</td>\n",
       "      <td>1</td>\n",
       "    </tr>\n",
       "    <tr>\n",
       "      <th>85</th>\n",
       "      <td>Credit Administrative Assistant</td>\n",
       "      <td>1</td>\n",
       "    </tr>\n",
       "    <tr>\n",
       "      <th>87</th>\n",
       "      <td>Credit Control Clerk</td>\n",
       "      <td>1</td>\n",
       "    </tr>\n",
       "    <tr>\n",
       "      <th>128</th>\n",
       "      <td>Operations Head</td>\n",
       "      <td>1</td>\n",
       "    </tr>\n",
       "    <tr>\n",
       "      <th>127</th>\n",
       "      <td>Operations Executive</td>\n",
       "      <td>1</td>\n",
       "    </tr>\n",
       "    <tr>\n",
       "      <th>126</th>\n",
       "      <td>Operations Accountant</td>\n",
       "      <td>1</td>\n",
       "    </tr>\n",
       "    <tr>\n",
       "      <th>125</th>\n",
       "      <td>Manager, Administration</td>\n",
       "      <td>1</td>\n",
       "    </tr>\n",
       "    <tr>\n",
       "      <th>123</th>\n",
       "      <td>Management Accountant</td>\n",
       "      <td>1</td>\n",
       "    </tr>\n",
       "    <tr>\n",
       "      <th>121</th>\n",
       "      <td>Learning Support Assistant</td>\n",
       "      <td>1</td>\n",
       "    </tr>\n",
       "    <tr>\n",
       "      <th>120</th>\n",
       "      <td>Key Account Executive</td>\n",
       "      <td>1</td>\n",
       "    </tr>\n",
       "    <tr>\n",
       "      <th>119</th>\n",
       "      <td>Human Resource Specialist</td>\n",
       "      <td>1</td>\n",
       "    </tr>\n",
       "    <tr>\n",
       "      <th>118</th>\n",
       "      <td>Human Resource Manager</td>\n",
       "      <td>1</td>\n",
       "    </tr>\n",
       "    <tr>\n",
       "      <th>115</th>\n",
       "      <td>Human Resource &amp; Administrative Manager</td>\n",
       "      <td>1</td>\n",
       "    </tr>\n",
       "    <tr>\n",
       "      <th>113</th>\n",
       "      <td>General Ledger Bookkeeper</td>\n",
       "      <td>1</td>\n",
       "    </tr>\n",
       "    <tr>\n",
       "      <th>112</th>\n",
       "      <td>Fund Accountant</td>\n",
       "      <td>1</td>\n",
       "    </tr>\n",
       "    <tr>\n",
       "      <th>109</th>\n",
       "      <td>Financial Consultant</td>\n",
       "      <td>1</td>\n",
       "    </tr>\n",
       "    <tr>\n",
       "      <th>105</th>\n",
       "      <td>Finance Support Manager</td>\n",
       "      <td>1</td>\n",
       "    </tr>\n",
       "    <tr>\n",
       "      <th>99</th>\n",
       "      <td>Finance Associate</td>\n",
       "      <td>1</td>\n",
       "    </tr>\n",
       "    <tr>\n",
       "      <th>98</th>\n",
       "      <td>Finance Assistant Officer</td>\n",
       "      <td>1</td>\n",
       "    </tr>\n",
       "    <tr>\n",
       "      <th>96</th>\n",
       "      <td>Executive, Management</td>\n",
       "      <td>1</td>\n",
       "    </tr>\n",
       "    <tr>\n",
       "      <th>92</th>\n",
       "      <td>Deputy Manager</td>\n",
       "      <td>1</td>\n",
       "    </tr>\n",
       "    <tr>\n",
       "      <th>91</th>\n",
       "      <td>Deputy Finance Director</td>\n",
       "      <td>1</td>\n",
       "    </tr>\n",
       "    <tr>\n",
       "      <th>177</th>\n",
       "      <td>Training Officer</td>\n",
       "      <td>1</td>\n",
       "    </tr>\n",
       "  </tbody>\n",
       "</table>\n",
       "<p>178 rows × 2 columns</p>\n",
       "</div>"
      ],
      "text/plain": [
       "                                             job_title  n_apply\n",
       "38                                  Accounts Executive      582\n",
       "10                                          Accountant      534\n",
       "5                                    Account Executive      282\n",
       "103                                    Finance Manager      213\n",
       "32                                  Accounts Assistant      103\n",
       "102                                  Finance Executive      100\n",
       "49                   Administrative Accounts Executive       77\n",
       "40                                    Accounts Officer       68\n",
       "30                              Accounts Administrator       55\n",
       "21                                Accounting Executive       47\n",
       "1                                    Account Assistant       47\n",
       "63                           Assistant Finance Manager       46\n",
       "146                        Senior Accountant (General)       44\n",
       "23             Accounting Manager (Finance Department)       36\n",
       "39                                    Accounts Manager       35\n",
       "22                                  Accounting Manager       34\n",
       "18   Accounting Associate Professional (eg Assistan...       25\n",
       "33                                  Accounts Associate       20\n",
       "61                                Assistant Accountant       19\n",
       "145                           Senior Account Executive       19\n",
       "104                                    Finance Officer       18\n",
       "24                                  Accounting Officer       17\n",
       "168                             Senior Finance Manager       17\n",
       "167                           Senior Finance Executive       16\n",
       "107                               Financial Accountant       16\n",
       "74                            Category Finance Manager       16\n",
       "14                                 Accountant, Company       15\n",
       "110                               Financial Controller       15\n",
       "29                     Accounts Administrative Manager       13\n",
       "17                                Accounting Assistant       11\n",
       "..                                                 ...      ...\n",
       "19                                    Accounting Clerk        1\n",
       "16                                  Accounting Analyst        1\n",
       "9                            Account Support Executive        1\n",
       "7                         Account Management Executive        1\n",
       "4                          Account Development Manager        1\n",
       "3                        Account Development Executive        1\n",
       "80                       Company Secretary (Executive)        1\n",
       "84                     Corporate Secretarial Executive        1\n",
       "85                     Credit Administrative Assistant        1\n",
       "87                                Credit Control Clerk        1\n",
       "128                                    Operations Head        1\n",
       "127                               Operations Executive        1\n",
       "126                              Operations Accountant        1\n",
       "125                            Manager, Administration        1\n",
       "123                              Management Accountant        1\n",
       "121                         Learning Support Assistant        1\n",
       "120                              Key Account Executive        1\n",
       "119                          Human Resource Specialist        1\n",
       "118                             Human Resource Manager        1\n",
       "115            Human Resource & Administrative Manager        1\n",
       "113                          General Ledger Bookkeeper        1\n",
       "112                                    Fund Accountant        1\n",
       "109                               Financial Consultant        1\n",
       "105                            Finance Support Manager        1\n",
       "99                                   Finance Associate        1\n",
       "98                           Finance Assistant Officer        1\n",
       "96                               Executive, Management        1\n",
       "92                                      Deputy Manager        1\n",
       "91                             Deputy Finance Director        1\n",
       "177                                   Training Officer        1\n",
       "\n",
       "[178 rows x 2 columns]"
      ]
     },
     "execution_count": 239,
     "metadata": {},
     "output_type": "execute_result"
    }
   ],
   "source": [
    "tmp = apps.query('uid==33833')[['uid', 'job_title', 'job_id']] .groupby('job_title').agg({'job_id': 'nunique'})\n",
    "tmp = tmp.add_prefix('n_').reset_index()\n",
    "tmp.rename(columns={'n_job_id': 'n_apply'}, inplace=True)\n",
    "tmp.sort_values('n_apply', ascending=False, inplace=True)"
   ]
  },
  {
   "cell_type": "code",
   "execution_count": 240,
   "metadata": {
    "collapsed": false
   },
   "outputs": [
    {
     "data": {
      "text/html": [
       "<div>\n",
       "<table border=\"1\" class=\"dataframe\">\n",
       "  <thead>\n",
       "    <tr style=\"text-align: right;\">\n",
       "      <th></th>\n",
       "      <th>min</th>\n",
       "      <th>25%</th>\n",
       "      <th>50% (median)</th>\n",
       "      <th>75%</th>\n",
       "      <th>max</th>\n",
       "    </tr>\n",
       "  </thead>\n",
       "  <tbody>\n",
       "    <tr>\n",
       "      <th>0</th>\n",
       "      <td>2.0</td>\n",
       "      <td>28.8</td>\n",
       "      <td>44.0</td>\n",
       "      <td>67.2</td>\n",
       "      <td>139.0</td>\n",
       "    </tr>\n",
       "  </tbody>\n",
       "</table>\n",
       "</div>"
      ],
      "text/plain": [
       "   min   25%  50% (median)   75%    max\n",
       "0  2.0  28.8          44.0  67.2  139.0"
      ]
     },
     "execution_count": 240,
     "metadata": {},
     "output_type": "execute_result"
    }
   ],
   "source": [
    "quantile(res['n_active_day'])"
   ]
  },
  {
   "cell_type": "code",
   "execution_count": 241,
   "metadata": {
    "collapsed": true
   },
   "outputs": [],
   "source": [
    "res.to_csv(RES_DIR + 'extremes.csv')"
   ]
  },
  {
   "cell_type": "markdown",
   "metadata": {},
   "source": [
    "+ Dates/duration of all applications:"
   ]
  },
  {
   "cell_type": "code",
   "execution_count": 227,
   "metadata": {
    "collapsed": true
   },
   "outputs": [
    {
     "name": "stdout",
     "output_type": "stream",
     "text": [
      "Finished grouping by user-job cases. Totally we have 775693 cases.\n",
      "Calculating duration of application for each case...\n",
      "Done after: 147.805999994s\n"
     ]
    },
    {
     "data": {
      "text/html": [
       "<div>\n",
       "<table border=\"1\" class=\"dataframe\">\n",
       "  <thead>\n",
       "    <tr style=\"text-align: right;\">\n",
       "      <th></th>\n",
       "      <th></th>\n",
       "      <th>first_apply_date</th>\n",
       "      <th>last_apply_date</th>\n",
       "      <th>n_active_day</th>\n",
       "      <th>total_duration_in_day</th>\n",
       "    </tr>\n",
       "    <tr>\n",
       "      <th>uid</th>\n",
       "      <th>job_title</th>\n",
       "      <th></th>\n",
       "      <th></th>\n",
       "      <th></th>\n",
       "      <th></th>\n",
       "    </tr>\n",
       "  </thead>\n",
       "  <tbody>\n",
       "    <tr>\n",
       "      <th>7</th>\n",
       "      <th>Housekeeping Supervisor</th>\n",
       "      <td>2015-07-01</td>\n",
       "      <td>2015-07-01</td>\n",
       "      <td>1</td>\n",
       "      <td>0</td>\n",
       "    </tr>\n",
       "    <tr>\n",
       "      <th rowspan=\"4\" valign=\"top\">39</th>\n",
       "      <th>Account Assistant</th>\n",
       "      <td>2015-06-12</td>\n",
       "      <td>2015-06-16</td>\n",
       "      <td>2</td>\n",
       "      <td>4</td>\n",
       "    </tr>\n",
       "    <tr>\n",
       "      <th>Accounts Assistant</th>\n",
       "      <td>2015-06-11</td>\n",
       "      <td>2015-06-16</td>\n",
       "      <td>3</td>\n",
       "      <td>5</td>\n",
       "    </tr>\n",
       "    <tr>\n",
       "      <th>Accounts Executive</th>\n",
       "      <td>2015-06-16</td>\n",
       "      <td>2015-06-16</td>\n",
       "      <td>1</td>\n",
       "      <td>0</td>\n",
       "    </tr>\n",
       "    <tr>\n",
       "      <th>Accounts Payable (Or Receivable) Bookkeeper</th>\n",
       "      <td>2015-06-11</td>\n",
       "      <td>2015-06-11</td>\n",
       "      <td>1</td>\n",
       "      <td>0</td>\n",
       "    </tr>\n",
       "  </tbody>\n",
       "</table>\n",
       "</div>"
      ],
      "text/plain": [
       "                                                first_apply_date  \\\n",
       "uid job_title                                                      \n",
       "7   Housekeeping Supervisor                           2015-07-01   \n",
       "39  Account Assistant                                 2015-06-12   \n",
       "    Accounts Assistant                                2015-06-11   \n",
       "    Accounts Executive                                2015-06-16   \n",
       "    Accounts Payable (Or Receivable) Bookkeeper       2015-06-11   \n",
       "\n",
       "                                                last_apply_date  n_active_day  \\\n",
       "uid job_title                                                                   \n",
       "7   Housekeeping Supervisor                          2015-07-01             1   \n",
       "39  Account Assistant                                2015-06-16             2   \n",
       "    Accounts Assistant                               2015-06-16             3   \n",
       "    Accounts Executive                               2015-06-16             1   \n",
       "    Accounts Payable (Or Receivable) Bookkeeper      2015-06-11             1   \n",
       "\n",
       "                                                 total_duration_in_day  \n",
       "uid job_title                                                           \n",
       "7   Housekeeping Supervisor                                          0  \n",
       "39  Account Assistant                                                4  \n",
       "    Accounts Assistant                                               5  \n",
       "    Accounts Executive                                               0  \n",
       "    Accounts Payable (Or Receivable) Bookkeeper                      0  "
      ]
     },
     "execution_count": 227,
     "metadata": {},
     "output_type": "execute_result"
    }
   ],
   "source": [
    "apps_with_duration = calDuration(apps)\n",
    "\n",
    "apps_with_duration.head()"
   ]
  },
  {
   "cell_type": "code",
   "execution_count": 244,
   "metadata": {
    "collapsed": true
   },
   "outputs": [
    {
     "data": {
      "text/html": [
       "<div>\n",
       "<table border=\"1\" class=\"dataframe\">\n",
       "  <thead>\n",
       "    <tr style=\"text-align: right;\">\n",
       "      <th></th>\n",
       "      <th>uid</th>\n",
       "      <th>job_title</th>\n",
       "      <th>n_apply</th>\n",
       "      <th>first_apply_date</th>\n",
       "      <th>last_apply_date</th>\n",
       "      <th>n_active_day</th>\n",
       "      <th>total_duration_in_day</th>\n",
       "    </tr>\n",
       "  </thead>\n",
       "  <tbody>\n",
       "    <tr>\n",
       "      <th>0</th>\n",
       "      <td>7</td>\n",
       "      <td>Housekeeping Supervisor</td>\n",
       "      <td>1</td>\n",
       "      <td>2015-07-01</td>\n",
       "      <td>2015-07-01</td>\n",
       "      <td>1</td>\n",
       "      <td>0</td>\n",
       "    </tr>\n",
       "    <tr>\n",
       "      <th>15</th>\n",
       "      <td>39</td>\n",
       "      <td>Shipping Clerk (Freight)</td>\n",
       "      <td>1</td>\n",
       "      <td>2015-06-11</td>\n",
       "      <td>2015-06-11</td>\n",
       "      <td>1</td>\n",
       "      <td>0</td>\n",
       "    </tr>\n",
       "    <tr>\n",
       "      <th>14</th>\n",
       "      <td>39</td>\n",
       "      <td>Senior Accounts Assistant</td>\n",
       "      <td>1</td>\n",
       "      <td>2015-06-16</td>\n",
       "      <td>2015-06-16</td>\n",
       "      <td>1</td>\n",
       "      <td>0</td>\n",
       "    </tr>\n",
       "    <tr>\n",
       "      <th>13</th>\n",
       "      <td>39</td>\n",
       "      <td>Operations Officer</td>\n",
       "      <td>1</td>\n",
       "      <td>2015-06-11</td>\n",
       "      <td>2015-06-11</td>\n",
       "      <td>1</td>\n",
       "      <td>0</td>\n",
       "    </tr>\n",
       "    <tr>\n",
       "      <th>12</th>\n",
       "      <td>39</td>\n",
       "      <td>Data Entry Clerk</td>\n",
       "      <td>2</td>\n",
       "      <td>2015-06-16</td>\n",
       "      <td>2015-06-16</td>\n",
       "      <td>1</td>\n",
       "      <td>0</td>\n",
       "    </tr>\n",
       "  </tbody>\n",
       "</table>\n",
       "</div>"
      ],
      "text/plain": [
       "    uid                  job_title  n_apply first_apply_date last_apply_date  \\\n",
       "0     7    Housekeeping Supervisor        1       2015-07-01      2015-07-01   \n",
       "15   39   Shipping Clerk (Freight)        1       2015-06-11      2015-06-11   \n",
       "14   39  Senior Accounts Assistant        1       2015-06-16      2015-06-16   \n",
       "13   39         Operations Officer        1       2015-06-11      2015-06-11   \n",
       "12   39           Data Entry Clerk        2       2015-06-16      2015-06-16   \n",
       "\n",
       "    n_active_day  total_duration_in_day  \n",
       "0              1                      0  \n",
       "15             1                      0  \n",
       "14             1                      0  \n",
       "13             1                      0  \n",
       "12             1                      0  "
      ]
     },
     "execution_count": 244,
     "metadata": {},
     "output_type": "execute_result"
    }
   ],
   "source": [
    "all_res = pd.merge(apps_with_duration, agg_apps, left_index=True, right_on=['uid', 'job_title'])\n",
    "all_res.sort_values(by='uid', inplace=True)\n",
    "all_res = all_res[['uid', 'job_title', 'n_apply', 'first_apply_date', 'last_apply_date', 'n_active_day', 'total_duration_in_day']]\n",
    "\n",
    "all_res.head()"
   ]
  },
  {
   "cell_type": "code",
   "execution_count": 334,
   "metadata": {
    "collapsed": false
   },
   "outputs": [
    {
     "data": {
      "text/plain": [
       "(775693, 7)"
      ]
     },
     "execution_count": 334,
     "metadata": {},
     "output_type": "execute_result"
    }
   ],
   "source": [
    "all_res.shape"
   ]
  },
  {
   "cell_type": "code",
   "execution_count": 335,
   "metadata": {
    "collapsed": true
   },
   "outputs": [],
   "source": [
    "all_res.to_csv(AGG_DIR + 'timed_apps.csv', index=False)"
   ]
  },
  {
   "cell_type": "code",
   "execution_count": 249,
   "metadata": {
    "collapsed": true
   },
   "outputs": [],
   "source": [
    "normal = all_res.query('n_apply < 100')\n",
    "extremes = res"
   ]
  },
  {
   "cell_type": "code",
   "execution_count": 253,
   "metadata": {
    "collapsed": true
   },
   "outputs": [
    {
     "data": {
      "image/png": "[encoded data removed]",
      "text/plain": [
       "<matplotlib.figure.Figure at 0x29f9f198>"
      ]
     },
     "metadata": {},
     "output_type": "display_data"
    }
   ],
   "source": [
    "plt.figure(figsize=(10,6))\n",
    "plt.subplot(1,2,1)\n",
    "plt.hist(extremes['n_active_day'], bins=np.unique(extremes['n_active_day']))\n",
    "plt.title('Extreme cases')\n",
    "plt.xlabel('# active days')\n",
    "plt.ylabel('# user-apply-job cases')\n",
    "\n",
    "plt.subplots_adjust(wspace=.5)\n",
    "plt.subplot(1,2,2)\n",
    "plt.hist(normal['n_active_day'], bins=np.unique(normal['n_active_day']), \n",
    "         log=True)\n",
    "plt.title('Normal cases')\n",
    "plt.xlabel('# active days')\n",
    "plt.ylabel('# user-apply-job cases')\n",
    "\n",
    "plt.savefig(RES_DIR + 'n_active_day.pdf')\n",
    "plt.show()\n",
    "plt.close()"
   ]
  },
  {
   "cell_type": "markdown",
   "metadata": {},
   "source": [
    "### B. Number of __different__ job titles an applicant applies"
   ]
  },
  {
   "cell_type": "code",
   "execution_count": null,
   "metadata": {
    "collapsed": false,
    "scrolled": true
   },
   "outputs": [],
   "source": [
    "agg_job_title = apps[['uid', 'job_title']].groupby('uid').agg({'job_title': 'nunique'})\n",
    "agg_job_title = agg_job_title.add_prefix('n_').reset_index()\n",
    "\n",
    "agg_job_title.sort_values('n_job_title', ascending=False, inplace=True)\n",
    "# agg_job_title.head()\n",
    "\n",
    "agg_job_id = apps[['uid', 'job_id']].groupby('uid').agg({'job_id': 'nunique'})\n",
    "agg_job_id = agg_job_id.add_prefix('n_').reset_index()\n",
    "agg_job_id.sort_values('n_job_id', ascending=False, inplace=True)\n",
    "\n",
    "agg_df = pd.merge(agg_job_title, agg_job_id)"
   ]
  },
  {
   "cell_type": "code",
   "execution_count": 272,
   "metadata": {
    "collapsed": true
   },
   "outputs": [
    {
     "data": {
      "text/html": [
       "<div>\n",
       "<table border=\"1\" class=\"dataframe\">\n",
       "  <thead>\n",
       "    <tr style=\"text-align: right;\">\n",
       "      <th></th>\n",
       "      <th>uid</th>\n",
       "      <th>n_job_title</th>\n",
       "      <th>n_job</th>\n",
       "      <th>job_titles</th>\n",
       "    </tr>\n",
       "  </thead>\n",
       "  <tbody>\n",
       "    <tr>\n",
       "      <th>0</th>\n",
       "      <td>26451</td>\n",
       "      <td>1034</td>\n",
       "      <td>4194</td>\n",
       "      <td>Business Consultant,Brand Development Manager,...</td>\n",
       "    </tr>\n",
       "    <tr>\n",
       "      <th>1</th>\n",
       "      <td>103204</td>\n",
       "      <td>1001</td>\n",
       "      <td>7754</td>\n",
       "      <td>Human Resource &amp; Administration Manager,Admini...</td>\n",
       "    </tr>\n",
       "    <tr>\n",
       "      <th>2</th>\n",
       "      <td>14322</td>\n",
       "      <td>788</td>\n",
       "      <td>3649</td>\n",
       "      <td>Procurement Officer,Marine Operations Executiv...</td>\n",
       "    </tr>\n",
       "    <tr>\n",
       "      <th>3</th>\n",
       "      <td>141505</td>\n",
       "      <td>742</td>\n",
       "      <td>2068</td>\n",
       "      <td>Safety, Health &amp; Environment Coordinator,Assis...</td>\n",
       "    </tr>\n",
       "    <tr>\n",
       "      <th>4</th>\n",
       "      <td>100500</td>\n",
       "      <td>647</td>\n",
       "      <td>2825</td>\n",
       "      <td>Software Consultant,Investment Analyst,Procure...</td>\n",
       "    </tr>\n",
       "  </tbody>\n",
       "</table>\n",
       "</div>"
      ],
      "text/plain": [
       "      uid  n_job_title  n_job  \\\n",
       "0   26451         1034   4194   \n",
       "1  103204         1001   7754   \n",
       "2   14322          788   3649   \n",
       "3  141505          742   2068   \n",
       "4  100500          647   2825   \n",
       "\n",
       "                                          job_titles  \n",
       "0  Business Consultant,Brand Development Manager,...  \n",
       "1  Human Resource & Administration Manager,Admini...  \n",
       "2  Procurement Officer,Marine Operations Executiv...  \n",
       "3  Safety, Health & Environment Coordinator,Assis...  \n",
       "4  Software Consultant,Investment Analyst,Procure...  "
      ]
     },
     "execution_count": 272,
     "metadata": {},
     "output_type": "execute_result"
    }
   ],
   "source": [
    "agg_df.rename(columns={'n_job_id': 'n_job'}, inplace=True)\n",
    "agg_df.head()"
   ]
  },
  {
   "cell_type": "code",
   "execution_count": 281,
   "metadata": {
    "collapsed": true
   },
   "outputs": [],
   "source": [
    "plt.close('all')"
   ]
  },
  {
   "cell_type": "code",
   "execution_count": 283,
   "metadata": {
    "collapsed": true
   },
   "outputs": [
    {
     "data": {
      "image/png": "[encoded data removed]",
      "text/plain": [
       "<matplotlib.figure.Figure at 0x45cd0a90>"
      ]
     },
     "metadata": {},
     "output_type": "display_data"
    }
   ],
   "source": [
    "fig = plt.figure(figsize=(10,6))\n",
    "plt.subplot(1,2,1)\n",
    "loglog(agg_df['n_job_title'], xl='# Job titles applied', yl='# applicants')\n",
    "plt.subplots_adjust(wspace=.5)\n",
    "\n",
    "plt.subplot(1,2,2)\n",
    "loglog(agg_df['n_job'], xl='# Jobs applied', yl='# applicants')\n",
    "\n",
    "plt.savefig(FIG_DIR + 'figs/applied_jobs.pdf')\n",
    "plt.show()\n",
    "plt.close()"
   ]
  },
  {
   "cell_type": "code",
   "execution_count": 184,
   "metadata": {
    "collapsed": false
   },
   "outputs": [
    {
     "name": "stdout",
     "output_type": "stream",
     "text": [
      "1531701\n"
     ]
    }
   ],
   "source": [
    "print apps.shape[0]"
   ]
  },
  {
   "cell_type": "code",
   "execution_count": 336,
   "metadata": {
    "collapsed": false
   },
   "outputs": [
    {
     "name": "stdout",
     "output_type": "stream",
     "text": [
      "Finished joining job titles after 2.87000012398s\n"
     ]
    }
   ],
   "source": [
    "# Join all job titles of each user for reference\n",
    "t0 = time()\n",
    "tmp = apps[['uid', 'job_title']].groupby('uid').agg({'job_title': paste})\n",
    "print('Finished joining job titles after {}s'.format(time()-t0))\n",
    "tmp = tmp.add_suffix('s').reset_index()\n",
    "\n",
    "apps_by_job_title = pd.merge(apps_by_job_title, tmp)\n",
    "apps_by_job_title.sort_values('n_job_title', ascending=False, inplace=True)\n",
    "\n",
    "apps_by_job_title.to_csv(AGG_DIR + 'apps_by_job_title.csv', index=False)"
   ]
  },
  {
   "cell_type": "markdown",
   "metadata": {},
   "source": [
    "### C. Number of company an applicant applies"
   ]
  },
  {
   "cell_type": "markdown",
   "metadata": {},
   "source": [
    "#### Merge necessary files to get a full dataset"
   ]
  },
  {
   "cell_type": "code",
   "execution_count": 285,
   "metadata": {
    "collapsed": true
   },
   "outputs": [
    {
     "data": {
      "text/html": [
       "<div>\n",
       "<table border=\"1\" class=\"dataframe\">\n",
       "  <thead>\n",
       "    <tr style=\"text-align: right;\">\n",
       "      <th></th>\n",
       "      <th>company_registration_number_uen_ep</th>\n",
       "      <th>job_id</th>\n",
       "      <th>no_of_applications</th>\n",
       "      <th>company_registration_number_uen_job_posting</th>\n",
       "      <th>job_posting_date_history</th>\n",
       "      <th>job_expiry_date_history</th>\n",
       "      <th>job_expiry_year</th>\n",
       "      <th>job_ssoc_code_list</th>\n",
       "      <th>job_ssoc_description_list</th>\n",
       "      <th>no_of_vacancies</th>\n",
       "      <th>job_monthly_min_sal</th>\n",
       "      <th>job_monthly_max_sal</th>\n",
       "      <th>no_of_times_job_posting_reopened</th>\n",
       "      <th>job_posting_status</th>\n",
       "      <th>job_employment_type_list</th>\n",
       "      <th>job_experience_required_years</th>\n",
       "      <th>job_level</th>\n",
       "    </tr>\n",
       "  </thead>\n",
       "  <tbody>\n",
       "    <tr>\n",
       "      <th>0</th>\n",
       "      <td>002</td>\n",
       "      <td>JOB-2015-0145758</td>\n",
       "      <td>1.0</td>\n",
       "      <td>002</td>\n",
       "      <td>2015-01-13</td>\n",
       "      <td>2015-02-12</td>\n",
       "      <td>2015</td>\n",
       "      <td>31275</td>\n",
       "      <td>Architectural Assistant</td>\n",
       "      <td>2</td>\n",
       "      <td>4000.0</td>\n",
       "      <td>6000.0</td>\n",
       "      <td>0</td>\n",
       "      <td>Closed</td>\n",
       "      <td>Full Time, Permanent</td>\n",
       "      <td>3.0</td>\n",
       "      <td>Manager</td>\n",
       "    </tr>\n",
       "    <tr>\n",
       "      <th>1</th>\n",
       "      <td>002</td>\n",
       "      <td>JOB-2015-0145763</td>\n",
       "      <td>3.0</td>\n",
       "      <td>002</td>\n",
       "      <td>2015-01-13</td>\n",
       "      <td>2015-02-12</td>\n",
       "      <td>2015</td>\n",
       "      <td>31271</td>\n",
       "      <td>Draftsman</td>\n",
       "      <td>3</td>\n",
       "      <td>3500.0</td>\n",
       "      <td>4500.0</td>\n",
       "      <td>0</td>\n",
       "      <td>Closed</td>\n",
       "      <td>Full Time, Permanent</td>\n",
       "      <td>3.0</td>\n",
       "      <td>Executive</td>\n",
       "    </tr>\n",
       "    <tr>\n",
       "      <th>2</th>\n",
       "      <td>003</td>\n",
       "      <td>JOB-2015-0172574</td>\n",
       "      <td>3.0</td>\n",
       "      <td>003</td>\n",
       "      <td>2015-02-23</td>\n",
       "      <td>2015-03-25</td>\n",
       "      <td>2015</td>\n",
       "      <td>39229</td>\n",
       "      <td>Administrative Accounts Executive</td>\n",
       "      <td>1</td>\n",
       "      <td>NaN</td>\n",
       "      <td>NaN</td>\n",
       "      <td>0</td>\n",
       "      <td>Closed</td>\n",
       "      <td>Full Time, Permanent</td>\n",
       "      <td>5.0</td>\n",
       "      <td>NaN</td>\n",
       "    </tr>\n",
       "    <tr>\n",
       "      <th>3</th>\n",
       "      <td>04130400D</td>\n",
       "      <td>JOB-2015-0173823</td>\n",
       "      <td>NaN</td>\n",
       "      <td>04130400D</td>\n",
       "      <td>2015-02-24</td>\n",
       "      <td>2015-03-26</td>\n",
       "      <td>2015</td>\n",
       "      <td>74399</td>\n",
       "      <td>Garland Maker</td>\n",
       "      <td>3</td>\n",
       "      <td>3500.0</td>\n",
       "      <td>4500.0</td>\n",
       "      <td>1</td>\n",
       "      <td>Closed</td>\n",
       "      <td>Full Time</td>\n",
       "      <td>1.0</td>\n",
       "      <td>Fresh/entry level,Non-executive</td>\n",
       "    </tr>\n",
       "    <tr>\n",
       "      <th>4</th>\n",
       "      <td>07479300D</td>\n",
       "      <td>JOB-2015-0144684</td>\n",
       "      <td>93.0</td>\n",
       "      <td>07479300D</td>\n",
       "      <td>2015-01-12</td>\n",
       "      <td>2015-02-11</td>\n",
       "      <td>2015</td>\n",
       "      <td>21319</td>\n",
       "      <td>Information Technology Manager</td>\n",
       "      <td>1</td>\n",
       "      <td>5000.0</td>\n",
       "      <td>7500.0</td>\n",
       "      <td>1</td>\n",
       "      <td>Closed</td>\n",
       "      <td>Full Time</td>\n",
       "      <td>5.0</td>\n",
       "      <td>Senior Management</td>\n",
       "    </tr>\n",
       "  </tbody>\n",
       "</table>\n",
       "</div>"
      ],
      "text/plain": [
       "  company_registration_number_uen_ep            job_id  no_of_applications  \\\n",
       "0                                002  JOB-2015-0145758                 1.0   \n",
       "1                                002  JOB-2015-0145763                 3.0   \n",
       "2                                003  JOB-2015-0172574                 3.0   \n",
       "3                          04130400D  JOB-2015-0173823                 NaN   \n",
       "4                          07479300D  JOB-2015-0144684                93.0   \n",
       "\n",
       "  company_registration_number_uen_job_posting job_posting_date_history  \\\n",
       "0                                         002               2015-01-13   \n",
       "1                                         002               2015-01-13   \n",
       "2                                         003               2015-02-23   \n",
       "3                                   04130400D               2015-02-24   \n",
       "4                                   07479300D               2015-01-12   \n",
       "\n",
       "  job_expiry_date_history  job_expiry_year job_ssoc_code_list  \\\n",
       "0              2015-02-12             2015              31275   \n",
       "1              2015-02-12             2015              31271   \n",
       "2              2015-03-25             2015              39229   \n",
       "3              2015-03-26             2015              74399   \n",
       "4              2015-02-11             2015              21319   \n",
       "\n",
       "           job_ssoc_description_list  no_of_vacancies  job_monthly_min_sal  \\\n",
       "0            Architectural Assistant                2               4000.0   \n",
       "1                          Draftsman                3               3500.0   \n",
       "2  Administrative Accounts Executive                1                  NaN   \n",
       "3                      Garland Maker                3               3500.0   \n",
       "4     Information Technology Manager                1               5000.0   \n",
       "\n",
       "   job_monthly_max_sal  no_of_times_job_posting_reopened job_posting_status  \\\n",
       "0               6000.0                                 0             Closed   \n",
       "1               4500.0                                 0             Closed   \n",
       "2                  NaN                                 0             Closed   \n",
       "3               4500.0                                 1             Closed   \n",
       "4               7500.0                                 1             Closed   \n",
       "\n",
       "  job_employment_type_list  job_experience_required_years  \\\n",
       "0     Full Time, Permanent                            3.0   \n",
       "1     Full Time, Permanent                            3.0   \n",
       "2     Full Time, Permanent                            5.0   \n",
       "3                Full Time                            1.0   \n",
       "4                Full Time                            5.0   \n",
       "\n",
       "                         job_level  \n",
       "0                          Manager  \n",
       "1                        Executive  \n",
       "2                              NaN  \n",
       "3  Fresh/entry level,Non-executive  \n",
       "4                Senior Management  "
      ]
     },
     "execution_count": 285,
     "metadata": {},
     "output_type": "execute_result"
    }
   ],
   "source": [
    "posts = pd.read_csv(DATA_DIR + 'full_job_posts.csv')\n",
    "print(posts.shape)\n",
    "posts = dot2dash(posts)\n",
    "\n",
    "posts.head()"
   ]
  },
  {
   "cell_type": "code",
   "execution_count": 304,
   "metadata": {
    "collapsed": false
   },
   "outputs": [
    {
     "data": {
      "text/html": [
       "<div>\n",
       "<table border=\"1\" class=\"dataframe\">\n",
       "  <thead>\n",
       "    <tr style=\"text-align: right;\">\n",
       "      <th></th>\n",
       "      <th>job_id</th>\n",
       "      <th>company_registration_number_uen_ep</th>\n",
       "    </tr>\n",
       "  </thead>\n",
       "  <tbody>\n",
       "    <tr>\n",
       "      <th>0</th>\n",
       "      <td>JOB-2015-0145758</td>\n",
       "      <td>002</td>\n",
       "    </tr>\n",
       "  </tbody>\n",
       "</table>\n",
       "</div>"
      ],
      "text/plain": [
       "             job_id company_registration_number_uen_ep\n",
       "0  JOB-2015-0145758                                002"
      ]
     },
     "execution_count": 304,
     "metadata": {},
     "output_type": "execute_result"
    }
   ],
   "source": [
    "# Extract just job id and employer id\n",
    "job_and_employer = posts[['job_id', 'company_registration_number_uen_ep']].drop_duplicates()\n",
    "job_and_employer.head(1)"
   ]
  },
  {
   "cell_type": "code",
   "execution_count": 295,
   "metadata": {
    "collapsed": false
   },
   "outputs": [
    {
     "data": {
      "text/plain": [
       "(21513, 7)"
      ]
     },
     "execution_count": 295,
     "metadata": {},
     "output_type": "execute_result"
    }
   ],
   "source": [
    "# Load employer details (names, desc,...)\n",
    "employer_detail = pd.read_csv(DATA_DIR + 'employers.csv')\n",
    "employer_detail.drop_duplicates(inplace=True)\n",
    "print(employer_detail.shape)\n",
    "\n",
    "employer_detail = dot2dash(employer_detail)\n",
    "employer_detail.head(1)"
   ]
  },
  {
   "cell_type": "code",
   "execution_count": 306,
   "metadata": {
    "collapsed": true
   },
   "outputs": [
    {
     "data": {
      "text/html": [
       "<div>\n",
       "<table border=\"1\" class=\"dataframe\">\n",
       "  <thead>\n",
       "    <tr style=\"text-align: right;\">\n",
       "      <th></th>\n",
       "      <th>job_id</th>\n",
       "      <th>reg_no_uen_ep</th>\n",
       "      <th>employer_creation_date</th>\n",
       "      <th>organisation_name_ep</th>\n",
       "      <th>ssic_code_ep</th>\n",
       "      <th>ssic_description_ep</th>\n",
       "      <th>ssic_group_ep</th>\n",
       "      <th>third_party_entity_ep</th>\n",
       "    </tr>\n",
       "  </thead>\n",
       "  <tbody>\n",
       "    <tr>\n",
       "      <th>173957</th>\n",
       "      <td>JOB-2015-0216458</td>\n",
       "      <td>197302448M</td>\n",
       "      <td>Jul 8, 2014</td>\n",
       "      <td>\"K\" LINE (SINGAPORE) PTE LTD</td>\n",
       "      <td>52222</td>\n",
       "      <td>Shipping agencies (freight)</td>\n",
       "      <td>Transportation and Storage</td>\n",
       "      <td>N\\r</td>\n",
       "    </tr>\n",
       "    <tr>\n",
       "      <th>173956</th>\n",
       "      <td>JOB-2015-0216414</td>\n",
       "      <td>197302448M</td>\n",
       "      <td>Jul 8, 2014</td>\n",
       "      <td>\"K\" LINE (SINGAPORE) PTE LTD</td>\n",
       "      <td>52222</td>\n",
       "      <td>Shipping agencies (freight)</td>\n",
       "      <td>Transportation and Storage</td>\n",
       "      <td>N\\r</td>\n",
       "    </tr>\n",
       "    <tr>\n",
       "      <th>173959</th>\n",
       "      <td>JOB-2015-0216978</td>\n",
       "      <td>197302448M</td>\n",
       "      <td>Jul 8, 2014</td>\n",
       "      <td>\"K\" LINE (SINGAPORE) PTE LTD</td>\n",
       "      <td>52222</td>\n",
       "      <td>Shipping agencies (freight)</td>\n",
       "      <td>Transportation and Storage</td>\n",
       "      <td>N\\r</td>\n",
       "    </tr>\n",
       "    <tr>\n",
       "      <th>173958</th>\n",
       "      <td>JOB-2015-0216499</td>\n",
       "      <td>197302448M</td>\n",
       "      <td>Jul 8, 2014</td>\n",
       "      <td>\"K\" LINE (SINGAPORE) PTE LTD</td>\n",
       "      <td>52222</td>\n",
       "      <td>Shipping agencies (freight)</td>\n",
       "      <td>Transportation and Storage</td>\n",
       "      <td>N\\r</td>\n",
       "    </tr>\n",
       "    <tr>\n",
       "      <th>24352</th>\n",
       "      <td>JOB-2015-0196481</td>\n",
       "      <td>198701829Z</td>\n",
       "      <td>Jul 23, 2014</td>\n",
       "      <td>\"K\" LINE LOGISTICS (SINGAPORE) PTE. LTD.</td>\n",
       "      <td>52292</td>\n",
       "      <td>Freight forwarding, packing and crating services</td>\n",
       "      <td>Transportation and Storage</td>\n",
       "      <td>N\\r</td>\n",
       "    </tr>\n",
       "  </tbody>\n",
       "</table>\n",
       "</div>"
      ],
      "text/plain": [
       "                  job_id reg_no_uen_ep employer_creation_date  \\\n",
       "173957  JOB-2015-0216458    197302448M            Jul 8, 2014   \n",
       "173956  JOB-2015-0216414    197302448M            Jul 8, 2014   \n",
       "173959  JOB-2015-0216978    197302448M            Jul 8, 2014   \n",
       "173958  JOB-2015-0216499    197302448M            Jul 8, 2014   \n",
       "24352   JOB-2015-0196481    198701829Z           Jul 23, 2014   \n",
       "\n",
       "                            organisation_name_ep  ssic_code_ep  \\\n",
       "173957              \"K\" LINE (SINGAPORE) PTE LTD         52222   \n",
       "173956              \"K\" LINE (SINGAPORE) PTE LTD         52222   \n",
       "173959              \"K\" LINE (SINGAPORE) PTE LTD         52222   \n",
       "173958              \"K\" LINE (SINGAPORE) PTE LTD         52222   \n",
       "24352   \"K\" LINE LOGISTICS (SINGAPORE) PTE. LTD.         52292   \n",
       "\n",
       "                                     ssic_description_ep  \\\n",
       "173957                       Shipping agencies (freight)   \n",
       "173956                       Shipping agencies (freight)   \n",
       "173959                       Shipping agencies (freight)   \n",
       "173958                       Shipping agencies (freight)   \n",
       "24352   Freight forwarding, packing and crating services   \n",
       "\n",
       "                     ssic_group_ep third_party_entity_ep  \n",
       "173957  Transportation and Storage                   N\\r  \n",
       "173956  Transportation and Storage                   N\\r  \n",
       "173959  Transportation and Storage                   N\\r  \n",
       "173958  Transportation and Storage                   N\\r  \n",
       "24352   Transportation and Storage                   N\\r  "
      ]
     },
     "execution_count": 306,
     "metadata": {},
     "output_type": "execute_result"
    }
   ],
   "source": [
    "# Merge to add employer details\n",
    "job_and_employer = job_and_employer.rename(columns={'company_registration_number_uen_ep': 'reg_no_uen_ep'})\n",
    "df = pd.merge(apps, pd.merge(job_and_employer, employer_detail))\n",
    "print(df.shape)\n",
    "\n",
    "df.sort_values(by='organisation_name_ep', inplace=True, na_position='first')\n",
    "df.head()"
   ]
  },
  {
   "cell_type": "code",
   "execution_count": 308,
   "metadata": {
    "collapsed": false,
    "scrolled": true
   },
   "outputs": [
    {
     "data": {
      "text/html": [
       "<div>\n",
       "<table border=\"1\" class=\"dataframe\">\n",
       "  <thead>\n",
       "    <tr style=\"text-align: right;\">\n",
       "      <th></th>\n",
       "      <th>uid</th>\n",
       "      <th>job_id</th>\n",
       "      <th>job_title</th>\n",
       "      <th>apply_date</th>\n",
       "      <th>reg_no_uen_ep</th>\n",
       "      <th>employer_creation_date</th>\n",
       "      <th>organisation_name_ep</th>\n",
       "      <th>ssic_code_ep</th>\n",
       "      <th>ssic_description_ep</th>\n",
       "      <th>ssic_group_ep</th>\n",
       "      <th>third_party_entity_ep</th>\n",
       "    </tr>\n",
       "  </thead>\n",
       "  <tbody>\n",
       "    <tr>\n",
       "      <th>0</th>\n",
       "      <td>7</td>\n",
       "      <td>JOB-2015-0223128</td>\n",
       "      <td>Housekeeping Supervisor</td>\n",
       "      <td>2015-07-01</td>\n",
       "      <td>52865867X</td>\n",
       "      <td>Jul 8, 2014</td>\n",
       "      <td>THE FULLERTON HOTEL</td>\n",
       "      <td>55101</td>\n",
       "      <td>Hotels with restaurant</td>\n",
       "      <td>Accommodation and Food Service Activities</td>\n",
       "      <td>Y\\r</td>\n",
       "    </tr>\n",
       "    <tr>\n",
       "      <th>1</th>\n",
       "      <td>21073</td>\n",
       "      <td>JOB-2015-0223128</td>\n",
       "      <td>Housekeeping Supervisor</td>\n",
       "      <td>2015-05-07</td>\n",
       "      <td>52865867X</td>\n",
       "      <td>Jul 8, 2014</td>\n",
       "      <td>THE FULLERTON HOTEL</td>\n",
       "      <td>55101</td>\n",
       "      <td>Hotels with restaurant</td>\n",
       "      <td>Accommodation and Food Service Activities</td>\n",
       "      <td>Y\\r</td>\n",
       "    </tr>\n",
       "    <tr>\n",
       "      <th>2</th>\n",
       "      <td>46634</td>\n",
       "      <td>JOB-2015-0223128</td>\n",
       "      <td>Housekeeping Supervisor</td>\n",
       "      <td>2015-05-01</td>\n",
       "      <td>52865867X</td>\n",
       "      <td>Jul 8, 2014</td>\n",
       "      <td>THE FULLERTON HOTEL</td>\n",
       "      <td>55101</td>\n",
       "      <td>Hotels with restaurant</td>\n",
       "      <td>Accommodation and Food Service Activities</td>\n",
       "      <td>Y\\r</td>\n",
       "    </tr>\n",
       "    <tr>\n",
       "      <th>3</th>\n",
       "      <td>100427</td>\n",
       "      <td>JOB-2015-0223128</td>\n",
       "      <td>Housekeeping Supervisor</td>\n",
       "      <td>2015-07-24</td>\n",
       "      <td>52865867X</td>\n",
       "      <td>Jul 8, 2014</td>\n",
       "      <td>THE FULLERTON HOTEL</td>\n",
       "      <td>55101</td>\n",
       "      <td>Hotels with restaurant</td>\n",
       "      <td>Accommodation and Food Service Activities</td>\n",
       "      <td>Y\\r</td>\n",
       "    </tr>\n",
       "    <tr>\n",
       "      <th>4</th>\n",
       "      <td>39</td>\n",
       "      <td>JOB-2014-0134411</td>\n",
       "      <td>Account Assistant</td>\n",
       "      <td>2015-06-16</td>\n",
       "      <td>200203771R</td>\n",
       "      <td>Jul 5, 2014</td>\n",
       "      <td>THE SHICHIDA METHOD (S) PTE. LTD.</td>\n",
       "      <td>82999</td>\n",
       "      <td>Other business support services activities nec...</td>\n",
       "      <td>Administrative and Support Service Activities</td>\n",
       "      <td>N\\r</td>\n",
       "    </tr>\n",
       "  </tbody>\n",
       "</table>\n",
       "</div>"
      ],
      "text/plain": [
       "      uid            job_id                job_title  apply_date  \\\n",
       "0       7  JOB-2015-0223128  Housekeeping Supervisor  2015-07-01   \n",
       "1   21073  JOB-2015-0223128  Housekeeping Supervisor  2015-05-07   \n",
       "2   46634  JOB-2015-0223128  Housekeeping Supervisor  2015-05-01   \n",
       "3  100427  JOB-2015-0223128  Housekeeping Supervisor  2015-07-24   \n",
       "4      39  JOB-2014-0134411        Account Assistant  2015-06-16   \n",
       "\n",
       "  reg_no_uen_ep employer_creation_date               organisation_name_ep  \\\n",
       "0     52865867X            Jul 8, 2014                THE FULLERTON HOTEL   \n",
       "1     52865867X            Jul 8, 2014                THE FULLERTON HOTEL   \n",
       "2     52865867X            Jul 8, 2014                THE FULLERTON HOTEL   \n",
       "3     52865867X            Jul 8, 2014                THE FULLERTON HOTEL   \n",
       "4    200203771R            Jul 5, 2014  THE SHICHIDA METHOD (S) PTE. LTD.   \n",
       "\n",
       "   ssic_code_ep                                ssic_description_ep  \\\n",
       "0         55101                             Hotels with restaurant   \n",
       "1         55101                             Hotels with restaurant   \n",
       "2         55101                             Hotels with restaurant   \n",
       "3         55101                             Hotels with restaurant   \n",
       "4         82999  Other business support services activities nec...   \n",
       "\n",
       "                                   ssic_group_ep third_party_entity_ep  \n",
       "0      Accommodation and Food Service Activities                   Y\\r  \n",
       "1      Accommodation and Food Service Activities                   Y\\r  \n",
       "2      Accommodation and Food Service Activities                   Y\\r  \n",
       "3      Accommodation and Food Service Activities                   Y\\r  \n",
       "4  Administrative and Support Service Activities                   N\\r  "
      ]
     },
     "execution_count": 308,
     "metadata": {},
     "output_type": "execute_result"
    }
   ],
   "source": [
    "# del df['is_number']\n",
    "# df.to_csv(DATA_DIR + 'full_apps.csv', index=False)\n",
    "df.head()"
   ]
  },
  {
   "cell_type": "code",
   "execution_count": 338,
   "metadata": {
    "collapsed": false
   },
   "outputs": [
    {
     "name": "stderr",
     "output_type": "stream",
     "text": [
      "C:\\Users\\mdluu.2011\\AppData\\Local\\Continuum\\Anaconda2\\lib\\site-packages\\ipykernel\\__main__.py:2: SettingWithCopyWarning: \n",
      "A value is trying to be set on a copy of a slice from a DataFrame.\n",
      "Try using .loc[row_indexer,col_indexer] = value instead\n",
      "\n",
      "See the caveats in the documentation: http://pandas.pydata.org/pandas-docs/stable/indexing.html#indexing-view-versus-copy\n",
      "  from ipykernel import kernelapp as app\n"
     ]
    }
   ],
   "source": [
    "user_apply_comp = df[['uid', 'reg_no_uen_ep', 'organisation_name_ep']]\n",
    "user_apply_comp['n_apply'] = ''"
   ]
  },
  {
   "cell_type": "code",
   "execution_count": 340,
   "metadata": {
    "collapsed": true
   },
   "outputs": [],
   "source": [
    "apps_by_comp = user_apply_comp.groupby(['uid', 'reg_no_uen_ep', 'organisation_name_ep']).count()\n",
    "apps_by_comp = apps_by_comp.reset_index()\n",
    "apps_by_comp.sort_values('n_apply', ascending=False, inplace=True)\n",
    "apps_by_comp.head()\n",
    "\n",
    "apps_by_comp.to_csv(AGG_DIR + 'apps_by_comp.csv', index=False)"
   ]
  },
  {
   "cell_type": "code",
   "execution_count": null,
   "metadata": {
    "collapsed": true
   },
   "outputs": [],
   "source": [
    "loglog(apps_by_comp['n_apply'], xl='# applications', yl='# user-apply-company cases')\n",
    "\n",
    "plt.savefig(FIG_DIR + 'user_comp.pdf')\n",
    "plt.show()\n",
    "plt.close()"
   ]
  },
  {
   "cell_type": "code",
   "execution_count": 323,
   "metadata": {
    "collapsed": false
   },
   "outputs": [
    {
     "data": {
      "text/html": [
       "<div>\n",
       "<table border=\"1\" class=\"dataframe\">\n",
       "  <thead>\n",
       "    <tr style=\"text-align: right;\">\n",
       "      <th></th>\n",
       "      <th>min</th>\n",
       "      <th>25%</th>\n",
       "      <th>50% (median)</th>\n",
       "      <th>75%</th>\n",
       "      <th>max</th>\n",
       "    </tr>\n",
       "  </thead>\n",
       "  <tbody>\n",
       "    <tr>\n",
       "      <th>0</th>\n",
       "      <td>1.0</td>\n",
       "      <td>1.0</td>\n",
       "      <td>1.0</td>\n",
       "      <td>1.0</td>\n",
       "      <td>328.0</td>\n",
       "    </tr>\n",
       "  </tbody>\n",
       "</table>\n",
       "</div>"
      ],
      "text/plain": [
       "   min  25%  50% (median)  75%    max\n",
       "0  1.0  1.0           1.0  1.0  328.0"
      ]
     },
     "execution_count": 323,
     "metadata": {},
     "output_type": "execute_result"
    }
   ],
   "source": [
    "quantile(user_apply_comp['n_apply'])"
   ]
  },
  {
   "cell_type": "markdown",
   "metadata": {},
   "source": [
    "### D. Number of (job title, company) an applicant applies"
   ]
  },
  {
   "cell_type": "code",
   "execution_count": 342,
   "metadata": {
    "collapsed": false
   },
   "outputs": [
    {
     "name": "stderr",
     "output_type": "stream",
     "text": [
      "C:\\Users\\mdluu.2011\\AppData\\Local\\Continuum\\Anaconda2\\lib\\site-packages\\ipykernel\\__main__.py:2: SettingWithCopyWarning: \n",
      "A value is trying to be set on a copy of a slice from a DataFrame.\n",
      "Try using .loc[row_indexer,col_indexer] = value instead\n",
      "\n",
      "See the caveats in the documentation: http://pandas.pydata.org/pandas-docs/stable/indexing.html#indexing-view-versus-copy\n",
      "  from ipykernel import kernelapp as app\n"
     ]
    },
    {
     "name": "stdout",
     "output_type": "stream",
     "text": [
      "(1352961, 5)\n"
     ]
    },
    {
     "data": {
      "text/html": [
       "<div>\n",
       "<table border=\"1\" class=\"dataframe\">\n",
       "  <thead>\n",
       "    <tr style=\"text-align: right;\">\n",
       "      <th></th>\n",
       "      <th>uid</th>\n",
       "      <th>job_title</th>\n",
       "      <th>reg_no_uen_ep</th>\n",
       "      <th>organisation_name_ep</th>\n",
       "      <th>n_apply</th>\n",
       "    </tr>\n",
       "  </thead>\n",
       "  <tbody>\n",
       "    <tr>\n",
       "      <th>958000</th>\n",
       "      <td>103204</td>\n",
       "      <td>Analyst</td>\n",
       "      <td>196800306E</td>\n",
       "      <td>DBS BANK LTD.</td>\n",
       "      <td>132</td>\n",
       "    </tr>\n",
       "    <tr>\n",
       "      <th>960614</th>\n",
       "      <td>103204</td>\n",
       "      <td>Information Technology Specialist</td>\n",
       "      <td>196800306E</td>\n",
       "      <td>DBS BANK LTD.</td>\n",
       "      <td>90</td>\n",
       "    </tr>\n",
       "    <tr>\n",
       "      <th>1064171</th>\n",
       "      <td>112664</td>\n",
       "      <td>Research Assistant</td>\n",
       "      <td>200604346E</td>\n",
       "      <td>NATIONAL UNIVERSITY OF SINGAPORE</td>\n",
       "      <td>90</td>\n",
       "    </tr>\n",
       "    <tr>\n",
       "      <th>1018071</th>\n",
       "      <td>108289</td>\n",
       "      <td>Call Centre Agent</td>\n",
       "      <td>199907051E</td>\n",
       "      <td>CREDIT MANAGEMENT CONSULTANCY (ASIA) PTE LTD</td>\n",
       "      <td>72</td>\n",
       "    </tr>\n",
       "    <tr>\n",
       "      <th>685189</th>\n",
       "      <td>76182</td>\n",
       "      <td>Information Technology Specialist</td>\n",
       "      <td>196800306E</td>\n",
       "      <td>DBS BANK LTD.</td>\n",
       "      <td>64</td>\n",
       "    </tr>\n",
       "  </tbody>\n",
       "</table>\n",
       "</div>"
      ],
      "text/plain": [
       "            uid                          job_title reg_no_uen_ep  \\\n",
       "958000   103204                            Analyst    196800306E   \n",
       "960614   103204  Information Technology Specialist    196800306E   \n",
       "1064171  112664                 Research Assistant    200604346E   \n",
       "1018071  108289                  Call Centre Agent    199907051E   \n",
       "685189    76182  Information Technology Specialist    196800306E   \n",
       "\n",
       "                                 organisation_name_ep  n_apply  \n",
       "958000                                  DBS BANK LTD.      132  \n",
       "960614                                  DBS BANK LTD.       90  \n",
       "1064171              NATIONAL UNIVERSITY OF SINGAPORE       90  \n",
       "1018071  CREDIT MANAGEMENT CONSULTANCY (ASIA) PTE LTD       72  \n",
       "685189                                  DBS BANK LTD.       64  "
      ]
     },
     "execution_count": 342,
     "metadata": {},
     "output_type": "execute_result"
    }
   ],
   "source": [
    "tmp = df[['uid', 'job_title', 'reg_no_uen_ep', 'organisation_name_ep']]\n",
    "tmp['n_apply'] = ''\n",
    "\n",
    "apps_by_job_comp = tmp.groupby(['uid', 'job_title', 'reg_no_uen_ep', 'organisation_name_ep']).count()\n",
    "apps_by_job_comp = apps_by_job_comp.reset_index()\n",
    "apps_by_job_comp.sort_values('n_apply', ascending=False, inplace=True)\n",
    "print apps_by_job_comp.shape\n",
    "apps_by_job_comp.head()"
   ]
  },
  {
   "cell_type": "code",
   "execution_count": 343,
   "metadata": {
    "collapsed": true
   },
   "outputs": [],
   "source": [
    "apps_by_job_comp.to_csv(AGG_DIR + 'apps_by_job_comp.csv', index=False)"
   ]
  },
  {
   "cell_type": "code",
   "execution_count": null,
   "metadata": {
    "collapsed": true
   },
   "outputs": [],
   "source": [
    "loglog(apps_by_job_comp['n_apply'], xl='# applications', yl='# user-apply-job-at-company cases')\n",
    "plt.savefig(FIG_DIR + 'user_job_comp.pdf')\n",
    "plt.show()\n",
    "plt.close()"
   ]
  },
  {
   "cell_type": "code",
   "execution_count": 332,
   "metadata": {
    "collapsed": false
   },
   "outputs": [
    {
     "data": {
      "text/plain": [
       "(89071, 2)"
      ]
     },
     "execution_count": 332,
     "metadata": {},
     "output_type": "execute_result"
    }
   ],
   "source": [
    "job_comp = df[['job_title', 'organisation_name_ep']].drop_duplicates()\n",
    "job_comp.shape"
   ]
  }
 ],
 "metadata": {
  "anaconda-cloud": {},
  "kernelspec": {
   "display_name": "Python [conda root]",
   "language": "python",
   "name": "conda-root-py"
  },
  "language_info": {
   "codemirror_mode": {
    "name": "ipython",
    "version": 2
   },
   "file_extension": ".py",
   "mimetype": "text/x-python",
   "name": "python",
   "nbconvert_exporter": "python",
   "pygments_lexer": "ipython2",
   "version": "2.7.12"
  }
 },
 "nbformat": 4,
 "nbformat_minor": 1
}
