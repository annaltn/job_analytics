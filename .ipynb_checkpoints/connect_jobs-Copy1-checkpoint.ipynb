{
 "cells": [
  {
   "cell_type": "markdown",
   "metadata": {},
   "source": [
    "# Connecting Job Titles by Their Similarity Scores"
   ]
  },
  {
   "cell_type": "code",
   "execution_count": null,
   "metadata": {
    "collapsed": true
   },
   "outputs": [],
   "source": [
    "import my_util as my_util; from my_util import *\n",
    "import cluster_skill_helpers as cluster_skill_helpers\n",
    "from cluster_skill_helpers import *\n",
    "\n",
    "import os\n",
    "import random\n",
    "from time import time\n",
    "import gc"
   ]
  },
  {
   "cell_type": "code",
   "execution_count": null,
   "metadata": {
    "collapsed": true
   },
   "outputs": [],
   "source": [
    "# Turn on auto garbage collection\n",
    "gc.enable()"
   ]
  },
  {
   "cell_type": "code",
   "execution_count": null,
   "metadata": {
    "collapsed": true
   },
   "outputs": [],
   "source": [
    "HOME_DIR = 'd:/larc_projects/job_analytics/'\n",
    "DATA_DIR = HOME_DIR + 'data/clean/'\n",
    "SKILL_DAT = HOME_DIR + 'data/clean/skill_cluster/' \n",
    "SKILL_RES = HOME_DIR + 'results/' + 'skill_cluster/new/'\n",
    "JOB_PROF = SKILL_RES + 'job_prof/'"
   ]
  },
  {
   "cell_type": "markdown",
   "metadata": {},
   "source": [
    "+ Data loading:"
   ]
  },
  {
   "cell_type": "code",
   "execution_count": null,
   "metadata": {
    "collapsed": false
   },
   "outputs": [],
   "source": [
    "title_stats = pd.read_csv(DATA_DIR + 'stats/job_titles.csv')\n",
    "titles = title_stats['title']\n",
    "print('# titles: %d' %len(titles))\n",
    "\n",
    "# Bf standardizing job titles\n",
    "df = pd.read_csv(SKILL_DAT + 'filter_doc_index.csv')\n",
    "print df.shape\n",
    "df.set_index('index', inplace=True)\n",
    "\n",
    "with(open(SKILL_RES + 'doc_20topic_distr.mtx', 'r')) as f:\n",
    "    doc_topic_distr = mmread(f)\n",
    "\n",
    "n_topic = doc_topic_distr.shape[1]\n",
    "print('# topics: %d' %n_topic)\n",
    "topic_df = pd.read_csv(SKILL_RES + 'lda/20_topics.csv')\n",
    "labels = map(str.upper, topic_df['label'])\n",
    "\n",
    "# Parsed titles:\n",
    "parsed_titles = pd.read_csv(DATA_DIR + 'parsed_titles.csv')\n",
    "print('# titles parsed: {}'.format(parsed_titles.shape[0]))\n",
    "\n",
    "# Domains\n",
    "domain_df = pd.read_csv(DATA_DIR + 'stats/domains.csv')"
   ]
  },
  {
   "cell_type": "markdown",
   "metadata": {},
   "source": [
    "After fixing some bugs with parsing job titles, we re-parsed job titles with problem by title_parse.py script. Thus, we need to reload newly parsed titles."
   ]
  },
  {
   "cell_type": "code",
   "execution_count": null,
   "metadata": {
    "collapsed": false
   },
   "outputs": [],
   "source": [
    "title_df = pd.read_csv(DATA_DIR + 'titles_2posts_up.csv')\n",
    "print('# parsed titles: %d' % len(title_df.title))"
   ]
  },
  {
   "cell_type": "markdown",
   "metadata": {},
   "source": [
    "#### Helpers"
   ]
  },
  {
   "cell_type": "code",
   "execution_count": null,
   "metadata": {
    "collapsed": true
   },
   "outputs": [],
   "source": [
    "reload(my_util)\n",
    "from my_util import *"
   ]
  },
  {
   "cell_type": "code",
   "execution_count": 329,
   "metadata": {
    "collapsed": false
   },
   "outputs": [],
   "source": [
    "reload(cluster_skill_helpers)\n",
    "from cluster_skill_helpers import *"
   ]
  },
  {
   "cell_type": "code",
   "execution_count": null,
   "metadata": {
    "collapsed": true
   },
   "outputs": [],
   "source": [
    "def vizPostPair(i, sim_df, labels, abbv_title=''):\n",
    "    fig = vizDists4Pair(sim_df.iloc[i], df, doc_topic_distr, labels)\n",
    "    fig.savefig(SKILL_RES + 'fig/{}_p{}.pdf'.format(abbv_title, i+1))\n",
    "    plt.show(); plt.close()"
   ]
  },
  {
   "cell_type": "code",
   "execution_count": 334,
   "metadata": {
    "collapsed": false
   },
   "outputs": [],
   "source": [
    "## Funcs for sim cals\n",
    "def byRelevanceSims(domain='software', pri_func='engineer', min_post=2, verbose=False):\n",
    "    \n",
    "    if domain: \n",
    "        chosen_titles = titlesWithAtLeast(titlesIn(domain, title_df), \n",
    "                                          min_post)\n",
    "    if pri_func: \n",
    "        chosen_titles = titlesWithAtLeast(titlesWith(pri_func, title_df), \n",
    "                                          min_post)\n",
    "    n_title = len(chosen_titles)\n",
    "    print('\\t# titles with at least {} posts: {}'.format(min_post, n_title))\n",
    "    \n",
    "    sims = simsAmong(chosen_titles, doc_topic_distr, df, verbose)\n",
    "    return sims\n",
    "\n",
    "def calSims(domain='software', pri_func='engineer', verbose=False):\n",
    "    '''\n",
    "    @param: either domain or pri_func, not both\n",
    "    '''\n",
    "    t0 = time()\n",
    "    if domain: \n",
    "        print('Domain: {}'.format(domain))\n",
    "        sims = byRelevanceSims(domain=domain, pri_func=None, verbose=verbose)\n",
    "    if pri_func:\n",
    "        print('Primary function: {}'.format(pri_func))\n",
    "        sims = byRelevanceSims(domain=None, pri_func=pri_func, verbose=verbose)\n",
    "        \n",
    "    elapse = round(time() - t0, 1)\n",
    "    print('\\tFinished sim cals after {}s'.format(elapse))\n",
    "    \n",
    "    if not sims.empty:\n",
    "        sims = sims.sort_values('topic_sim', ascending=False)\n",
    "        if domain: fname = domain_dir + 'sims/new/{}.csv'.format(clean(domain))\n",
    "        if pri_func: fname = func_dir + 'sims/new/{}.csv'.format(clean(pri_func))\n",
    "        sims.to_csv(fname, index=False)\n",
    "        print('\\tSaved sims to file: {}'.format(fname))\n",
    "    return sims\n",
    "\n",
    "def topkSim(title, k, sims):\n",
    "    s1 = sims[sims['t1'] == title]\n",
    "    s2 = sims[sims['t2'] == title]\n",
    "    # Hacking to swap two cols\n",
    "    s2 = s2.rename(columns={'t1': 'tmp', 't2':'t1'})\n",
    "    s2 = s2.rename(columns={'tmp': 't2'})\n",
    "    \n",
    "    res = pd.concat([s1, s2])\n",
    "    res['title_n_sim'] = res['t2'] + '(' + map(str, res['topic_sim']) + ')'\n",
    "    res = res.sort_values('topic_sim', ascending=False)\n",
    "    return ','.join(list(res.head(k)['title_n_sim']))\n",
    "\n",
    "def findTopkSimByDomain(domain, sims, k=2):\n",
    "    \n",
    "    chosen_titles = set(sims['t1']).union(set(sims['t2']))\n",
    "    topk_res = pd.DataFrame({'title': chosen_titles})\n",
    "    col_topk = 'top_{}_sim'.format(k)\n",
    "    topk_res[col_topk] = topk_res['title'].apply(topkSim, k=k, sims=sims)\n",
    "\n",
    "    fname = domain_dir + 'topk/{}_top{}.csv'.format(clean(domain), k)\n",
    "    topk_res.to_csv(fname, index=False)\n",
    "    print('\\tSaved top-{} similar title result'.format(k))\n",
    "    \n",
    "def findTopkSimByFunc(pri_func, sims, k=2):\n",
    "    chosen_titles = set(sims['t1']).union(set(sims['t2']))\n",
    "    topk_res = pd.DataFrame({'title': chosen_titles})\n",
    "    col_topk = 'top_{}_sim'.format(k)\n",
    "    topk_res[col_topk] = topk_res['title'].apply(topkSim, k=k, sims=sims)\n",
    "    \n",
    "    fname = func_dir + 'topk/{}_top{}.csv'.format(clean(pri_func), k)\n",
    "    topk_res.to_csv(fname, index=False)\n",
    "    print('\\tSaved top-{} similar title result'.format(k))"
   ]
  },
  {
   "cell_type": "code",
   "execution_count": null,
   "metadata": {
    "collapsed": false
   },
   "outputs": [],
   "source": [
    "def domainsInRange(min_n_title, max_n_title):\n",
    "    q = '{} <= n_title < {}'.format(min_n_title, max_n_title)\n",
    "    domains = by_domain_agg.query(q)['domain']\n",
    "    msg = '# domains with # titles in range [{}, {}): {}'.format(min_n_title, max_n_title, len(domains))\n",
    "    print(msg)\n",
    "    return domains"
   ]
  },
  {
   "cell_type": "markdown",
   "metadata": {},
   "source": [
    "Given the parsed titles, we now compute pairwise sims among them based on: \n",
    "+ domain  \n",
    "+ primary funcs."
   ]
  },
  {
   "cell_type": "markdown",
   "metadata": {},
   "source": [
    "## Similarity By Job's Domain"
   ]
  },
  {
   "cell_type": "code",
   "execution_count": null,
   "metadata": {
    "collapsed": true
   },
   "outputs": [],
   "source": [
    "# Get needed stats from agg\n",
    "by_domain_agg = pd.read_csv(DATA_DIR + 'stats/domains.csv')\n",
    "\n",
    "n_domain = by_domain_agg.shape[0]\n",
    "print('# domains: {}'.format(n_domain))"
   ]
  },
  {
   "cell_type": "markdown",
   "metadata": {},
   "source": [
    "First, we look at the top-10 domains with most no. of titles."
   ]
  },
  {
   "cell_type": "code",
   "execution_count": null,
   "metadata": {
    "collapsed": true
   },
   "outputs": [],
   "source": [
    "by_domain_agg.head(10)"
   ]
  },
  {
   "cell_type": "markdown",
   "metadata": {},
   "source": [
    "Among the top-10, Marketing is the one with least no. of titles. So we use it to test run the funcs for sim cals.\n",
    "\n",
    "#### Marketing"
   ]
  },
  {
   "cell_type": "code",
   "execution_count": null,
   "metadata": {
    "collapsed": true
   },
   "outputs": [],
   "source": [
    "mkt_sims = calSims('marketing')\n",
    "findTopkSimByDomain('marketing', mkt_sims)"
   ]
  },
  {
   "cell_type": "markdown",
   "metadata": {},
   "source": [
    "+ 1st run: 'Senior Marketing Engineer' has highest sim with 'Senior Marketing Representative'!!! Why?"
   ]
  },
  {
   "cell_type": "code",
   "execution_count": null,
   "metadata": {
    "collapsed": false
   },
   "outputs": [],
   "source": [
    "# posts by Senior Marketing Engineer\n",
    "sme_posts = df[df.title == 'Senior Marketing Engineer']\n",
    "print('# posts by Senior Marketing Engineer: %d' %sme_posts.shape[0])\n",
    "\n",
    "# posts by Senior Marketing Representative\n",
    "smr_posts = df[df.title == 'Senior Marketing Representative']\n",
    "print('# posts by Senior Marketing Representative: %d' %smr_posts.shape[0])"
   ]
  },
  {
   "cell_type": "markdown",
   "metadata": {},
   "source": [
    "__Ans:__ forgot to filter out titles with only 1 post.\n",
    "\n",
    "We fixed this bug, re-run again and got rid of this issue. Now, we can run it for other domains in top-10.\n",
    "\n",
    "#### Top-9 Domains:"
   ]
  },
  {
   "cell_type": "code",
   "execution_count": null,
   "metadata": {
    "collapsed": true
   },
   "outputs": [],
   "source": [
    "sim_dir = JOB_PROF + 'by_domain/sims/'"
   ]
  },
  {
   "cell_type": "code",
   "execution_count": null,
   "metadata": {
    "collapsed": false,
    "scrolled": true
   },
   "outputs": [],
   "source": [
    "top9_domains = by_domain_agg.head(9)['domain']\n",
    "for dom in top9_domains:\n",
    "    sims = calSims(dom)\n",
    "    findTopkSimByDomain(dom, sims, k=5) "
   ]
  },
  {
   "cell_type": "markdown",
   "metadata": {},
   "source": [
    "### Other domains\n",
    "\n",
    "We decide the priority for domains to consider based on the no. of job titles under domain. Thus we look at the distribution of job titles in domains."
   ]
  },
  {
   "cell_type": "code",
   "execution_count": null,
   "metadata": {
    "collapsed": true
   },
   "outputs": [],
   "source": [
    "by_domain_agg.describe().round(1)"
   ]
  },
  {
   "cell_type": "markdown",
   "metadata": {},
   "source": [
    "On avg, no. of job titles per domain is $2.7$."
   ]
  },
  {
   "cell_type": "code",
   "execution_count": null,
   "metadata": {
    "collapsed": true
   },
   "outputs": [],
   "source": [
    "fig = plt.figure()\n",
    "plt.hist(by_domain_agg.n_title)\n",
    "mean_n_title = round(by_domain_agg.n_title.mean(), 1)\n",
    "xl = '# job titles' + r'$(\\mu = {})$'.format(mean_n_title)\n",
    "plt.xlabel(xl, fontsize=16); \n",
    "plt.ylabel('# domains', fontsize=16)\n",
    "plt.savefig(JOB_PROF + 'title_dist_by_domain.pdf')\n",
    "plt.show(); plt.close()"
   ]
  },
  {
   "cell_type": "markdown",
   "metadata": {},
   "source": [
    "## Re-compute sims after title standardization"
   ]
  },
  {
   "cell_type": "markdown",
   "metadata": {},
   "source": [
    "#### Reload data after standardizing job titles\n",
    "\n",
    "+ Job posts:"
   ]
  },
  {
   "cell_type": "code",
   "execution_count": null,
   "metadata": {
    "collapsed": true
   },
   "outputs": [],
   "source": [
    "df = pd.read_csv(SKILL_DAT + 'filter_doc_index.csv')\n",
    "print df.shape\n",
    "df.set_index('index', inplace=True)"
   ]
  },
  {
   "cell_type": "code",
   "execution_count": null,
   "metadata": {
    "collapsed": true
   },
   "outputs": [],
   "source": [
    "title_stats = getTitleStats(df)\n",
    "# title_stats.to_csv(DATA_DIR + 'stats/job_titles.csv', index=False)\n",
    "title_stats.head()"
   ]
  },
  {
   "cell_type": "code",
   "execution_count": null,
   "metadata": {
    "collapsed": false
   },
   "outputs": [],
   "source": [
    "print('# job titles after standardizing: %d' %title_stats.shape[0])"
   ]
  },
  {
   "cell_type": "code",
   "execution_count": null,
   "metadata": {
    "collapsed": true
   },
   "outputs": [],
   "source": [
    "by_n_post.head()"
   ]
  },
  {
   "cell_type": "code",
   "execution_count": null,
   "metadata": {
    "collapsed": true
   },
   "outputs": [],
   "source": [
    "# swr_sims = calSims(domain='software', pri_func=None)\n",
    "viz(swr_sims, domain='software')"
   ]
  },
  {
   "cell_type": "code",
   "execution_count": 333,
   "metadata": {
    "collapsed": false
   },
   "outputs": [
    {
     "ename": "ValueError",
     "evalue": "If using all scalar values, you must pass an index",
     "output_type": "error",
     "traceback": [
      "\u001b[0;31m---------------------------------------------------------------------------\u001b[0m",
      "\u001b[0;31mValueError\u001b[0m                                Traceback (most recent call last)",
      "\u001b[0;32m<ipython-input-333-285350730adb>\u001b[0m in \u001b[0;36m<module>\u001b[0;34m()\u001b[0m\n\u001b[1;32m      1\u001b[0m \u001b[1;31m# mkt_sims = calSims(domain='marketing', pri_func=None, verbose=True)\u001b[0m\u001b[1;33m\u001b[0m\u001b[1;33m\u001b[0m\u001b[0m\n\u001b[1;32m      2\u001b[0m \u001b[1;31m# viz(mkt_sims, domain='marketing')\u001b[0m\u001b[1;33m\u001b[0m\u001b[1;33m\u001b[0m\u001b[0m\n\u001b[0;32m----> 3\u001b[0;31m \u001b[0mfindTopkSimByDomain\u001b[0m\u001b[1;33m(\u001b[0m\u001b[0mdomain\u001b[0m\u001b[1;33m=\u001b[0m\u001b[1;34m'marketing'\u001b[0m\u001b[1;33m,\u001b[0m \u001b[0mk\u001b[0m\u001b[1;33m=\u001b[0m\u001b[1;36m5\u001b[0m\u001b[1;33m,\u001b[0m \u001b[0msims\u001b[0m\u001b[1;33m=\u001b[0m\u001b[0mmkt_sims\u001b[0m\u001b[1;33m)\u001b[0m\u001b[1;33m\u001b[0m\u001b[0m\n\u001b[0m",
      "\u001b[0;32m<ipython-input-331-0b9843d47897>\u001b[0m in \u001b[0;36mfindTopkSimByDomain\u001b[0;34m(domain, sims, k)\u001b[0m\n\u001b[1;32m     52\u001b[0m \u001b[1;33m\u001b[0m\u001b[0m\n\u001b[1;32m     53\u001b[0m     \u001b[0mchosen_titles\u001b[0m \u001b[1;33m=\u001b[0m \u001b[0mtitlesIn\u001b[0m\u001b[1;33m(\u001b[0m\u001b[0mdomain\u001b[0m\u001b[1;33m,\u001b[0m \u001b[0mtitle_df\u001b[0m\u001b[1;33m)\u001b[0m\u001b[1;33m\u001b[0m\u001b[0m\n\u001b[0;32m---> 54\u001b[0;31m     \u001b[0mtopk_res\u001b[0m \u001b[1;33m=\u001b[0m \u001b[0mpd\u001b[0m\u001b[1;33m.\u001b[0m\u001b[0mDataFrame\u001b[0m\u001b[1;33m(\u001b[0m\u001b[1;33m{\u001b[0m\u001b[1;34m'title'\u001b[0m\u001b[1;33m:\u001b[0m \u001b[0mchosen_titles\u001b[0m\u001b[1;33m}\u001b[0m\u001b[1;33m)\u001b[0m\u001b[1;33m\u001b[0m\u001b[0m\n\u001b[0m\u001b[1;32m     55\u001b[0m     \u001b[0mcol_topk\u001b[0m \u001b[1;33m=\u001b[0m \u001b[1;34m'top_{}_sim'\u001b[0m\u001b[1;33m.\u001b[0m\u001b[0mformat\u001b[0m\u001b[1;33m(\u001b[0m\u001b[0mk\u001b[0m\u001b[1;33m)\u001b[0m\u001b[1;33m\u001b[0m\u001b[0m\n\u001b[1;32m     56\u001b[0m     \u001b[0mtopk_res\u001b[0m\u001b[1;33m[\u001b[0m\u001b[0mcol_topk\u001b[0m\u001b[1;33m]\u001b[0m \u001b[1;33m=\u001b[0m \u001b[0mtopk_res\u001b[0m\u001b[1;33m[\u001b[0m\u001b[1;34m'title'\u001b[0m\u001b[1;33m]\u001b[0m\u001b[1;33m.\u001b[0m\u001b[0mapply\u001b[0m\u001b[1;33m(\u001b[0m\u001b[0mtopkSim\u001b[0m\u001b[1;33m,\u001b[0m \u001b[0mk\u001b[0m\u001b[1;33m=\u001b[0m\u001b[0mk\u001b[0m\u001b[1;33m,\u001b[0m \u001b[0msims\u001b[0m\u001b[1;33m=\u001b[0m\u001b[0msims\u001b[0m\u001b[1;33m)\u001b[0m\u001b[1;33m\u001b[0m\u001b[0m\n",
      "\u001b[0;32mC:\\Users\\mdluu.2011\\AppData\\Local\\Continuum\\Anaconda2\\lib\\site-packages\\pandas\\core\\frame.pyc\u001b[0m in \u001b[0;36m__init__\u001b[0;34m(self, data, index, columns, dtype, copy)\u001b[0m\n\u001b[1;32m    222\u001b[0m                                  dtype=dtype, copy=copy)\n\u001b[1;32m    223\u001b[0m         \u001b[1;32melif\u001b[0m \u001b[0misinstance\u001b[0m\u001b[1;33m(\u001b[0m\u001b[0mdata\u001b[0m\u001b[1;33m,\u001b[0m \u001b[0mdict\u001b[0m\u001b[1;33m)\u001b[0m\u001b[1;33m:\u001b[0m\u001b[1;33m\u001b[0m\u001b[0m\n\u001b[0;32m--> 224\u001b[0;31m             \u001b[0mmgr\u001b[0m \u001b[1;33m=\u001b[0m \u001b[0mself\u001b[0m\u001b[1;33m.\u001b[0m\u001b[0m_init_dict\u001b[0m\u001b[1;33m(\u001b[0m\u001b[0mdata\u001b[0m\u001b[1;33m,\u001b[0m \u001b[0mindex\u001b[0m\u001b[1;33m,\u001b[0m \u001b[0mcolumns\u001b[0m\u001b[1;33m,\u001b[0m \u001b[0mdtype\u001b[0m\u001b[1;33m=\u001b[0m\u001b[0mdtype\u001b[0m\u001b[1;33m)\u001b[0m\u001b[1;33m\u001b[0m\u001b[0m\n\u001b[0m\u001b[1;32m    225\u001b[0m         \u001b[1;32melif\u001b[0m \u001b[0misinstance\u001b[0m\u001b[1;33m(\u001b[0m\u001b[0mdata\u001b[0m\u001b[1;33m,\u001b[0m \u001b[0mma\u001b[0m\u001b[1;33m.\u001b[0m\u001b[0mMaskedArray\u001b[0m\u001b[1;33m)\u001b[0m\u001b[1;33m:\u001b[0m\u001b[1;33m\u001b[0m\u001b[0m\n\u001b[1;32m    226\u001b[0m             \u001b[1;32mimport\u001b[0m \u001b[0mnumpy\u001b[0m\u001b[1;33m.\u001b[0m\u001b[0mma\u001b[0m\u001b[1;33m.\u001b[0m\u001b[0mmrecords\u001b[0m \u001b[1;32mas\u001b[0m \u001b[0mmrecords\u001b[0m\u001b[1;33m\u001b[0m\u001b[0m\n",
      "\u001b[0;32mC:\\Users\\mdluu.2011\\AppData\\Local\\Continuum\\Anaconda2\\lib\\site-packages\\pandas\\core\\frame.pyc\u001b[0m in \u001b[0;36m_init_dict\u001b[0;34m(self, data, index, columns, dtype)\u001b[0m\n\u001b[1;32m    358\u001b[0m             \u001b[0marrays\u001b[0m \u001b[1;33m=\u001b[0m \u001b[1;33m[\u001b[0m\u001b[0mdata\u001b[0m\u001b[1;33m[\u001b[0m\u001b[0mk\u001b[0m\u001b[1;33m]\u001b[0m \u001b[1;32mfor\u001b[0m \u001b[0mk\u001b[0m \u001b[1;32min\u001b[0m \u001b[0mkeys\u001b[0m\u001b[1;33m]\u001b[0m\u001b[1;33m\u001b[0m\u001b[0m\n\u001b[1;32m    359\u001b[0m \u001b[1;33m\u001b[0m\u001b[0m\n\u001b[0;32m--> 360\u001b[0;31m         \u001b[1;32mreturn\u001b[0m \u001b[0m_arrays_to_mgr\u001b[0m\u001b[1;33m(\u001b[0m\u001b[0marrays\u001b[0m\u001b[1;33m,\u001b[0m \u001b[0mdata_names\u001b[0m\u001b[1;33m,\u001b[0m \u001b[0mindex\u001b[0m\u001b[1;33m,\u001b[0m \u001b[0mcolumns\u001b[0m\u001b[1;33m,\u001b[0m \u001b[0mdtype\u001b[0m\u001b[1;33m=\u001b[0m\u001b[0mdtype\u001b[0m\u001b[1;33m)\u001b[0m\u001b[1;33m\u001b[0m\u001b[0m\n\u001b[0m\u001b[1;32m    361\u001b[0m \u001b[1;33m\u001b[0m\u001b[0m\n\u001b[1;32m    362\u001b[0m     \u001b[1;32mdef\u001b[0m \u001b[0m_init_ndarray\u001b[0m\u001b[1;33m(\u001b[0m\u001b[0mself\u001b[0m\u001b[1;33m,\u001b[0m \u001b[0mvalues\u001b[0m\u001b[1;33m,\u001b[0m \u001b[0mindex\u001b[0m\u001b[1;33m,\u001b[0m \u001b[0mcolumns\u001b[0m\u001b[1;33m,\u001b[0m \u001b[0mdtype\u001b[0m\u001b[1;33m=\u001b[0m\u001b[0mNone\u001b[0m\u001b[1;33m,\u001b[0m \u001b[0mcopy\u001b[0m\u001b[1;33m=\u001b[0m\u001b[0mFalse\u001b[0m\u001b[1;33m)\u001b[0m\u001b[1;33m:\u001b[0m\u001b[1;33m\u001b[0m\u001b[0m\n",
      "\u001b[0;32mC:\\Users\\mdluu.2011\\AppData\\Local\\Continuum\\Anaconda2\\lib\\site-packages\\pandas\\core\\frame.pyc\u001b[0m in \u001b[0;36m_arrays_to_mgr\u001b[0;34m(arrays, arr_names, index, columns, dtype)\u001b[0m\n\u001b[1;32m   5229\u001b[0m     \u001b[1;31m# figure out the index, if necessary\u001b[0m\u001b[1;33m\u001b[0m\u001b[1;33m\u001b[0m\u001b[0m\n\u001b[1;32m   5230\u001b[0m     \u001b[1;32mif\u001b[0m \u001b[0mindex\u001b[0m \u001b[1;32mis\u001b[0m \u001b[0mNone\u001b[0m\u001b[1;33m:\u001b[0m\u001b[1;33m\u001b[0m\u001b[0m\n\u001b[0;32m-> 5231\u001b[0;31m         \u001b[0mindex\u001b[0m \u001b[1;33m=\u001b[0m \u001b[0mextract_index\u001b[0m\u001b[1;33m(\u001b[0m\u001b[0marrays\u001b[0m\u001b[1;33m)\u001b[0m\u001b[1;33m\u001b[0m\u001b[0m\n\u001b[0m\u001b[1;32m   5232\u001b[0m     \u001b[1;32melse\u001b[0m\u001b[1;33m:\u001b[0m\u001b[1;33m\u001b[0m\u001b[0m\n\u001b[1;32m   5233\u001b[0m         \u001b[0mindex\u001b[0m \u001b[1;33m=\u001b[0m \u001b[0m_ensure_index\u001b[0m\u001b[1;33m(\u001b[0m\u001b[0mindex\u001b[0m\u001b[1;33m)\u001b[0m\u001b[1;33m\u001b[0m\u001b[0m\n",
      "\u001b[0;32mC:\\Users\\mdluu.2011\\AppData\\Local\\Continuum\\Anaconda2\\lib\\site-packages\\pandas\\core\\frame.pyc\u001b[0m in \u001b[0;36mextract_index\u001b[0;34m(data)\u001b[0m\n\u001b[1;32m   5268\u001b[0m \u001b[1;33m\u001b[0m\u001b[0m\n\u001b[1;32m   5269\u001b[0m         \u001b[1;32mif\u001b[0m \u001b[1;32mnot\u001b[0m \u001b[0mindexes\u001b[0m \u001b[1;32mand\u001b[0m \u001b[1;32mnot\u001b[0m \u001b[0mraw_lengths\u001b[0m\u001b[1;33m:\u001b[0m\u001b[1;33m\u001b[0m\u001b[0m\n\u001b[0;32m-> 5270\u001b[0;31m             raise ValueError('If using all scalar values, you must pass'\n\u001b[0m\u001b[1;32m   5271\u001b[0m                              ' an index')\n\u001b[1;32m   5272\u001b[0m \u001b[1;33m\u001b[0m\u001b[0m\n",
      "\u001b[0;31mValueError\u001b[0m: If using all scalar values, you must pass an index"
     ]
    }
   ],
   "source": [
    "# mkt_sims = calSims(domain='marketing', pri_func=None, verbose=True)\n",
    "# viz(mkt_sims, domain='marketing')\n",
    "findTopkSimByDomain(domain='marketing', k=5, sims=mkt_sims)"
   ]
  },
  {
   "cell_type": "markdown",
   "metadata": {},
   "source": [
    "+ Domains with at least 20 job titles:"
   ]
  },
  {
   "cell_type": "code",
   "execution_count": null,
   "metadata": {
    "collapsed": false
   },
   "outputs": [],
   "source": [
    "domain_20_ = by_domain_agg.query('20 <= n_title')['domain']\n",
    "print('# domains with at least 20 job titles: %d' %len(domain_20_))\n",
    "\n",
    "for dom in domain_20_:\n",
    "    sims = calSims(dom)\n",
    "    print('\\tViz pairwise sims among job titles')\n",
    "    viz(sims, domain=dom)\n",
    "#     findTopkSimByDomain(dom, sims, k=5)"
   ]
  },
  {
   "cell_type": "markdown",
   "metadata": {
    "collapsed": false,
    "scrolled": true
   },
   "source": [
    "+ Domains with # titles in range [10, 20):"
   ]
  },
  {
   "cell_type": "code",
   "execution_count": null,
   "metadata": {
    "collapsed": false
   },
   "outputs": [],
   "source": [
    "domain_10_20 = domainsInRange(10, 20)"
   ]
  },
  {
   "cell_type": "code",
   "execution_count": null,
   "metadata": {
    "collapsed": false,
    "scrolled": true
   },
   "outputs": [],
   "source": [
    "for dom in domain_10_20:\n",
    "    sims = calSims(dom)\n",
    "#     findTopkSimByDomain(dom, sims, k=5)"
   ]
  },
  {
   "cell_type": "markdown",
   "metadata": {},
   "source": [
    "+ Domains with # titles in range [2, 10):"
   ]
  },
  {
   "cell_type": "code",
   "execution_count": null,
   "metadata": {
    "collapsed": false
   },
   "outputs": [],
   "source": [
    "domain_2_10 = domainsInRange(2, 10)"
   ]
  },
  {
   "cell_type": "markdown",
   "metadata": {},
   "source": [
    "This is a large number. We need to break down more."
   ]
  },
  {
   "cell_type": "code",
   "execution_count": null,
   "metadata": {
    "collapsed": false
   },
   "outputs": [],
   "source": [
    "dom_5_10 = domainsInRange(5, 10)"
   ]
  },
  {
   "cell_type": "code",
   "execution_count": null,
   "metadata": {
    "collapsed": false
   },
   "outputs": [],
   "source": [
    "# 1st half\n",
    "for dom in dom_5_10[:64] :\n",
    "    sims = calSims(dom)\n",
    "    findTopkSimByDomain(dom, sims, k=3)"
   ]
  },
  {
   "cell_type": "code",
   "execution_count": null,
   "metadata": {
    "collapsed": false,
    "scrolled": true
   },
   "outputs": [],
   "source": [
    "# 2nd half\n",
    "for dom in dom_5_10[76:]: # 64\n",
    "    sims = calSims(dom)\n",
    "    if not sims.empty: findTopkSimByDomain(dom, sims, k=3)"
   ]
  },
  {
   "cell_type": "code",
   "execution_count": null,
   "metadata": {
    "collapsed": false
   },
   "outputs": [],
   "source": [
    "dom_2_5 = domainsInRange(2, 5)"
   ]
  },
  {
   "cell_type": "code",
   "execution_count": null,
   "metadata": {
    "collapsed": false
   },
   "outputs": [],
   "source": [
    "list(dom_2_5).index('personnel / human resource')"
   ]
  },
  {
   "cell_type": "code",
   "execution_count": null,
   "metadata": {
    "collapsed": false
   },
   "outputs": [],
   "source": [
    "# 1st half\n",
    "for dom in dom_2_5[100:300]:\n",
    "    sims = calSims(dom)\n",
    "    if not sims.empty: findTopkSimByDomain(dom, sims, k=2)"
   ]
  },
  {
   "cell_type": "code",
   "execution_count": null,
   "metadata": {
    "collapsed": false,
    "scrolled": true
   },
   "outputs": [],
   "source": [
    "for dom in dom_2_5[300:]:\n",
    "    sims = calSims(dom)\n",
    "    if not sims.empty: findTopkSimByDomain(dom, sims, k=2)"
   ]
  },
  {
   "cell_type": "markdown",
   "metadata": {},
   "source": [
    "#### Should we group similar domain together?\n",
    "\n",
    "We can spot _similar_ domain names e.g. account and accounts, financial and finance. Should we group them together?"
   ]
  },
  {
   "cell_type": "markdown",
   "metadata": {
    "collapsed": true
   },
   "source": [
    "## Similarity By Job's Primary Function"
   ]
  },
  {
   "cell_type": "code",
   "execution_count": null,
   "metadata": {
    "collapsed": true
   },
   "outputs": [],
   "source": [
    "by_func_agg = pd.read_csv(DATA_DIR + 'stats/pri_funcs.csv')\n",
    "by_func_agg.describe().round(1)"
   ]
  },
  {
   "cell_type": "code",
   "execution_count": null,
   "metadata": {
    "collapsed": false
   },
   "outputs": [],
   "source": [
    "n_func = by_func_agg.shape[0]\n",
    "print('# primary functions: %d' %n_func)"
   ]
  },
  {
   "cell_type": "code",
   "execution_count": null,
   "metadata": {
    "collapsed": true
   },
   "outputs": [],
   "source": [
    "by_func_agg.sort_values('n_title', inplace=True)"
   ]
  },
  {
   "cell_type": "code",
   "execution_count": null,
   "metadata": {
    "collapsed": false
   },
   "outputs": [],
   "source": [
    "# by_func_agg.query('pri_func == \"developer\"')\n",
    "# by_func_agg.query('pri_func == \"teacher\"')\n",
    "by_func_agg.query('pri_func == \"programmer\"')"
   ]
  },
  {
   "cell_type": "code",
   "execution_count": null,
   "metadata": {
    "collapsed": false
   },
   "outputs": [],
   "source": [
    "# Functions with largest no. of titles\n",
    "by_func_agg.tail()"
   ]
  },
  {
   "cell_type": "code",
   "execution_count": null,
   "metadata": {
    "collapsed": false
   },
   "outputs": [],
   "source": [
    "chosen_funcs = by_func_agg.query('n_title >= 2')['pri_func']\n",
    "print('# funcs with at least 2 job titles: %d' %len(chosen_funcs))"
   ]
  },
  {
   "cell_type": "code",
   "execution_count": null,
   "metadata": {
    "collapsed": true
   },
   "outputs": [],
   "source": [
    "chosen_funcs.tail()"
   ]
  },
  {
   "cell_type": "code",
   "execution_count": null,
   "metadata": {
    "collapsed": false
   },
   "outputs": [],
   "source": [
    "teacher_sims = calSims(pri_func='teacher', domain=None)\n",
    "findTopkSimByFunc('teacher', teacher_sims, k=5)"
   ]
  },
  {
   "cell_type": "code",
   "execution_count": null,
   "metadata": {
    "collapsed": true
   },
   "outputs": [],
   "source": [
    "def functionInRange(min_n_title, max_n_title=None):\n",
    "    if max_n_title: \n",
    "        q = '{} <= n_title < {}'.format(min_n_title, max_n_title)\n",
    "    else:\n",
    "        q = '{} <= n_title'.format(min_n_title)\n",
    "        \n",
    "    funcs = list(by_func_agg.query(q)['pri_func'])\n",
    "    text = '#pri-funcs having # titles in range [{}, {}): {}'\n",
    "    if max_n_title:\n",
    "        msg = text.format(min_n_title, max_n_title, len(funcs))\n",
    "    else:\n",
    "        msg = text.format(min_n_title, np.infty, len(funcs))\n",
    "    print(msg)\n",
    "    \n",
    "    return funcs"
   ]
  },
  {
   "cell_type": "code",
   "execution_count": null,
   "metadata": {
    "collapsed": false
   },
   "outputs": [],
   "source": [
    "func_2_5 = functionInRange(2, 5)"
   ]
  },
  {
   "cell_type": "code",
   "execution_count": null,
   "metadata": {
    "collapsed": false
   },
   "outputs": [],
   "source": [
    "func_5_100 = functionInRange(5, 100)"
   ]
  },
  {
   "cell_type": "code",
   "execution_count": null,
   "metadata": {
    "collapsed": false
   },
   "outputs": [],
   "source": [
    "print('\\tViz pairwise sims among job titles')\n",
    "viz(sims, pri_func=pri_func)"
   ]
  },
  {
   "cell_type": "code",
   "execution_count": null,
   "metadata": {
    "collapsed": false,
    "scrolled": true
   },
   "outputs": [],
   "source": [
    "for func in func_5_100:\n",
    "    sims = calSims(pri_func=func, domain=None)\n",
    "    print('\\tViz pairwise sims among job titles')\n",
    "    viz(sims, pri_func=func)\n",
    "#     findTopkSimByFunc(func, sims)"
   ]
  },
  {
   "cell_type": "code",
   "execution_count": null,
   "metadata": {
    "collapsed": false
   },
   "outputs": [],
   "source": [
    "func_100_ = functionInRange(min_n_title=100)"
   ]
  },
  {
   "cell_type": "code",
   "execution_count": null,
   "metadata": {
    "collapsed": false
   },
   "outputs": [],
   "source": [
    "supervisor_sims = pd.read_csv(func_dir + 'sims/supervisor.csv')\n",
    "findTopkSimByFunc('supervisor', k=5, sims=supervisor_sims)"
   ]
  },
  {
   "cell_type": "code",
   "execution_count": null,
   "metadata": {
    "collapsed": false,
    "scrolled": true
   },
   "outputs": [],
   "source": [
    "by_sec_func = parsed_titles.groupby('sec_func')\n",
    "n_sec_func = by_sec_func.ngroups\n",
    "print('# secondary funcs: %d' %n_sec_func)"
   ]
  },
  {
   "cell_type": "markdown",
   "metadata": {},
   "source": [
    "## Similarity of Job Titles in one Industry\n",
    "\n",
    "We investigate topic similarity of job titles in a given industry.\n",
    "\n",
    "__Challenges__: \n",
    "+ a job title can appear in several industries in different job posts and the content of the posts can vary a lot. How to define/limit to __posts of a job title in a given industry__?"
   ]
  },
  {
   "cell_type": "code",
   "execution_count": null,
   "metadata": {
    "collapsed": true
   },
   "outputs": [],
   "source": [
    "def calTitleSims(row):\n",
    "    '''\n",
    "    @param:  row contains full name and short name of an industry\n",
    "    @return: pairwise sims bw titles with at least 2 posts in the industry\n",
    "    '''\n",
    "    \n",
    "    def titleSims(industry='Education', short_name='edu'):\n",
    "        posts = df[df.industry == industry]\n",
    "        stats = getTitleStats(posts)\n",
    "        stats.to_csv(directory + 'title_stats.csv', index=False)\n",
    "    #     only analyze titles with at least 2 posts in the industry \n",
    "        titles = list(stats.query('n_post >= 2')['title'])\n",
    "        sims = simsOfTitles(titles, industry)\n",
    "        return sims.sort_values('topic_sim', ascending=False)\n",
    "    \n",
    "    industry = row['industry']; short_name = row['short_name']\n",
    "    print('\\nIndustry %s:' %industry)\n",
    "    directory = JOB_PROF + '{}/'.format(short_name)\n",
    "    if not os.path.exists(directory): os.makedirs(directory)\n",
    "    title_sims = titleSims(industry, short_name)\n",
    "    \n",
    "    title_sims.to_csv(directory + 'sims.csv', index=False)\n",
    "    print('Saved pairwise sims of job titles in {}'.format(industry))"
   ]
  },
  {
   "cell_type": "code",
   "execution_count": null,
   "metadata": {
    "collapsed": true
   },
   "outputs": [],
   "source": [
    "by_industry = df.groupby('industry')\n",
    "\n",
    "agg_df = by_industry.agg({'job_id': len, 'title': 'nunique', 'employer_id': 'nunique'})\n",
    "agg_df.reset_index(inplace=True)\n",
    "agg_df = agg_df.rename(columns={'employer_id': 'n_employer', 'job_id': 'n_post',\n",
    "                               'title': 'n_title'})"
   ]
  },
  {
   "cell_type": "markdown",
   "metadata": {},
   "source": [
    "+ Sort industries by __ number of job titles__:"
   ]
  },
  {
   "cell_type": "code",
   "execution_count": null,
   "metadata": {
    "collapsed": true
   },
   "outputs": [],
   "source": [
    "agg_df.sort_values('n_title', ascending=False, inplace=True)\n",
    "agg_df.to_csv(DATA_DIR + 'stats/industry_stat.csv', index=False)"
   ]
  },
  {
   "cell_type": "code",
   "execution_count": null,
   "metadata": {
    "collapsed": false
   },
   "outputs": [],
   "source": [
    "agg_df = pd.read_csv(DATA_DIR + 'stats/industry_stat.csv')"
   ]
  },
  {
   "cell_type": "markdown",
   "metadata": {},
   "source": [
    "### Industries in 1st quarter"
   ]
  },
  {
   "cell_type": "code",
   "execution_count": null,
   "metadata": {
    "collapsed": false
   },
   "outputs": [],
   "source": [
    "q1 = agg_df.n_title.quantile(.25)\n",
    "q1_industries = agg_df[agg_df.n_title <= q1]"
   ]
  },
  {
   "cell_type": "code",
   "execution_count": null,
   "metadata": {
    "collapsed": true
   },
   "outputs": [],
   "source": [
    "def simWrapper(industries):\n",
    "    n_industry = industries.shape[0]\n",
    "    for i in range(n_industry):\n",
    "        calTitleSims(industries.iloc[i])\n",
    "        time.sleep(3)"
   ]
  },
  {
   "cell_type": "code",
   "execution_count": null,
   "metadata": {
    "collapsed": false,
    "scrolled": true
   },
   "outputs": [],
   "source": [
    "simWrapper(q1_industries)"
   ]
  },
  {
   "cell_type": "markdown",
   "metadata": {},
   "source": [
    "#### Similarity of Job Titles in Agriculture and Fishing"
   ]
  },
  {
   "cell_type": "markdown",
   "metadata": {},
   "source": [
    "Some titles do not belong to Agriculture and Fishing, e.g., Signal Processing Engineer, Account Clerk, Accounts Analyst. Assigning the industry of the employer to the post (and its title) seems to have problem!!!"
   ]
  },
  {
   "cell_type": "markdown",
   "metadata": {},
   "source": [
    "#### Similarity of Job Titles in Mining and Quarrying"
   ]
  },
  {
   "cell_type": "markdown",
   "metadata": {},
   "source": [
    "#### Similarity of Job Titles in Electricity, Gas and Air-Conditioning Supply"
   ]
  },
  {
   "cell_type": "code",
   "execution_count": null,
   "metadata": {
    "collapsed": true
   },
   "outputs": [],
   "source": [
    "electric_sims = pd.read_csv(JOB_PROF + 'electric/sims.csv')"
   ]
  },
  {
   "cell_type": "code",
   "execution_count": null,
   "metadata": {
    "collapsed": false
   },
   "outputs": [],
   "source": [
    "electric_sims.shape"
   ]
  },
  {
   "cell_type": "code",
   "execution_count": null,
   "metadata": {
    "collapsed": true
   },
   "outputs": [],
   "source": [
    "fig, ax = plt.subplots()\n",
    "vizTopicSim(electric_sims)\n",
    "fig.subplots_adjust(bottom=0.2)\n",
    "plt.savefig(electric_dir + 'sim_dist.pdf')\n",
    "plt.show(); plt.close()"
   ]
  },
  {
   "cell_type": "markdown",
   "metadata": {},
   "source": [
    "## Industries in 2nd Quarter"
   ]
  },
  {
   "cell_type": "code",
   "execution_count": null,
   "metadata": {
    "collapsed": false
   },
   "outputs": [],
   "source": [
    "q2 = agg_df.n_title.quantile(.50)\n",
    "q2_industries = agg_df.query('{} < n_title and n_title <= {}'.format(q1, q2))"
   ]
  },
  {
   "cell_type": "code",
   "execution_count": null,
   "metadata": {
    "collapsed": false
   },
   "outputs": [],
   "source": [
    "q2_industries.reset_index(inplace=True)\n",
    "del q2_industries['index']"
   ]
  },
  {
   "cell_type": "code",
   "execution_count": null,
   "metadata": {
    "collapsed": false
   },
   "outputs": [],
   "source": [
    "q2_industries"
   ]
  },
  {
   "cell_type": "code",
   "execution_count": null,
   "metadata": {
    "collapsed": false
   },
   "outputs": [],
   "source": [
    "calTitleSims(q2_industries.iloc[3])"
   ]
  },
  {
   "cell_type": "code",
   "execution_count": null,
   "metadata": {
    "collapsed": true
   },
   "outputs": [],
   "source": []
  },
  {
   "cell_type": "markdown",
   "metadata": {},
   "source": [
    "## Industries in 3rd Quarter"
   ]
  },
  {
   "cell_type": "code",
   "execution_count": null,
   "metadata": {
    "collapsed": true
   },
   "outputs": [],
   "source": [
    "q3 = agg_df.n_title.quantile(.75)\n",
    "agg_df.query('{} < n_title and n_title <= {}'.format(q2, q3))"
   ]
  },
  {
   "cell_type": "code",
   "execution_count": null,
   "metadata": {
    "collapsed": false
   },
   "outputs": [],
   "source": [
    "edu_sims = titleSims(industry='Education', short_name='edu')\n",
    "edu_sims.to_csv(JOB_PROF + 'edu/sims.csv', index=False)"
   ]
  },
  {
   "cell_type": "code",
   "execution_count": null,
   "metadata": {
    "collapsed": true
   },
   "outputs": [],
   "source": [
    "edu_sims.head(10)"
   ]
  },
  {
   "cell_type": "markdown",
   "metadata": {},
   "source": [
    "## Industries in 4th Quarter"
   ]
  },
  {
   "cell_type": "code",
   "execution_count": null,
   "metadata": {
    "collapsed": true
   },
   "outputs": [],
   "source": []
  },
  {
   "cell_type": "code",
   "execution_count": null,
   "metadata": {
    "collapsed": false
   },
   "outputs": [],
   "source": [
    "title_df = pd.read_csv(DATA_DIR + 'stats/job_titles.csv')\n",
    "titles = list(title_df['title'])\n",
    "print('# titles: %d' %len(titles))"
   ]
  },
  {
   "cell_type": "markdown",
   "metadata": {},
   "source": [
    "## Similarity By Job's Domain"
   ]
  },
  {
   "cell_type": "code",
   "execution_count": null,
   "metadata": {
    "collapsed": false
   },
   "outputs": [],
   "source": [
    "domain_df = pd.read_csv(DATA_DIR + 'stats/domains.csv')\n",
    "n_domain = domain_df.shape[0]\n",
    "print('# domains: %d' %n_domain)"
   ]
  },
  {
   "cell_type": "code",
   "execution_count": null,
   "metadata": {
    "collapsed": false,
    "scrolled": true
   },
   "outputs": [],
   "source": [
    "domains_2 = domain_df.query('n_title > 1')['domain']\n",
    "print('# domains with at least 2 job titles: %d' %len(domains_2))"
   ]
  },
  {
   "cell_type": "code",
   "execution_count": null,
   "metadata": {
    "collapsed": false
   },
   "outputs": [],
   "source": [
    "mkt_sims = byRelevanceSims('marketing')"
   ]
  },
  {
   "cell_type": "markdown",
   "metadata": {},
   "source": [
    "## Similarity By Job's Primary Function"
   ]
  },
  {
   "cell_type": "code",
   "execution_count": null,
   "metadata": {
    "collapsed": true
   },
   "outputs": [],
   "source": [
    "n_pri_func =\n",
    "print('# primary functions: %d' %n_pri_func)"
   ]
  }
 ],
 "metadata": {
  "anaconda-cloud": {},
  "kernelspec": {
   "display_name": "Python [conda root]",
   "language": "python",
   "name": "conda-root-py"
  },
  "language_info": {
   "codemirror_mode": {
    "name": "ipython",
    "version": 2
   },
   "file_extension": ".py",
   "mimetype": "text/x-python",
   "name": "python",
   "nbconvert_exporter": "python",
   "pygments_lexer": "ipython2",
   "version": "2.7.12"
  }
 },
 "nbformat": 4,
 "nbformat_minor": 1
}
