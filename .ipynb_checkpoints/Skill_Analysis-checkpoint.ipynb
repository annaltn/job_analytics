{
 "cells": [
  {
   "cell_type": "markdown",
   "metadata": {},
   "source": [
    "### Preparations\n",
    "+ Import libraries:"
   ]
  },
  {
   "cell_type": "code",
   "execution_count": 1,
   "metadata": {
    "collapsed": true
   },
   "outputs": [],
   "source": [
    "import numpy as np\n",
    "import pandas as pd\n",
    "import sklearn.feature_extraction.text as text_manip\n",
    "import matplotlib.pyplot as plt\n",
    "import gc\n",
    "\n",
    "from sklearn.decomposition import NMF, LatentDirichletAllocation\n",
    "from time import time\n",
    "from scipy.sparse import *\n",
    "from my_util import *\n"
   ]
  },
  {
   "cell_type": "markdown",
   "metadata": {},
   "source": [
    "+ Define needed helpers:"
   ]
  },
  {
   "cell_type": "code",
   "execution_count": 308,
   "metadata": {
    "collapsed": true
   },
   "outputs": [],
   "source": [
    "def skill_length_hist(skill_df):\n",
    "    min_n_word = np.min(skill_df['n_word'])\n",
    "    max_n_word = np.max(skill_df['n_word'])\n",
    "    n, bins, patches = plt.hist(skill_df['n_word'], bins= range(min_n_word, max_n_word+1), facecolor='blue', \n",
    "                                log=True, align='left', rwidth=.5)\n",
    "    \n",
    "    plt.xlabel('No. of words in skill (skill length)')\n",
    "    plt.ylabel('No. of skills (log scale)')\n",
    "    plt.title('Distribution of skill length')\n",
    "    plt.xticks(range(min_n_word, max_n_word+1))\n",
    "    plt.grid(True)\n",
    "#     plt.savefig(REPORT_DIR + 'skill_length.pdf')\n",
    "\n",
    "    plt.show()\n",
    "    plt.close()\n",
    "# end \n",
    "\n",
    "def freq(skills=None, docs=None, max_n_word=1):\n",
    "    t0 = time()\n",
    "    print('Counting occurrence of skills with length <= %d ...' %max_n_word)\n",
    "    \n",
    "    count_vectorizer = text_manip.CountVectorizer(vocabulary=skills, ngram_range=(1, max_n_word))  \n",
    "    doc_term_mat = count_vectorizer.fit_transform(docs)\n",
    "    print('Done after %.1fs' %(time() - t0))\n",
    "\n",
    "    # Sum over all documents to obtain total occurrence of each skill token\n",
    "    token_counts = np.asarray(doc_term_mat.sum(axis=0)).ravel()\n",
    "    \n",
    "    df = pd.DataFrame({'skill': skills})\n",
    "    df['occurrence'] = token_counts\n",
    "    return df, doc_term_mat\n",
    "\n",
    "def skillsPresentInJD(df):\n",
    "    occur_skills = df.query('occurrence > 0')\n",
    "    no_occur_skills = df.query('occurrence == 0')\n",
    "    return occur_skills, no_occur_skills\n",
    "\n",
    "def n_match_skills(df):\n",
    "    occur_skills = df.query('occurrence > 0')\n",
    "    return occur_skills.shape[0]\n",
    "\n",
    "def get_top_words(n_top_words, word_dist, feature_names):\n",
    "    norm_word_dist = np.divide(word_dist, sum(word_dist))\n",
    "    sorting_idx = word_dist.argsort()\n",
    "    top_words = [feature_names[i] for i in sorting_idx[:-n_top_words - 1:-1]]\n",
    "    probs = [norm_word_dist[i] for i in sorting_idx[:-n_top_words - 1:-1]]\n",
    "    \n",
    "    return pd.DataFrame({'top_words': top_words, 'word_probs': probs})\n"
   ]
  },
  {
   "cell_type": "code",
   "execution_count": 2,
   "metadata": {
    "collapsed": true
   },
   "outputs": [],
   "source": [
    "HOME_DIR = 'd:/larc_projects/job_analytics/'\n",
    "DATA_DIR = HOME_DIR + 'data/clean/'\n",
    "REPORT_DIR = HOME_DIR + 'reports/skill_cluster/'"
   ]
  },
  {
   "cell_type": "markdown",
   "metadata": {},
   "source": [
    "##### Load clean job descriptions (w/o html tags):"
   ]
  },
  {
   "cell_type": "code",
   "execution_count": 304,
   "metadata": {
    "collapsed": false
   },
   "outputs": [],
   "source": [
    "jd_df = pd.read_csv(DATA_DIR + 'jd_df.csv')\n",
    "n_jd = jd_df.shape[0]"
   ]
  },
  {
   "cell_type": "code",
   "execution_count": 305,
   "metadata": {
    "collapsed": true
   },
   "outputs": [
    {
     "name": "stdout",
     "output_type": "stream",
     "text": [
      "Some sample JD records:\n"
     ]
    },
    {
     "data": {
      "text/html": [
       "<div>\n",
       "<table border=\"1\" class=\"dataframe\">\n",
       "  <thead>\n",
       "    <tr style=\"text-align: right;\">\n",
       "      <th></th>\n",
       "      <th>job_id</th>\n",
       "      <th>job_description_clob</th>\n",
       "      <th>job_other_requirements_clob</th>\n",
       "      <th>month_year</th>\n",
       "      <th>text</th>\n",
       "      <th>length</th>\n",
       "      <th>unigram_freq</th>\n",
       "      <th>unigram_ratio</th>\n",
       "      <th>clean_text</th>\n",
       "    </tr>\n",
       "  </thead>\n",
       "  <tbody>\n",
       "    <tr>\n",
       "      <th>105469</th>\n",
       "      <td>JOB-2014-0110950</td>\n",
       "      <td>Bookkeeping</td>\n",
       "      <td>O levels , LCCI Intermediate, 2 years experien...</td>\n",
       "      <td>Nov-14</td>\n",
       "      <td>Bookkeeping</td>\n",
       "      <td>1</td>\n",
       "      <td>4</td>\n",
       "      <td>4.0</td>\n",
       "      <td>Bookkeeping</td>\n",
       "    </tr>\n",
       "    <tr>\n",
       "      <th>4620</th>\n",
       "      <td>JOB-2014-0007628</td>\n",
       "      <td>Testing</td>\n",
       "      <td>Testing</td>\n",
       "      <td>Jul-14</td>\n",
       "      <td>Testing</td>\n",
       "      <td>1</td>\n",
       "      <td>1</td>\n",
       "      <td>1.0</td>\n",
       "      <td>Testing</td>\n",
       "    </tr>\n",
       "    <tr>\n",
       "      <th>115833</th>\n",
       "      <td>JOB-2014-0121378</td>\n",
       "      <td>&lt;p&gt;\\r\\r\\r\\r\\r\\r\\n\\t&amp;bull; Java&lt;br /&gt;\\r\\r\\r\\r\\r...</td>\n",
       "      <td>&lt;p&gt;\\r\\r\\r\\r\\r\\r\\n\\t&amp;bull; Involved/experience ...</td>\n",
       "      <td>Dec-14</td>\n",
       "      <td>\\r\\r\\r\\r\\r\\r\\n\\t• Java\\r\\r\\r\\r\\r\\r\\n\\t• Spring...</td>\n",
       "      <td>10</td>\n",
       "      <td>3</td>\n",
       "      <td>0.3</td>\n",
       "      <td>Java Spring Hibernate REST API JSON XML Tomcat...</td>\n",
       "    </tr>\n",
       "  </tbody>\n",
       "</table>\n",
       "</div>"
      ],
      "text/plain": [
       "                  job_id                               job_description_clob  \\\n",
       "105469  JOB-2014-0110950                                        Bookkeeping   \n",
       "4620    JOB-2014-0007628                                            Testing   \n",
       "115833  JOB-2014-0121378  <p>\\r\\r\\r\\r\\r\\r\\n\\t&bull; Java<br />\\r\\r\\r\\r\\r...   \n",
       "\n",
       "                              job_other_requirements_clob month_year  \\\n",
       "105469  O levels , LCCI Intermediate, 2 years experien...     Nov-14   \n",
       "4620                                              Testing     Jul-14   \n",
       "115833  <p>\\r\\r\\r\\r\\r\\r\\n\\t&bull; Involved/experience ...     Dec-14   \n",
       "\n",
       "                                                     text  length  \\\n",
       "105469                                        Bookkeeping       1   \n",
       "4620                                              Testing       1   \n",
       "115833  \\r\\r\\r\\r\\r\\r\\n\\t• Java\\r\\r\\r\\r\\r\\r\\n\\t• Spring...      10   \n",
       "\n",
       "        unigram_freq  unigram_ratio  \\\n",
       "105469             4            4.0   \n",
       "4620               1            1.0   \n",
       "115833             3            0.3   \n",
       "\n",
       "                                               clean_text  \n",
       "105469                                        Bookkeeping  \n",
       "4620                                              Testing  \n",
       "115833  Java Spring Hibernate REST API JSON XML Tomcat...  "
      ]
     },
     "execution_count": 305,
     "metadata": {},
     "output_type": "execute_result"
    }
   ],
   "source": [
    "jd_df['clean_text'] = [' '.join(words_in_doc(d)) for d in jd_df['text']]\n",
    "print('Some sample JD records:')\n",
    "jd_df.head(3)"
   ]
  },
  {
   "cell_type": "markdown",
   "metadata": {},
   "source": [
    "+ Get the text of JD records for further analysis. We need to use lower cases for JDs so that we can match with lowercased skills later."
   ]
  },
  {
   "cell_type": "code",
   "execution_count": 306,
   "metadata": {
    "collapsed": false,
    "scrolled": false
   },
   "outputs": [],
   "source": [
    "jd_docs = jd_df['clean_text'].apply(str.lower)"
   ]
  },
  {
   "cell_type": "markdown",
   "metadata": {},
   "source": [
    "##### Load skill lists obtained from LinkedIn & ONET:"
   ]
  },
  {
   "cell_type": "code",
   "execution_count": 3,
   "metadata": {
    "collapsed": false
   },
   "outputs": [],
   "source": [
    "linkedin_skill_df = pd.read_csv(DATA_DIR + 'LinkedInSkillsList_10.csv')\n",
    "linkedin_skills = linkedin_skill_df['skill']\n",
    "\n",
    "onet_skill_df = pd.read_csv(DATA_DIR + 'onet_skills_list_all.csv')\n",
    "onet_skills = onet_skill_df['skill'].apply(str.lower)"
   ]
  },
  {
   "cell_type": "markdown",
   "metadata": {},
   "source": [
    "+ Join two skill lists & remove duplicated skills:"
   ]
  },
  {
   "cell_type": "code",
   "execution_count": 4,
   "metadata": {
    "collapsed": false
   },
   "outputs": [],
   "source": [
    "skills = linkedin_skills.append(onet_skills)\n",
    "skills = list(set(skills))\n",
    "pd.DataFrame({'skill': skills}).to_csv(DATA_DIR + 'all_skills.csv')"
   ]
  },
  {
   "cell_type": "markdown",
   "metadata": {},
   "source": [
    "##### Average no. of words in skills"
   ]
  },
  {
   "cell_type": "code",
   "execution_count": 10,
   "metadata": {
    "collapsed": false
   },
   "outputs": [
    {
     "data": {
      "text/html": [
       "<div>\n",
       "<table border=\"1\" class=\"dataframe\">\n",
       "  <thead>\n",
       "    <tr style=\"text-align: right;\">\n",
       "      <th></th>\n",
       "      <th>min</th>\n",
       "      <th>25%</th>\n",
       "      <th>50% (median)</th>\n",
       "      <th>75%</th>\n",
       "      <th>max</th>\n",
       "    </tr>\n",
       "  </thead>\n",
       "  <tbody>\n",
       "    <tr>\n",
       "      <th>0</th>\n",
       "      <td>1.0</td>\n",
       "      <td>2.0</td>\n",
       "      <td>2.0</td>\n",
       "      <td>3.0</td>\n",
       "      <td>13.0</td>\n",
       "    </tr>\n",
       "  </tbody>\n",
       "</table>\n",
       "</div>"
      ],
      "text/plain": [
       "   min  25%  50% (median)  75%   max\n",
       "0  1.0  2.0           2.0  3.0  13.0"
      ]
     },
     "execution_count": 10,
     "metadata": {},
     "output_type": "execute_result"
    }
   ],
   "source": [
    "skill_df = pd.DataFrame({'skill': skills})\n",
    "skill_df['n_word'] = skill_df['skill'].apply(n_word)\n",
    "quantile(skill_df['n_word'])"
   ]
  },
  {
   "cell_type": "markdown",
   "metadata": {},
   "source": [
    "##### Distribution of skill length (no. of words in skill):"
   ]
  },
  {
   "cell_type": "code",
   "execution_count": 11,
   "metadata": {
    "collapsed": true
   },
   "outputs": [
    {
     "data": {
      "image/png": "[encoded data removed]",
      "text/plain": [
       "<matplotlib.figure.Figure at 0x44aa72b0>"
      ]
     },
     "metadata": {},
     "output_type": "display_data"
    }
   ],
   "source": [
    "skill_length_hist(skill_df)"
   ]
  },
  {
   "cell_type": "markdown",
   "metadata": {},
   "source": [
    "Based on the quartile summary and the distribution, we can try the following options:\n",
    "+ including only 1-gram, 2-gram, 3-gram skills in our vocabulary (as 75% of skills have no more than 3 words)\n",
    "+ including up to 7-gram skills in our vocabulary (as skills with more than 7 words only occuppy a small portion)"
   ]
  },
  {
   "cell_type": "markdown",
   "metadata": {},
   "source": [
    "##### Statistics of data"
   ]
  },
  {
   "cell_type": "code",
   "execution_count": 396,
   "metadata": {
    "collapsed": false
   },
   "outputs": [
    {
     "data": {
      "text/html": [
       "<div>\n",
       "<table border=\"1\" class=\"dataframe\">\n",
       "  <thead>\n",
       "    <tr style=\"text-align: right;\">\n",
       "      <th></th>\n",
       "      <th># JDs</th>\n",
       "      <th># LinkedIn skills</th>\n",
       "      <th># ONET skills</th>\n",
       "      <th>Total no. of unique skills</th>\n",
       "      <th>max skill length</th>\n",
       "      <th>min skill length</th>\n",
       "    </tr>\n",
       "  </thead>\n",
       "  <tbody>\n",
       "    <tr>\n",
       "      <th>0</th>\n",
       "      <td>263477</td>\n",
       "      <td>18251</td>\n",
       "      <td>27025</td>\n",
       "      <td>44919</td>\n",
       "      <td>13</td>\n",
       "      <td>1</td>\n",
       "    </tr>\n",
       "  </tbody>\n",
       "</table>\n",
       "</div>"
      ],
      "text/plain": [
       "    # JDs  # LinkedIn skills  # ONET skills  Total no. of unique skills  \\\n",
       "0  263477              18251          27025                       44919   \n",
       "\n",
       "   max skill length  min skill length  \n",
       "0                13                 1  "
      ]
     },
     "execution_count": 396,
     "metadata": {},
     "output_type": "execute_result"
    }
   ],
   "source": [
    "stats = pd.DataFrame({'# JDs': n_jd, \n",
    "                      '# LinkedIn skills': len(linkedin_skills), '# ONET skills': len(onet_skills), \n",
    "                      'Total no. of unique skills': len(skills), \n",
    "                      'min skill length': min(skill_df['n_word']), 'max skill length': max(skill_df['n_word'])}, \n",
    "                     index=[0])\n",
    "\n",
    "stats.to_csv(DATA_DIR + 'stats.csv')\n",
    "stats"
   ]
  },
  {
   "cell_type": "markdown",
   "metadata": {},
   "source": [
    "### 1. Skill occurrence\n",
    "Each skill is considered as a token. We count occurrence of each skill in documents and return the counts in a term-document matrix.\n"
   ]
  },
  {
   "cell_type": "markdown",
   "metadata": {},
   "source": [
    "+ Tokens_1 = {skills with length = 1} (uni-gram skills)\n",
    "+ Tokens_3 = {skills with length <= 3}\n",
    "+ Tokens_7 = {skills with length <= 7}"
   ]
  },
  {
   "cell_type": "code",
   "execution_count": 310,
   "metadata": {
    "collapsed": false
   },
   "outputs": [
    {
     "name": "stdout",
     "output_type": "stream",
     "text": [
      "Counting occurrence of skills with length <=1 ...\n",
      "Done after 31.0s\n"
     ]
    }
   ],
   "source": [
    "unigram_skills, doc_unigram_freq = freq(skills, jd_docs, max_n_word=1)"
   ]
  },
  {
   "cell_type": "code",
   "execution_count": 311,
   "metadata": {
    "collapsed": false
   },
   "outputs": [
    {
     "name": "stdout",
     "output_type": "stream",
     "text": [
      "Counting occurrence of skills with length <=3 ...\n",
      "Done after 97.3s\n"
     ]
    }
   ],
   "source": [
    "trigram_skills, doc_trigram_freq = freq(skills, jd_docs, max_n_word=3)"
   ]
  },
  {
   "cell_type": "code",
   "execution_count": 379,
   "metadata": {
    "collapsed": false
   },
   "outputs": [],
   "source": [
    "# sevengram_skills, doc_7gram_freq = freq(skills, jd_docs, max_n_word=7)"
   ]
  },
  {
   "cell_type": "code",
   "execution_count": 312,
   "metadata": {
    "collapsed": false
   },
   "outputs": [
    {
     "data": {
      "text/html": [
       "<div>\n",
       "<table border=\"1\" class=\"dataframe\">\n",
       "  <thead>\n",
       "    <tr style=\"text-align: right;\">\n",
       "      <th></th>\n",
       "      <th># matching skills</th>\n",
       "    </tr>\n",
       "  </thead>\n",
       "  <tbody>\n",
       "    <tr>\n",
       "      <th>Tokens_1</th>\n",
       "      <td>5212</td>\n",
       "    </tr>\n",
       "    <tr>\n",
       "      <th>Tokens_3</th>\n",
       "      <td>14829</td>\n",
       "    </tr>\n",
       "  </tbody>\n",
       "</table>\n",
       "</div>"
      ],
      "text/plain": [
       "          # matching skills\n",
       "Tokens_1               5212\n",
       "Tokens_3              14829"
      ]
     },
     "execution_count": 312,
     "metadata": {},
     "output_type": "execute_result"
    }
   ],
   "source": [
    "unigram_match, trigram_match = n_match_skills(df=unigram_skills), n_match_skills(df=trigram_skills)\n",
    "# sevengram_match = n_match_skills(df=sevengram_skills)\n",
    "\n",
    "pd.DataFrame({'# matching skills': [unigram_match, trigram_match]}, \n",
    "            index=['Tokens_1', 'Tokens_3'])\n"
   ]
  },
  {
   "cell_type": "markdown",
   "metadata": {},
   "source": [
    "As the difference between Tokens_3 and Tokens_7 is negligible, we can just use the former for analysis. This means we only include __1-, 2- and 3-gram__ skills in our subsequent analysis."
   ]
  },
  {
   "cell_type": "markdown",
   "metadata": {},
   "source": [
    "### 2. Skill occurrence per document"
   ]
  },
  {
   "cell_type": "markdown",
   "metadata": {},
   "source": [
    "#### Uni-gram skills"
   ]
  },
  {
   "cell_type": "code",
   "execution_count": 380,
   "metadata": {
    "collapsed": false
   },
   "outputs": [
    {
     "name": "stdout",
     "output_type": "stream",
     "text": [
      "Counting occurrence of uni-gram skills...\n",
      "Done after 30.3s\n"
     ]
    }
   ],
   "source": [
    "t0 = time()\n",
    "print('Counting occurrence of uni-gram skills...')\n",
    "uni_gram_vectorizer = text_manip.CountVectorizer(vocabulary=skills)  \n",
    "doc_unigram_freq = uni_gram_vectorizer.fit_transform(jd_docs)\n",
    "print('Done after %.1fs' %(time() - t0))"
   ]
  },
  {
   "cell_type": "markdown",
   "metadata": {},
   "source": [
    "##### No. of unique uni-grams per document"
   ]
  },
  {
   "cell_type": "code",
   "execution_count": 381,
   "metadata": {
    "collapsed": true
   },
   "outputs": [
    {
     "data": {
      "text/html": [
       "<div>\n",
       "<table border=\"1\" class=\"dataframe\">\n",
       "  <thead>\n",
       "    <tr style=\"text-align: right;\">\n",
       "      <th></th>\n",
       "      <th>jd_id</th>\n",
       "      <th>n_unigram</th>\n",
       "    </tr>\n",
       "  </thead>\n",
       "  <tbody>\n",
       "    <tr>\n",
       "      <th>190543</th>\n",
       "      <td>JOB-2015-0196805</td>\n",
       "      <td>119</td>\n",
       "    </tr>\n",
       "    <tr>\n",
       "      <th>210604</th>\n",
       "      <td>JOB-2015-0217075</td>\n",
       "      <td>106</td>\n",
       "    </tr>\n",
       "    <tr>\n",
       "      <th>260098</th>\n",
       "      <td>JOB-2015-0267654</td>\n",
       "      <td>103</td>\n",
       "    </tr>\n",
       "    <tr>\n",
       "      <th>260090</th>\n",
       "      <td>JOB-2015-0267646</td>\n",
       "      <td>103</td>\n",
       "    </tr>\n",
       "    <tr>\n",
       "      <th>33133</th>\n",
       "      <td>JOB-2014-0036543</td>\n",
       "      <td>99</td>\n",
       "    </tr>\n",
       "    <tr>\n",
       "      <th>203037</th>\n",
       "      <td>JOB-2015-0209415</td>\n",
       "      <td>98</td>\n",
       "    </tr>\n",
       "    <tr>\n",
       "      <th>216119</th>\n",
       "      <td>JOB-2015-0222694</td>\n",
       "      <td>98</td>\n",
       "    </tr>\n",
       "    <tr>\n",
       "      <th>256206</th>\n",
       "      <td>JOB-2015-0263242</td>\n",
       "      <td>98</td>\n",
       "    </tr>\n",
       "    <tr>\n",
       "      <th>203547</th>\n",
       "      <td>JOB-2015-0209933</td>\n",
       "      <td>97</td>\n",
       "    </tr>\n",
       "    <tr>\n",
       "      <th>140713</th>\n",
       "      <td>JOB-2015-0146455</td>\n",
       "      <td>97</td>\n",
       "    </tr>\n",
       "  </tbody>\n",
       "</table>\n",
       "</div>"
      ],
      "text/plain": [
       "                   jd_id  n_unigram\n",
       "190543  JOB-2015-0196805        119\n",
       "210604  JOB-2015-0217075        106\n",
       "260098  JOB-2015-0267654        103\n",
       "260090  JOB-2015-0267646        103\n",
       "33133   JOB-2014-0036543         99\n",
       "203037  JOB-2015-0209415         98\n",
       "216119  JOB-2015-0222694         98\n",
       "256206  JOB-2015-0263242         98\n",
       "203547  JOB-2015-0209933         97\n",
       "140713  JOB-2015-0146455         97"
      ]
     },
     "execution_count": 381,
     "metadata": {},
     "output_type": "execute_result"
    }
   ],
   "source": [
    "## For each doc, \"its no. of unique uni-grams = no. of non-zero counts\" in its row in doc-term mat\n",
    "def n_non_zero(r, sp_mat):\n",
    "    return len(sp_mat.getrow(r).nonzero()[1])\n",
    "\n",
    "n_unigram = [n_non_zero(r, doc_unigram_freq) for r in range(n_jd)]\n",
    "# sum(n_unigram) == len(doc_unigram_freq.nonzero()[0]) # sanity check"
   ]
  },
  {
   "cell_type": "code",
   "execution_count": 395,
   "metadata": {
    "collapsed": false,
    "scrolled": false
   },
   "outputs": [
    {
     "name": "stdout",
     "output_type": "stream",
     "text": [
      "   min  25%  50% (median)   75%    max\n",
      "0  0.0  8.0          14.0  22.0  119.0\n"
     ]
    }
   ],
   "source": [
    "jd_df['n_unigram'] = n_unigram\n",
    "print quantile(n_unigram)"
   ]
  },
  {
   "cell_type": "code",
   "execution_count": 394,
   "metadata": {
    "collapsed": true
   },
   "outputs": [
    {
     "name": "stdout",
     "output_type": "stream",
     "text": [
      "(6464, 10)\n"
     ]
    },
    {
     "data": {
      "text/html": [
       "<div>\n",
       "<table border=\"1\" class=\"dataframe\">\n",
       "  <thead>\n",
       "    <tr style=\"text-align: right;\">\n",
       "      <th></th>\n",
       "      <th>job_id</th>\n",
       "      <th>clean_text</th>\n",
       "      <th>n_unigram</th>\n",
       "    </tr>\n",
       "  </thead>\n",
       "  <tbody>\n",
       "    <tr>\n",
       "      <th>307</th>\n",
       "      <td>JOB-2014-0003245</td>\n",
       "      <td>Design sportswear shoe</td>\n",
       "      <td>2</td>\n",
       "    </tr>\n",
       "    <tr>\n",
       "      <th>234060</th>\n",
       "      <td>JOB-2015-0240867</td>\n",
       "      <td>HVAC ENGINEERING</td>\n",
       "      <td>2</td>\n",
       "    </tr>\n",
       "    <tr>\n",
       "      <th>148984</th>\n",
       "      <td>JOB-2015-0154808</td>\n",
       "      <td>Jewelry designer</td>\n",
       "      <td>2</td>\n",
       "    </tr>\n",
       "    <tr>\n",
       "      <th>39364</th>\n",
       "      <td>JOB-2014-0044267</td>\n",
       "      <td>Peformance Testing Mobile Testing</td>\n",
       "      <td>2</td>\n",
       "    </tr>\n",
       "    <tr>\n",
       "      <th>234248</th>\n",
       "      <td>JOB-2015-0241058</td>\n",
       "      <td>Project Management</td>\n",
       "      <td>2</td>\n",
       "    </tr>\n",
       "    <tr>\n",
       "      <th>162273</th>\n",
       "      <td>JOB-2015-0168245</td>\n",
       "      <td>CARPET SALES</td>\n",
       "      <td>2</td>\n",
       "    </tr>\n",
       "    <tr>\n",
       "      <th>92784</th>\n",
       "      <td>JOB-2014-0098164</td>\n",
       "      <td>CALIBRATION TESTING</td>\n",
       "      <td>2</td>\n",
       "    </tr>\n",
       "    <tr>\n",
       "      <th>18577</th>\n",
       "      <td>JOB-2014-0021820</td>\n",
       "      <td>Food Preparation Food Serving</td>\n",
       "      <td>2</td>\n",
       "    </tr>\n",
       "    <tr>\n",
       "      <th>193710</th>\n",
       "      <td>JOB-2015-0200007</td>\n",
       "      <td>Basic accounting</td>\n",
       "      <td>2</td>\n",
       "    </tr>\n",
       "    <tr>\n",
       "      <th>116694</th>\n",
       "      <td>JOB-2014-0122242</td>\n",
       "      <td>VBA MACRO</td>\n",
       "      <td>2</td>\n",
       "    </tr>\n",
       "  </tbody>\n",
       "</table>\n",
       "</div>"
      ],
      "text/plain": [
       "                  job_id                         clean_text  n_unigram\n",
       "307     JOB-2014-0003245             Design sportswear shoe          2\n",
       "234060  JOB-2015-0240867                   HVAC ENGINEERING          2\n",
       "148984  JOB-2015-0154808                   Jewelry designer          2\n",
       "39364   JOB-2014-0044267  Peformance Testing Mobile Testing          2\n",
       "234248  JOB-2015-0241058                 Project Management          2\n",
       "162273  JOB-2015-0168245                       CARPET SALES          2\n",
       "92784   JOB-2014-0098164                CALIBRATION TESTING          2\n",
       "18577   JOB-2014-0021820      Food Preparation Food Serving          2\n",
       "193710  JOB-2015-0200007                   Basic accounting          2\n",
       "116694  JOB-2014-0122242                          VBA MACRO          2"
      ]
     },
     "execution_count": 394,
     "metadata": {},
     "output_type": "execute_result"
    }
   ],
   "source": [
    "# pull up some JDs to check\n",
    "tmp = jd_df.query('n_unigram == 2')\n",
    "print tmp.shape\n",
    "tmp[['job_id', 'clean_text', 'n_unigram']].head(10)"
   ]
  },
  {
   "cell_type": "markdown",
   "metadata": {},
   "source": [
    "Based on the quartile summary, $50$% of documents contain $\\leq 14$ uni-gram skills and $75$% of them contain $\\leq 22$ uni-gram skills (which looks reasonable)."
   ]
  },
  {
   "cell_type": "code",
   "execution_count": 387,
   "metadata": {
    "collapsed": false,
    "scrolled": true
   },
   "outputs": [
    {
     "data": {
      "image/png": "[encoded data removed]",
      "text/plain": [
       "<matplotlib.figure.Figure at 0x40b0c748>"
      ]
     },
     "metadata": {},
     "output_type": "display_data"
    }
   ],
   "source": [
    "fig = plt.figure(figsize=(10, 6))\n",
    "ns, bins, patches = plt.hist(n_unigram, bins=np.unique(n_unigram), rwidth=.5)\n",
    "plt.xlabel('No. of unique uni-gram skills in job description')\n",
    "plt.ylabel('No. of job descriptions')\n",
    "plt.title('Distribution of uni-gram skills in job descriptions')\n",
    "plt.grid(True)\n",
    "\n",
    "plt.show()\n",
    "fig.savefig(REPORT_DIR + 'unigram_in_jd.pdf')\n",
    "plt.close(fig)"
   ]
  },
  {
   "cell_type": "code",
   "execution_count": 386,
   "metadata": {
    "collapsed": false
   },
   "outputs": [
    {
     "name": "stdout",
     "output_type": "stream",
     "text": [
      "Ratio of JDs with no uni-gram skills: 0.007\n"
     ]
    }
   ],
   "source": [
    "print('Ratio of JDs with no uni-gram skills: %.3f' %round(n_unigram.count(0)/float(n_jd), 3))"
   ]
  },
  {
   "cell_type": "markdown",
   "metadata": {},
   "source": [
    "##### Ratio of unigram skill tokens in JDs"
   ]
  },
  {
   "cell_type": "code",
   "execution_count": 313,
   "metadata": {
    "collapsed": true
   },
   "outputs": [],
   "source": [
    "jd_df['length'] = [n_words_in_doc(d) for d in jd_df['text']]\n",
    "# print sum(jd_df['length'] == 0)\n",
    "\n",
    "jd_df['unigram_freq'] = doc_unigram_freq.sum(axis=1).A1\n",
    "clean_jd_df = jd_df.query('length > 0')\n",
    "del clean_jd_df['text']\n",
    "clean_jd_df['unigram_ratio'] = np.divide(clean_jd_df['unigram_freq'], clean_jd_df['length']*1.)\n",
    "clean_jd_df = clean_jd_df.sort_values(by='unigram_ratio', ascending=False)"
   ]
  },
  {
   "cell_type": "code",
   "execution_count": 383,
   "metadata": {
    "collapsed": false
   },
   "outputs": [
    {
     "name": "stdout",
     "output_type": "stream",
     "text": [
      "   min   25%  50% (median)   75%  max\n",
      "0  0.0  0.16           0.2  0.26  1.0\n"
     ]
    }
   ],
   "source": [
    "print quantile(clean_jd_df['unigram_ratio'], dec=2)\n",
    "# clean_jd_df.to_csv(DATA_DIR + 'jd_df.csv')"
   ]
  },
  {
   "cell_type": "code",
   "execution_count": 318,
   "metadata": {
    "collapsed": true
   },
   "outputs": [
    {
     "data": {
      "image/png": "[encoded data removed]",
      "text/plain": [
       "<matplotlib.figure.Figure at 0x679b5fd0>"
      ]
     },
     "metadata": {},
     "output_type": "display_data"
    }
   ],
   "source": [
    "plt.hist(clean_jd_df['unigram_ratio'])\n",
    "plt.xlabel('Ratio of unigram skill tokens in job description')\n",
    "plt.ylabel('No. of job descriptions')\n",
    "plt.title('Distribution of ratio of unigram skills')\n",
    "plt.savefig(REPORT_DIR + 'unigram_ratio.pdf')\n",
    "\n",
    "plt.show()\n",
    "plt.close()"
   ]
  },
  {
   "cell_type": "markdown",
   "metadata": {},
   "source": [
    "__Decision__:\n",
    "Based on the distribution, half of JDs have $\\leq 20$% of their words are uni-gram skills (and 75% of them having unigram skills occupying $\\leq 26$% of their words). Thus, we may first want to try on the sub dataset of JDs where uni-gram skills occuppy at least $20$%."
   ]
  },
  {
   "cell_type": "code",
   "execution_count": 429,
   "metadata": {
    "collapsed": false
   },
   "outputs": [
    {
     "data": {
      "text/plain": [
       "Index([u'job_id', u'job_description_clob', u'job_other_requirements_clob',\n",
       "       u'month_year', u'text', u'length', u'unigram_freq', u'unigram_ratio',\n",
       "       u'clean_text', u'n_unigram'],\n",
       "      dtype='object')"
      ]
     },
     "execution_count": 429,
     "metadata": {},
     "output_type": "execute_result"
    }
   ],
   "source": [
    "jd_df.columns"
   ]
  },
  {
   "cell_type": "code",
   "execution_count": 430,
   "metadata": {
    "collapsed": false
   },
   "outputs": [
    {
     "name": "stdout",
     "output_type": "stream",
     "text": [
      "(232559, 10)\n"
     ]
    }
   ],
   "source": [
    "\n",
    "sub_df = jd_df.query('n_unigram >= 5')\n",
    "sub_df = sub_df.sort_values(by='length', ascending=False)\n",
    "print sub_df.shape\n",
    "# sub_df.head(10)"
   ]
  },
  {
   "cell_type": "markdown",
   "metadata": {},
   "source": [
    "+ First, we try using __only uni-gram skills__ as features."
   ]
  },
  {
   "cell_type": "code",
   "execution_count": 431,
   "metadata": {
    "collapsed": false
   },
   "outputs": [
    {
     "name": "stdout",
     "output_type": "stream",
     "text": [
      "Counting occurrence of skills with length <=1 ...\n",
      "Done after 29.9s\n"
     ]
    },
    {
     "data": {
      "text/plain": [
       "(232559, 44919)"
      ]
     },
     "execution_count": 431,
     "metadata": {},
     "output_type": "execute_result"
    }
   ],
   "source": [
    "unigram_df, doc_unigram_freq  = freq(skills, max_n_word=1, docs=sub_df['clean_text'])\n",
    "doc_unigram_freq.shape"
   ]
  },
  {
   "cell_type": "code",
   "execution_count": 432,
   "metadata": {
    "collapsed": false
   },
   "outputs": [
    {
     "name": "stdout",
     "output_type": "stream",
     "text": [
      "Counting occurrence of skills with length <=1 ...\n",
      "Done after 29.7s\n"
     ]
    },
    {
     "data": {
      "text/plain": [
       "(232559, 5196)"
      ]
     },
     "execution_count": 432,
     "metadata": {},
     "output_type": "execute_result"
    }
   ],
   "source": [
    "occur_unigrams = unigram_df.query('occurrence > 0')['skill']\n",
    "unigram_df, doc_unigram_freq = freq(skills=occur_unigrams, docs=sub_df['clean_text'])\n",
    "doc_unigram_freq.shape"
   ]
  },
  {
   "cell_type": "code",
   "execution_count": 434,
   "metadata": {
    "collapsed": false
   },
   "outputs": [],
   "source": [
    "n_unigram_skill = doc_unigram_freq.shape[1]\n",
    "n_document = [n_non_zero(r, doc_unigram_freq.transpose()) for r in range(n_unigram_skill)]"
   ]
  },
  {
   "cell_type": "code",
   "execution_count": 447,
   "metadata": {
    "collapsed": false
   },
   "outputs": [
    {
     "data": {
      "text/plain": [
       "311"
      ]
     },
     "execution_count": 447,
     "metadata": {},
     "output_type": "execute_result"
    }
   ],
   "source": [
    "tmp_df = pd.DataFrame({'skill' : occur_unigrams, 'n_doc' : n_document}) \n",
    "tmp_df = tmp_df.sort_values(by='n_doc', ascending=False)\n",
    "sum(tmp_df['n_doc'] == 1)"
   ]
  },
  {
   "cell_type": "code",
   "execution_count": 435,
   "metadata": {
    "collapsed": false
   },
   "outputs": [
    {
     "data": {
      "text/html": [
       "<div>\n",
       "<table border=\"1\" class=\"dataframe\">\n",
       "  <thead>\n",
       "    <tr style=\"text-align: right;\">\n",
       "      <th></th>\n",
       "      <th>min</th>\n",
       "      <th>25%</th>\n",
       "      <th>50% (median)</th>\n",
       "      <th>75%</th>\n",
       "      <th>max</th>\n",
       "    </tr>\n",
       "  </thead>\n",
       "  <tbody>\n",
       "    <tr>\n",
       "      <th>0</th>\n",
       "      <td>1.0</td>\n",
       "      <td>8.0</td>\n",
       "      <td>37.0</td>\n",
       "      <td>211.2</td>\n",
       "      <td>84111.0</td>\n",
       "    </tr>\n",
       "  </tbody>\n",
       "</table>\n",
       "</div>"
      ],
      "text/plain": [
       "   min  25%  50% (median)    75%      max\n",
       "0  1.0  8.0          37.0  211.2  84111.0"
      ]
     },
     "execution_count": 435,
     "metadata": {},
     "output_type": "execute_result"
    }
   ],
   "source": [
    "quantile(n_document)"
   ]
  },
  {
   "cell_type": "code",
   "execution_count": 439,
   "metadata": {
    "collapsed": false
   },
   "outputs": [
    {
     "data": {
      "image/png": "[encoded data removed]",
      "text/plain": [
       "<matplotlib.figure.Figure at 0x54457e80>"
      ]
     },
     "metadata": {},
     "output_type": "display_data"
    }
   ],
   "source": [
    "plt.hist(n_document, bins=np.unique(n_document), log=True)\n",
    "# plt.xlabel('No. of documents containing the skill')\n",
    "# plt.ylabel\n",
    "\n",
    "plt.show()"
   ]
  },
  {
   "cell_type": "markdown",
   "metadata": {},
   "source": [
    "## Skill Clustering by NMF & LDA"
   ]
  },
  {
   "cell_type": "markdown",
   "metadata": {},
   "source": [
    "#### Split into training and test sets"
   ]
  },
  {
   "cell_type": "code",
   "execution_count": 406,
   "metadata": {
    "collapsed": false
   },
   "outputs": [],
   "source": [
    "n_ins = sub_df.shape[0]\n",
    "train_idx, test_idx = mkPartition(n_instances=n_ins)\n",
    "X_train, X_test = doc_unigram_freq[train_idx, :], doc_unigram_freq[test_idx, :]"
   ]
  },
  {
   "cell_type": "markdown",
   "metadata": {},
   "source": [
    "#### Set global arguments:\n",
    "   + no. of topics: _k_ in {5, 10, ..., 50}\n",
    "   + no. of top words to be printed out in result\n",
    "   + directory to save results"
   ]
  },
  {
   "cell_type": "code",
   "execution_count": 411,
   "metadata": {
    "collapsed": true
   },
   "outputs": [],
   "source": [
    "# ks, n_top_words = range(2, 11), 10\n",
    "ks, n_top_words = range(5, 25, 5), 10\n",
    "RES_DIR = REPORT_DIR + 'r4/'"
   ]
  },
  {
   "cell_type": "markdown",
   "metadata": {},
   "source": [
    "### A. Using NMF"
   ]
  },
  {
   "cell_type": "markdown",
   "metadata": {},
   "source": [
    "#### Trainning NMF using random initialization"
   ]
  },
  {
   "cell_type": "code",
   "execution_count": 412,
   "metadata": {
    "collapsed": false
   },
   "outputs": [
    {
     "name": "stdout",
     "output_type": "stream",
     "text": [
      "Fitting NMF using 4359 uni-gram skills on 62158 job descriptions...\n",
      "No. of topics, Error, Running time\n",
      "5, 1427.5, 3.7s\n",
      "10, 1340.7, 1.6s\n",
      "15, 1282.7, 5.3s\n",
      "20, 1234.2, 4.5s\n"
     ]
    }
   ],
   "source": [
    "rnmf = {k: NMF(n_components=k, random_state=0) for k in ks}\n",
    "print( \"Fitting NMF using %d uni-gram skills on %d job descriptions...\" % (len(occur_unigrams), n_ins) ) # (random initialization)\n",
    "print('No. of topics, Error, Running time')\n",
    "rnmf_error = []\n",
    "\n",
    "for k in ks:\n",
    "    t0 = time()\n",
    "    rnmf[k].fit(X_train)\n",
    "    elapsed = time() - t0\n",
    "    err = rnmf[k].reconstruction_err_\n",
    "    print('%d, %0.1f, %0.1fs' %(k, err, elapsed))\n",
    "    rnmf_error.append(err)\n",
    "# end"
   ]
  },
  {
   "cell_type": "markdown",
   "metadata": {},
   "source": [
    "#### Evaluating NMF on test data"
   ]
  },
  {
   "cell_type": "markdown",
   "metadata": {},
   "source": [
    "First, we choose the best no. of topics $k^*$ for random NMF as the one that minimizes the error of predicting test data. For that, we compute the error for different $k$'s by the following function."
   ]
  },
  {
   "cell_type": "code",
   "execution_count": 357,
   "metadata": {
    "collapsed": true
   },
   "outputs": [],
   "source": [
    "from numpy import linalg as la\n",
    "\n",
    "def cal_test_err(models): \n",
    "    test_error = []\n",
    "    print('No. of topics, Test error, Running time')\n",
    "\n",
    "    for k in ks:\n",
    "        t0 = time()\n",
    "        H = models[k].components_\n",
    "        W_test = models[k].fit_transform(X_test, H=H)\n",
    "        err = la.norm(X_test - np.matmul(W_test, H))\n",
    "        \n",
    "#         sp_W_test = csr_matrix(W_test)\n",
    "#         sp_H = csc_matrix(H)\n",
    "#         print(sp_W_test.shape)\n",
    "#         print(sp_H.shape)\n",
    "#         err = la.norm(X_test - sp_W_test * sp_H)\n",
    "        test_error.append(err)\n",
    "        print('%d, %0.1f, %0.1fs' %(k, err, time() - t0))\n",
    "    \n",
    "    return test_error"
   ]
  },
  {
   "cell_type": "code",
   "execution_count": 413,
   "metadata": {
    "collapsed": false
   },
   "outputs": [
    {
     "name": "stdout",
     "output_type": "stream",
     "text": [
      "Calculating test errors of random NMF to choose best no. of topics...\n",
      "No. of topics, Test error, Running time\n",
      "5, 783.8, 1.0s\n",
      "10, 709.2, 1.1s\n",
      "15, 744.6, 2.3s\n",
      "20, 781.4, 2.3s\n"
     ]
    }
   ],
   "source": [
    "print('Calculating test errors of random NMF to choose best no. of topics...')\n",
    "rnmf_test_error = cal_test_err(models=rnmf)"
   ]
  },
  {
   "cell_type": "code",
   "execution_count": 414,
   "metadata": {
    "collapsed": false
   },
   "outputs": [
    {
     "name": "stdout",
     "output_type": "stream",
     "text": [
      "The best no. of topics is 10\n"
     ]
    }
   ],
   "source": [
    "best_k = ks[np.argmin(rnmf_test_error)]\n",
    "print('The best no. of topics is %d' %best_k)\n",
    "rnmf_best = rnmf[best_k]\n",
    "rnmf_word_dists = pd.DataFrame(rnmf_best.components_).apply(normalize, axis=1)\n",
    "# rnmf_word_dists.to_csv(RES_DIR + 'rnmf_word_dists.csv', index=False)"
   ]
  },
  {
   "cell_type": "markdown",
   "metadata": {},
   "source": [
    "We now validate NMF results in the following ways:\n",
    "+ if learnt topics make sense\n",
    "+ if topic it predicts for each JD in test set makes sense"
   ]
  },
  {
   "cell_type": "markdown",
   "metadata": {},
   "source": [
    "##### Learnt topics"
   ]
  },
  {
   "cell_type": "markdown",
   "metadata": {},
   "source": [
    "We manually label each topic based on its top 10 words."
   ]
  },
  {
   "cell_type": "code",
   "execution_count": 360,
   "metadata": {
    "collapsed": true
   },
   "outputs": [],
   "source": [
    "# count_vectorizer = text_manip.CountVectorizer(vocabulary= occur_skills['skill'], ngram_range=(1, 3))\n",
    "# count_vectorizer.fit_transform(jd_docs)\n",
    "\n",
    "# nmf_features = count_vectorizer.get_feature_names()\n",
    "# nmf_top_words = top_words_df(rnmf_best, n_top_words, nmf_features)\n",
    "\n",
    "# nmf_top_words.to_csv(REPORT_DIR + 'nmf_top_words.csv', index=False)\n",
    "# pd.DataFrame(nmf_features).to_csv(REPORT_DIR + 'nmf_features.csv')"
   ]
  },
  {
   "cell_type": "markdown",
   "metadata": {},
   "source": [
    "##### Topic prediction on test JDs"
   ]
  },
  {
   "cell_type": "code",
   "execution_count": 361,
   "metadata": {
    "collapsed": true
   },
   "outputs": [],
   "source": [
    "# H = rnmf_best.components_\n",
    "# W_test = pd.DataFrame(rnmf_best.fit_transform(X_test, H=H))\n",
    "# W_test.to_csv(REPORT_DIR + 'nmf_doc_topic_distr.csv', index=False)"
   ]
  },
  {
   "cell_type": "markdown",
   "metadata": {},
   "source": [
    "### B. Using LDA"
   ]
  },
  {
   "cell_type": "markdown",
   "metadata": {},
   "source": [
    "#### Trainning"
   ]
  },
  {
   "cell_type": "code",
   "execution_count": 415,
   "metadata": {
    "collapsed": false
   },
   "outputs": [
    {
     "name": "stdout",
     "output_type": "stream",
     "text": [
      "Fitting LDA using 4359 uni-gram skills on 62158 job descriptions...\n",
      "No. of topics, Log-likelihood, Running time\n",
      "5, -9766356.7, 40.8s\n",
      "10, -14281289.0, 42.0s\n",
      "15, -19006623.0, 45.2s\n",
      "20, -23848096.5, 47.3s\n"
     ]
    }
   ],
   "source": [
    "scores = []\n",
    "lda = {k: LatentDirichletAllocation(n_topics=k, max_iter=5, learning_method='online', learning_offset=50.,\n",
    "                                   random_state=0) # verbose=1\n",
    " for k in ks}\n",
    "\n",
    "print(\"Fitting LDA using %d uni-gram skills on %d job descriptions...\" % (len(occur_unigrams), n_ins))\n",
    "print('No. of topics, Log-likelihood, Running time')\n",
    "\n",
    "for k in ks:\n",
    "    t0 = time()\n",
    "    lda[k].fit(X_train)\n",
    "    s = lda[k].score(X_train)\n",
    "    print('%d, %0.1f, %0.1fs' %(k, s, time() - t0))\n",
    "    scores.append(s)\n",
    "# end"
   ]
  },
  {
   "cell_type": "markdown",
   "metadata": {},
   "source": [
    "#### Perplexity of LDA on test set"
   ]
  },
  {
   "cell_type": "code",
   "execution_count": 416,
   "metadata": {
    "collapsed": true
   },
   "outputs": [],
   "source": [
    "perp = [lda[k].perplexity(X_test) for k in ks]\n",
    "perp_df = pd.DataFrame({'No. of topics': ks, 'Perplexity': perp})\n",
    "perp_df.to_csv(RES_DIR + 'perplexity.csv', index=False)"
   ]
  },
  {
   "cell_type": "markdown",
   "metadata": {},
   "source": [
    "+ Choose the best no. of topics as the one __minimizing perplexity__."
   ]
  },
  {
   "cell_type": "code",
   "execution_count": 417,
   "metadata": {
    "collapsed": false
   },
   "outputs": [
    {
     "name": "stdout",
     "output_type": "stream",
     "text": [
      "Best no. of topics: 5\n"
     ]
    }
   ],
   "source": [
    "best_k = ks[np.argmin(perp)]\n",
    "print('Best no. of topics: %d' %best_k)"
   ]
  },
  {
   "cell_type": "markdown",
   "metadata": {},
   "source": [
    "+ Save the best LDA model:"
   ]
  },
  {
   "cell_type": "code",
   "execution_count": 365,
   "metadata": {
    "collapsed": true
   },
   "outputs": [],
   "source": [
    "# lda_best = lda[best_k]\n",
    "# lda_word_dists = pd.DataFrame(lda_best.components_).apply(normalize, axis=1)\n",
    "# lda_word_dists.to_csv(RES_DIR + 'lda_word_dists.csv', index=False)\n",
    "\n",
    "# lda_features = count_vectorizer.get_feature_names()\n",
    "# lda_topics = top_words_df(lda_best, n_top_words, lda_features)\n",
    "\n",
    "# lda_topics.to_csv(REPORT_DIR + 'lda_topics.csv', index=False)\n",
    "# pd.DataFrame(lda_features).to_csv(RES_DIR + 'lda_features.csv')"
   ]
  },
  {
   "cell_type": "markdown",
   "metadata": {},
   "source": [
    "#### Using the best LDA to perform topic prediction on test JDs"
   ]
  },
  {
   "cell_type": "code",
   "execution_count": 366,
   "metadata": {
    "collapsed": true
   },
   "outputs": [],
   "source": [
    "# doc_topic_distr  = lda_best.transform(X_test)\n",
    "# pd.DataFrame(doc_topic_distr).to_csv(RES_DIR + 'lda_doc_topic_distr.csv', index=False)"
   ]
  },
  {
   "cell_type": "markdown",
   "metadata": {},
   "source": [
    "### C. Model Comparison"
   ]
  },
  {
   "cell_type": "code",
   "execution_count": 421,
   "metadata": {
    "collapsed": true
   },
   "outputs": [],
   "source": [
    "# Put all model metrics on training & test datasets into 2 data frames\n",
    "model_list = ['LDA', 'randomNMF']\n",
    "\n",
    "train_metric = pd.DataFrame({'No. of topics': ks, 'LDA': np.divide(scores, 10**6), 'randomNMF': rnmf_error})\n",
    "\n",
    "test_metric = pd.DataFrame({'No. of topics': ks, 'LDA': perp, 'randomNMF': rnmf_test_error, })"
   ]
  },
  {
   "cell_type": "code",
   "execution_count": 424,
   "metadata": {
    "collapsed": false
   },
   "outputs": [
    {
     "data": {
      "text/plain": [
       "[5, 10, 15, 20]"
      ]
     },
     "execution_count": 424,
     "metadata": {},
     "output_type": "execute_result"
    }
   ],
   "source": [
    "ks"
   ]
  },
  {
   "cell_type": "markdown",
   "metadata": {},
   "source": [
    "#### Performance of models for different number of topics"
   ]
  },
  {
   "cell_type": "code",
   "execution_count": 423,
   "metadata": {
    "collapsed": false
   },
   "outputs": [
    {
     "data": {
      "image/png": "[encoded data removed]",
      "text/plain": [
       "<matplotlib.figure.Figure at 0x465f8da0>"
      ]
     },
     "metadata": {},
     "output_type": "display_data"
    }
   ],
   "source": [
    "fig = plt.figure(figsize=(10, 6))\n",
    "\n",
    "for i, model in enumerate(model_list):\n",
    "    plt.subplot(2, 2, i+1)\n",
    "    plt.subplots_adjust(wspace=.5, hspace=.5)  \n",
    "    #     train metric\n",
    "    plt.title(model)\n",
    "    plt.plot(ks, train_metric[model], '--')\n",
    "    plt.xlabel('No. of topics')\n",
    "    if model == 'LDA':\n",
    "        plt.ylabel(r'Log likelihood ($\\times 10^6$)')\n",
    "    else:\n",
    "        plt.ylabel(r'$\\| X_{train} - W_{train} H \\|_2$')\n",
    "    plt.grid(True)\n",
    "    \n",
    "    #     test metric\n",
    "#     plt.subplot(2, 2, i+3)\n",
    "#     plt.title(model)\n",
    "#     plt.plot(ks, test_metric[model], 'r')\n",
    "#     plt.xlabel('No. of topics')\n",
    "#     if model == 'LDA':\n",
    "#         plt.ylabel(r'Perplexity')\n",
    "#     else:\n",
    "#         plt.ylabel(r'$\\| X_{test} - W_{test} H \\|_2$')\n",
    "#     plt.grid(True)\n",
    "        \n",
    "# end\n",
    "plt.show()\n",
    "# fig.savefig(RES_DIR + 'new_lda_vs_nmf.pdf')\n",
    "plt.close(fig)"
   ]
  },
  {
   "cell_type": "markdown",
   "metadata": {},
   "source": [
    "#### Multi-gram skills"
   ]
  },
  {
   "cell_type": "code",
   "execution_count": 369,
   "metadata": {
    "collapsed": false
   },
   "outputs": [
    {
     "name": "stdout",
     "output_type": "stream",
     "text": [
      "Counting occurrence of multi-gram skills...\n",
      "Done after 71.5s\n"
     ]
    }
   ],
   "source": [
    "t0 = time()\n",
    "print('Counting occurrence of multi-gram skills...')\n",
    "multi_gram_vectorizer = text_manip.CountVectorizer(vocabulary=skills, ngram_range=(2, 3))\n",
    "multigram_doc_mat = multi_gram_vectorizer.fit_transform(jd_docs)\n",
    "print('Done after %.1fs' %(time() - t0))"
   ]
  },
  {
   "cell_type": "markdown",
   "metadata": {},
   "source": [
    "##### Distribution of multigrams in documents"
   ]
  },
  {
   "cell_type": "code",
   "execution_count": 370,
   "metadata": {
    "collapsed": false
   },
   "outputs": [
    {
     "data": {
      "text/html": [
       "<div>\n",
       "<table border=\"1\" class=\"dataframe\">\n",
       "  <thead>\n",
       "    <tr style=\"text-align: right;\">\n",
       "      <th></th>\n",
       "      <th>min</th>\n",
       "      <th>25%</th>\n",
       "      <th>50% (median)</th>\n",
       "      <th>75%</th>\n",
       "      <th>max</th>\n",
       "    </tr>\n",
       "  </thead>\n",
       "  <tbody>\n",
       "    <tr>\n",
       "      <th>0</th>\n",
       "      <td>0.0</td>\n",
       "      <td>1.0</td>\n",
       "      <td>2.0</td>\n",
       "      <td>5.0</td>\n",
       "      <td>45.0</td>\n",
       "    </tr>\n",
       "  </tbody>\n",
       "</table>\n",
       "</div>"
      ],
      "text/plain": [
       "   min  25%  50% (median)  75%   max\n",
       "0  0.0  1.0           2.0  5.0  45.0"
      ]
     },
     "execution_count": 370,
     "metadata": {},
     "output_type": "execute_result"
    }
   ],
   "source": [
    "n_multigram = [n_non_zero(r, doc_multigram_freq) for r in range(n_jd)]\n",
    "multigram_df = pd.DataFrame({'jd_id': jd_df['job_id'], 'n_multigram': n_multigram})\n",
    "\n",
    "quantile(n_multigram)"
   ]
  },
  {
   "cell_type": "code",
   "execution_count": 371,
   "metadata": {
    "collapsed": false
   },
   "outputs": [
    {
     "data": {
      "image/png": "[encoded data removed]",
      "text/plain": [
       "<matplotlib.figure.Figure at 0x46ed1e48>"
      ]
     },
     "metadata": {},
     "output_type": "display_data"
    }
   ],
   "source": [
    "plt.hist(n_multigram, bins=np.unique(n_multigram))\n",
    "plt.xlabel('No. of multi-grams in job description')\n",
    "plt.ylabel('No. of job descriptions')\n",
    "plt.title('Distribution of multi-grams in job descriptions')\n",
    "plt.grid(True)\n",
    "\n",
    "plt.show()\n",
    "plt.savefig(REPORT_DIR + 'multigram_in_jd.pdf')\n",
    "plt.close()"
   ]
  },
  {
   "cell_type": "markdown",
   "metadata": {},
   "source": [
    "### Overlapping between uni-gram & multi-gram skills"
   ]
  },
  {
   "cell_type": "code",
   "execution_count": 372,
   "metadata": {
    "collapsed": false
   },
   "outputs": [],
   "source": [
    "unigram_skills, bigram_skills = occur_skills.query('n_word == 1')['skill'], occur_skills.query('n_word == 2')['skill']\n",
    "## for each unigram, find no. of bigrams containing it (aka super-bigrams)\n",
    "def super_bigrams(unigram='business', bigrams=bigram_skills):\n",
    "    idx = [s.find(unigram) for s in bigrams]\n",
    "    df = pd.DataFrame({'bigram': bigrams, 'idx_of_given_unigram': idx})\n",
    "    return df.query('idx_of_given_unigram > -1') # those bigrams not containing the unigram give -1 indices\n",
    "    \n",
    "def n_super_bigrams(unigram='business', bigrams=bigram_skills):\n",
    "    idx = [s.find(unigram) for s in bigrams]\n",
    "    return len(bigrams) - idx.count(-1)"
   ]
  },
  {
   "cell_type": "code",
   "execution_count": 373,
   "metadata": {
    "collapsed": false
   },
   "outputs": [
    {
     "data": {
      "text/html": [
       "<div>\n",
       "<table border=\"1\" class=\"dataframe\">\n",
       "  <thead>\n",
       "    <tr style=\"text-align: right;\">\n",
       "      <th></th>\n",
       "      <th>min</th>\n",
       "      <th>25%</th>\n",
       "      <th>50% (median)</th>\n",
       "      <th>75%</th>\n",
       "      <th>max</th>\n",
       "    </tr>\n",
       "  </thead>\n",
       "  <tbody>\n",
       "    <tr>\n",
       "      <th>0</th>\n",
       "      <td>0.0</td>\n",
       "      <td>0.0</td>\n",
       "      <td>0.0</td>\n",
       "      <td>1.0</td>\n",
       "      <td>1278.0</td>\n",
       "    </tr>\n",
       "  </tbody>\n",
       "</table>\n",
       "</div>"
      ],
      "text/plain": [
       "   min  25%  50% (median)  75%     max\n",
       "0  0.0  0.0           0.0  1.0  1278.0"
      ]
     },
     "execution_count": 373,
     "metadata": {},
     "output_type": "execute_result"
    }
   ],
   "source": [
    "# super_bigrams(unigram='business')\n",
    "n_super_bigrams = [n_super_bigrams(ug) for ug in unigram_skills]\n",
    "overlap_df = pd.DataFrame({'unigram': unigram_skills, 'n_super_bigrams': n_super_bigrams})\n",
    "\n",
    "quantile(n_super_bigrams)"
   ]
  },
  {
   "cell_type": "code",
   "execution_count": 399,
   "metadata": {
    "collapsed": true
   },
   "outputs": [
    {
     "data": {
      "image/png": "[encoded data removed]",
      "text/plain": [
       "<matplotlib.figure.Figure at 0x3e3770b8>"
      ]
     },
     "metadata": {},
     "output_type": "display_data"
    }
   ],
   "source": [
    "plt.hist(n_super_bigrams)\n",
    "\n",
    "plt.show()\n",
    "plt.close()"
   ]
  },
  {
   "cell_type": "code",
   "execution_count": 402,
   "metadata": {
    "collapsed": false
   },
   "outputs": [
    {
     "name": "stdout",
     "output_type": "stream",
     "text": [
      "1888\n",
      "5212\n"
     ]
    },
    {
     "data": {
      "text/plain": [
       "0.3622409823484267"
      ]
     },
     "execution_count": 402,
     "metadata": {},
     "output_type": "execute_result"
    }
   ],
   "source": [
    "overlapped_unigrams = overlap_df.query('n_super_bigrams > 0')\n",
    "overlapped_unigrams = overlapped_unigrams.sort_values(by='n_super_bigrams', ascending=False)\n",
    "# overlapped_unigrams.head(10)\n",
    "\n",
    "n_overlap = overlapped_unigrams.shape[0]\n",
    "n_unigram_skills = overlap_df.shape[0]\n",
    "print n_overlap\n",
    "print n_unigram_skills\n",
    "n_overlap*1./n_unigram_skills"
   ]
  },
  {
   "cell_type": "markdown",
   "metadata": {},
   "source": [
    "##### 10 most common skills:"
   ]
  },
  {
   "cell_type": "code",
   "execution_count": 375,
   "metadata": {
    "collapsed": true
   },
   "outputs": [],
   "source": [
    "unigram_df = unigram_df.sort_values(by='occurrence', ascending=False)"
   ]
  },
  {
   "cell_type": "code",
   "execution_count": 376,
   "metadata": {
    "collapsed": false
   },
   "outputs": [
    {
     "data": {
      "text/html": [
       "<div>\n",
       "<table border=\"1\" class=\"dataframe\">\n",
       "  <thead>\n",
       "    <tr style=\"text-align: right;\">\n",
       "      <th></th>\n",
       "      <th>skill</th>\n",
       "      <th>occurrence</th>\n",
       "    </tr>\n",
       "  </thead>\n",
       "  <tbody>\n",
       "    <tr>\n",
       "      <th>31013</th>\n",
       "      <td>management</td>\n",
       "      <td>102822</td>\n",
       "    </tr>\n",
       "    <tr>\n",
       "      <th>22914</th>\n",
       "      <td>support</td>\n",
       "      <td>101531</td>\n",
       "    </tr>\n",
       "    <tr>\n",
       "      <th>2176</th>\n",
       "      <td>business</td>\n",
       "      <td>93456</td>\n",
       "    </tr>\n",
       "    <tr>\n",
       "      <th>22585</th>\n",
       "      <td>project</td>\n",
       "      <td>85198</td>\n",
       "    </tr>\n",
       "    <tr>\n",
       "      <th>11806</th>\n",
       "      <td>team</td>\n",
       "      <td>79446</td>\n",
       "    </tr>\n",
       "    <tr>\n",
       "      <th>15184</th>\n",
       "      <td>sales</td>\n",
       "      <td>64598</td>\n",
       "    </tr>\n",
       "    <tr>\n",
       "      <th>7465</th>\n",
       "      <td>development</td>\n",
       "      <td>56053</td>\n",
       "    </tr>\n",
       "    <tr>\n",
       "      <th>20970</th>\n",
       "      <td>design</td>\n",
       "      <td>53787</td>\n",
       "    </tr>\n",
       "    <tr>\n",
       "      <th>11387</th>\n",
       "      <td>responsible</td>\n",
       "      <td>48099</td>\n",
       "    </tr>\n",
       "    <tr>\n",
       "      <th>2235</th>\n",
       "      <td>customer</td>\n",
       "      <td>46398</td>\n",
       "    </tr>\n",
       "  </tbody>\n",
       "</table>\n",
       "</div>"
      ],
      "text/plain": [
       "             skill  occurrence\n",
       "31013   management      102822\n",
       "22914      support      101531\n",
       "2176      business       93456\n",
       "22585      project       85198\n",
       "11806         team       79446\n",
       "15184        sales       64598\n",
       "7465   development       56053\n",
       "20970       design       53787\n",
       "11387  responsible       48099\n",
       "2235      customer       46398"
      ]
     },
     "execution_count": 376,
     "metadata": {},
     "output_type": "execute_result"
    }
   ],
   "source": [
    "top10 = unigram_df[['skill', 'occurrence']].head(10)\n",
    "# top10.reset_index(inplace=True, drop=True)\n",
    "top10"
   ]
  },
  {
   "cell_type": "markdown",
   "metadata": {},
   "source": [
    "##### 10 least common skills:"
   ]
  },
  {
   "cell_type": "code",
   "execution_count": 377,
   "metadata": {
    "collapsed": false
   },
   "outputs": [
    {
     "name": "stdout",
     "output_type": "stream",
     "text": [
      "         skill  occurrence\n",
      "0       trawls           1\n",
      "1         sdsf           1\n",
      "2    jprofiler           1\n",
      "3      pulleys           1\n",
      "4        toefl           1\n",
      "5     griddles           1\n",
      "6  respiration           1\n",
      "7         cmbs           1\n",
      "8       gambit           1\n",
      "9     rabbitmq           1\n"
     ]
    }
   ],
   "source": [
    "bottom10 = unigram_df[['skill', 'occurrence']].tail(10)\n",
    "bottom10.reset_index(inplace=True, drop=True)\n",
    "print(bottom10)"
   ]
  },
  {
   "cell_type": "markdown",
   "metadata": {},
   "source": [
    "##### Frequency of uni-gram skills in JDs"
   ]
  },
  {
   "cell_type": "code",
   "execution_count": 19,
   "metadata": {
    "collapsed": false
   },
   "outputs": [
    {
     "data": {
      "text/html": [
       "<div>\n",
       "<table border=\"1\" class=\"dataframe\">\n",
       "  <thead>\n",
       "    <tr style=\"text-align: right;\">\n",
       "      <th></th>\n",
       "      <th>min</th>\n",
       "      <th>25%</th>\n",
       "      <th>50% (median)</th>\n",
       "      <th>75%</th>\n",
       "      <th>max</th>\n",
       "    </tr>\n",
       "  </thead>\n",
       "  <tbody>\n",
       "    <tr>\n",
       "      <th>0</th>\n",
       "      <td>1.0</td>\n",
       "      <td>10.0</td>\n",
       "      <td>47.0</td>\n",
       "      <td>275.0</td>\n",
       "      <td>170302.0</td>\n",
       "    </tr>\n",
       "  </tbody>\n",
       "</table>\n",
       "</div>"
      ],
      "text/plain": [
       "   min   25%  50% (median)    75%       max\n",
       "0  1.0  10.0          47.0  275.0  170302.0"
      ]
     },
     "execution_count": 19,
     "metadata": {},
     "output_type": "execute_result"
    }
   ],
   "source": [
    "quantile(occur_skills.query('n_word == 1')['occurrence'])"
   ]
  },
  {
   "cell_type": "markdown",
   "metadata": {},
   "source": [
    "##### Frequency of bi-gram skills in JDs"
   ]
  },
  {
   "cell_type": "code",
   "execution_count": 20,
   "metadata": {
    "collapsed": false
   },
   "outputs": [
    {
     "data": {
      "text/html": [
       "<div>\n",
       "<table border=\"1\" class=\"dataframe\">\n",
       "  <thead>\n",
       "    <tr style=\"text-align: right;\">\n",
       "      <th></th>\n",
       "      <th>min</th>\n",
       "      <th>25%</th>\n",
       "      <th>50% (median)</th>\n",
       "      <th>75%</th>\n",
       "      <th>max</th>\n",
       "    </tr>\n",
       "  </thead>\n",
       "  <tbody>\n",
       "    <tr>\n",
       "      <th>0</th>\n",
       "      <td>1.0</td>\n",
       "      <td>5.0</td>\n",
       "      <td>19.0</td>\n",
       "      <td>81.0</td>\n",
       "      <td>12700.0</td>\n",
       "    </tr>\n",
       "  </tbody>\n",
       "</table>\n",
       "</div>"
      ],
      "text/plain": [
       "   min  25%  50% (median)   75%      max\n",
       "0  1.0  5.0          19.0  81.0  12700.0"
      ]
     },
     "execution_count": 20,
     "metadata": {},
     "output_type": "execute_result"
    }
   ],
   "source": [
    "quantile(occur_skills.query('n_word == 2')['occurrence'])"
   ]
  },
  {
   "cell_type": "markdown",
   "metadata": {},
   "source": [
    "##### Frequency of tri-gram skills in JDs"
   ]
  },
  {
   "cell_type": "code",
   "execution_count": 21,
   "metadata": {
    "collapsed": false
   },
   "outputs": [
    {
     "data": {
      "text/html": [
       "<div>\n",
       "<table border=\"1\" class=\"dataframe\">\n",
       "  <thead>\n",
       "    <tr style=\"text-align: right;\">\n",
       "      <th></th>\n",
       "      <th>min</th>\n",
       "      <th>25%</th>\n",
       "      <th>50% (median)</th>\n",
       "      <th>75%</th>\n",
       "      <th>max</th>\n",
       "    </tr>\n",
       "  </thead>\n",
       "  <tbody>\n",
       "    <tr>\n",
       "      <th>0</th>\n",
       "      <td>1.0</td>\n",
       "      <td>2.0</td>\n",
       "      <td>7.0</td>\n",
       "      <td>27.0</td>\n",
       "      <td>2502.0</td>\n",
       "    </tr>\n",
       "  </tbody>\n",
       "</table>\n",
       "</div>"
      ],
      "text/plain": [
       "   min  25%  50% (median)   75%     max\n",
       "0  1.0  2.0           7.0  27.0  2502.0"
      ]
     },
     "execution_count": 21,
     "metadata": {},
     "output_type": "execute_result"
    }
   ],
   "source": [
    "quantile(occur_skills.query('n_word == 3')['occurrence'])"
   ]
  },
  {
   "cell_type": "markdown",
   "metadata": {},
   "source": [
    "##### Distribution of skill frequency"
   ]
  },
  {
   "cell_type": "code",
   "execution_count": 22,
   "metadata": {
    "collapsed": true
   },
   "outputs": [
    {
     "data": {
      "image/png": "[encoded data removed]",
      "text/plain": [
       "<matplotlib.figure.Figure at 0x456f7080>"
      ]
     },
     "metadata": {},
     "output_type": "display_data"
    }
   ],
   "source": [
    "n, bins, patches = plt.hist(x=occur_skills['occurrence']/10**3, bins=50, facecolor='blue', alpha=0.75, log=True)\n",
    "plt.title('Histogram of skill frequency')\n",
    "plt.xlabel(r'Frequency ($\\times 10^3$)') # in thousand\n",
    "plt.ylabel('No. of skills (log scale)')\n",
    "plt.ylim(1, 10**4)\n",
    "plt.grid(True)\n",
    "plt.savefig(REPORT_DIR + 'skill_occur.pdf')\n",
    "\n",
    "plt.show()\n",
    "plt.close()"
   ]
  },
  {
   "cell_type": "code",
   "execution_count": 378,
   "metadata": {
    "collapsed": true
   },
   "outputs": [],
   "source": [
    "# bi_gram_skills.sort_values(by='occurrence', inplace=True, ascending=False)\n",
    "# print('10 most common bi-gram skills')\n",
    "# print(bi_gram_skills.head(10))"
   ]
  },
  {
   "cell_type": "markdown",
   "metadata": {},
   "source": [
    "#### Skills which actually occur in JDs from JobBanks"
   ]
  },
  {
   "cell_type": "markdown",
   "metadata": {},
   "source": [
    "+ Filter out all skills that _never occur_ in JDs to reduce size of doc-skill feature matrix."
   ]
  },
  {
   "cell_type": "code",
   "execution_count": 18,
   "metadata": {
    "collapsed": false
   },
   "outputs": [],
   "source": [
    "occur_skills, no_occur_skills = skillsPresentInJD(df=trigram_skills)\n",
    "occur_skills = occur_skills.sort_values(by='occurrence',  ascending=False) # inplace=True,"
   ]
  },
  {
   "cell_type": "markdown",
   "metadata": {},
   "source": [
    "+ Re-build the doc-skill matrix where each skill occurs at least once."
   ]
  },
  {
   "cell_type": "code",
   "execution_count": 94,
   "metadata": {
    "collapsed": false,
    "scrolled": true
   },
   "outputs": [
    {
     "name": "stdout",
     "output_type": "stream",
     "text": [
      "Counting occurrence of skills with length <=3 ...\n",
      "Done after 98.7s\n"
     ]
    }
   ],
   "source": [
    "# occur_skills['skill'].head(3)\n",
    "trigram_skills, doc_trigram_freq = freq(occur_skills['skill'], max_n_word=3)"
   ]
  },
  {
   "cell_type": "code",
   "execution_count": 98,
   "metadata": {
    "collapsed": false
   },
   "outputs": [
    {
     "name": "stdout",
     "output_type": "stream",
     "text": [
      "No. of skills in the new doc-skill matrix after re-building: 14829\n"
     ]
    }
   ],
   "source": [
    "print('No. of skills in the new doc-skill matrix after re-building: %d' %doc_trigram_freq.shape[1] )"
   ]
  },
  {
   "cell_type": "code",
   "execution_count": 97,
   "metadata": {
    "collapsed": true
   },
   "outputs": [],
   "source": [
    "trigram_skills.to_csv(REPORT_DIR + 'trigram_skills.csv')\n",
    "pd.DataFrame(doc_trigram_freq.data).to_csv(REPORT_DIR + 'doc_trigram_freq.csv')\n",
    "\n",
    "# unigram_skills.to_csv(REPORT_DIR + 'unigram_skills.csv')\n",
    "# pd.DataFrame(doc_unigram_freq.data).to_csv(REPORT_DIR + 'doc_unigram_freq.csv')\n",
    "# sevengram_skills.to_csv(REPORT_DIR + 'sevengram_skills.csv')"
   ]
  }
 ],
 "metadata": {
  "anaconda-cloud": {},
  "kernelspec": {
   "display_name": "Python [conda root]",
   "language": "python",
   "name": "conda-root-py"
  },
  "language_info": {
   "codemirror_mode": {
    "name": "ipython",
    "version": 2
   },
   "file_extension": ".py",
   "mimetype": "text/x-python",
   "name": "python",
   "nbconvert_exporter": "python",
   "pygments_lexer": "ipython2",
   "version": "2.7.12"
  }
 },
 "nbformat": 4,
 "nbformat_minor": 1
}
