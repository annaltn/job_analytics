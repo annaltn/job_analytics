{
 "cells": [
  {
   "cell_type": "markdown",
   "metadata": {},
   "source": [
    "This script is dedicated to querying all needed statistics for the project."
   ]
  },
  {
   "cell_type": "code",
   "execution_count": 1,
   "metadata": {
    "collapsed": true
   },
   "outputs": [],
   "source": [
    "import my_util as my_util; from my_util import *"
   ]
  },
  {
   "cell_type": "code",
   "execution_count": 2,
   "metadata": {
    "collapsed": true
   },
   "outputs": [],
   "source": [
    "HOME_DIR = 'd:/larc_projects/job_analytics/'\n",
    "DATA_DIR = HOME_DIR + 'data/clean/'"
   ]
  },
  {
   "cell_type": "code",
   "execution_count": 7,
   "metadata": {
    "collapsed": true
   },
   "outputs": [],
   "source": [
    "title_df = pd.read_csv(DATA_DIR + 'new_titles_2posts_up.csv')"
   ]
  },
  {
   "cell_type": "markdown",
   "metadata": {},
   "source": [
    "### Helpers"
   ]
  },
  {
   "cell_type": "code",
   "execution_count": 13,
   "metadata": {
    "collapsed": true
   },
   "outputs": [],
   "source": [
    "def distTitle(agg_df, for_domain=False, for_func=False):\n",
    "    fig = plt.figure()\n",
    "    plt.hist(agg_df.n_title)\n",
    "    mean_n_title = round(agg_df.n_title.mean(), 1)\n",
    "    xl = '# job titles' + r'$(\\mu = {})$'.format(mean_n_title)\n",
    "    plt.xlabel(xl, fontsize=16); \n",
    "    if for_domain: plt.ylabel('# domains', fontsize=16)\n",
    "    if for_func: plt.ylabel('# functions', fontsize=16)\n",
    "    plt.grid(True)\n",
    "    return fig\n",
    "\n",
    "def aggBy(col, title_df):\n",
    "    by_col = title_df.groupby(col)\n",
    "    print('# {}: {}'.format(col, by_col.ngroups) )\n",
    "    \n",
    "    agg_df = by_col.agg({'title': 'nunique','non_std_title': 'nunique','n_post': sum})\n",
    "\n",
    "    agg_df = agg_df.rename(columns={'title': 'n_title', \n",
    "                                    'std_title': 'n_std_title'}).reset_index()\n",
    "    return agg_df"
   ]
  },
  {
   "cell_type": "markdown",
   "metadata": {},
   "source": [
    "### Distribution of job posts among job titles"
   ]
  },
  {
   "cell_type": "code",
   "execution_count": 3,
   "metadata": {
    "collapsed": false
   },
   "outputs": [
    {
     "name": "stdout",
     "output_type": "stream",
     "text": [
      "# titles: 4717\n"
     ]
    }
   ],
   "source": [
    "title_stats = pd.read_csv(DATA_DIR + 'stats_job_titles.csv')\n",
    "titles = title_stats['title']\n",
    "print('# titles: %d' %len(titles))"
   ]
  },
  {
   "cell_type": "code",
   "execution_count": 7,
   "metadata": {
    "collapsed": true
   },
   "outputs": [],
   "source": [
    "by_n_post = pd.read_csv(DATA_DIR + 'stats_job_post_dist.csv')"
   ]
  },
  {
   "cell_type": "code",
   "execution_count": 8,
   "metadata": {
    "collapsed": true
   },
   "outputs": [
    {
     "data": {
      "text/html": [
       "<div>\n",
       "<table border=\"1\" class=\"dataframe\">\n",
       "  <thead>\n",
       "    <tr style=\"text-align: right;\">\n",
       "      <th></th>\n",
       "      <th>n_post</th>\n",
       "      <th>n_title</th>\n",
       "      <th>n_title_after_std</th>\n",
       "    </tr>\n",
       "  </thead>\n",
       "  <tbody>\n",
       "    <tr>\n",
       "      <th>0</th>\n",
       "      <td>1.0</td>\n",
       "      <td>1334.0</td>\n",
       "      <td>1334.0</td>\n",
       "    </tr>\n",
       "    <tr>\n",
       "      <th>1</th>\n",
       "      <td>2.0</td>\n",
       "      <td>646.0</td>\n",
       "      <td>619.0</td>\n",
       "    </tr>\n",
       "    <tr>\n",
       "      <th>2</th>\n",
       "      <td>3.0</td>\n",
       "      <td>431.0</td>\n",
       "      <td>414.0</td>\n",
       "    </tr>\n",
       "    <tr>\n",
       "      <th>3</th>\n",
       "      <td>4.0</td>\n",
       "      <td>333.0</td>\n",
       "      <td>323.0</td>\n",
       "    </tr>\n",
       "    <tr>\n",
       "      <th>4</th>\n",
       "      <td>5.0</td>\n",
       "      <td>243.0</td>\n",
       "      <td>235.0</td>\n",
       "    </tr>\n",
       "  </tbody>\n",
       "</table>\n",
       "</div>"
      ],
      "text/plain": [
       "   n_post  n_title  n_title_after_std\n",
       "0     1.0   1334.0             1334.0\n",
       "1     2.0    646.0              619.0\n",
       "2     3.0    431.0              414.0\n",
       "3     4.0    333.0              323.0\n",
       "4     5.0    243.0              235.0"
      ]
     },
     "execution_count": 8,
     "metadata": {},
     "output_type": "execute_result"
    }
   ],
   "source": [
    "by_n_post.head()"
   ]
  },
  {
   "cell_type": "markdown",
   "metadata": {},
   "source": [
    "#### Job posts distribution among standard job titles"
   ]
  },
  {
   "cell_type": "code",
   "execution_count": null,
   "metadata": {
    "collapsed": true
   },
   "outputs": [],
   "source": [
    "by_n_post_after_std = title_stats.groupby('n_post').agg({'title': len})\n",
    "by_n_post_after_std = by_n_post_after_std.rename(columns={'title': 'n_title_after_std'}).reset_index()\n",
    "quantile(by_n_post_after_std.n_post)"
   ]
  },
  {
   "cell_type": "code",
   "execution_count": null,
   "metadata": {
    "collapsed": true
   },
   "outputs": [],
   "source": [
    "fig = vizJobPostDist(by_n_post)\n",
    "plt.savefig(RES_DIR + 'fig/dist_job_post_by_title.pdf')\n",
    "plt.show(); plt.close()"
   ]
  },
  {
   "cell_type": "code",
   "execution_count": 5,
   "metadata": {
    "collapsed": false
   },
   "outputs": [
    {
     "name": "stdout",
     "output_type": "stream",
     "text": [
      "# job titles with >= 2 posts: 2983\n"
     ]
    }
   ],
   "source": [
    "print('# job titles with >= 2 posts: {}'.format(title_df.shape[0]) )"
   ]
  },
  {
   "cell_type": "markdown",
   "metadata": {},
   "source": [
    "### Statistics for Domains\n",
    "\n",
    "__Note:__ The domains are domains of job titles with >= 2 posts."
   ]
  },
  {
   "cell_type": "code",
   "execution_count": 14,
   "metadata": {
    "collapsed": false
   },
   "outputs": [
    {
     "name": "stdout",
     "output_type": "stream",
     "text": [
      "# domain: 1021\n"
     ]
    }
   ],
   "source": [
    "by_domain_agg = aggBy('domain', title_df)"
   ]
  },
  {
   "cell_type": "code",
   "execution_count": 15,
   "metadata": {
    "collapsed": false,
    "scrolled": false
   },
   "outputs": [
    {
     "data": {
      "text/html": [
       "<div>\n",
       "<table border=\"1\" class=\"dataframe\">\n",
       "  <thead>\n",
       "    <tr style=\"text-align: right;\">\n",
       "      <th></th>\n",
       "      <th>n_post</th>\n",
       "      <th>non_std_title</th>\n",
       "      <th>n_title</th>\n",
       "    </tr>\n",
       "  </thead>\n",
       "  <tbody>\n",
       "    <tr>\n",
       "      <th>count</th>\n",
       "      <td>1021.0</td>\n",
       "      <td>1021.0</td>\n",
       "      <td>1021.0</td>\n",
       "    </tr>\n",
       "    <tr>\n",
       "      <th>mean</th>\n",
       "      <td>57.3</td>\n",
       "      <td>2.7</td>\n",
       "      <td>2.6</td>\n",
       "    </tr>\n",
       "    <tr>\n",
       "      <th>std</th>\n",
       "      <td>187.7</td>\n",
       "      <td>3.6</td>\n",
       "      <td>3.4</td>\n",
       "    </tr>\n",
       "    <tr>\n",
       "      <th>min</th>\n",
       "      <td>2.0</td>\n",
       "      <td>1.0</td>\n",
       "      <td>1.0</td>\n",
       "    </tr>\n",
       "    <tr>\n",
       "      <th>25%</th>\n",
       "      <td>4.0</td>\n",
       "      <td>1.0</td>\n",
       "      <td>1.0</td>\n",
       "    </tr>\n",
       "    <tr>\n",
       "      <th>50%</th>\n",
       "      <td>10.0</td>\n",
       "      <td>1.0</td>\n",
       "      <td>1.0</td>\n",
       "    </tr>\n",
       "    <tr>\n",
       "      <th>75%</th>\n",
       "      <td>33.0</td>\n",
       "      <td>3.0</td>\n",
       "      <td>2.0</td>\n",
       "    </tr>\n",
       "    <tr>\n",
       "      <th>max</th>\n",
       "      <td>2068.0</td>\n",
       "      <td>36.0</td>\n",
       "      <td>35.0</td>\n",
       "    </tr>\n",
       "  </tbody>\n",
       "</table>\n",
       "</div>"
      ],
      "text/plain": [
       "       n_post  non_std_title  n_title\n",
       "count  1021.0         1021.0   1021.0\n",
       "mean     57.3            2.7      2.6\n",
       "std     187.7            3.6      3.4\n",
       "min       2.0            1.0      1.0\n",
       "25%       4.0            1.0      1.0\n",
       "50%      10.0            1.0      1.0\n",
       "75%      33.0            3.0      2.0\n",
       "max    2068.0           36.0     35.0"
      ]
     },
     "execution_count": 15,
     "metadata": {},
     "output_type": "execute_result"
    }
   ],
   "source": [
    "by_domain_agg.sort_values('n_title', ascending=False, inplace=True)\n",
    "by_domain_agg.to_csv(DATA_DIR + 'stats_domains.csv', index=False)\n",
    "\n",
    "by_domain_agg.describe().round(1).to_csv(DATA_DIR + 'tmp/domain_desc.csv')\n",
    "by_domain_agg.describe().round(1)"
   ]
  },
  {
   "cell_type": "code",
   "execution_count": 17,
   "metadata": {
    "collapsed": true
   },
   "outputs": [],
   "source": [
    "plt.close('all')"
   ]
  },
  {
   "cell_type": "code",
   "execution_count": 16,
   "metadata": {
    "collapsed": false
   },
   "outputs": [
    {
     "name": "stderr",
     "output_type": "stream",
     "text": [
      "D:\\conda\\lib\\site-packages\\matplotlib\\figure.py:1742: UserWarning: This figure includes Axes that are not compatible with tight_layout, so its results might be incorrect.\n",
      "  warnings.warn(\"This figure includes Axes that are not \"\n"
     ]
    },
    {
     "data": {
      "image/png": "[encoded data removed]",
      "text/plain": [
       "<matplotlib.figure.Figure at 0xad885c0>"
      ]
     },
     "metadata": {},
     "output_type": "display_data"
    }
   ],
   "source": [
    "fig = distTitle(by_domain_agg, for_domain=True)\n",
    "fig.set_tight_layout(True)\n",
    "plt.savefig(DATA_DIR + 'title_dist_by_domain.pdf')\n",
    "plt.show(); plt.close()"
   ]
  },
  {
   "cell_type": "markdown",
   "metadata": {},
   "source": [
    "Why no. of job titles in IT is reduced a lot after std?"
   ]
  },
  {
   "cell_type": "code",
   "execution_count": 21,
   "metadata": {
    "collapsed": true
   },
   "outputs": [
    {
     "data": {
      "text/html": [
       "<div>\n",
       "<table border=\"1\" class=\"dataframe\">\n",
       "  <thead>\n",
       "    <tr style=\"text-align: right;\">\n",
       "      <th></th>\n",
       "      <th>avg_n_skill</th>\n",
       "      <th>domain</th>\n",
       "      <th>n_employer</th>\n",
       "      <th>n_post</th>\n",
       "      <th>position</th>\n",
       "      <th>pri_func</th>\n",
       "      <th>sec_func</th>\n",
       "      <th>title</th>\n",
       "      <th>std_title</th>\n",
       "    </tr>\n",
       "  </thead>\n",
       "  <tbody>\n",
       "    <tr>\n",
       "      <th>386</th>\n",
       "      <td>19.1</td>\n",
       "      <td>information technology</td>\n",
       "      <td>32.0</td>\n",
       "      <td>35.0</td>\n",
       "      <td>assistant</td>\n",
       "      <td>manager</td>\n",
       "      <td>NaN</td>\n",
       "      <td>Assistant Information Technology Manager</td>\n",
       "      <td>Assistant Information Technology Manager</td>\n",
       "    </tr>\n",
       "    <tr>\n",
       "      <th>143</th>\n",
       "      <td>16.1</td>\n",
       "      <td>information technology</td>\n",
       "      <td>67.0</td>\n",
       "      <td>80.0</td>\n",
       "      <td>NaN</td>\n",
       "      <td>administrator</td>\n",
       "      <td>NaN</td>\n",
       "      <td>Application Administrator - Information Techno...</td>\n",
       "      <td>Information Technology Administrator</td>\n",
       "    </tr>\n",
       "    <tr>\n",
       "      <th>53</th>\n",
       "      <td>16.3</td>\n",
       "      <td>information technology</td>\n",
       "      <td>90.0</td>\n",
       "      <td>186.0</td>\n",
       "      <td>NaN</td>\n",
       "      <td>analyst</td>\n",
       "      <td>NaN</td>\n",
       "      <td>Information Technology Analyst</td>\n",
       "      <td>Information Technology Analyst</td>\n",
       "    </tr>\n",
       "    <tr>\n",
       "      <th>500</th>\n",
       "      <td>18.7</td>\n",
       "      <td>information technology</td>\n",
       "      <td>22.0</td>\n",
       "      <td>27.0</td>\n",
       "      <td>NaN</td>\n",
       "      <td>analyst</td>\n",
       "      <td>NaN</td>\n",
       "      <td>Security Analyst, Information Technology</td>\n",
       "      <td>Information Technology Analyst</td>\n",
       "    </tr>\n",
       "    <tr>\n",
       "      <th>1070</th>\n",
       "      <td>17.3</td>\n",
       "      <td>information technology</td>\n",
       "      <td>11.0</td>\n",
       "      <td>11.0</td>\n",
       "      <td>NaN</td>\n",
       "      <td>auditor</td>\n",
       "      <td>NaN</td>\n",
       "      <td>Auditor, Information Technology</td>\n",
       "      <td>Information Technology Auditor</td>\n",
       "    </tr>\n",
       "    <tr>\n",
       "      <th>1277</th>\n",
       "      <td>12.6</td>\n",
       "      <td>information technology</td>\n",
       "      <td>8.0</td>\n",
       "      <td>9.0</td>\n",
       "      <td>NaN</td>\n",
       "      <td>auditor</td>\n",
       "      <td>NaN</td>\n",
       "      <td>Information Technology Auditor</td>\n",
       "      <td>Information Technology Auditor</td>\n",
       "    </tr>\n",
       "    <tr>\n",
       "      <th>44</th>\n",
       "      <td>15.6</td>\n",
       "      <td>information technology</td>\n",
       "      <td>57.0</td>\n",
       "      <td>227.0</td>\n",
       "      <td>NaN</td>\n",
       "      <td>consultant</td>\n",
       "      <td>NaN</td>\n",
       "      <td>Information Technology Consultant</td>\n",
       "      <td>Information Technology Consultant</td>\n",
       "    </tr>\n",
       "    <tr>\n",
       "      <th>1027</th>\n",
       "      <td>14.2</td>\n",
       "      <td>information technology</td>\n",
       "      <td>8.0</td>\n",
       "      <td>12.0</td>\n",
       "      <td>NaN</td>\n",
       "      <td>coordinator</td>\n",
       "      <td>NaN</td>\n",
       "      <td>Information Technology Coordinator</td>\n",
       "      <td>Information Technology Coordinator</td>\n",
       "    </tr>\n",
       "    <tr>\n",
       "      <th>841</th>\n",
       "      <td>21.5</td>\n",
       "      <td>information technology</td>\n",
       "      <td>13.0</td>\n",
       "      <td>16.0</td>\n",
       "      <td>NaN</td>\n",
       "      <td>director</td>\n",
       "      <td>NaN</td>\n",
       "      <td>Information Technology Director</td>\n",
       "      <td>Information Technology Director</td>\n",
       "    </tr>\n",
       "    <tr>\n",
       "      <th>687</th>\n",
       "      <td>13.0</td>\n",
       "      <td>information technology</td>\n",
       "      <td>18.0</td>\n",
       "      <td>20.0</td>\n",
       "      <td>NaN</td>\n",
       "      <td>engineer</td>\n",
       "      <td>NaN</td>\n",
       "      <td>Field Engineer, Information Technology (It)</td>\n",
       "      <td>Information Technology Engineer</td>\n",
       "    </tr>\n",
       "    <tr>\n",
       "      <th>52</th>\n",
       "      <td>14.3</td>\n",
       "      <td>information technology</td>\n",
       "      <td>84.0</td>\n",
       "      <td>190.0</td>\n",
       "      <td>NaN</td>\n",
       "      <td>engineer</td>\n",
       "      <td>NaN</td>\n",
       "      <td>Information Technology Engineer</td>\n",
       "      <td>Information Technology Engineer</td>\n",
       "    </tr>\n",
       "    <tr>\n",
       "      <th>124</th>\n",
       "      <td>13.3</td>\n",
       "      <td>information technology</td>\n",
       "      <td>76.0</td>\n",
       "      <td>92.0</td>\n",
       "      <td>NaN</td>\n",
       "      <td>executive</td>\n",
       "      <td>NaN</td>\n",
       "      <td>Information Technology Executive</td>\n",
       "      <td>Information Technology Executive</td>\n",
       "    </tr>\n",
       "    <tr>\n",
       "      <th>2430</th>\n",
       "      <td>6.7</td>\n",
       "      <td>information technology</td>\n",
       "      <td>3.0</td>\n",
       "      <td>3.0</td>\n",
       "      <td>NaN</td>\n",
       "      <td>junior</td>\n",
       "      <td>NaN</td>\n",
       "      <td>Information Technology Junior Research Scientist</td>\n",
       "      <td>Information Technology Junior</td>\n",
       "    </tr>\n",
       "    <tr>\n",
       "      <th>67</th>\n",
       "      <td>18.3</td>\n",
       "      <td>information technology</td>\n",
       "      <td>109.0</td>\n",
       "      <td>156.0</td>\n",
       "      <td>NaN</td>\n",
       "      <td>manager</td>\n",
       "      <td>NaN</td>\n",
       "      <td>Information Technology Manager</td>\n",
       "      <td>Information Technology Manager</td>\n",
       "    </tr>\n",
       "    <tr>\n",
       "      <th>275</th>\n",
       "      <td>16.9</td>\n",
       "      <td>information technology</td>\n",
       "      <td>36.0</td>\n",
       "      <td>48.0</td>\n",
       "      <td>NaN</td>\n",
       "      <td>manager</td>\n",
       "      <td>NaN</td>\n",
       "      <td>Project Manager, Information Technology</td>\n",
       "      <td>Information Technology Manager</td>\n",
       "    </tr>\n",
       "    <tr>\n",
       "      <th>1532</th>\n",
       "      <td>16.1</td>\n",
       "      <td>information technology</td>\n",
       "      <td>7.0</td>\n",
       "      <td>7.0</td>\n",
       "      <td>NaN</td>\n",
       "      <td>master</td>\n",
       "      <td>NaN</td>\n",
       "      <td>Information Technology Master Data Management ...</td>\n",
       "      <td>Information Technology Master</td>\n",
       "    </tr>\n",
       "    <tr>\n",
       "      <th>2431</th>\n",
       "      <td>22.7</td>\n",
       "      <td>information technology</td>\n",
       "      <td>3.0</td>\n",
       "      <td>3.0</td>\n",
       "      <td>NaN</td>\n",
       "      <td>master</td>\n",
       "      <td>NaN</td>\n",
       "      <td>Information Technology Master Data Management ...</td>\n",
       "      <td>Information Technology Master</td>\n",
       "    </tr>\n",
       "    <tr>\n",
       "      <th>1187</th>\n",
       "      <td>11.2</td>\n",
       "      <td>information technology</td>\n",
       "      <td>8.0</td>\n",
       "      <td>10.0</td>\n",
       "      <td>NaN</td>\n",
       "      <td>specialist</td>\n",
       "      <td>NaN</td>\n",
       "      <td>Support Specialist, Information Technology</td>\n",
       "      <td>Information Technology Specialist</td>\n",
       "    </tr>\n",
       "    <tr>\n",
       "      <th>1699</th>\n",
       "      <td>16.2</td>\n",
       "      <td>information technology</td>\n",
       "      <td>6.0</td>\n",
       "      <td>6.0</td>\n",
       "      <td>NaN</td>\n",
       "      <td>specialist</td>\n",
       "      <td>NaN</td>\n",
       "      <td>Security Specialist, Information Technology</td>\n",
       "      <td>Information Technology Specialist</td>\n",
       "    </tr>\n",
       "    <tr>\n",
       "      <th>29</th>\n",
       "      <td>14.0</td>\n",
       "      <td>information technology</td>\n",
       "      <td>40.0</td>\n",
       "      <td>292.0</td>\n",
       "      <td>NaN</td>\n",
       "      <td>specialist</td>\n",
       "      <td>NaN</td>\n",
       "      <td>Information Technology Specialist</td>\n",
       "      <td>Information Technology Specialist</td>\n",
       "    </tr>\n",
       "    <tr>\n",
       "      <th>3232</th>\n",
       "      <td>11.0</td>\n",
       "      <td>information technology</td>\n",
       "      <td>2.0</td>\n",
       "      <td>2.0</td>\n",
       "      <td>NaN</td>\n",
       "      <td>specialist</td>\n",
       "      <td>NaN</td>\n",
       "      <td>Quality Assurance Specialist, Information Tech...</td>\n",
       "      <td>Information Technology Specialist</td>\n",
       "    </tr>\n",
       "    <tr>\n",
       "      <th>2423</th>\n",
       "      <td>16.0</td>\n",
       "      <td>information technology</td>\n",
       "      <td>3.0</td>\n",
       "      <td>3.0</td>\n",
       "      <td>NaN</td>\n",
       "      <td>supervisor</td>\n",
       "      <td>NaN</td>\n",
       "      <td>Information Technology Supervisor</td>\n",
       "      <td>Information Technology Supervisor</td>\n",
       "    </tr>\n",
       "    <tr>\n",
       "      <th>591</th>\n",
       "      <td>13.3</td>\n",
       "      <td>information technology</td>\n",
       "      <td>23.0</td>\n",
       "      <td>23.0</td>\n",
       "      <td>NaN</td>\n",
       "      <td>technician</td>\n",
       "      <td>NaN</td>\n",
       "      <td>Information Technology Technician</td>\n",
       "      <td>Information Technology Technician</td>\n",
       "    </tr>\n",
       "    <tr>\n",
       "      <th>1946</th>\n",
       "      <td>10.6</td>\n",
       "      <td>information technology</td>\n",
       "      <td>5.0</td>\n",
       "      <td>5.0</td>\n",
       "      <td>NaN</td>\n",
       "      <td>trainer</td>\n",
       "      <td>NaN</td>\n",
       "      <td>Information Technology Trainer (Extracurriculum)</td>\n",
       "      <td>Information Technology Trainer</td>\n",
       "    </tr>\n",
       "    <tr>\n",
       "      <th>1771</th>\n",
       "      <td>12.2</td>\n",
       "      <td>information technology</td>\n",
       "      <td>4.0</td>\n",
       "      <td>5.0</td>\n",
       "      <td>senior</td>\n",
       "      <td>analyst</td>\n",
       "      <td>NaN</td>\n",
       "      <td>Senior Security Analyst, Information Technology</td>\n",
       "      <td>Senior Information Technology Analyst</td>\n",
       "    </tr>\n",
       "    <tr>\n",
       "      <th>482</th>\n",
       "      <td>17.9</td>\n",
       "      <td>information technology</td>\n",
       "      <td>14.0</td>\n",
       "      <td>27.0</td>\n",
       "      <td>senior</td>\n",
       "      <td>analyst</td>\n",
       "      <td>NaN</td>\n",
       "      <td>Senior Information Technology Analyst</td>\n",
       "      <td>Senior Information Technology Analyst</td>\n",
       "    </tr>\n",
       "    <tr>\n",
       "      <th>3131</th>\n",
       "      <td>15.5</td>\n",
       "      <td>information technology</td>\n",
       "      <td>2.0</td>\n",
       "      <td>2.0</td>\n",
       "      <td>senior</td>\n",
       "      <td>auditor</td>\n",
       "      <td>NaN</td>\n",
       "      <td>Senior Information Technology Auditor</td>\n",
       "      <td>Senior Information Technology Auditor</td>\n",
       "    </tr>\n",
       "    <tr>\n",
       "      <th>2142</th>\n",
       "      <td>13.0</td>\n",
       "      <td>information technology</td>\n",
       "      <td>4.0</td>\n",
       "      <td>4.0</td>\n",
       "      <td>senior</td>\n",
       "      <td>auditor</td>\n",
       "      <td>NaN</td>\n",
       "      <td>Senior Auditor, Information Technology</td>\n",
       "      <td>Senior Information Technology Auditor</td>\n",
       "    </tr>\n",
       "    <tr>\n",
       "      <th>545</th>\n",
       "      <td>16.6</td>\n",
       "      <td>information technology</td>\n",
       "      <td>12.0</td>\n",
       "      <td>25.0</td>\n",
       "      <td>senior</td>\n",
       "      <td>consultant</td>\n",
       "      <td>NaN</td>\n",
       "      <td>Senior Information Technology Consultant</td>\n",
       "      <td>Senior Information Technology Consultant</td>\n",
       "    </tr>\n",
       "    <tr>\n",
       "      <th>2243</th>\n",
       "      <td>17.5</td>\n",
       "      <td>information technology</td>\n",
       "      <td>1.0</td>\n",
       "      <td>4.0</td>\n",
       "      <td>senior</td>\n",
       "      <td>coordinator</td>\n",
       "      <td>NaN</td>\n",
       "      <td>Senior Information Technology Coordinator</td>\n",
       "      <td>Senior Information Technology Coordinator</td>\n",
       "    </tr>\n",
       "    <tr>\n",
       "      <th>1753</th>\n",
       "      <td>22.2</td>\n",
       "      <td>information technology</td>\n",
       "      <td>5.0</td>\n",
       "      <td>5.0</td>\n",
       "      <td>senior</td>\n",
       "      <td>engineer</td>\n",
       "      <td>NaN</td>\n",
       "      <td>Senior Information Technology Engineer</td>\n",
       "      <td>Senior Information Technology Engineer</td>\n",
       "    </tr>\n",
       "    <tr>\n",
       "      <th>1229</th>\n",
       "      <td>18.6</td>\n",
       "      <td>information technology</td>\n",
       "      <td>9.0</td>\n",
       "      <td>9.0</td>\n",
       "      <td>senior</td>\n",
       "      <td>executive</td>\n",
       "      <td>NaN</td>\n",
       "      <td>Senior Information Technology Executive</td>\n",
       "      <td>Senior Information Technology Executive</td>\n",
       "    </tr>\n",
       "    <tr>\n",
       "      <th>997</th>\n",
       "      <td>19.8</td>\n",
       "      <td>information technology</td>\n",
       "      <td>10.0</td>\n",
       "      <td>13.0</td>\n",
       "      <td>senior</td>\n",
       "      <td>manager</td>\n",
       "      <td>NaN</td>\n",
       "      <td>Senior Information Technology Manager</td>\n",
       "      <td>Senior Information Technology Manager</td>\n",
       "    </tr>\n",
       "    <tr>\n",
       "      <th>925</th>\n",
       "      <td>16.6</td>\n",
       "      <td>information technology</td>\n",
       "      <td>11.0</td>\n",
       "      <td>14.0</td>\n",
       "      <td>senior</td>\n",
       "      <td>manager</td>\n",
       "      <td>NaN</td>\n",
       "      <td>Senior Project Manager, Information Technology</td>\n",
       "      <td>Senior Information Technology Manager</td>\n",
       "    </tr>\n",
       "    <tr>\n",
       "      <th>1935</th>\n",
       "      <td>16.8</td>\n",
       "      <td>information technology</td>\n",
       "      <td>5.0</td>\n",
       "      <td>5.0</td>\n",
       "      <td>senior</td>\n",
       "      <td>manager</td>\n",
       "      <td>NaN</td>\n",
       "      <td>Senior Manager, Information Technology</td>\n",
       "      <td>Senior Information Technology Manager</td>\n",
       "    </tr>\n",
       "    <tr>\n",
       "      <th>999</th>\n",
       "      <td>16.4</td>\n",
       "      <td>information technology</td>\n",
       "      <td>8.0</td>\n",
       "      <td>13.0</td>\n",
       "      <td>senior</td>\n",
       "      <td>specialist</td>\n",
       "      <td>NaN</td>\n",
       "      <td>Senior Information Technology Specialist</td>\n",
       "      <td>Senior Information Technology Specialist</td>\n",
       "    </tr>\n",
       "    <tr>\n",
       "      <th>2080</th>\n",
       "      <td>30.8</td>\n",
       "      <td>information technology</td>\n",
       "      <td>4.0</td>\n",
       "      <td>4.0</td>\n",
       "      <td>senior</td>\n",
       "      <td>specialist</td>\n",
       "      <td>NaN</td>\n",
       "      <td>Senior Security Specialist, Information Techno...</td>\n",
       "      <td>Senior Information Technology Specialist</td>\n",
       "    </tr>\n",
       "    <tr>\n",
       "      <th>2026</th>\n",
       "      <td>17.5</td>\n",
       "      <td>information technology</td>\n",
       "      <td>2.0</td>\n",
       "      <td>4.0</td>\n",
       "      <td>senior</td>\n",
       "      <td>specialist</td>\n",
       "      <td>NaN</td>\n",
       "      <td>Senior Support Specialist, Information Technology</td>\n",
       "      <td>Senior Information Technology Specialist</td>\n",
       "    </tr>\n",
       "    <tr>\n",
       "      <th>2517</th>\n",
       "      <td>9.7</td>\n",
       "      <td>information technology</td>\n",
       "      <td>2.0</td>\n",
       "      <td>3.0</td>\n",
       "      <td>vice</td>\n",
       "      <td>president</td>\n",
       "      <td>NaN</td>\n",
       "      <td>Vice President, Information Technology</td>\n",
       "      <td>Vice Information Technology President</td>\n",
       "    </tr>\n",
       "  </tbody>\n",
       "</table>\n",
       "</div>"
      ],
      "text/plain": [
       "      avg_n_skill                  domain  n_employer  n_post   position  \\\n",
       "386          19.1  information technology        32.0    35.0  assistant   \n",
       "143          16.1  information technology        67.0    80.0        NaN   \n",
       "53           16.3  information technology        90.0   186.0        NaN   \n",
       "500          18.7  information technology        22.0    27.0        NaN   \n",
       "1070         17.3  information technology        11.0    11.0        NaN   \n",
       "1277         12.6  information technology         8.0     9.0        NaN   \n",
       "44           15.6  information technology        57.0   227.0        NaN   \n",
       "1027         14.2  information technology         8.0    12.0        NaN   \n",
       "841          21.5  information technology        13.0    16.0        NaN   \n",
       "687          13.0  information technology        18.0    20.0        NaN   \n",
       "52           14.3  information technology        84.0   190.0        NaN   \n",
       "124          13.3  information technology        76.0    92.0        NaN   \n",
       "2430          6.7  information technology         3.0     3.0        NaN   \n",
       "67           18.3  information technology       109.0   156.0        NaN   \n",
       "275          16.9  information technology        36.0    48.0        NaN   \n",
       "1532         16.1  information technology         7.0     7.0        NaN   \n",
       "2431         22.7  information technology         3.0     3.0        NaN   \n",
       "1187         11.2  information technology         8.0    10.0        NaN   \n",
       "1699         16.2  information technology         6.0     6.0        NaN   \n",
       "29           14.0  information technology        40.0   292.0        NaN   \n",
       "3232         11.0  information technology         2.0     2.0        NaN   \n",
       "2423         16.0  information technology         3.0     3.0        NaN   \n",
       "591          13.3  information technology        23.0    23.0        NaN   \n",
       "1946         10.6  information technology         5.0     5.0        NaN   \n",
       "1771         12.2  information technology         4.0     5.0     senior   \n",
       "482          17.9  information technology        14.0    27.0     senior   \n",
       "3131         15.5  information technology         2.0     2.0     senior   \n",
       "2142         13.0  information technology         4.0     4.0     senior   \n",
       "545          16.6  information technology        12.0    25.0     senior   \n",
       "2243         17.5  information technology         1.0     4.0     senior   \n",
       "1753         22.2  information technology         5.0     5.0     senior   \n",
       "1229         18.6  information technology         9.0     9.0     senior   \n",
       "997          19.8  information technology        10.0    13.0     senior   \n",
       "925          16.6  information technology        11.0    14.0     senior   \n",
       "1935         16.8  information technology         5.0     5.0     senior   \n",
       "999          16.4  information technology         8.0    13.0     senior   \n",
       "2080         30.8  information technology         4.0     4.0     senior   \n",
       "2026         17.5  information technology         2.0     4.0     senior   \n",
       "2517          9.7  information technology         2.0     3.0       vice   \n",
       "\n",
       "           pri_func  sec_func  \\\n",
       "386         manager       NaN   \n",
       "143   administrator       NaN   \n",
       "53          analyst       NaN   \n",
       "500         analyst       NaN   \n",
       "1070        auditor       NaN   \n",
       "1277        auditor       NaN   \n",
       "44       consultant       NaN   \n",
       "1027    coordinator       NaN   \n",
       "841        director       NaN   \n",
       "687        engineer       NaN   \n",
       "52         engineer       NaN   \n",
       "124       executive       NaN   \n",
       "2430         junior       NaN   \n",
       "67          manager       NaN   \n",
       "275         manager       NaN   \n",
       "1532         master       NaN   \n",
       "2431         master       NaN   \n",
       "1187     specialist       NaN   \n",
       "1699     specialist       NaN   \n",
       "29       specialist       NaN   \n",
       "3232     specialist       NaN   \n",
       "2423     supervisor       NaN   \n",
       "591      technician       NaN   \n",
       "1946        trainer       NaN   \n",
       "1771        analyst       NaN   \n",
       "482         analyst       NaN   \n",
       "3131        auditor       NaN   \n",
       "2142        auditor       NaN   \n",
       "545      consultant       NaN   \n",
       "2243    coordinator       NaN   \n",
       "1753       engineer       NaN   \n",
       "1229      executive       NaN   \n",
       "997         manager       NaN   \n",
       "925         manager       NaN   \n",
       "1935        manager       NaN   \n",
       "999      specialist       NaN   \n",
       "2080     specialist       NaN   \n",
       "2026     specialist       NaN   \n",
       "2517      president       NaN   \n",
       "\n",
       "                                                  title  \\\n",
       "386            Assistant Information Technology Manager   \n",
       "143   Application Administrator - Information Techno...   \n",
       "53                       Information Technology Analyst   \n",
       "500            Security Analyst, Information Technology   \n",
       "1070                    Auditor, Information Technology   \n",
       "1277                     Information Technology Auditor   \n",
       "44                    Information Technology Consultant   \n",
       "1027                 Information Technology Coordinator   \n",
       "841                     Information Technology Director   \n",
       "687         Field Engineer, Information Technology (It)   \n",
       "52                      Information Technology Engineer   \n",
       "124                    Information Technology Executive   \n",
       "2430   Information Technology Junior Research Scientist   \n",
       "67                       Information Technology Manager   \n",
       "275             Project Manager, Information Technology   \n",
       "1532  Information Technology Master Data Management ...   \n",
       "2431  Information Technology Master Data Management ...   \n",
       "1187         Support Specialist, Information Technology   \n",
       "1699        Security Specialist, Information Technology   \n",
       "29                    Information Technology Specialist   \n",
       "3232  Quality Assurance Specialist, Information Tech...   \n",
       "2423                  Information Technology Supervisor   \n",
       "591                   Information Technology Technician   \n",
       "1946   Information Technology Trainer (Extracurriculum)   \n",
       "1771    Senior Security Analyst, Information Technology   \n",
       "482               Senior Information Technology Analyst   \n",
       "3131              Senior Information Technology Auditor   \n",
       "2142             Senior Auditor, Information Technology   \n",
       "545            Senior Information Technology Consultant   \n",
       "2243          Senior Information Technology Coordinator   \n",
       "1753             Senior Information Technology Engineer   \n",
       "1229            Senior Information Technology Executive   \n",
       "997               Senior Information Technology Manager   \n",
       "925      Senior Project Manager, Information Technology   \n",
       "1935             Senior Manager, Information Technology   \n",
       "999            Senior Information Technology Specialist   \n",
       "2080  Senior Security Specialist, Information Techno...   \n",
       "2026  Senior Support Specialist, Information Technology   \n",
       "2517             Vice President, Information Technology   \n",
       "\n",
       "                                      std_title  \n",
       "386    Assistant Information Technology Manager  \n",
       "143        Information Technology Administrator  \n",
       "53               Information Technology Analyst  \n",
       "500              Information Technology Analyst  \n",
       "1070             Information Technology Auditor  \n",
       "1277             Information Technology Auditor  \n",
       "44            Information Technology Consultant  \n",
       "1027         Information Technology Coordinator  \n",
       "841             Information Technology Director  \n",
       "687             Information Technology Engineer  \n",
       "52              Information Technology Engineer  \n",
       "124            Information Technology Executive  \n",
       "2430              Information Technology Junior  \n",
       "67               Information Technology Manager  \n",
       "275              Information Technology Manager  \n",
       "1532              Information Technology Master  \n",
       "2431              Information Technology Master  \n",
       "1187          Information Technology Specialist  \n",
       "1699          Information Technology Specialist  \n",
       "29            Information Technology Specialist  \n",
       "3232          Information Technology Specialist  \n",
       "2423          Information Technology Supervisor  \n",
       "591           Information Technology Technician  \n",
       "1946             Information Technology Trainer  \n",
       "1771      Senior Information Technology Analyst  \n",
       "482       Senior Information Technology Analyst  \n",
       "3131      Senior Information Technology Auditor  \n",
       "2142      Senior Information Technology Auditor  \n",
       "545    Senior Information Technology Consultant  \n",
       "2243  Senior Information Technology Coordinator  \n",
       "1753     Senior Information Technology Engineer  \n",
       "1229    Senior Information Technology Executive  \n",
       "997       Senior Information Technology Manager  \n",
       "925       Senior Information Technology Manager  \n",
       "1935      Senior Information Technology Manager  \n",
       "999    Senior Information Technology Specialist  \n",
       "2080   Senior Information Technology Specialist  \n",
       "2026   Senior Information Technology Specialist  \n",
       "2517      Vice Information Technology President  "
      ]
     },
     "execution_count": 21,
     "metadata": {},
     "output_type": "execute_result"
    }
   ],
   "source": [
    "title_df.query('domain == \"information technology\"').sort_values('std_title')"
   ]
  },
  {
   "cell_type": "markdown",
   "metadata": {},
   "source": [
    "## Statistics for functions"
   ]
  },
  {
   "cell_type": "markdown",
   "metadata": {},
   "source": [
    "__Note:__ Functions are limited to those of job titles with >= 2 posts."
   ]
  },
  {
   "cell_type": "code",
   "execution_count": 17,
   "metadata": {
    "collapsed": false
   },
   "outputs": [
    {
     "name": "stdout",
     "output_type": "stream",
     "text": [
      "# pri_func: 239\n"
     ]
    },
    {
     "data": {
      "text/html": [
       "<div>\n",
       "<table border=\"1\" class=\"dataframe\">\n",
       "  <thead>\n",
       "    <tr style=\"text-align: right;\">\n",
       "      <th></th>\n",
       "      <th>n_post</th>\n",
       "      <th>non_std_title</th>\n",
       "      <th>n_title</th>\n",
       "    </tr>\n",
       "  </thead>\n",
       "  <tbody>\n",
       "    <tr>\n",
       "      <th>count</th>\n",
       "      <td>239.0</td>\n",
       "      <td>239.0</td>\n",
       "      <td>239.0</td>\n",
       "    </tr>\n",
       "    <tr>\n",
       "      <th>mean</th>\n",
       "      <td>293.7</td>\n",
       "      <td>12.5</td>\n",
       "      <td>11.9</td>\n",
       "    </tr>\n",
       "    <tr>\n",
       "      <th>std</th>\n",
       "      <td>1392.2</td>\n",
       "      <td>49.5</td>\n",
       "      <td>47.6</td>\n",
       "    </tr>\n",
       "    <tr>\n",
       "      <th>min</th>\n",
       "      <td>2.0</td>\n",
       "      <td>1.0</td>\n",
       "      <td>1.0</td>\n",
       "    </tr>\n",
       "    <tr>\n",
       "      <th>25%</th>\n",
       "      <td>4.0</td>\n",
       "      <td>1.0</td>\n",
       "      <td>1.0</td>\n",
       "    </tr>\n",
       "    <tr>\n",
       "      <th>50%</th>\n",
       "      <td>11.0</td>\n",
       "      <td>2.0</td>\n",
       "      <td>1.0</td>\n",
       "    </tr>\n",
       "    <tr>\n",
       "      <th>75%</th>\n",
       "      <td>66.5</td>\n",
       "      <td>5.0</td>\n",
       "      <td>4.0</td>\n",
       "    </tr>\n",
       "    <tr>\n",
       "      <th>max</th>\n",
       "      <td>16318.0</td>\n",
       "      <td>570.0</td>\n",
       "      <td>545.0</td>\n",
       "    </tr>\n",
       "  </tbody>\n",
       "</table>\n",
       "</div>"
      ],
      "text/plain": [
       "        n_post  non_std_title  n_title\n",
       "count    239.0          239.0    239.0\n",
       "mean     293.7           12.5     11.9\n",
       "std     1392.2           49.5     47.6\n",
       "min        2.0            1.0      1.0\n",
       "25%        4.0            1.0      1.0\n",
       "50%       11.0            2.0      1.0\n",
       "75%       66.5            5.0      4.0\n",
       "max    16318.0          570.0    545.0"
      ]
     },
     "execution_count": 17,
     "metadata": {},
     "output_type": "execute_result"
    }
   ],
   "source": [
    "by_func_agg = aggBy('pri_func', title_df)\n",
    "\n",
    "by_func_agg.sort_values('n_title', ascending=False, inplace=True)\n",
    "\n",
    "by_func_agg.to_csv(DATA_DIR + 'stats_pri_funcs.csv', index=False)\n",
    "\n",
    "by_func_agg.describe().round(1).to_csv(DATA_DIR + 'tmp/func_desc.csv')\n",
    "by_func_agg.describe().round(1)"
   ]
  },
  {
   "cell_type": "code",
   "execution_count": 18,
   "metadata": {
    "collapsed": false
   },
   "outputs": [
    {
     "data": {
      "text/html": [
       "<div>\n",
       "<table border=\"1\" class=\"dataframe\">\n",
       "  <thead>\n",
       "    <tr style=\"text-align: right;\">\n",
       "      <th></th>\n",
       "      <th>pri_func</th>\n",
       "      <th>n_post</th>\n",
       "      <th>non_std_title</th>\n",
       "      <th>n_title</th>\n",
       "    </tr>\n",
       "  </thead>\n",
       "  <tbody>\n",
       "    <tr>\n",
       "      <th>130</th>\n",
       "      <td>manager</td>\n",
       "      <td>16318</td>\n",
       "      <td>570</td>\n",
       "      <td>545</td>\n",
       "    </tr>\n",
       "    <tr>\n",
       "      <th>85</th>\n",
       "      <td>engineer</td>\n",
       "      <td>9525</td>\n",
       "      <td>382</td>\n",
       "      <td>364</td>\n",
       "    </tr>\n",
       "    <tr>\n",
       "      <th>91</th>\n",
       "      <td>executive</td>\n",
       "      <td>7463</td>\n",
       "      <td>220</td>\n",
       "      <td>217</td>\n",
       "    </tr>\n",
       "    <tr>\n",
       "      <th>10</th>\n",
       "      <td>analyst</td>\n",
       "      <td>4870</td>\n",
       "      <td>138</td>\n",
       "      <td>137</td>\n",
       "    </tr>\n",
       "    <tr>\n",
       "      <th>141</th>\n",
       "      <td>officer</td>\n",
       "      <td>2650</td>\n",
       "      <td>127</td>\n",
       "      <td>124</td>\n",
       "    </tr>\n",
       "    <tr>\n",
       "      <th>51</th>\n",
       "      <td>consultant</td>\n",
       "      <td>2779</td>\n",
       "      <td>100</td>\n",
       "      <td>99</td>\n",
       "    </tr>\n",
       "    <tr>\n",
       "      <th>73</th>\n",
       "      <td>director</td>\n",
       "      <td>1250</td>\n",
       "      <td>96</td>\n",
       "      <td>91</td>\n",
       "    </tr>\n",
       "    <tr>\n",
       "      <th>191</th>\n",
       "      <td>specialist</td>\n",
       "      <td>1411</td>\n",
       "      <td>89</td>\n",
       "      <td>89</td>\n",
       "    </tr>\n",
       "    <tr>\n",
       "      <th>17</th>\n",
       "      <td>assistant</td>\n",
       "      <td>3676</td>\n",
       "      <td>82</td>\n",
       "      <td>79</td>\n",
       "    </tr>\n",
       "    <tr>\n",
       "      <th>212</th>\n",
       "      <td>technician</td>\n",
       "      <td>1109</td>\n",
       "      <td>84</td>\n",
       "      <td>76</td>\n",
       "    </tr>\n",
       "  </tbody>\n",
       "</table>\n",
       "</div>"
      ],
      "text/plain": [
       "       pri_func  n_post  non_std_title  n_title\n",
       "130     manager   16318            570      545\n",
       "85     engineer    9525            382      364\n",
       "91    executive    7463            220      217\n",
       "10      analyst    4870            138      137\n",
       "141     officer    2650            127      124\n",
       "51   consultant    2779            100       99\n",
       "73     director    1250             96       91\n",
       "191  specialist    1411             89       89\n",
       "17    assistant    3676             82       79\n",
       "212  technician    1109             84       76"
      ]
     },
     "execution_count": 18,
     "metadata": {},
     "output_type": "execute_result"
    }
   ],
   "source": [
    "by_func_agg.head(10)"
   ]
  },
  {
   "cell_type": "code",
   "execution_count": 19,
   "metadata": {
    "collapsed": false
   },
   "outputs": [
    {
     "data": {
      "image/png": "[encoded data removed]",
      "text/plain": [
       "<matplotlib.figure.Figure at 0xbdf4828>"
      ]
     },
     "metadata": {},
     "output_type": "display_data"
    }
   ],
   "source": [
    "fig = distTitle(by_func_agg, for_func=True)\n",
    "fig.set_tight_layout(True)\n",
    "plt.savefig(DATA_DIR + 'title_dist_by_func.pdf')\n",
    "plt.show(); plt.close()"
   ]
  },
  {
   "cell_type": "code",
   "execution_count": 31,
   "metadata": {
    "collapsed": false
   },
   "outputs": [
    {
     "data": {
      "text/plain": [
       "39"
      ]
     },
     "execution_count": 31,
     "metadata": {},
     "output_type": "execute_result"
    }
   ],
   "source": [
    "sum(title_df.domain == 'information technology')"
   ]
  },
  {
   "cell_type": "code",
   "execution_count": 33,
   "metadata": {
    "collapsed": false
   },
   "outputs": [
    {
     "data": {
      "text/plain": [
       "86"
      ]
     },
     "execution_count": 33,
     "metadata": {},
     "output_type": "execute_result"
    }
   ],
   "source": [
    "title_df.std_title[title_df.pri_func == 'technician'].nunique()"
   ]
  },
  {
   "cell_type": "code",
   "execution_count": 43,
   "metadata": {
    "collapsed": false
   },
   "outputs": [
    {
     "name": "stdout",
     "output_type": "stream",
     "text": [
      "(137564, 4)\n"
     ]
    },
    {
     "data": {
      "text/html": [
       "<div>\n",
       "<table border=\"1\" class=\"dataframe\">\n",
       "  <thead>\n",
       "    <tr style=\"text-align: right;\">\n",
       "      <th></th>\n",
       "      <th>job_id</th>\n",
       "      <th>title</th>\n",
       "      <th>employer_name</th>\n",
       "      <th>doc</th>\n",
       "    </tr>\n",
       "  </thead>\n",
       "  <tbody>\n",
       "    <tr>\n",
       "      <th>0</th>\n",
       "      <td>JOB-2015-0145758</td>\n",
       "      <td>Architectural Assistant</td>\n",
       "      <td>HDA Architects</td>\n",
       "      <td>to assist the project architect in developing ...</td>\n",
       "    </tr>\n",
       "  </tbody>\n",
       "</table>\n",
       "</div>"
      ],
      "text/plain": [
       "             job_id                    title   employer_name  \\\n",
       "0  JOB-2015-0145758  Architectural Assistant  HDA Architects   \n",
       "\n",
       "                                                 doc  \n",
       "0  to assist the project architect in developing ...  "
      ]
     },
     "execution_count": 43,
     "metadata": {},
     "output_type": "execute_result"
    }
   ],
   "source": [
    "job_df = pd.read_csv(DATA_DIR + 'jobs.csv')\n",
    "\n",
    "print job_df.shape\n",
    "job_df.head(1)"
   ]
  },
  {
   "cell_type": "code",
   "execution_count": 36,
   "metadata": {
    "collapsed": true
   },
   "outputs": [],
   "source": [
    "full_job_df = pd.read_csv(DATA_DIR + 'job_posts.csv')"
   ]
  },
  {
   "cell_type": "code",
   "execution_count": 38,
   "metadata": {
    "collapsed": false
   },
   "outputs": [
    {
     "name": "stdout",
     "output_type": "stream",
     "text": [
      "(249386, 17)\n"
     ]
    },
    {
     "data": {
      "text/html": [
       "<div>\n",
       "<table border=\"1\" class=\"dataframe\">\n",
       "  <thead>\n",
       "    <tr style=\"text-align: right;\">\n",
       "      <th></th>\n",
       "      <th>employer_id</th>\n",
       "      <th>job_id</th>\n",
       "      <th>no_of_applications</th>\n",
       "      <th>job_posting_date_history</th>\n",
       "      <th>job_expiry_date_history</th>\n",
       "      <th>job_expiry_year</th>\n",
       "      <th>job_ssoc_code_list</th>\n",
       "      <th>title</th>\n",
       "      <th>no_of_vacancies</th>\n",
       "      <th>job_monthly_min_sal</th>\n",
       "      <th>job_monthly_max_sal</th>\n",
       "      <th>no_of_times_job_posting_reopened</th>\n",
       "      <th>job_posting_status</th>\n",
       "      <th>job_employment_type_list</th>\n",
       "      <th>job_experience_required_years</th>\n",
       "      <th>job_level</th>\n",
       "      <th>employer_name</th>\n",
       "    </tr>\n",
       "  </thead>\n",
       "  <tbody>\n",
       "    <tr>\n",
       "      <th>0</th>\n",
       "      <td>002</td>\n",
       "      <td>JOB-2015-0145758</td>\n",
       "      <td>1.0</td>\n",
       "      <td>2015-01-13</td>\n",
       "      <td>2015-02-12</td>\n",
       "      <td>2015</td>\n",
       "      <td>31275</td>\n",
       "      <td>Architectural Assistant</td>\n",
       "      <td>2</td>\n",
       "      <td>4000.0</td>\n",
       "      <td>6000.0</td>\n",
       "      <td>0</td>\n",
       "      <td>Closed</td>\n",
       "      <td>Full Time, Permanent</td>\n",
       "      <td>3.0</td>\n",
       "      <td>Manager</td>\n",
       "      <td>HDA Architects</td>\n",
       "    </tr>\n",
       "  </tbody>\n",
       "</table>\n",
       "</div>"
      ],
      "text/plain": [
       "  employer_id            job_id  no_of_applications job_posting_date_history  \\\n",
       "0         002  JOB-2015-0145758                 1.0               2015-01-13   \n",
       "\n",
       "  job_expiry_date_history  job_expiry_year job_ssoc_code_list  \\\n",
       "0              2015-02-12             2015              31275   \n",
       "\n",
       "                     title  no_of_vacancies  job_monthly_min_sal  \\\n",
       "0  Architectural Assistant                2               4000.0   \n",
       "\n",
       "   job_monthly_max_sal  no_of_times_job_posting_reopened job_posting_status  \\\n",
       "0               6000.0                                 0             Closed   \n",
       "\n",
       "  job_employment_type_list  job_experience_required_years job_level  \\\n",
       "0     Full Time, Permanent                            3.0   Manager   \n",
       "\n",
       "    employer_name  \n",
       "0  HDA Architects  "
      ]
     },
     "execution_count": 38,
     "metadata": {},
     "output_type": "execute_result"
    }
   ],
   "source": [
    "print full_job_df.shape\n",
    "full_job_df.head(1)"
   ]
  },
  {
   "cell_type": "code",
   "execution_count": 44,
   "metadata": {
    "collapsed": false
   },
   "outputs": [
    {
     "name": "stdout",
     "output_type": "stream",
     "text": [
      "(176723, 18)\n"
     ]
    }
   ],
   "source": [
    "full_job_df = pd.merge(full_job_df, job_df[['job_id', 'doc']])\n",
    "print full_job_df.shape"
   ]
  },
  {
   "cell_type": "code",
   "execution_count": 47,
   "metadata": {
    "collapsed": false
   },
   "outputs": [
    {
     "name": "stdout",
     "output_type": "stream",
     "text": [
      "# job ids including dups: 176723\n",
      "# unique job ids: 137554\n"
     ]
    },
    {
     "data": {
      "text/html": [
       "<div>\n",
       "<table border=\"1\" class=\"dataframe\">\n",
       "  <thead>\n",
       "    <tr style=\"text-align: right;\">\n",
       "      <th></th>\n",
       "      <th>employer_id</th>\n",
       "      <th>job_id</th>\n",
       "      <th>no_of_applications</th>\n",
       "      <th>job_posting_date_history</th>\n",
       "      <th>job_expiry_date_history</th>\n",
       "      <th>job_expiry_year</th>\n",
       "      <th>job_ssoc_code_list</th>\n",
       "      <th>title</th>\n",
       "      <th>no_of_vacancies</th>\n",
       "      <th>job_monthly_min_sal</th>\n",
       "      <th>job_monthly_max_sal</th>\n",
       "      <th>no_of_times_job_posting_reopened</th>\n",
       "      <th>job_posting_status</th>\n",
       "      <th>job_employment_type_list</th>\n",
       "      <th>job_experience_required_years</th>\n",
       "      <th>job_level</th>\n",
       "      <th>employer_name</th>\n",
       "      <th>doc</th>\n",
       "    </tr>\n",
       "  </thead>\n",
       "  <tbody>\n",
       "    <tr>\n",
       "      <th>0</th>\n",
       "      <td>002</td>\n",
       "      <td>JOB-2015-0145758</td>\n",
       "      <td>1.0</td>\n",
       "      <td>2015-01-13</td>\n",
       "      <td>2015-02-12</td>\n",
       "      <td>2015</td>\n",
       "      <td>31275</td>\n",
       "      <td>Architectural Assistant</td>\n",
       "      <td>2</td>\n",
       "      <td>4000.0</td>\n",
       "      <td>6000.0</td>\n",
       "      <td>0</td>\n",
       "      <td>Closed</td>\n",
       "      <td>Full Time, Permanent</td>\n",
       "      <td>3.0</td>\n",
       "      <td>Manager</td>\n",
       "      <td>HDA Architects</td>\n",
       "      <td>to assist the project architect in developing ...</td>\n",
       "    </tr>\n",
       "  </tbody>\n",
       "</table>\n",
       "</div>"
      ],
      "text/plain": [
       "  employer_id            job_id  no_of_applications job_posting_date_history  \\\n",
       "0         002  JOB-2015-0145758                 1.0               2015-01-13   \n",
       "\n",
       "  job_expiry_date_history  job_expiry_year job_ssoc_code_list  \\\n",
       "0              2015-02-12             2015              31275   \n",
       "\n",
       "                     title  no_of_vacancies  job_monthly_min_sal  \\\n",
       "0  Architectural Assistant                2               4000.0   \n",
       "\n",
       "   job_monthly_max_sal  no_of_times_job_posting_reopened job_posting_status  \\\n",
       "0               6000.0                                 0             Closed   \n",
       "\n",
       "  job_employment_type_list  job_experience_required_years job_level  \\\n",
       "0     Full Time, Permanent                            3.0   Manager   \n",
       "\n",
       "    employer_name                                                doc  \n",
       "0  HDA Architects  to assist the project architect in developing ...  "
      ]
     },
     "execution_count": 47,
     "metadata": {},
     "output_type": "execute_result"
    }
   ],
   "source": [
    "print('# job ids including dups: %d' %len(full_job_df.job_id))\n",
    "print('# unique job ids: %d' % full_job_df.job_id.nunique())\n",
    "full_job_df.head(1)"
   ]
  },
  {
   "cell_type": "code",
   "execution_count": 46,
   "metadata": {
    "collapsed": true
   },
   "outputs": [],
   "source": [
    "full_job_df.to_csv(DATA_DIR + 'job_posts.csv', index=False)"
   ]
  }
 ],
 "metadata": {
  "kernelspec": {
   "display_name": "Python 2",
   "language": "python",
   "name": "python2"
  },
  "language_info": {
   "codemirror_mode": {
    "name": "ipython",
    "version": 2
   },
   "file_extension": ".py",
   "mimetype": "text/x-python",
   "name": "python",
   "nbconvert_exporter": "python",
   "pygments_lexer": "ipython2",
   "version": "2.7.13"
  }
 },
 "nbformat": 4,
 "nbformat_minor": 1
}
